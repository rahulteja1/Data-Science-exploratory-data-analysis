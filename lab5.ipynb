{
  "cells": [
    {
      "cell_type": "markdown",
      "metadata": {
        "id": "N6Yirgh_ZmdR"
      },
      "source": [
        "# Lab 5 - Getting Data\n",
        "\n",
        "The topics of week 5 is getting data with web scraping. \n",
        "\n",
        "In this lab notebook you will gain experience webscraping data of various forms.\n",
        "\n",
        "We will be looking at various US government website and using them to get information (these sites are selected because of their public informative nature). "
      ]
    },
    {
      "cell_type": "markdown",
      "metadata": {
        "id": "VAuxeIZOTC14"
      },
      "source": [
        "## Autograder Setup\n",
        "\n",
        "The next code cell should be uncommented to run the autograder tests when using Colab/DeepNote.  If you are using an environment with `otter-grader` already installed (your own machine, lab machines), then do not uncomment the code."
      ]
    },
    {
      "cell_type": "code",
      "execution_count": 22,
      "metadata": {
        "id": "HYxtHFCgTC15"
      },
      "outputs": [],
      "source": [
        "# !pip install otter-grader"
      ]
    },
    {
      "cell_type": "markdown",
      "metadata": {
        "id": "YTBikqQBTC15"
      },
      "source": [
        "In order to have the data files and test files for this lab, uncomment and run the following cell. Please comment out before submission."
      ]
    },
    {
      "cell_type": "code",
      "execution_count": 23,
      "metadata": {
        "id": "PmFUiLphTC15"
      },
      "outputs": [],
      "source": [
        "# !wget https://pages.mtu.edu/~lebrown/un5550-f22/labs/lab5/lab5.files.zip\n",
        "# !unzip lab5.files.zip"
      ]
    },
    {
      "cell_type": "markdown",
      "metadata": {
        "id": "Tv91G3r3TC16"
      },
      "source": [
        "## Lab Setup "
      ]
    },
    {
      "cell_type": "code",
      "execution_count": 24,
      "metadata": {
        "id": "YVdDTDldbUrG"
      },
      "outputs": [],
      "source": [
        "from bs4 import BeautifulSoup\n",
        "import requests \n",
        "import pandas as pd\n",
        "import re\n",
        "\n",
        "import otter\n",
        "grader = otter.Notebook()"
      ]
    },
    {
      "cell_type": "markdown",
      "metadata": {
        "id": "gs41KLtpZ1tR"
      },
      "source": [
        "## Exercise 1 \n",
        "\n",
        "Identify the name of the data set most relevant to 'climate' on https://www.data.gov \n",
        "\n",
        "You will want to use the url = \"https://catalog.data.gov/dataset?q=climate&sort=score+desc%2C+name+asc\".\n",
        "\n",
        "Then, you will use BeautifulSoup to parse the website to find the name of the data set.  "
      ]
    },
    {
      "cell_type": "code",
      "execution_count": 25,
      "metadata": {
        "id": "0VNObJxZYv5Q",
        "tags": [],
        "colab": {
          "base_uri": "https://localhost:8080/",
          "height": 36
        },
        "outputId": "723c36f5-0444-4812-d86c-e1c722dcb867"
      },
      "outputs": [
        {
          "output_type": "execute_result",
          "data": {
            "text/plain": [
              "'Downscaled Climate Model Climate Toolbox'"
            ],
            "application/vnd.google.colaboratory.intrinsic+json": {
              "type": "string"
            }
          },
          "metadata": {},
          "execution_count": 25
        }
      ],
      "source": [
        "# Identify the name of the data set most relevant to \"climate\" on data.gov\n",
        "# Use BeautifulSoup to parse the website to find the name of the data set. \n",
        "url = 'https://catalog.data.gov/dataset?q=climate&sort=score+desc%2C+name+asc'\n",
        "resp = requests.get(url).text\n",
        "soup = BeautifulSoup(resp, 'html5lib')\n",
        "soup\n",
        "name = soup.find('h3').a.text\n",
        "name"
      ]
    },
    {
      "cell_type": "code",
      "source": [
        "#soup"
      ],
      "metadata": {
        "id": "MuVfmEknhfRX"
      },
      "execution_count": 26,
      "outputs": []
    },
    {
      "cell_type": "code",
      "execution_count": 27,
      "metadata": {
        "deletable": false,
        "editable": false,
        "colab": {
          "base_uri": "https://localhost:8080/",
          "height": 46
        },
        "id": "6A34NlC4TC17",
        "outputId": "89f9fbd8-d809-4f54-a57e-d6df9e9e64ef"
      },
      "outputs": [
        {
          "output_type": "execute_result",
          "data": {
            "text/plain": [
              "q1 results: All test cases passed!"
            ],
            "text/html": [
              "<p><strong><pre style='display: inline;'>q1</pre></strong> passed!</p>"
            ]
          },
          "metadata": {},
          "execution_count": 27
        }
      ],
      "source": [
        "grader.check(\"q1\")"
      ]
    },
    {
      "cell_type": "markdown",
      "metadata": {
        "id": "AM4-gV6JbZUi"
      },
      "source": [
        "## Exercise 2 \n",
        "\n",
        "Total number of clinical trials (research studies) recorded at the National Institutes of Health, https://clinicaltrials.gov"
      ]
    },
    {
      "cell_type": "code",
      "execution_count": 28,
      "metadata": {
        "id": "L2Nd4fZYbc5Q",
        "tags": [],
        "colab": {
          "base_uri": "https://localhost:8080/"
        },
        "outputId": "addc2856-b7d3-4b4b-c502-75bdcc1bdaac"
      },
      "outputs": [
        {
          "output_type": "execute_result",
          "data": {
            "text/plain": [
              "429802"
            ]
          },
          "metadata": {},
          "execution_count": 28
        }
      ],
      "source": [
        "# Identify the number of clinical trials (research studies) on https://clinicaltrials.gov\n",
        "# Use BeautifulSoup to parse the website to find the number of studies. \n",
        "url = 'https://clinicaltrials.gov/'\n",
        "resp = requests.get(url) \n",
        "soup = BeautifulSoup(resp.text, 'html5lib')\n",
        "soup\n",
        "num_research_studies1 = soup.find('h2').text.replace(',', '')    \n",
        "num_research_studies = int(num_research_studies1[8:14])\n",
        "num_research_studies      # integer value\n"
      ]
    },
    {
      "cell_type": "code",
      "execution_count": 29,
      "metadata": {
        "deletable": false,
        "editable": false,
        "id": "eWbAIbjATC17",
        "colab": {
          "base_uri": "https://localhost:8080/",
          "height": 46
        },
        "outputId": "f7037e17-9392-45e3-c44d-e8a9d7951632"
      },
      "outputs": [
        {
          "output_type": "execute_result",
          "data": {
            "text/plain": [
              "q2 results: All test cases passed!"
            ],
            "text/html": [
              "<p><strong><pre style='display: inline;'>q2</pre></strong> passed!</p>"
            ]
          },
          "metadata": {},
          "execution_count": 29
        }
      ],
      "source": [
        "grader.check(\"q2\")"
      ]
    },
    {
      "cell_type": "markdown",
      "metadata": {
        "id": "hLv57yD-bsCI"
      },
      "source": [
        "## Exercise 3 \n",
        "\n",
        "Give the number of travel advisories, by level, for international travel given by the US government. Data available at: https://travel.state.gov/content/travel/en/traveladvisories/traveladvisories.html/\n",
        "\n",
        "Create two solutions for this question, the first using `pandas` `read_html` function.  The second version should be using just BeautifulSoup and python to scrape the table.  "
      ]
    },
    {
      "cell_type": "code",
      "execution_count": 30,
      "metadata": {
        "id": "Z-VKIhm5bp0d"
      },
      "outputs": [],
      "source": [
        "site = requests.get('https://travel.state.gov/content/travel/en/traveladvisories/traveladvisories.html/').text\n",
        "q3 = BeautifulSoup(site, 'html5lib')"
      ]
    },
    {
      "cell_type": "markdown",
      "metadata": {
        "id": "xKqvx5j7b7Pt"
      },
      "source": [
        "**Version 1** - Write one solution using pandas `read_html`"
      ]
    },
    {
      "cell_type": "markdown",
      "metadata": {
        "id": "L-77DMh1b3Iq"
      },
      "source": [
        "**Version 2** - Write another solution just using beautiful soup and other Python functions to scrape the table."
      ]
    },
    {
      "cell_type": "code",
      "execution_count": 31,
      "metadata": {
        "id": "hObOuGpCbxNU",
        "tags": [],
        "colab": {
          "base_uri": "https://localhost:8080/"
        },
        "outputId": "85d47293-490b-4b1b-f528-b43c93354dd3"
      },
      "outputs": [
        {
          "output_type": "stream",
          "name": "stdout",
          "text": [
            "Number of travel Level 1 warnings : 89\n",
            "Number of travel Level 2 warnings : 63\n",
            "Number of travel Level 3 warnings : 38\n",
            "Number of travel Level 4 warnings : 20\n"
          ]
        }
      ],
      "source": [
        "# Version 1\n",
        "# Read in the table using pandas \"read_html\" function \n",
        "# Report out number of each warnings \n",
        "table = pd.read_html('https://travel.state.gov/content/travel/en/traveladvisories/traveladvisories.html/')[0]\n",
        "level_count = table.groupby('Level').count()\n",
        "l1Num1 = level_count.iloc[1,0]\n",
        "l2Num1 = level_count.iloc[2,0]\n",
        "l3Num1 = level_count.iloc[3,0]\n",
        "l4Num1 = level_count.iloc[4,0]\n",
        "print(\"Number of travel Level 1 warnings : \" +  str(l1Num1)) \n",
        "print(\"Number of travel Level 2 warnings : \" +  str(l2Num1))\n",
        "print(\"Number of travel Level 3 warnings : \" +  str(l3Num1))\n",
        "print(\"Number of travel Level 4 warnings : \" +  str(l4Num1))"
      ]
    },
    {
      "cell_type": "code",
      "execution_count": 32,
      "metadata": {
        "id": "I5meuSuzbze6",
        "tags": [],
        "colab": {
          "base_uri": "https://localhost:8080/"
        },
        "outputId": "1f1a5553-66e0-4268-a935-85ffb8fd12ce"
      },
      "outputs": [
        {
          "output_type": "stream",
          "name": "stdout",
          "text": [
            "Number of travel Level 1 warnings : 89\n",
            "Number of travel Level 2 warnings : 63\n",
            "Number of travel Level 3 warnings : 38\n",
            "Number of travel Level 4 warnings : 20\n"
          ]
        }
      ],
      "source": [
        "# Version 2\n",
        "# Write another solution just using beautiful soup and other Python functions to \n",
        "#   scrape the table information\n",
        "# Report out number of each warnings \n",
        "# https://pythonprogramming.net/tables-xml-scraping-parsing-beautiful-soup-tutorial/\n",
        "# https://www.pylenin.com/blogs/python-beautiful-soup/\n",
        "t1 = q3.find('table')\n",
        "tRows = t1.find_all('td')\n",
        "# tData = tRows.find_all('td')\n",
        "# tData\n",
        "l1Num2 = 0\n",
        "l2Num2 = 0\n",
        "l3Num2 = 0\n",
        "l4Num2 = 0\n",
        "for i in tRows:\n",
        "  if(i.text.find(\"Level 1\") != -1): \n",
        "    l1Num2 += 1\n",
        "  elif(i.text.find(\"Level 2\") != -1):\n",
        "    l2Num2 += 1\n",
        "  elif(i.text.find(\"Level 3\") != -1): \n",
        "    l3Num2 += 1\n",
        "  elif(i.text.find(\"Level 4\") != -1):\n",
        "    l4Num2 += 1\n",
        "\n",
        "# tRows\n",
        "# for tr in tRows:\n",
        "#     td = tr.find_all('td')\n",
        "#     table_rows = [i.text for i in td]\n",
        "#     print(table_rows)\n",
        "\n",
        "# df = pd.DataFrame(table_rows, columns = ['Advisory', 'Level', 'Date Updated'])\n",
        "# lc = table_rows.groupby('')\n",
        "# l1Num2 = table_rows.find_all('Level 1')\n",
        "# l2Num2 = ...\n",
        "\n",
        "print(\"Number of travel Level 1 warnings : \" +  str(l1Num2)) \n",
        "print(\"Number of travel Level 2 warnings : \" +  str(l2Num2))\n",
        "print(\"Number of travel Level 3 warnings : \" +  str(l3Num2))\n",
        "print(\"Number of travel Level 4 warnings : \" +  str(l4Num2))"
      ]
    },
    {
      "cell_type": "code",
      "execution_count": 33,
      "metadata": {
        "deletable": false,
        "editable": false,
        "id": "A_Ygd_BTTC19",
        "colab": {
          "base_uri": "https://localhost:8080/",
          "height": 796
        },
        "outputId": "656fbf18-9b9e-4846-919a-7baefe040490"
      },
      "outputs": [
        {
          "output_type": "execute_result",
          "data": {
            "text/plain": [
              "q3 results:\n",
              "    q3 - 1 result:\n",
              "        Test case passed!\n",
              "\n",
              "    q3 - 2 result:\n",
              "        Test case passed!\n",
              "\n",
              "    q3 - 3 result:\n",
              "        Test case passed!\n",
              "\n",
              "    q3 - 4 result:\n",
              "        Test case passed!\n",
              "\n",
              "    q3 - 5 result:\n",
              "        Test case passed!\n",
              "\n",
              "    q3 - 6 result:\n",
              "        Trying:\n",
              "            l2Num1 == 62\n",
              "        Expecting:\n",
              "            True\n",
              "        **********************************************************************\n",
              "        Line 1, in q3 5\n",
              "        Failed example:\n",
              "            l2Num1 == 62\n",
              "        Expected:\n",
              "            True\n",
              "        Got:\n",
              "            False\n",
              "\n",
              "    q3 - 7 result:\n",
              "        Trying:\n",
              "            l3Num1 == 39 \n",
              "        Expecting:\n",
              "            True\n",
              "        **********************************************************************\n",
              "        Line 1, in q3 6\n",
              "        Failed example:\n",
              "            l3Num1 == 39 \n",
              "        Expected:\n",
              "            True\n",
              "        Got:\n",
              "            False\n",
              "\n",
              "    q3 - 8 result:\n",
              "        Test case passed!"
            ],
            "text/html": [
              "<p><strong style='color: red;'><pre style='display: inline;'>q3</pre> results:</strong></p><p><strong><pre style='display: inline;'>q3 - 1</pre> result:</strong></p><pre>    Test case passed!</pre><p><strong><pre style='display: inline;'>q3 - 2</pre> result:</strong></p><pre>    Test case passed!</pre><p><strong><pre style='display: inline;'>q3 - 3</pre> result:</strong></p><pre>    Test case passed!</pre><p><strong><pre style='display: inline;'>q3 - 4</pre> result:</strong></p><pre>    Test case passed!</pre><p><strong><pre style='display: inline;'>q3 - 5</pre> result:</strong></p><pre>    Test case passed!</pre><p><strong><pre style='display: inline;'>q3 - 6</pre> result:</strong></p><pre>    Trying:\n",
              "        l2Num1 == 62\n",
              "    Expecting:\n",
              "        True\n",
              "    **********************************************************************\n",
              "    Line 1, in q3 5\n",
              "    Failed example:\n",
              "        l2Num1 == 62\n",
              "    Expected:\n",
              "        True\n",
              "    Got:\n",
              "        False\n",
              "</pre><p><strong><pre style='display: inline;'>q3 - 7</pre> result:</strong></p><pre>    Trying:\n",
              "        l3Num1 == 39 \n",
              "    Expecting:\n",
              "        True\n",
              "    **********************************************************************\n",
              "    Line 1, in q3 6\n",
              "    Failed example:\n",
              "        l3Num1 == 39 \n",
              "    Expected:\n",
              "        True\n",
              "    Got:\n",
              "        False\n",
              "</pre><p><strong><pre style='display: inline;'>q3 - 8</pre> result:</strong></p><pre>    Test case passed!</pre>"
            ]
          },
          "metadata": {},
          "execution_count": 33
        }
      ],
      "source": [
        "grader.check(\"q3\")"
      ]
    },
    {
      "cell_type": "markdown",
      "metadata": {
        "id": "ISRqO9H4lyqc"
      },
      "source": [
        "##  Example \n",
        "\n",
        "Let's look at the number of workplace fatalities as reported to the federal and state Occupational Safety and Health Administration (OSHA) at https://www.osha.gov/fatalities. \n",
        "\n",
        "\n"
      ]
    },
    {
      "cell_type": "code",
      "execution_count": 34,
      "metadata": {
        "id": "bZiKEt8PTC19"
      },
      "outputs": [],
      "source": [
        "site = requests.get('https://www.osha.gov/fatalities').text\n",
        "q4 = BeautifulSoup(site, 'html5lib')\n",
        "\n",
        "# Read in Table using pandas \"read_html\" method\n",
        "q4table = pd.read_html(q4.prettify(), flavor=['bs4'])\n",
        "df4 = q4table[0]\n",
        "#df4.head()"
      ]
    },
    {
      "cell_type": "code",
      "execution_count": 35,
      "metadata": {
        "id": "YBV4x5rnTC19",
        "colab": {
          "base_uri": "https://localhost:8080/"
        },
        "outputId": "6e9c7421-f245-4ead-ce03-bc290a1d4fbc"
      },
      "outputs": [
        {
          "output_type": "execute_result",
          "data": {
            "text/plain": [
              "(6252, 7)"
            ]
          },
          "metadata": {},
          "execution_count": 35
        }
      ],
      "source": [
        "df4.shape"
      ]
    },
    {
      "cell_type": "code",
      "execution_count": 36,
      "metadata": {
        "id": "CVCVJGYsTC19",
        "colab": {
          "base_uri": "https://localhost:8080/"
        },
        "outputId": "1b7c2f59-92f6-435f-93ce-2a96592e392e"
      },
      "outputs": [
        {
          "output_type": "stream",
          "name": "stdout",
          "text": [
            "Number of citations issues related to fatality:  3446\n"
          ]
        }
      ],
      "source": [
        "sz = df4[df4['Citation Issued Related to Fatality']=='Yes'].shape\n",
        "print(\"Number of citations issues related to fatality: \", sz[0])"
      ]
    },
    {
      "cell_type": "markdown",
      "metadata": {
        "id": "aunJfrZiTC19"
      },
      "source": [
        "## Exercise 4 \n",
        "\n",
        "Save in a DataFrame the incidents that occurred in fiscal year 2021, Oct. 1, 2020 - Sept. 30, 2021.  \n",
        "\n",
        "Try using `pd.to_datetime` to add a new \"Date\" column with the Date of Incident column converted to a datetime object that may be easier to filter. \n",
        "\n",
        "https://pandas.pydata.org/docs/reference/api/pandas.to_datetime.html\n"
      ]
    },
    {
      "cell_type": "code",
      "execution_count": 37,
      "metadata": {
        "tags": [],
        "id": "IdHNERVCTC19",
        "colab": {
          "base_uri": "https://localhost:8080/",
          "height": 658
        },
        "outputId": "7f34f2bd-da39-42c2-bbb6-e6aa35a249b8"
      },
      "outputs": [
        {
          "output_type": "execute_result",
          "data": {
            "text/plain": [
              "     Date of Incident        City Select State  \\\n",
              "287        09/28/2021   Stoughton           WI   \n",
              "288        09/28/2021   Lindstrom           MN   \n",
              "289        09/25/2021    Clermont           FL   \n",
              "290        09/24/2021     Kooskia           ID   \n",
              "291        09/24/2021   Charlotte           NC   \n",
              "...               ...         ...          ...   \n",
              "1400       10/02/2020  Germantown           NY   \n",
              "1401       10/02/2020  Sacramento           CA   \n",
              "1402       10/01/2020    Au Train           MI   \n",
              "1403       10/01/2020  Petersburg           VA   \n",
              "1404       10/01/2020     Waldorf           MD   \n",
              "\n",
              "                                     Hazard Description  Inspection Number  \\\n",
              "287   Robert Castillo (87) fatally crushed in trench...          1551677.0   \n",
              "288     David Chmielewski (48) died in trench collapse.          1560134.0   \n",
              "289   Jesus Olvera Aguilar (19) fatally struck by li...          1551830.0   \n",
              "290               Woker died in fall from trailer deck.          1554698.0   \n",
              "291   Doyle \"Gene\" Stepp (61) died in fall through c...          1555738.0   \n",
              "...                                                 ...                ...   \n",
              "1400            Worker fatally struck by rolling truck.          1496101.0   \n",
              "1401                     Worker died in fall from roof.          1495968.0   \n",
              "1402         Worker fatally crushed between two trucks.          1495370.0   \n",
              "1403            Worker fatally struck by motor vehicle.          1495621.0   \n",
              "1404                Worker fatally shot during robbery.          1495605.0   \n",
              "\n",
              "     Federal or State Plan Citation Issued Related to Fatality       Date  \n",
              "287                Federal                                  No 2021-09-28  \n",
              "288                  State                                 Yes 2021-09-28  \n",
              "289                Federal                                  No 2021-09-25  \n",
              "290                Federal                                 Yes 2021-09-24  \n",
              "291                  State                                 Yes 2021-09-24  \n",
              "...                    ...                                 ...        ...  \n",
              "1400               Federal                                  No 2020-10-02  \n",
              "1401                 State                                 Yes 2020-10-02  \n",
              "1402                 STATE                                  No 2020-10-01  \n",
              "1403                 State                                  No 2020-10-01  \n",
              "1404                 STATE                                  No 2020-10-01  \n",
              "\n",
              "[1118 rows x 8 columns]"
            ],
            "text/html": [
              "\n",
              "  <div id=\"df-c08cecd7-dee7-49d1-baa6-eea4874465ae\">\n",
              "    <div class=\"colab-df-container\">\n",
              "      <div>\n",
              "<style scoped>\n",
              "    .dataframe tbody tr th:only-of-type {\n",
              "        vertical-align: middle;\n",
              "    }\n",
              "\n",
              "    .dataframe tbody tr th {\n",
              "        vertical-align: top;\n",
              "    }\n",
              "\n",
              "    .dataframe thead th {\n",
              "        text-align: right;\n",
              "    }\n",
              "</style>\n",
              "<table border=\"1\" class=\"dataframe\">\n",
              "  <thead>\n",
              "    <tr style=\"text-align: right;\">\n",
              "      <th></th>\n",
              "      <th>Date of Incident</th>\n",
              "      <th>City</th>\n",
              "      <th>Select State</th>\n",
              "      <th>Hazard Description</th>\n",
              "      <th>Inspection Number</th>\n",
              "      <th>Federal or State Plan</th>\n",
              "      <th>Citation Issued Related to Fatality</th>\n",
              "      <th>Date</th>\n",
              "    </tr>\n",
              "  </thead>\n",
              "  <tbody>\n",
              "    <tr>\n",
              "      <th>287</th>\n",
              "      <td>09/28/2021</td>\n",
              "      <td>Stoughton</td>\n",
              "      <td>WI</td>\n",
              "      <td>Robert Castillo (87) fatally crushed in trench...</td>\n",
              "      <td>1551677.0</td>\n",
              "      <td>Federal</td>\n",
              "      <td>No</td>\n",
              "      <td>2021-09-28</td>\n",
              "    </tr>\n",
              "    <tr>\n",
              "      <th>288</th>\n",
              "      <td>09/28/2021</td>\n",
              "      <td>Lindstrom</td>\n",
              "      <td>MN</td>\n",
              "      <td>David Chmielewski (48) died in trench collapse.</td>\n",
              "      <td>1560134.0</td>\n",
              "      <td>State</td>\n",
              "      <td>Yes</td>\n",
              "      <td>2021-09-28</td>\n",
              "    </tr>\n",
              "    <tr>\n",
              "      <th>289</th>\n",
              "      <td>09/25/2021</td>\n",
              "      <td>Clermont</td>\n",
              "      <td>FL</td>\n",
              "      <td>Jesus Olvera Aguilar (19) fatally struck by li...</td>\n",
              "      <td>1551830.0</td>\n",
              "      <td>Federal</td>\n",
              "      <td>No</td>\n",
              "      <td>2021-09-25</td>\n",
              "    </tr>\n",
              "    <tr>\n",
              "      <th>290</th>\n",
              "      <td>09/24/2021</td>\n",
              "      <td>Kooskia</td>\n",
              "      <td>ID</td>\n",
              "      <td>Woker died in fall from trailer deck.</td>\n",
              "      <td>1554698.0</td>\n",
              "      <td>Federal</td>\n",
              "      <td>Yes</td>\n",
              "      <td>2021-09-24</td>\n",
              "    </tr>\n",
              "    <tr>\n",
              "      <th>291</th>\n",
              "      <td>09/24/2021</td>\n",
              "      <td>Charlotte</td>\n",
              "      <td>NC</td>\n",
              "      <td>Doyle \"Gene\" Stepp (61) died in fall through c...</td>\n",
              "      <td>1555738.0</td>\n",
              "      <td>State</td>\n",
              "      <td>Yes</td>\n",
              "      <td>2021-09-24</td>\n",
              "    </tr>\n",
              "    <tr>\n",
              "      <th>...</th>\n",
              "      <td>...</td>\n",
              "      <td>...</td>\n",
              "      <td>...</td>\n",
              "      <td>...</td>\n",
              "      <td>...</td>\n",
              "      <td>...</td>\n",
              "      <td>...</td>\n",
              "      <td>...</td>\n",
              "    </tr>\n",
              "    <tr>\n",
              "      <th>1400</th>\n",
              "      <td>10/02/2020</td>\n",
              "      <td>Germantown</td>\n",
              "      <td>NY</td>\n",
              "      <td>Worker fatally struck by rolling truck.</td>\n",
              "      <td>1496101.0</td>\n",
              "      <td>Federal</td>\n",
              "      <td>No</td>\n",
              "      <td>2020-10-02</td>\n",
              "    </tr>\n",
              "    <tr>\n",
              "      <th>1401</th>\n",
              "      <td>10/02/2020</td>\n",
              "      <td>Sacramento</td>\n",
              "      <td>CA</td>\n",
              "      <td>Worker died in fall from roof.</td>\n",
              "      <td>1495968.0</td>\n",
              "      <td>State</td>\n",
              "      <td>Yes</td>\n",
              "      <td>2020-10-02</td>\n",
              "    </tr>\n",
              "    <tr>\n",
              "      <th>1402</th>\n",
              "      <td>10/01/2020</td>\n",
              "      <td>Au Train</td>\n",
              "      <td>MI</td>\n",
              "      <td>Worker fatally crushed between two trucks.</td>\n",
              "      <td>1495370.0</td>\n",
              "      <td>STATE</td>\n",
              "      <td>No</td>\n",
              "      <td>2020-10-01</td>\n",
              "    </tr>\n",
              "    <tr>\n",
              "      <th>1403</th>\n",
              "      <td>10/01/2020</td>\n",
              "      <td>Petersburg</td>\n",
              "      <td>VA</td>\n",
              "      <td>Worker fatally struck by motor vehicle.</td>\n",
              "      <td>1495621.0</td>\n",
              "      <td>State</td>\n",
              "      <td>No</td>\n",
              "      <td>2020-10-01</td>\n",
              "    </tr>\n",
              "    <tr>\n",
              "      <th>1404</th>\n",
              "      <td>10/01/2020</td>\n",
              "      <td>Waldorf</td>\n",
              "      <td>MD</td>\n",
              "      <td>Worker fatally shot during robbery.</td>\n",
              "      <td>1495605.0</td>\n",
              "      <td>STATE</td>\n",
              "      <td>No</td>\n",
              "      <td>2020-10-01</td>\n",
              "    </tr>\n",
              "  </tbody>\n",
              "</table>\n",
              "<p>1118 rows × 8 columns</p>\n",
              "</div>\n",
              "      <button class=\"colab-df-convert\" onclick=\"convertToInteractive('df-c08cecd7-dee7-49d1-baa6-eea4874465ae')\"\n",
              "              title=\"Convert this dataframe to an interactive table.\"\n",
              "              style=\"display:none;\">\n",
              "        \n",
              "  <svg xmlns=\"http://www.w3.org/2000/svg\" height=\"24px\"viewBox=\"0 0 24 24\"\n",
              "       width=\"24px\">\n",
              "    <path d=\"M0 0h24v24H0V0z\" fill=\"none\"/>\n",
              "    <path d=\"M18.56 5.44l.94 2.06.94-2.06 2.06-.94-2.06-.94-.94-2.06-.94 2.06-2.06.94zm-11 1L8.5 8.5l.94-2.06 2.06-.94-2.06-.94L8.5 2.5l-.94 2.06-2.06.94zm10 10l.94 2.06.94-2.06 2.06-.94-2.06-.94-.94-2.06-.94 2.06-2.06.94z\"/><path d=\"M17.41 7.96l-1.37-1.37c-.4-.4-.92-.59-1.43-.59-.52 0-1.04.2-1.43.59L10.3 9.45l-7.72 7.72c-.78.78-.78 2.05 0 2.83L4 21.41c.39.39.9.59 1.41.59.51 0 1.02-.2 1.41-.59l7.78-7.78 2.81-2.81c.8-.78.8-2.07 0-2.86zM5.41 20L4 18.59l7.72-7.72 1.47 1.35L5.41 20z\"/>\n",
              "  </svg>\n",
              "      </button>\n",
              "      \n",
              "  <style>\n",
              "    .colab-df-container {\n",
              "      display:flex;\n",
              "      flex-wrap:wrap;\n",
              "      gap: 12px;\n",
              "    }\n",
              "\n",
              "    .colab-df-convert {\n",
              "      background-color: #E8F0FE;\n",
              "      border: none;\n",
              "      border-radius: 50%;\n",
              "      cursor: pointer;\n",
              "      display: none;\n",
              "      fill: #1967D2;\n",
              "      height: 32px;\n",
              "      padding: 0 0 0 0;\n",
              "      width: 32px;\n",
              "    }\n",
              "\n",
              "    .colab-df-convert:hover {\n",
              "      background-color: #E2EBFA;\n",
              "      box-shadow: 0px 1px 2px rgba(60, 64, 67, 0.3), 0px 1px 3px 1px rgba(60, 64, 67, 0.15);\n",
              "      fill: #174EA6;\n",
              "    }\n",
              "\n",
              "    [theme=dark] .colab-df-convert {\n",
              "      background-color: #3B4455;\n",
              "      fill: #D2E3FC;\n",
              "    }\n",
              "\n",
              "    [theme=dark] .colab-df-convert:hover {\n",
              "      background-color: #434B5C;\n",
              "      box-shadow: 0px 1px 3px 1px rgba(0, 0, 0, 0.15);\n",
              "      filter: drop-shadow(0px 1px 2px rgba(0, 0, 0, 0.3));\n",
              "      fill: #FFFFFF;\n",
              "    }\n",
              "  </style>\n",
              "\n",
              "      <script>\n",
              "        const buttonEl =\n",
              "          document.querySelector('#df-c08cecd7-dee7-49d1-baa6-eea4874465ae button.colab-df-convert');\n",
              "        buttonEl.style.display =\n",
              "          google.colab.kernel.accessAllowed ? 'block' : 'none';\n",
              "\n",
              "        async function convertToInteractive(key) {\n",
              "          const element = document.querySelector('#df-c08cecd7-dee7-49d1-baa6-eea4874465ae');\n",
              "          const dataTable =\n",
              "            await google.colab.kernel.invokeFunction('convertToInteractive',\n",
              "                                                     [key], {});\n",
              "          if (!dataTable) return;\n",
              "\n",
              "          const docLinkHtml = 'Like what you see? Visit the ' +\n",
              "            '<a target=\"_blank\" href=https://colab.research.google.com/notebooks/data_table.ipynb>data table notebook</a>'\n",
              "            + ' to learn more about interactive tables.';\n",
              "          element.innerHTML = '';\n",
              "          dataTable['output_type'] = 'display_data';\n",
              "          await google.colab.output.renderOutput(dataTable, element);\n",
              "          const docLink = document.createElement('div');\n",
              "          docLink.innerHTML = docLinkHtml;\n",
              "          element.appendChild(docLink);\n",
              "        }\n",
              "      </script>\n",
              "    </div>\n",
              "  </div>\n",
              "  "
            ]
          },
          "metadata": {},
          "execution_count": 37
        }
      ],
      "source": [
        "# Save all incidents that occured in fiscal year 2021: Oct. 1, 2020 - Sept. 30, 2021\n",
        "#  in a DataFrame (\"q4result\"), it will have a new column \"Date\" with the Date of \n",
        "#  Incident column converted to a datetime object. \n",
        "\n",
        "\n",
        "q4 = df4\n",
        "q4['Date'] = pd.to_datetime(q4['Date of Incident'])\n",
        "q4result = q4[(q4['Date'] >= '2020-10-01') & (q4['Date'] <= '2021-09-30')]\n",
        "q4result"
      ]
    },
    {
      "cell_type": "code",
      "execution_count": 38,
      "metadata": {
        "deletable": false,
        "editable": false,
        "id": "1iqGvSDLTC19",
        "colab": {
          "base_uri": "https://localhost:8080/",
          "height": 46
        },
        "outputId": "3dfa4f7a-8b81-4b87-90cd-5c34a5e89516"
      },
      "outputs": [
        {
          "output_type": "execute_result",
          "data": {
            "text/plain": [
              "q4 results: All test cases passed!"
            ],
            "text/html": [
              "<p><strong><pre style='display: inline;'>q4</pre></strong> passed!</p>"
            ]
          },
          "metadata": {},
          "execution_count": 38
        }
      ],
      "source": [
        "grader.check(\"q4\")"
      ]
    },
    {
      "cell_type": "markdown",
      "metadata": {
        "id": "WWMZaRxTz5Gl"
      },
      "source": [
        "## Exercise 5 \n",
        "\n",
        "Identify the most viewed data set on Michigan state's open data portal.   \n",
        "https://data.michigan.gov/browse?sortBy=most_accessed\n",
        "\n",
        "Stores its name in the provided \"most_viewed_data\" variable and the number of views in \"num_views\"."
      ]
    },
    {
      "cell_type": "code",
      "execution_count": 39,
      "metadata": {
        "tags": [],
        "id": "4NhRIA0TTC1_",
        "colab": {
          "base_uri": "https://localhost:8080/"
        },
        "outputId": "d7131ad2-3497-4274-8077-ae3bb8e300de"
      },
      "outputs": [
        {
          "output_type": "stream",
          "name": "stdout",
          "text": [
            "Most visited data: MI_Congress_Plot  with 45557 views\n"
          ]
        }
      ],
      "source": [
        "dataMichigan = requests.get('https://data.michigan.gov/browse?sortBy=most_accessed').text\n",
        "dM = BeautifulSoup(dataMichigan, 'html5lib')\n",
        "most_viewed_data = dM.find('a','browse2-result-name-link').text\n",
        "num_views1 = dM.find('div', 'browse2-result-view-count-value').text.replace(',', '')\n",
        "num_views = int(num_views1)\n",
        "\n",
        "print(\"Most visited data: %s  with %d views\" % (most_viewed_data, num_views))"
      ]
    },
    {
      "cell_type": "code",
      "execution_count": 40,
      "metadata": {
        "deletable": false,
        "editable": false,
        "id": "GuknP26MTC1_",
        "colab": {
          "base_uri": "https://localhost:8080/",
          "height": 46
        },
        "outputId": "1b731726-095e-4f98-a068-89c3a81c968e"
      },
      "outputs": [
        {
          "output_type": "execute_result",
          "data": {
            "text/plain": [
              "q5 results: All test cases passed!"
            ],
            "text/html": [
              "<p><strong><pre style='display: inline;'>q5</pre></strong> passed!</p>"
            ]
          },
          "metadata": {},
          "execution_count": 40
        }
      ],
      "source": [
        "grader.check(\"q5\")"
      ]
    }
  ],
  "metadata": {
    "colab": {
      "collapsed_sections": [],
      "provenance": [],
      "toc_visible": true
    },
    "kernelspec": {
      "display_name": "un5550f22",
      "language": "python",
      "name": "un5550f22"
    },
    "language_info": {
      "codemirror_mode": {
        "name": "ipython",
        "version": 3
      },
      "file_extension": ".py",
      "mimetype": "text/x-python",
      "name": "python",
      "nbconvert_exporter": "python",
      "pygments_lexer": "ipython3",
      "version": "3.7.11"
    },
    "otter": {
      "OK_FORMAT": true,
      "tests": {
        "q1": {
          "name": "q1",
          "points": 1,
          "suites": [
            {
              "cases": [
                {
                  "code": ">>> name == \"Downscaled Climate Model Climate Toolbox\"\nTrue",
                  "hidden": false,
                  "locked": false
                }
              ],
              "scored": true,
              "setup": "",
              "teardown": "",
              "type": "doctest"
            }
          ]
        },
        "q2": {
          "name": "q2",
          "points": 1,
          "suites": [
            {
              "cases": [
                {
                  "code": ">>> num_research_studies >= 429205 and num_research_studies <= 429205+1600\nTrue",
                  "hidden": false,
                  "locked": false
                }
              ],
              "scored": true,
              "setup": "",
              "teardown": "",
              "type": "doctest"
            }
          ]
        },
        "q3": {
          "name": "q3",
          "points": 2,
          "suites": [
            {
              "cases": [
                {
                  "code": ">>> l1Num1 == l1Num2 \nTrue",
                  "hidden": false,
                  "locked": false
                },
                {
                  "code": ">>> l2Num1 == l2Num2 \nTrue",
                  "hidden": false,
                  "locked": false
                },
                {
                  "code": ">>> l3Num1 == l3Num2\nTrue",
                  "hidden": false,
                  "locked": false
                },
                {
                  "code": ">>> l4Num1 == l4Num2\nTrue",
                  "hidden": false,
                  "locked": false
                },
                {
                  "code": ">>> l1Num1 == 89\nTrue",
                  "hidden": false,
                  "locked": false
                },
                {
                  "code": ">>> l2Num1 == 62\nTrue",
                  "hidden": false,
                  "locked": false
                },
                {
                  "code": ">>> l3Num1 == 39 \nTrue",
                  "hidden": false,
                  "locked": false
                },
                {
                  "code": ">>> l4Num1 == 20\nTrue",
                  "hidden": false,
                  "locked": false
                }
              ],
              "scored": true,
              "setup": "",
              "teardown": "",
              "type": "doctest"
            }
          ]
        },
        "q4": {
          "name": "q4",
          "points": 2,
          "suites": [
            {
              "cases": [
                {
                  "code": ">>> q4result.shape[0] == 1118 \nTrue",
                  "hidden": false,
                  "locked": false
                },
                {
                  "code": ">>> q4result.shape[1] == 8\nTrue",
                  "hidden": false,
                  "locked": false
                },
                {
                  "code": ">>> \"Date\" in q4result.columns\nTrue",
                  "hidden": false,
                  "locked": false
                },
                {
                  "code": ">>> int(q4result['Inspection Number'].min()) == 1495370\nTrue",
                  "hidden": false,
                  "locked": false
                },
                {
                  "code": ">>> int(q4result['Inspection Number'].max()) == 1580910\nTrue",
                  "hidden": false,
                  "locked": false
                }
              ],
              "scored": true,
              "setup": "",
              "teardown": "",
              "type": "doctest"
            }
          ]
        },
        "q5": {
          "name": "q5",
          "points": 2,
          "suites": [
            {
              "cases": [
                {
                  "code": ">>> most_viewed_data == 'MI_Congress_Plot'\nTrue",
                  "hidden": false,
                  "locked": false
                },
                {
                  "code": ">>> num_views >= 44271 and num_views <= 44271+5000\nTrue",
                  "hidden": false,
                  "locked": false
                }
              ],
              "scored": true,
              "setup": "",
              "teardown": "",
              "type": "doctest"
            }
          ]
        }
      }
    }
  },
  "nbformat": 4,
  "nbformat_minor": 0
}