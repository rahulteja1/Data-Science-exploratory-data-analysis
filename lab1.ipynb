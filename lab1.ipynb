{
  "cells": [
    {
      "cell_type": "markdown",
      "id": "4047b5bc",
      "metadata": {
        "id": "4047b5bc"
      },
      "source": [
        "# Lab 1 & 2 \n",
        "\n",
        "\n",
        "**Lab 1**\n",
        "Assignment Objectives:  \n",
        "Upon successful completion of this assignment, a student will be able to:\n",
        "* Add new text and code cells to a colab notebook\n",
        "* Gain experience in formatting text using Markdown\n",
        "* Load in a data set and explore its properties (missing data, statistics)."
      ]
    },
    {
      "cell_type": "code",
      "execution_count": null,
      "id": "46298c36",
      "metadata": {
        "id": "46298c36"
      },
      "outputs": [],
      "source": [
        "#  Import libraries \n",
        "import pandas as pd\n",
        "import numpy as np\n",
        "import matplotlib as mpl\n",
        "import matplotlib.pyplot as plt\n",
        "%matplotlib inline\n",
        "\n",
        "import otter\n",
        "grader = otter.Notebook()"
      ]
    },
    {
      "cell_type": "markdown",
      "id": "ea65ff42",
      "metadata": {
        "id": "ea65ff42"
      },
      "source": [
        "*Tip: It is good practice to list all imports needed at the top of the notebook.  You can import modules in later cells as needed, but listing them at the top clearly shows all which are needed to be available / installed.*"
      ]
    },
    {
      "cell_type": "markdown",
      "id": "c8d6de12",
      "metadata": {
        "id": "c8d6de12"
      },
      "source": [
        "## Example 1 - More Data Cleaning \n",
        "*Adapted from J. Sullivan*\n",
        "\n",
        "Let's look at another data file to see additional data cleaning steps and code.  \n",
        "\n",
        "The initial data set reads in part: \n",
        "\n",
        "![property data](https://pages.mtu.edu/~lebrown/un5550-f20/week1/property-data.jpg)"
      ]
    },
    {
      "cell_type": "code",
      "execution_count": null,
      "id": "f1d56507",
      "metadata": {
        "colab": {
          "base_uri": "https://localhost:8080/",
          "height": 331
        },
        "id": "f1d56507",
        "outputId": "ecda4e8b-ba07-4354-be29-23a7b625ac6a"
      },
      "outputs": [
        {
          "output_type": "execute_result",
          "data": {
            "text/plain": [
              "           PID  ST_NUM     ST_NAME OWN_OCCUPIED NUM_BEDROOMS NUM_BATH SQ_FT\n",
              "0  100001000.0   104.0      PUTNAM            Y            3        1  1000\n",
              "1  100002000.0   197.0   LEXINGTON            N            3      1.5    --\n",
              "2  100003000.0     NaN   LEXINGTON            N          NaN        1   850\n",
              "3  100004000.0   201.0    BERKELEY           12            1      NaN   700\n",
              "4          NaN   203.0    BERKELEY            Y            3        2  1600\n",
              "5  100006000.0   207.0    BERKELEY            Y          NaN        1   800\n",
              "6  100007000.0     NaN  WASHINGTON          NaN            2   HURLEY   950\n",
              "7  100008000.0   213.0     TREMONT            Y           --        1   NaN\n",
              "8  100009000.0   215.0     TREMONT            Y           na        2  1800"
            ],
            "text/html": [
              "\n",
              "  <div id=\"df-ff26a031-5291-4361-91a5-e6df34bc4610\">\n",
              "    <div class=\"colab-df-container\">\n",
              "      <div>\n",
              "<style scoped>\n",
              "    .dataframe tbody tr th:only-of-type {\n",
              "        vertical-align: middle;\n",
              "    }\n",
              "\n",
              "    .dataframe tbody tr th {\n",
              "        vertical-align: top;\n",
              "    }\n",
              "\n",
              "    .dataframe thead th {\n",
              "        text-align: right;\n",
              "    }\n",
              "</style>\n",
              "<table border=\"1\" class=\"dataframe\">\n",
              "  <thead>\n",
              "    <tr style=\"text-align: right;\">\n",
              "      <th></th>\n",
              "      <th>PID</th>\n",
              "      <th>ST_NUM</th>\n",
              "      <th>ST_NAME</th>\n",
              "      <th>OWN_OCCUPIED</th>\n",
              "      <th>NUM_BEDROOMS</th>\n",
              "      <th>NUM_BATH</th>\n",
              "      <th>SQ_FT</th>\n",
              "    </tr>\n",
              "  </thead>\n",
              "  <tbody>\n",
              "    <tr>\n",
              "      <th>0</th>\n",
              "      <td>100001000.0</td>\n",
              "      <td>104.0</td>\n",
              "      <td>PUTNAM</td>\n",
              "      <td>Y</td>\n",
              "      <td>3</td>\n",
              "      <td>1</td>\n",
              "      <td>1000</td>\n",
              "    </tr>\n",
              "    <tr>\n",
              "      <th>1</th>\n",
              "      <td>100002000.0</td>\n",
              "      <td>197.0</td>\n",
              "      <td>LEXINGTON</td>\n",
              "      <td>N</td>\n",
              "      <td>3</td>\n",
              "      <td>1.5</td>\n",
              "      <td>--</td>\n",
              "    </tr>\n",
              "    <tr>\n",
              "      <th>2</th>\n",
              "      <td>100003000.0</td>\n",
              "      <td>NaN</td>\n",
              "      <td>LEXINGTON</td>\n",
              "      <td>N</td>\n",
              "      <td>NaN</td>\n",
              "      <td>1</td>\n",
              "      <td>850</td>\n",
              "    </tr>\n",
              "    <tr>\n",
              "      <th>3</th>\n",
              "      <td>100004000.0</td>\n",
              "      <td>201.0</td>\n",
              "      <td>BERKELEY</td>\n",
              "      <td>12</td>\n",
              "      <td>1</td>\n",
              "      <td>NaN</td>\n",
              "      <td>700</td>\n",
              "    </tr>\n",
              "    <tr>\n",
              "      <th>4</th>\n",
              "      <td>NaN</td>\n",
              "      <td>203.0</td>\n",
              "      <td>BERKELEY</td>\n",
              "      <td>Y</td>\n",
              "      <td>3</td>\n",
              "      <td>2</td>\n",
              "      <td>1600</td>\n",
              "    </tr>\n",
              "    <tr>\n",
              "      <th>5</th>\n",
              "      <td>100006000.0</td>\n",
              "      <td>207.0</td>\n",
              "      <td>BERKELEY</td>\n",
              "      <td>Y</td>\n",
              "      <td>NaN</td>\n",
              "      <td>1</td>\n",
              "      <td>800</td>\n",
              "    </tr>\n",
              "    <tr>\n",
              "      <th>6</th>\n",
              "      <td>100007000.0</td>\n",
              "      <td>NaN</td>\n",
              "      <td>WASHINGTON</td>\n",
              "      <td>NaN</td>\n",
              "      <td>2</td>\n",
              "      <td>HURLEY</td>\n",
              "      <td>950</td>\n",
              "    </tr>\n",
              "    <tr>\n",
              "      <th>7</th>\n",
              "      <td>100008000.0</td>\n",
              "      <td>213.0</td>\n",
              "      <td>TREMONT</td>\n",
              "      <td>Y</td>\n",
              "      <td>--</td>\n",
              "      <td>1</td>\n",
              "      <td>NaN</td>\n",
              "    </tr>\n",
              "    <tr>\n",
              "      <th>8</th>\n",
              "      <td>100009000.0</td>\n",
              "      <td>215.0</td>\n",
              "      <td>TREMONT</td>\n",
              "      <td>Y</td>\n",
              "      <td>na</td>\n",
              "      <td>2</td>\n",
              "      <td>1800</td>\n",
              "    </tr>\n",
              "  </tbody>\n",
              "</table>\n",
              "</div>\n",
              "      <button class=\"colab-df-convert\" onclick=\"convertToInteractive('df-ff26a031-5291-4361-91a5-e6df34bc4610')\"\n",
              "              title=\"Convert this dataframe to an interactive table.\"\n",
              "              style=\"display:none;\">\n",
              "        \n",
              "  <svg xmlns=\"http://www.w3.org/2000/svg\" height=\"24px\"viewBox=\"0 0 24 24\"\n",
              "       width=\"24px\">\n",
              "    <path d=\"M0 0h24v24H0V0z\" fill=\"none\"/>\n",
              "    <path d=\"M18.56 5.44l.94 2.06.94-2.06 2.06-.94-2.06-.94-.94-2.06-.94 2.06-2.06.94zm-11 1L8.5 8.5l.94-2.06 2.06-.94-2.06-.94L8.5 2.5l-.94 2.06-2.06.94zm10 10l.94 2.06.94-2.06 2.06-.94-2.06-.94-.94-2.06-.94 2.06-2.06.94z\"/><path d=\"M17.41 7.96l-1.37-1.37c-.4-.4-.92-.59-1.43-.59-.52 0-1.04.2-1.43.59L10.3 9.45l-7.72 7.72c-.78.78-.78 2.05 0 2.83L4 21.41c.39.39.9.59 1.41.59.51 0 1.02-.2 1.41-.59l7.78-7.78 2.81-2.81c.8-.78.8-2.07 0-2.86zM5.41 20L4 18.59l7.72-7.72 1.47 1.35L5.41 20z\"/>\n",
              "  </svg>\n",
              "      </button>\n",
              "      \n",
              "  <style>\n",
              "    .colab-df-container {\n",
              "      display:flex;\n",
              "      flex-wrap:wrap;\n",
              "      gap: 12px;\n",
              "    }\n",
              "\n",
              "    .colab-df-convert {\n",
              "      background-color: #E8F0FE;\n",
              "      border: none;\n",
              "      border-radius: 50%;\n",
              "      cursor: pointer;\n",
              "      display: none;\n",
              "      fill: #1967D2;\n",
              "      height: 32px;\n",
              "      padding: 0 0 0 0;\n",
              "      width: 32px;\n",
              "    }\n",
              "\n",
              "    .colab-df-convert:hover {\n",
              "      background-color: #E2EBFA;\n",
              "      box-shadow: 0px 1px 2px rgba(60, 64, 67, 0.3), 0px 1px 3px 1px rgba(60, 64, 67, 0.15);\n",
              "      fill: #174EA6;\n",
              "    }\n",
              "\n",
              "    [theme=dark] .colab-df-convert {\n",
              "      background-color: #3B4455;\n",
              "      fill: #D2E3FC;\n",
              "    }\n",
              "\n",
              "    [theme=dark] .colab-df-convert:hover {\n",
              "      background-color: #434B5C;\n",
              "      box-shadow: 0px 1px 3px 1px rgba(0, 0, 0, 0.15);\n",
              "      filter: drop-shadow(0px 1px 2px rgba(0, 0, 0, 0.3));\n",
              "      fill: #FFFFFF;\n",
              "    }\n",
              "  </style>\n",
              "\n",
              "      <script>\n",
              "        const buttonEl =\n",
              "          document.querySelector('#df-ff26a031-5291-4361-91a5-e6df34bc4610 button.colab-df-convert');\n",
              "        buttonEl.style.display =\n",
              "          google.colab.kernel.accessAllowed ? 'block' : 'none';\n",
              "\n",
              "        async function convertToInteractive(key) {\n",
              "          const element = document.querySelector('#df-ff26a031-5291-4361-91a5-e6df34bc4610');\n",
              "          const dataTable =\n",
              "            await google.colab.kernel.invokeFunction('convertToInteractive',\n",
              "                                                     [key], {});\n",
              "          if (!dataTable) return;\n",
              "\n",
              "          const docLinkHtml = 'Like what you see? Visit the ' +\n",
              "            '<a target=\"_blank\" href=https://colab.research.google.com/notebooks/data_table.ipynb>data table notebook</a>'\n",
              "            + ' to learn more about interactive tables.';\n",
              "          element.innerHTML = '';\n",
              "          dataTable['output_type'] = 'display_data';\n",
              "          await google.colab.output.renderOutput(dataTable, element);\n",
              "          const docLink = document.createElement('div');\n",
              "          docLink.innerHTML = docLinkHtml;\n",
              "          element.appendChild(docLink);\n",
              "        }\n",
              "      </script>\n",
              "    </div>\n",
              "  </div>\n",
              "  "
            ]
          },
          "metadata": {},
          "execution_count": 4
        }
      ],
      "source": [
        "prop = pd.read_csv(\"data/property.csv\")\n",
        "prop"
      ]
    },
    {
      "cell_type": "markdown",
      "id": "0cffdb77",
      "metadata": {
        "id": "0cffdb77"
      },
      "source": [
        "We can see that `pandas` is already able to find some of the different ways that we have missing values in the data.\n",
        "\n",
        "For instance in the ST_NUM column, the 3rd entry is blank and the 7th entry is NaN.  `pandas` filled in the blank entry with \"NA\".  Both of these values are found by the `isnull()` method."
      ]
    },
    {
      "cell_type": "code",
      "execution_count": null,
      "id": "f0c62e88",
      "metadata": {
        "colab": {
          "base_uri": "https://localhost:8080/"
        },
        "id": "f0c62e88",
        "outputId": "6cb6a570-45bb-47ed-a61b-563f480415e1"
      },
      "outputs": [
        {
          "output_type": "execute_result",
          "data": {
            "text/plain": [
              "0    False\n",
              "1    False\n",
              "2     True\n",
              "3    False\n",
              "4    False\n",
              "5    False\n",
              "6     True\n",
              "7    False\n",
              "8    False\n",
              "Name: ST_NUM, dtype: bool"
            ]
          },
          "metadata": {},
          "execution_count": 5
        }
      ],
      "source": [
        "prop['ST_NUM'].isnull()"
      ]
    },
    {
      "cell_type": "markdown",
      "id": "8f8b7688",
      "metadata": {
        "id": "8f8b7688"
      },
      "source": [
        "However, there are other missing value encodings that pandas does not immediately recognize. \n",
        "\n",
        "Let's look at the Num_Bedrooms column. \n",
        "\n",
        "![property data 2](https://pages.mtu.edu/~lebrown/un5550-f20/week1/property-data2.jpg)\n",
        "\n",
        "\n"
      ]
    },
    {
      "cell_type": "markdown",
      "id": "90e7c169",
      "metadata": {
        "id": "90e7c169"
      },
      "source": [
        "In this column, we have missing values as \"n/a\", \"NA\", \"--\" and \"na\".\n",
        "\n",
        "Let's see what `pandas` automatically recognizes."
      ]
    },
    {
      "cell_type": "code",
      "execution_count": null,
      "id": "4ca1fe4b",
      "metadata": {
        "colab": {
          "base_uri": "https://localhost:8080/"
        },
        "id": "4ca1fe4b",
        "outputId": "321d9479-de9d-4c4d-b49e-150424db2640"
      },
      "outputs": [
        {
          "output_type": "execute_result",
          "data": {
            "text/plain": [
              "0    False\n",
              "1    False\n",
              "2     True\n",
              "3    False\n",
              "4    False\n",
              "5     True\n",
              "6    False\n",
              "7    False\n",
              "8    False\n",
              "Name: NUM_BEDROOMS, dtype: bool"
            ]
          },
          "metadata": {},
          "execution_count": 6
        }
      ],
      "source": [
        "prop['NUM_BEDROOMS'].isnull()"
      ]
    },
    {
      "cell_type": "markdown",
      "id": "24ea47d9",
      "metadata": {
        "id": "24ea47d9"
      },
      "source": [
        "`pandas` automatically recognizes the \"n/a\" and \"NA\" but not the \"--\" and \"na\". \n",
        "\n",
        "Let's change that! "
      ]
    },
    {
      "cell_type": "code",
      "execution_count": null,
      "id": "ae5a2b49",
      "metadata": {
        "id": "ae5a2b49"
      },
      "outputs": [],
      "source": [
        "# Making a list of missing value types\n",
        "missing_values = [\"n/a\", \"na\", \"--\", \"NA\"]\n",
        "prop2 = pd.read_csv(\"data/property.csv\", na_values = missing_values)"
      ]
    },
    {
      "cell_type": "code",
      "execution_count": null,
      "id": "35a34962",
      "metadata": {
        "colab": {
          "base_uri": "https://localhost:8080/"
        },
        "id": "35a34962",
        "outputId": "2de1ee72-a26d-488b-e716-0ec19f8ac2e2"
      },
      "outputs": [
        {
          "output_type": "stream",
          "name": "stdout",
          "text": [
            "0    3.0\n",
            "1    3.0\n",
            "2    NaN\n",
            "3    1.0\n",
            "4    3.0\n",
            "5    NaN\n",
            "6    2.0\n",
            "7    NaN\n",
            "8    NaN\n",
            "Name: NUM_BEDROOMS, dtype: float64\n",
            "0    False\n",
            "1    False\n",
            "2     True\n",
            "3    False\n",
            "4    False\n",
            "5     True\n",
            "6    False\n",
            "7     True\n",
            "8     True\n",
            "Name: NUM_BEDROOMS, dtype: bool\n"
          ]
        }
      ],
      "source": [
        "print (prop2['NUM_BEDROOMS'])\n",
        "print (prop2['NUM_BEDROOMS'].isnull())"
      ]
    },
    {
      "cell_type": "markdown",
      "id": "9330e4c1",
      "metadata": {
        "id": "9330e4c1"
      },
      "source": [
        "# Exercises \n",
        "\n",
        "For this portion of the lab you are going to explore and learn about different basic functions in Python and use concepts covered in class.\n",
        "\n"
      ]
    },
    {
      "cell_type": "markdown",
      "id": "d2452615",
      "metadata": {
        "id": "d2452615"
      },
      "source": [
        "## Exercise 1 - Printing"
      ]
    },
    {
      "cell_type": "markdown",
      "id": "cdac318d",
      "metadata": {
        "id": "cdac318d"
      },
      "source": [
        "### 1.a\n",
        "In many courses, tutorials for new languages the first thing you learn is printing \"Hello World\""
      ]
    },
    {
      "cell_type": "code",
      "execution_count": null,
      "id": "f729b039",
      "metadata": {
        "colab": {
          "base_uri": "https://localhost:8080/"
        },
        "id": "f729b039",
        "outputId": "3af8e4f5-fb7c-44a4-b447-e69ca144cf3e"
      },
      "outputs": [
        {
          "output_type": "stream",
          "name": "stdout",
          "text": [
            "Hello World\n"
          ]
        }
      ],
      "source": [
        "print('Hello World')"
      ]
    },
    {
      "cell_type": "markdown",
      "id": "a02da522",
      "metadata": {
        "id": "a02da522"
      },
      "source": [
        "We can also capture `input` from the user. \n",
        "https://docs.python.org/3/library/functions.html#input"
      ]
    },
    {
      "cell_type": "code",
      "execution_count": null,
      "id": "573de7ff",
      "metadata": {
        "colab": {
          "base_uri": "https://localhost:8080/"
        },
        "id": "573de7ff",
        "outputId": "4f673bc6-3092-410a-d6bb-cb038a5bc804"
      },
      "outputs": [
        {
          "name": "stdout",
          "output_type": "stream",
          "text": [
            "what is your name?RAHUL TEJA\n"
          ]
        }
      ],
      "source": [
        "firstName = input('what is your name?')"
      ]
    },
    {
      "cell_type": "code",
      "execution_count": null,
      "id": "220d5f69",
      "metadata": {
        "colab": {
          "base_uri": "https://localhost:8080/",
          "height": 35
        },
        "id": "220d5f69",
        "outputId": "3ca5a239-7283-4bd7-fbe9-e0b7900f8e82"
      },
      "outputs": [
        {
          "output_type": "execute_result",
          "data": {
            "text/plain": [
              "'Hello RAHUL TEJA!'"
            ],
            "application/vnd.google.colaboratory.intrinsic+json": {
              "type": "string"
            }
          },
          "metadata": {},
          "execution_count": 14
        }
      ],
      "source": [
        "\"Hello \" + firstName + \"!\""
      ]
    },
    {
      "cell_type": "markdown",
      "id": "1a8d5710",
      "metadata": {
        "id": "1a8d5710"
      },
      "source": [
        "Use inbuilt function `dir()` to the variable \"firstName\" above and print the outcome.\n",
        "\n",
        "https://docs.python.org/3/library/functions.html#dir"
      ]
    },
    {
      "cell_type": "code",
      "execution_count": null,
      "id": "3d45c1d4",
      "metadata": {
        "colab": {
          "base_uri": "https://localhost:8080/"
        },
        "id": "3d45c1d4",
        "outputId": "315f28c4-4b5d-45e6-afc1-f7cd5acd7916"
      },
      "outputs": [
        {
          "output_type": "execute_result",
          "data": {
            "text/plain": [
              "['__add__',\n",
              " '__class__',\n",
              " '__contains__',\n",
              " '__delattr__',\n",
              " '__dir__',\n",
              " '__doc__',\n",
              " '__eq__',\n",
              " '__format__',\n",
              " '__ge__',\n",
              " '__getattribute__',\n",
              " '__getitem__',\n",
              " '__getnewargs__',\n",
              " '__gt__',\n",
              " '__hash__',\n",
              " '__init__',\n",
              " '__init_subclass__',\n",
              " '__iter__',\n",
              " '__le__',\n",
              " '__len__',\n",
              " '__lt__',\n",
              " '__mod__',\n",
              " '__mul__',\n",
              " '__ne__',\n",
              " '__new__',\n",
              " '__reduce__',\n",
              " '__reduce_ex__',\n",
              " '__repr__',\n",
              " '__rmod__',\n",
              " '__rmul__',\n",
              " '__setattr__',\n",
              " '__sizeof__',\n",
              " '__str__',\n",
              " '__subclasshook__',\n",
              " 'capitalize',\n",
              " 'casefold',\n",
              " 'center',\n",
              " 'count',\n",
              " 'encode',\n",
              " 'endswith',\n",
              " 'expandtabs',\n",
              " 'find',\n",
              " 'format',\n",
              " 'format_map',\n",
              " 'index',\n",
              " 'isalnum',\n",
              " 'isalpha',\n",
              " 'isascii',\n",
              " 'isdecimal',\n",
              " 'isdigit',\n",
              " 'isidentifier',\n",
              " 'islower',\n",
              " 'isnumeric',\n",
              " 'isprintable',\n",
              " 'isspace',\n",
              " 'istitle',\n",
              " 'isupper',\n",
              " 'join',\n",
              " 'ljust',\n",
              " 'lower',\n",
              " 'lstrip',\n",
              " 'maketrans',\n",
              " 'partition',\n",
              " 'replace',\n",
              " 'rfind',\n",
              " 'rindex',\n",
              " 'rjust',\n",
              " 'rpartition',\n",
              " 'rsplit',\n",
              " 'rstrip',\n",
              " 'split',\n",
              " 'splitlines',\n",
              " 'startswith',\n",
              " 'strip',\n",
              " 'swapcase',\n",
              " 'title',\n",
              " 'translate',\n",
              " 'upper',\n",
              " 'zfill']"
            ]
          },
          "metadata": {},
          "execution_count": 15
        }
      ],
      "source": [
        "dir(firstName)"
      ]
    },
    {
      "cell_type": "markdown",
      "id": "86487b30",
      "metadata": {
        "id": "86487b30"
      },
      "source": [
        "This lists all the functions available to be used on the \"string\" `firstName'"
      ]
    },
    {
      "cell_type": "markdown",
      "id": "f0bc952b",
      "metadata": {
        "id": "f0bc952b"
      },
      "source": [
        "**Question 1**\n",
        "\n",
        "I want you to explore using the string functions: `len()`, `split()`, and `strip()` on the following string. \n",
        "\n",
        "https://docs.python.org/3/library/functions.html"
      ]
    },
    {
      "cell_type": "code",
      "execution_count": null,
      "id": "efe5a16a",
      "metadata": {
        "tags": [],
        "id": "efe5a16a"
      },
      "outputs": [],
      "source": [
        "className = \"Introduction  to   Data Science   \""
      ]
    },
    {
      "cell_type": "code",
      "execution_count": null,
      "id": "896e453e",
      "metadata": {
        "tags": [],
        "colab": {
          "base_uri": "https://localhost:8080/"
        },
        "id": "896e453e",
        "outputId": "403f0b52-9a5e-4e8a-95f6-3475cdf16ee4"
      },
      "outputs": [
        {
          "output_type": "execute_result",
          "data": {
            "text/plain": [
              "34"
            ]
          },
          "metadata": {},
          "execution_count": 17
        }
      ],
      "source": [
        "# Show how to find the length of the string \"className\" \n",
        "# Store the results in a new variable \"class_length\"\n",
        "class_length = len(className)\n",
        "class_length"
      ]
    },
    {
      "cell_type": "code",
      "execution_count": null,
      "id": "c6c8b153",
      "metadata": {
        "tags": [],
        "colab": {
          "base_uri": "https://localhost:8080/"
        },
        "id": "c6c8b153",
        "outputId": "6277c8fa-3f71-4ecf-8d50-a3a85dd2148b"
      },
      "outputs": [
        {
          "output_type": "execute_result",
          "data": {
            "text/plain": [
              "['Introduction', 'to', 'Data', 'Science']"
            ]
          },
          "metadata": {},
          "execution_count": 18
        }
      ],
      "source": [
        "# Show the results of the `split()` function on the string \"className\"  \n",
        "# Store the results in a new variable \"class_split\"\n",
        "class_split = className.split()\n",
        "class_split"
      ]
    },
    {
      "cell_type": "code",
      "execution_count": null,
      "id": "10535adf",
      "metadata": {
        "tags": [],
        "colab": {
          "base_uri": "https://localhost:8080/",
          "height": 35
        },
        "id": "10535adf",
        "outputId": "ea3e044d-1980-4fbe-ee4e-41cd5a0d9e90"
      },
      "outputs": [
        {
          "output_type": "execute_result",
          "data": {
            "text/plain": [
              "'Introduction  to   Data Science'"
            ],
            "application/vnd.google.colaboratory.intrinsic+json": {
              "type": "string"
            }
          },
          "metadata": {},
          "execution_count": 19
        }
      ],
      "source": [
        "# Save the results of the `strip()` function on the string \"className\" in a \n",
        "# new variable \"className2\"\n",
        "className2 = className.strip()\n",
        "className2"
      ]
    },
    {
      "cell_type": "markdown",
      "id": "b57c279d",
      "metadata": {
        "id": "b57c279d"
      },
      "source": [
        "## Example 2 - Comments \n",
        "\n",
        "To create a comment line (in line with the code), # (hash) symbol is used, followed by a space. (Short key: Ctrl+/ ) [To comment out, remove # or use Ctrl+/ again]\n",
        "\n",
        "Other options are using the triple quotes (\"\"\")or (''') known as backticks, to enclose the complete sentence as a comment.(This needs to be on different line other than the code). Different programming language has different approches for commenting. Please be aware."
      ]
    },
    {
      "cell_type": "code",
      "execution_count": null,
      "id": "bbca82ac",
      "metadata": {
        "id": "bbca82ac"
      },
      "outputs": [],
      "source": [
        "# This is a comment"
      ]
    },
    {
      "cell_type": "code",
      "execution_count": null,
      "id": "569693c2",
      "metadata": {
        "colab": {
          "base_uri": "https://localhost:8080/"
        },
        "id": "569693c2",
        "outputId": "f2cffb07-8074-4cfe-c676-e5a701b1ff08"
      },
      "outputs": [
        {
          "output_type": "execute_result",
          "data": {
            "text/plain": [
              "4"
            ]
          },
          "metadata": {},
          "execution_count": 22
        }
      ],
      "source": [
        "'''This is a larger comment block \n",
        "that may span multiple lines \n",
        "'''\n",
        "2 + 2"
      ]
    },
    {
      "cell_type": "markdown",
      "id": "3e986b32",
      "metadata": {
        "id": "3e986b32"
      },
      "source": [
        "<!-- BEGIN QUESTION -->\n",
        "\n",
        "## Exercise 2 - Markdown\n",
        "\n",
        "Markdown option for cells in the jupyter notebook provides a way to display information to the use around the particular code snippets. For more information and reading, please look into:\n",
        "\n",
        "https://help.github.com/articles/basic-writing-and-formatting-syntax/\n",
        "\n",
        "https://jupyter-notebook.readthedocs.io/en/stable/examples/Notebook/Working%20With%20Markdown%20Cells.html\n",
        "\n",
        "Colab's Markdown Guide: https://colab.research.google.com/notebooks/markdown_guide.ipynb#scrollTo=5Y3CStVkLxqt\n",
        "\n",
        "For this exercise add a new 'Text' cell and try to recreate the following block of text. \n",
        "\n",
        "![example markdown](https://pages.mtu.edu/~lebrown/un5550-f20/week1/markdown-example.png)\n",
        "\n",
        "\n"
      ]
    },
    {
      "cell_type": "markdown",
      "id": "c2acae9e",
      "metadata": {
        "id": "c2acae9e"
      },
      "source": [
        "We can start with a few different paragraphs of text. This first paragraph will have a few sentences with various markups found. Things like **bold**, _italics_, ~strikethrough~, and even `` monospace``.\n",
        "\n",
        "Here is another paragraph of text that contains a url [https://mtu.edu](https://www.mtu.edu/).\n",
        "\n",
        "We can have lists:\n",
        "\n",
        "\n",
        "*   one\n",
        "*   two\n",
        "* three\n",
        "\n",
        "And mor lists:\n",
        "\n",
        "\n",
        "1.   one\n",
        "2.   two\n",
        "3. three\n",
        "\n",
        "Nested lists:\n",
        "\n",
        "\n",
        "*   one\n",
        "    - one A\n",
        "    - one B\n",
        "*   two\n",
        "* three\n",
        "\n",
        "\n",
        "\n",
        "\n",
        "\n",
        "\n"
      ]
    },
    {
      "cell_type": "markdown",
      "id": "e4dd517f",
      "metadata": {
        "id": "e4dd517f"
      },
      "source": [
        "<!-- END QUESTION -->\n",
        "\n",
        "## Example 3 - String Operations \n",
        "\n",
        "Here you can see some more operations working with strings.\n",
        "\n",
        "https://docs.python.org/3/library/stdtypes.html#str"
      ]
    },
    {
      "cell_type": "code",
      "execution_count": null,
      "id": "c7bb907c",
      "metadata": {
        "id": "c7bb907c"
      },
      "outputs": [],
      "source": [
        "str = \"Hello Data Science 2022\""
      ]
    },
    {
      "cell_type": "code",
      "execution_count": null,
      "id": "c4061889",
      "metadata": {
        "colab": {
          "base_uri": "https://localhost:8080/"
        },
        "id": "c4061889",
        "outputId": "63e346c2-84a3-4bef-ccb2-fb112a3bb845"
      },
      "outputs": [
        {
          "output_type": "stream",
          "name": "stdout",
          "text": [
            "19\n"
          ]
        }
      ],
      "source": [
        "print(str.find(\"2022\"))"
      ]
    },
    {
      "cell_type": "code",
      "execution_count": null,
      "id": "2af58bb2",
      "metadata": {
        "colab": {
          "base_uri": "https://localhost:8080/"
        },
        "id": "2af58bb2",
        "outputId": "f468aab8-15d0-4e1b-debc-7376504cc656"
      },
      "outputs": [
        {
          "output_type": "stream",
          "name": "stdout",
          "text": [
            "2022\n"
          ]
        }
      ],
      "source": [
        "print(str[-4:])"
      ]
    },
    {
      "cell_type": "code",
      "execution_count": null,
      "id": "cea7ec3c",
      "metadata": {
        "colab": {
          "base_uri": "https://localhost:8080/",
          "height": 35
        },
        "id": "cea7ec3c",
        "outputId": "9e66e31f-9b0c-463f-e2b6-d1cb8857a5de"
      },
      "outputs": [
        {
          "output_type": "execute_result",
          "data": {
            "text/plain": [
              "'HELLO DATA SCIENCE 2022'"
            ],
            "application/vnd.google.colaboratory.intrinsic+json": {
              "type": "string"
            }
          },
          "metadata": {},
          "execution_count": 26
        }
      ],
      "source": [
        "str.upper()"
      ]
    },
    {
      "cell_type": "code",
      "execution_count": null,
      "id": "b40688f9",
      "metadata": {
        "colab": {
          "base_uri": "https://localhost:8080/",
          "height": 35
        },
        "id": "b40688f9",
        "outputId": "a6fc42a4-3a97-4e2f-906c-7cf37d4f7aa1"
      },
      "outputs": [
        {
          "output_type": "execute_result",
          "data": {
            "text/plain": [
              "'hello data science 2022'"
            ],
            "application/vnd.google.colaboratory.intrinsic+json": {
              "type": "string"
            }
          },
          "metadata": {},
          "execution_count": 27
        }
      ],
      "source": [
        "str.lower()"
      ]
    },
    {
      "cell_type": "code",
      "execution_count": null,
      "id": "7ff6dc39",
      "metadata": {
        "colab": {
          "base_uri": "https://localhost:8080/",
          "height": 35
        },
        "id": "7ff6dc39",
        "outputId": "33873dd4-e25f-4e2f-9672-b69549d7c02b"
      },
      "outputs": [
        {
          "output_type": "execute_result",
          "data": {
            "text/plain": [
              "'Hello Data Science 2022 & FutureDataScientist'"
            ],
            "application/vnd.google.colaboratory.intrinsic+json": {
              "type": "string"
            }
          },
          "metadata": {},
          "execution_count": 28
        }
      ],
      "source": [
        "str + ' & ' + 'FutureDataScientist'"
      ]
    },
    {
      "cell_type": "markdown",
      "id": "10666c4f",
      "metadata": {
        "id": "10666c4f"
      },
      "source": [
        "## Exercise 3 - Pandas \n",
        "\n",
        "Pandas Resources:\n",
        "* https://pandas.pydata.org/\n",
        "* https://pandas.pydata.org/pandas-docs/stable/generated/pandas.read_csv.html\n",
        "\n",
        "We are going to be using the Auto+MPG data set.  This is part of the UCI Machine Learning repository.  A common place to find data sets to test out code and used in learning about machine learning and data science. \n",
        "\n",
        "I have already downloaded the data from https://archive.ics.uci.edu/ml/datasets/Auto+MPG\n",
        " \n",
        "In the next cell, you will modify the code to read in the `auto-mpg.data` file properly.  Use the following names for the columns:  \n",
        "mpg, cyl, disp, hp, wgt, acc, year, origin, name\n",
        "\n",
        "*HINT:* You will need to look at using additional parameters for the [`read_csv`](https://pandas.pydata.org/pandas-docs/stable/generated/pandas.read_csv.html) function. It will be helpful to look at the documentation on `read_csv`   \n",
        "https://pandas.pydata.org/pandas-docs/stable/reference/api/pandas.read_csv.html\n",
        "\n"
      ]
    },
    {
      "cell_type": "code",
      "execution_count": null,
      "id": "a9b67382",
      "metadata": {
        "tags": [],
        "colab": {
          "base_uri": "https://localhost:8080/",
          "height": 206
        },
        "id": "a9b67382",
        "outputId": "1d9294d1-0274-42f1-d7d3-9e6d40ea343c"
      },
      "outputs": [
        {
          "output_type": "execute_result",
          "data": {
            "text/plain": [
              "    mpg  cyl   disp     hp     wgt   acc  year  origin  \\\n",
              "0  18.0    8  307.0  130.0  3504.0  12.0    70       1   \n",
              "1  15.0    8  350.0  165.0  3693.0  11.5    70       1   \n",
              "2  18.0    8  318.0  150.0  3436.0  11.0    70       1   \n",
              "3  16.0    8  304.0  150.0  3433.0  12.0    70       1   \n",
              "4  17.0    8  302.0  140.0  3449.0  10.5    70       1   \n",
              "\n",
              "                        name  \n",
              "0  chevrolet chevelle malibu  \n",
              "1          buick skylark 320  \n",
              "2         plymouth satellite  \n",
              "3              amc rebel sst  \n",
              "4                ford torino  "
            ],
            "text/html": [
              "\n",
              "  <div id=\"df-5657b388-d152-4bf2-bc3c-167222863617\">\n",
              "    <div class=\"colab-df-container\">\n",
              "      <div>\n",
              "<style scoped>\n",
              "    .dataframe tbody tr th:only-of-type {\n",
              "        vertical-align: middle;\n",
              "    }\n",
              "\n",
              "    .dataframe tbody tr th {\n",
              "        vertical-align: top;\n",
              "    }\n",
              "\n",
              "    .dataframe thead th {\n",
              "        text-align: right;\n",
              "    }\n",
              "</style>\n",
              "<table border=\"1\" class=\"dataframe\">\n",
              "  <thead>\n",
              "    <tr style=\"text-align: right;\">\n",
              "      <th></th>\n",
              "      <th>mpg</th>\n",
              "      <th>cyl</th>\n",
              "      <th>disp</th>\n",
              "      <th>hp</th>\n",
              "      <th>wgt</th>\n",
              "      <th>acc</th>\n",
              "      <th>year</th>\n",
              "      <th>origin</th>\n",
              "      <th>name</th>\n",
              "    </tr>\n",
              "  </thead>\n",
              "  <tbody>\n",
              "    <tr>\n",
              "      <th>0</th>\n",
              "      <td>18.0</td>\n",
              "      <td>8</td>\n",
              "      <td>307.0</td>\n",
              "      <td>130.0</td>\n",
              "      <td>3504.0</td>\n",
              "      <td>12.0</td>\n",
              "      <td>70</td>\n",
              "      <td>1</td>\n",
              "      <td>chevrolet chevelle malibu</td>\n",
              "    </tr>\n",
              "    <tr>\n",
              "      <th>1</th>\n",
              "      <td>15.0</td>\n",
              "      <td>8</td>\n",
              "      <td>350.0</td>\n",
              "      <td>165.0</td>\n",
              "      <td>3693.0</td>\n",
              "      <td>11.5</td>\n",
              "      <td>70</td>\n",
              "      <td>1</td>\n",
              "      <td>buick skylark 320</td>\n",
              "    </tr>\n",
              "    <tr>\n",
              "      <th>2</th>\n",
              "      <td>18.0</td>\n",
              "      <td>8</td>\n",
              "      <td>318.0</td>\n",
              "      <td>150.0</td>\n",
              "      <td>3436.0</td>\n",
              "      <td>11.0</td>\n",
              "      <td>70</td>\n",
              "      <td>1</td>\n",
              "      <td>plymouth satellite</td>\n",
              "    </tr>\n",
              "    <tr>\n",
              "      <th>3</th>\n",
              "      <td>16.0</td>\n",
              "      <td>8</td>\n",
              "      <td>304.0</td>\n",
              "      <td>150.0</td>\n",
              "      <td>3433.0</td>\n",
              "      <td>12.0</td>\n",
              "      <td>70</td>\n",
              "      <td>1</td>\n",
              "      <td>amc rebel sst</td>\n",
              "    </tr>\n",
              "    <tr>\n",
              "      <th>4</th>\n",
              "      <td>17.0</td>\n",
              "      <td>8</td>\n",
              "      <td>302.0</td>\n",
              "      <td>140.0</td>\n",
              "      <td>3449.0</td>\n",
              "      <td>10.5</td>\n",
              "      <td>70</td>\n",
              "      <td>1</td>\n",
              "      <td>ford torino</td>\n",
              "    </tr>\n",
              "  </tbody>\n",
              "</table>\n",
              "</div>\n",
              "      <button class=\"colab-df-convert\" onclick=\"convertToInteractive('df-5657b388-d152-4bf2-bc3c-167222863617')\"\n",
              "              title=\"Convert this dataframe to an interactive table.\"\n",
              "              style=\"display:none;\">\n",
              "        \n",
              "  <svg xmlns=\"http://www.w3.org/2000/svg\" height=\"24px\"viewBox=\"0 0 24 24\"\n",
              "       width=\"24px\">\n",
              "    <path d=\"M0 0h24v24H0V0z\" fill=\"none\"/>\n",
              "    <path d=\"M18.56 5.44l.94 2.06.94-2.06 2.06-.94-2.06-.94-.94-2.06-.94 2.06-2.06.94zm-11 1L8.5 8.5l.94-2.06 2.06-.94-2.06-.94L8.5 2.5l-.94 2.06-2.06.94zm10 10l.94 2.06.94-2.06 2.06-.94-2.06-.94-.94-2.06-.94 2.06-2.06.94z\"/><path d=\"M17.41 7.96l-1.37-1.37c-.4-.4-.92-.59-1.43-.59-.52 0-1.04.2-1.43.59L10.3 9.45l-7.72 7.72c-.78.78-.78 2.05 0 2.83L4 21.41c.39.39.9.59 1.41.59.51 0 1.02-.2 1.41-.59l7.78-7.78 2.81-2.81c.8-.78.8-2.07 0-2.86zM5.41 20L4 18.59l7.72-7.72 1.47 1.35L5.41 20z\"/>\n",
              "  </svg>\n",
              "      </button>\n",
              "      \n",
              "  <style>\n",
              "    .colab-df-container {\n",
              "      display:flex;\n",
              "      flex-wrap:wrap;\n",
              "      gap: 12px;\n",
              "    }\n",
              "\n",
              "    .colab-df-convert {\n",
              "      background-color: #E8F0FE;\n",
              "      border: none;\n",
              "      border-radius: 50%;\n",
              "      cursor: pointer;\n",
              "      display: none;\n",
              "      fill: #1967D2;\n",
              "      height: 32px;\n",
              "      padding: 0 0 0 0;\n",
              "      width: 32px;\n",
              "    }\n",
              "\n",
              "    .colab-df-convert:hover {\n",
              "      background-color: #E2EBFA;\n",
              "      box-shadow: 0px 1px 2px rgba(60, 64, 67, 0.3), 0px 1px 3px 1px rgba(60, 64, 67, 0.15);\n",
              "      fill: #174EA6;\n",
              "    }\n",
              "\n",
              "    [theme=dark] .colab-df-convert {\n",
              "      background-color: #3B4455;\n",
              "      fill: #D2E3FC;\n",
              "    }\n",
              "\n",
              "    [theme=dark] .colab-df-convert:hover {\n",
              "      background-color: #434B5C;\n",
              "      box-shadow: 0px 1px 3px 1px rgba(0, 0, 0, 0.15);\n",
              "      filter: drop-shadow(0px 1px 2px rgba(0, 0, 0, 0.3));\n",
              "      fill: #FFFFFF;\n",
              "    }\n",
              "  </style>\n",
              "\n",
              "      <script>\n",
              "        const buttonEl =\n",
              "          document.querySelector('#df-5657b388-d152-4bf2-bc3c-167222863617 button.colab-df-convert');\n",
              "        buttonEl.style.display =\n",
              "          google.colab.kernel.accessAllowed ? 'block' : 'none';\n",
              "\n",
              "        async function convertToInteractive(key) {\n",
              "          const element = document.querySelector('#df-5657b388-d152-4bf2-bc3c-167222863617');\n",
              "          const dataTable =\n",
              "            await google.colab.kernel.invokeFunction('convertToInteractive',\n",
              "                                                     [key], {});\n",
              "          if (!dataTable) return;\n",
              "\n",
              "          const docLinkHtml = 'Like what you see? Visit the ' +\n",
              "            '<a target=\"_blank\" href=https://colab.research.google.com/notebooks/data_table.ipynb>data table notebook</a>'\n",
              "            + ' to learn more about interactive tables.';\n",
              "          element.innerHTML = '';\n",
              "          dataTable['output_type'] = 'display_data';\n",
              "          await google.colab.output.renderOutput(dataTable, element);\n",
              "          const docLink = document.createElement('div');\n",
              "          docLink.innerHTML = docLinkHtml;\n",
              "          element.appendChild(docLink);\n",
              "        }\n",
              "      </script>\n",
              "    </div>\n",
              "  </div>\n",
              "  "
            ]
          },
          "metadata": {},
          "execution_count": 29
        }
      ],
      "source": [
        "df = pd.read_csv('/content/data/auto-mpg.data',names=[\"mpg\",\"cyl\",\"disp\",\"hp\",\"wgt\",\"acc\",\"year\",\"origin\",\"name\"], sep = '\\s+')  # modify this code to properly read the data\n",
        "# use the column names provided above \n",
        "df.head()"
      ]
    },
    {
      "cell_type": "markdown",
      "id": "094430ad",
      "metadata": {
        "id": "094430ad"
      },
      "source": [
        "## Exercise 4 - Pandas \n",
        "\n",
        "Here you will explore properties of the DataFrame and its attributes."
      ]
    },
    {
      "cell_type": "markdown",
      "id": "7deff4f8",
      "metadata": {
        "id": "7deff4f8"
      },
      "source": [
        "_Type your answer here, replacing this text._"
      ]
    },
    {
      "cell_type": "code",
      "execution_count": null,
      "id": "1c49347a",
      "metadata": {
        "tags": [],
        "colab": {
          "base_uri": "https://localhost:8080/"
        },
        "id": "1c49347a",
        "outputId": "c797028b-96d9-40b8-abae-00e8ea77372d"
      },
      "outputs": [
        {
          "output_type": "stream",
          "name": "stdout",
          "text": [
            "No of rows: 398\n",
            "No of columns: 9\n"
          ]
        }
      ],
      "source": [
        "# Determine the number of rows and columns of the data set \n",
        "rows = len(df.axes[0])\n",
        "columns = len(df.axes[1])\n",
        "print(f'No of rows: {rows}')\n",
        "print(f'No of columns: {columns}')"
      ]
    },
    {
      "cell_type": "code",
      "execution_count": null,
      "id": "5f667db2",
      "metadata": {
        "tags": [],
        "id": "5f667db2"
      },
      "outputs": [],
      "source": [
        "dfColumnsNames = df.columns.values\n",
        "#print(\"The Column Header :\", dfColumnsName)"
      ]
    },
    {
      "cell_type": "markdown",
      "id": "770c730c",
      "metadata": {
        "id": "770c730c"
      },
      "source": [
        "## Exercise 5 - Pandas \n",
        "\n",
        "Show the first 3 rows of the DataFrame."
      ]
    },
    {
      "cell_type": "markdown",
      "id": "5561eb62",
      "metadata": {
        "id": "5561eb62"
      },
      "source": [
        "_Type your answer here, replacing this text._"
      ]
    },
    {
      "cell_type": "code",
      "execution_count": null,
      "id": "6b3e92a3",
      "metadata": {
        "tags": [],
        "id": "6b3e92a3",
        "colab": {
          "base_uri": "https://localhost:8080/",
          "height": 143
        },
        "outputId": "a2f1d7c8-09f0-4208-941c-472785ec3018"
      },
      "outputs": [
        {
          "output_type": "execute_result",
          "data": {
            "text/plain": [
              "    mpg  cyl   disp     hp     wgt   acc  year  origin  \\\n",
              "0  18.0    8  307.0  130.0  3504.0  12.0    70       1   \n",
              "1  15.0    8  350.0  165.0  3693.0  11.5    70       1   \n",
              "2  18.0    8  318.0  150.0  3436.0  11.0    70       1   \n",
              "\n",
              "                        name  \n",
              "0  chevrolet chevelle malibu  \n",
              "1          buick skylark 320  \n",
              "2         plymouth satellite  "
            ],
            "text/html": [
              "\n",
              "  <div id=\"df-2bc9fa9c-cd87-4de0-ad52-9fb6390c67e3\">\n",
              "    <div class=\"colab-df-container\">\n",
              "      <div>\n",
              "<style scoped>\n",
              "    .dataframe tbody tr th:only-of-type {\n",
              "        vertical-align: middle;\n",
              "    }\n",
              "\n",
              "    .dataframe tbody tr th {\n",
              "        vertical-align: top;\n",
              "    }\n",
              "\n",
              "    .dataframe thead th {\n",
              "        text-align: right;\n",
              "    }\n",
              "</style>\n",
              "<table border=\"1\" class=\"dataframe\">\n",
              "  <thead>\n",
              "    <tr style=\"text-align: right;\">\n",
              "      <th></th>\n",
              "      <th>mpg</th>\n",
              "      <th>cyl</th>\n",
              "      <th>disp</th>\n",
              "      <th>hp</th>\n",
              "      <th>wgt</th>\n",
              "      <th>acc</th>\n",
              "      <th>year</th>\n",
              "      <th>origin</th>\n",
              "      <th>name</th>\n",
              "    </tr>\n",
              "  </thead>\n",
              "  <tbody>\n",
              "    <tr>\n",
              "      <th>0</th>\n",
              "      <td>18.0</td>\n",
              "      <td>8</td>\n",
              "      <td>307.0</td>\n",
              "      <td>130.0</td>\n",
              "      <td>3504.0</td>\n",
              "      <td>12.0</td>\n",
              "      <td>70</td>\n",
              "      <td>1</td>\n",
              "      <td>chevrolet chevelle malibu</td>\n",
              "    </tr>\n",
              "    <tr>\n",
              "      <th>1</th>\n",
              "      <td>15.0</td>\n",
              "      <td>8</td>\n",
              "      <td>350.0</td>\n",
              "      <td>165.0</td>\n",
              "      <td>3693.0</td>\n",
              "      <td>11.5</td>\n",
              "      <td>70</td>\n",
              "      <td>1</td>\n",
              "      <td>buick skylark 320</td>\n",
              "    </tr>\n",
              "    <tr>\n",
              "      <th>2</th>\n",
              "      <td>18.0</td>\n",
              "      <td>8</td>\n",
              "      <td>318.0</td>\n",
              "      <td>150.0</td>\n",
              "      <td>3436.0</td>\n",
              "      <td>11.0</td>\n",
              "      <td>70</td>\n",
              "      <td>1</td>\n",
              "      <td>plymouth satellite</td>\n",
              "    </tr>\n",
              "  </tbody>\n",
              "</table>\n",
              "</div>\n",
              "      <button class=\"colab-df-convert\" onclick=\"convertToInteractive('df-2bc9fa9c-cd87-4de0-ad52-9fb6390c67e3')\"\n",
              "              title=\"Convert this dataframe to an interactive table.\"\n",
              "              style=\"display:none;\">\n",
              "        \n",
              "  <svg xmlns=\"http://www.w3.org/2000/svg\" height=\"24px\"viewBox=\"0 0 24 24\"\n",
              "       width=\"24px\">\n",
              "    <path d=\"M0 0h24v24H0V0z\" fill=\"none\"/>\n",
              "    <path d=\"M18.56 5.44l.94 2.06.94-2.06 2.06-.94-2.06-.94-.94-2.06-.94 2.06-2.06.94zm-11 1L8.5 8.5l.94-2.06 2.06-.94-2.06-.94L8.5 2.5l-.94 2.06-2.06.94zm10 10l.94 2.06.94-2.06 2.06-.94-2.06-.94-.94-2.06-.94 2.06-2.06.94z\"/><path d=\"M17.41 7.96l-1.37-1.37c-.4-.4-.92-.59-1.43-.59-.52 0-1.04.2-1.43.59L10.3 9.45l-7.72 7.72c-.78.78-.78 2.05 0 2.83L4 21.41c.39.39.9.59 1.41.59.51 0 1.02-.2 1.41-.59l7.78-7.78 2.81-2.81c.8-.78.8-2.07 0-2.86zM5.41 20L4 18.59l7.72-7.72 1.47 1.35L5.41 20z\"/>\n",
              "  </svg>\n",
              "      </button>\n",
              "      \n",
              "  <style>\n",
              "    .colab-df-container {\n",
              "      display:flex;\n",
              "      flex-wrap:wrap;\n",
              "      gap: 12px;\n",
              "    }\n",
              "\n",
              "    .colab-df-convert {\n",
              "      background-color: #E8F0FE;\n",
              "      border: none;\n",
              "      border-radius: 50%;\n",
              "      cursor: pointer;\n",
              "      display: none;\n",
              "      fill: #1967D2;\n",
              "      height: 32px;\n",
              "      padding: 0 0 0 0;\n",
              "      width: 32px;\n",
              "    }\n",
              "\n",
              "    .colab-df-convert:hover {\n",
              "      background-color: #E2EBFA;\n",
              "      box-shadow: 0px 1px 2px rgba(60, 64, 67, 0.3), 0px 1px 3px 1px rgba(60, 64, 67, 0.15);\n",
              "      fill: #174EA6;\n",
              "    }\n",
              "\n",
              "    [theme=dark] .colab-df-convert {\n",
              "      background-color: #3B4455;\n",
              "      fill: #D2E3FC;\n",
              "    }\n",
              "\n",
              "    [theme=dark] .colab-df-convert:hover {\n",
              "      background-color: #434B5C;\n",
              "      box-shadow: 0px 1px 3px 1px rgba(0, 0, 0, 0.15);\n",
              "      filter: drop-shadow(0px 1px 2px rgba(0, 0, 0, 0.3));\n",
              "      fill: #FFFFFF;\n",
              "    }\n",
              "  </style>\n",
              "\n",
              "      <script>\n",
              "        const buttonEl =\n",
              "          document.querySelector('#df-2bc9fa9c-cd87-4de0-ad52-9fb6390c67e3 button.colab-df-convert');\n",
              "        buttonEl.style.display =\n",
              "          google.colab.kernel.accessAllowed ? 'block' : 'none';\n",
              "\n",
              "        async function convertToInteractive(key) {\n",
              "          const element = document.querySelector('#df-2bc9fa9c-cd87-4de0-ad52-9fb6390c67e3');\n",
              "          const dataTable =\n",
              "            await google.colab.kernel.invokeFunction('convertToInteractive',\n",
              "                                                     [key], {});\n",
              "          if (!dataTable) return;\n",
              "\n",
              "          const docLinkHtml = 'Like what you see? Visit the ' +\n",
              "            '<a target=\"_blank\" href=https://colab.research.google.com/notebooks/data_table.ipynb>data table notebook</a>'\n",
              "            + ' to learn more about interactive tables.';\n",
              "          element.innerHTML = '';\n",
              "          dataTable['output_type'] = 'display_data';\n",
              "          await google.colab.output.renderOutput(dataTable, element);\n",
              "          const docLink = document.createElement('div');\n",
              "          docLink.innerHTML = docLinkHtml;\n",
              "          element.appendChild(docLink);\n",
              "        }\n",
              "      </script>\n",
              "    </div>\n",
              "  </div>\n",
              "  "
            ]
          },
          "metadata": {},
          "execution_count": 34
        }
      ],
      "source": [
        "first_3_rows = df.head(3)\n",
        "first_3_rows"
      ]
    },
    {
      "cell_type": "code",
      "execution_count": null,
      "id": "90f097e9",
      "metadata": {
        "tags": [],
        "id": "90f097e9",
        "colab": {
          "base_uri": "https://localhost:8080/",
          "height": 300
        },
        "outputId": "589c73c6-d6e3-49a9-e88e-87f737c57b73"
      },
      "outputs": [
        {
          "output_type": "execute_result",
          "data": {
            "text/plain": [
              "      mpg  cyl   disp     hp     wgt   acc  year  origin               name\n",
              "390  32.0    4  144.0  96.00  2665.0  13.9    82       3   toyota celica gt\n",
              "391  36.0    4  135.0  84.00  2370.0  13.0    82       1  dodge charger 2.2\n",
              "392  27.0    4  151.0  90.00  2950.0  17.3    82       1   chevrolet camaro\n",
              "393  27.0    4  140.0  86.00  2790.0  15.6    82       1    ford mustang gl\n",
              "394  44.0    4   97.0  52.00  2130.0  24.6    82       2          vw pickup\n",
              "395  32.0    4  135.0  84.00  2295.0  11.6    82       1      dodge rampage\n",
              "396  28.0    4  120.0  79.00  2625.0  18.6    82       1        ford ranger\n",
              "397  31.0    4  119.0  82.00  2720.0  19.4    82       1         chevy s-10"
            ],
            "text/html": [
              "\n",
              "  <div id=\"df-208f0c08-de35-43b5-bd29-d637873fa321\">\n",
              "    <div class=\"colab-df-container\">\n",
              "      <div>\n",
              "<style scoped>\n",
              "    .dataframe tbody tr th:only-of-type {\n",
              "        vertical-align: middle;\n",
              "    }\n",
              "\n",
              "    .dataframe tbody tr th {\n",
              "        vertical-align: top;\n",
              "    }\n",
              "\n",
              "    .dataframe thead th {\n",
              "        text-align: right;\n",
              "    }\n",
              "</style>\n",
              "<table border=\"1\" class=\"dataframe\">\n",
              "  <thead>\n",
              "    <tr style=\"text-align: right;\">\n",
              "      <th></th>\n",
              "      <th>mpg</th>\n",
              "      <th>cyl</th>\n",
              "      <th>disp</th>\n",
              "      <th>hp</th>\n",
              "      <th>wgt</th>\n",
              "      <th>acc</th>\n",
              "      <th>year</th>\n",
              "      <th>origin</th>\n",
              "      <th>name</th>\n",
              "    </tr>\n",
              "  </thead>\n",
              "  <tbody>\n",
              "    <tr>\n",
              "      <th>390</th>\n",
              "      <td>32.0</td>\n",
              "      <td>4</td>\n",
              "      <td>144.0</td>\n",
              "      <td>96.00</td>\n",
              "      <td>2665.0</td>\n",
              "      <td>13.9</td>\n",
              "      <td>82</td>\n",
              "      <td>3</td>\n",
              "      <td>toyota celica gt</td>\n",
              "    </tr>\n",
              "    <tr>\n",
              "      <th>391</th>\n",
              "      <td>36.0</td>\n",
              "      <td>4</td>\n",
              "      <td>135.0</td>\n",
              "      <td>84.00</td>\n",
              "      <td>2370.0</td>\n",
              "      <td>13.0</td>\n",
              "      <td>82</td>\n",
              "      <td>1</td>\n",
              "      <td>dodge charger 2.2</td>\n",
              "    </tr>\n",
              "    <tr>\n",
              "      <th>392</th>\n",
              "      <td>27.0</td>\n",
              "      <td>4</td>\n",
              "      <td>151.0</td>\n",
              "      <td>90.00</td>\n",
              "      <td>2950.0</td>\n",
              "      <td>17.3</td>\n",
              "      <td>82</td>\n",
              "      <td>1</td>\n",
              "      <td>chevrolet camaro</td>\n",
              "    </tr>\n",
              "    <tr>\n",
              "      <th>393</th>\n",
              "      <td>27.0</td>\n",
              "      <td>4</td>\n",
              "      <td>140.0</td>\n",
              "      <td>86.00</td>\n",
              "      <td>2790.0</td>\n",
              "      <td>15.6</td>\n",
              "      <td>82</td>\n",
              "      <td>1</td>\n",
              "      <td>ford mustang gl</td>\n",
              "    </tr>\n",
              "    <tr>\n",
              "      <th>394</th>\n",
              "      <td>44.0</td>\n",
              "      <td>4</td>\n",
              "      <td>97.0</td>\n",
              "      <td>52.00</td>\n",
              "      <td>2130.0</td>\n",
              "      <td>24.6</td>\n",
              "      <td>82</td>\n",
              "      <td>2</td>\n",
              "      <td>vw pickup</td>\n",
              "    </tr>\n",
              "    <tr>\n",
              "      <th>395</th>\n",
              "      <td>32.0</td>\n",
              "      <td>4</td>\n",
              "      <td>135.0</td>\n",
              "      <td>84.00</td>\n",
              "      <td>2295.0</td>\n",
              "      <td>11.6</td>\n",
              "      <td>82</td>\n",
              "      <td>1</td>\n",
              "      <td>dodge rampage</td>\n",
              "    </tr>\n",
              "    <tr>\n",
              "      <th>396</th>\n",
              "      <td>28.0</td>\n",
              "      <td>4</td>\n",
              "      <td>120.0</td>\n",
              "      <td>79.00</td>\n",
              "      <td>2625.0</td>\n",
              "      <td>18.6</td>\n",
              "      <td>82</td>\n",
              "      <td>1</td>\n",
              "      <td>ford ranger</td>\n",
              "    </tr>\n",
              "    <tr>\n",
              "      <th>397</th>\n",
              "      <td>31.0</td>\n",
              "      <td>4</td>\n",
              "      <td>119.0</td>\n",
              "      <td>82.00</td>\n",
              "      <td>2720.0</td>\n",
              "      <td>19.4</td>\n",
              "      <td>82</td>\n",
              "      <td>1</td>\n",
              "      <td>chevy s-10</td>\n",
              "    </tr>\n",
              "  </tbody>\n",
              "</table>\n",
              "</div>\n",
              "      <button class=\"colab-df-convert\" onclick=\"convertToInteractive('df-208f0c08-de35-43b5-bd29-d637873fa321')\"\n",
              "              title=\"Convert this dataframe to an interactive table.\"\n",
              "              style=\"display:none;\">\n",
              "        \n",
              "  <svg xmlns=\"http://www.w3.org/2000/svg\" height=\"24px\"viewBox=\"0 0 24 24\"\n",
              "       width=\"24px\">\n",
              "    <path d=\"M0 0h24v24H0V0z\" fill=\"none\"/>\n",
              "    <path d=\"M18.56 5.44l.94 2.06.94-2.06 2.06-.94-2.06-.94-.94-2.06-.94 2.06-2.06.94zm-11 1L8.5 8.5l.94-2.06 2.06-.94-2.06-.94L8.5 2.5l-.94 2.06-2.06.94zm10 10l.94 2.06.94-2.06 2.06-.94-2.06-.94-.94-2.06-.94 2.06-2.06.94z\"/><path d=\"M17.41 7.96l-1.37-1.37c-.4-.4-.92-.59-1.43-.59-.52 0-1.04.2-1.43.59L10.3 9.45l-7.72 7.72c-.78.78-.78 2.05 0 2.83L4 21.41c.39.39.9.59 1.41.59.51 0 1.02-.2 1.41-.59l7.78-7.78 2.81-2.81c.8-.78.8-2.07 0-2.86zM5.41 20L4 18.59l7.72-7.72 1.47 1.35L5.41 20z\"/>\n",
              "  </svg>\n",
              "      </button>\n",
              "      \n",
              "  <style>\n",
              "    .colab-df-container {\n",
              "      display:flex;\n",
              "      flex-wrap:wrap;\n",
              "      gap: 12px;\n",
              "    }\n",
              "\n",
              "    .colab-df-convert {\n",
              "      background-color: #E8F0FE;\n",
              "      border: none;\n",
              "      border-radius: 50%;\n",
              "      cursor: pointer;\n",
              "      display: none;\n",
              "      fill: #1967D2;\n",
              "      height: 32px;\n",
              "      padding: 0 0 0 0;\n",
              "      width: 32px;\n",
              "    }\n",
              "\n",
              "    .colab-df-convert:hover {\n",
              "      background-color: #E2EBFA;\n",
              "      box-shadow: 0px 1px 2px rgba(60, 64, 67, 0.3), 0px 1px 3px 1px rgba(60, 64, 67, 0.15);\n",
              "      fill: #174EA6;\n",
              "    }\n",
              "\n",
              "    [theme=dark] .colab-df-convert {\n",
              "      background-color: #3B4455;\n",
              "      fill: #D2E3FC;\n",
              "    }\n",
              "\n",
              "    [theme=dark] .colab-df-convert:hover {\n",
              "      background-color: #434B5C;\n",
              "      box-shadow: 0px 1px 3px 1px rgba(0, 0, 0, 0.15);\n",
              "      filter: drop-shadow(0px 1px 2px rgba(0, 0, 0, 0.3));\n",
              "      fill: #FFFFFF;\n",
              "    }\n",
              "  </style>\n",
              "\n",
              "      <script>\n",
              "        const buttonEl =\n",
              "          document.querySelector('#df-208f0c08-de35-43b5-bd29-d637873fa321 button.colab-df-convert');\n",
              "        buttonEl.style.display =\n",
              "          google.colab.kernel.accessAllowed ? 'block' : 'none';\n",
              "\n",
              "        async function convertToInteractive(key) {\n",
              "          const element = document.querySelector('#df-208f0c08-de35-43b5-bd29-d637873fa321');\n",
              "          const dataTable =\n",
              "            await google.colab.kernel.invokeFunction('convertToInteractive',\n",
              "                                                     [key], {});\n",
              "          if (!dataTable) return;\n",
              "\n",
              "          const docLinkHtml = 'Like what you see? Visit the ' +\n",
              "            '<a target=\"_blank\" href=https://colab.research.google.com/notebooks/data_table.ipynb>data table notebook</a>'\n",
              "            + ' to learn more about interactive tables.';\n",
              "          element.innerHTML = '';\n",
              "          dataTable['output_type'] = 'display_data';\n",
              "          await google.colab.output.renderOutput(dataTable, element);\n",
              "          const docLink = document.createElement('div');\n",
              "          docLink.innerHTML = docLinkHtml;\n",
              "          element.appendChild(docLink);\n",
              "        }\n",
              "      </script>\n",
              "    </div>\n",
              "  </div>\n",
              "  "
            ]
          },
          "metadata": {},
          "execution_count": 35
        }
      ],
      "source": [
        "last_8_rows = df.tail(8)\n",
        "last_8_rows"
      ]
    },
    {
      "cell_type": "markdown",
      "id": "a447628e",
      "metadata": {
        "id": "a447628e"
      },
      "source": [
        "## Exercise 6 - Pandas \n",
        "\n",
        "Practice selecting different parts of the DataFrame\n",
        "\n",
        "Select the horsepower column"
      ]
    },
    {
      "cell_type": "markdown",
      "id": "4a113540",
      "metadata": {
        "id": "4a113540"
      },
      "source": [
        "_Type your answer here, replacing this text._"
      ]
    },
    {
      "cell_type": "code",
      "execution_count": null,
      "id": "02beaeaf",
      "metadata": {
        "tags": [],
        "id": "02beaeaf",
        "colab": {
          "base_uri": "https://localhost:8080/"
        },
        "outputId": "016e311f-d92e-4209-d113-6b1abc36f9ee"
      },
      "outputs": [
        {
          "output_type": "execute_result",
          "data": {
            "text/plain": [
              "0      130.0\n",
              "1      165.0\n",
              "2      150.0\n",
              "3      150.0\n",
              "4      140.0\n",
              "       ...  \n",
              "393    86.00\n",
              "394    52.00\n",
              "395    84.00\n",
              "396    79.00\n",
              "397    82.00\n",
              "Name: hp, Length: 398, dtype: object"
            ]
          },
          "metadata": {},
          "execution_count": 38
        }
      ],
      "source": [
        "# select just the horsepower column \n",
        "hp = df[\"hp\"]\n",
        "hp"
      ]
    },
    {
      "cell_type": "code",
      "execution_count": null,
      "id": "267a3ed9",
      "metadata": {
        "tags": [],
        "id": "267a3ed9",
        "colab": {
          "base_uri": "https://localhost:8080/",
          "height": 423
        },
        "outputId": "80d0bc19-8fe3-4d4b-bf26-1dc74dde484d"
      },
      "outputs": [
        {
          "output_type": "execute_result",
          "data": {
            "text/plain": [
              "     cyl   disp\n",
              "0      8  307.0\n",
              "1      8  350.0\n",
              "2      8  318.0\n",
              "3      8  304.0\n",
              "4      8  302.0\n",
              "..   ...    ...\n",
              "393    4  140.0\n",
              "394    4   97.0\n",
              "395    4  135.0\n",
              "396    4  120.0\n",
              "397    4  119.0\n",
              "\n",
              "[398 rows x 2 columns]"
            ],
            "text/html": [
              "\n",
              "  <div id=\"df-256eb798-0adb-48eb-983c-86b9336017d4\">\n",
              "    <div class=\"colab-df-container\">\n",
              "      <div>\n",
              "<style scoped>\n",
              "    .dataframe tbody tr th:only-of-type {\n",
              "        vertical-align: middle;\n",
              "    }\n",
              "\n",
              "    .dataframe tbody tr th {\n",
              "        vertical-align: top;\n",
              "    }\n",
              "\n",
              "    .dataframe thead th {\n",
              "        text-align: right;\n",
              "    }\n",
              "</style>\n",
              "<table border=\"1\" class=\"dataframe\">\n",
              "  <thead>\n",
              "    <tr style=\"text-align: right;\">\n",
              "      <th></th>\n",
              "      <th>cyl</th>\n",
              "      <th>disp</th>\n",
              "    </tr>\n",
              "  </thead>\n",
              "  <tbody>\n",
              "    <tr>\n",
              "      <th>0</th>\n",
              "      <td>8</td>\n",
              "      <td>307.0</td>\n",
              "    </tr>\n",
              "    <tr>\n",
              "      <th>1</th>\n",
              "      <td>8</td>\n",
              "      <td>350.0</td>\n",
              "    </tr>\n",
              "    <tr>\n",
              "      <th>2</th>\n",
              "      <td>8</td>\n",
              "      <td>318.0</td>\n",
              "    </tr>\n",
              "    <tr>\n",
              "      <th>3</th>\n",
              "      <td>8</td>\n",
              "      <td>304.0</td>\n",
              "    </tr>\n",
              "    <tr>\n",
              "      <th>4</th>\n",
              "      <td>8</td>\n",
              "      <td>302.0</td>\n",
              "    </tr>\n",
              "    <tr>\n",
              "      <th>...</th>\n",
              "      <td>...</td>\n",
              "      <td>...</td>\n",
              "    </tr>\n",
              "    <tr>\n",
              "      <th>393</th>\n",
              "      <td>4</td>\n",
              "      <td>140.0</td>\n",
              "    </tr>\n",
              "    <tr>\n",
              "      <th>394</th>\n",
              "      <td>4</td>\n",
              "      <td>97.0</td>\n",
              "    </tr>\n",
              "    <tr>\n",
              "      <th>395</th>\n",
              "      <td>4</td>\n",
              "      <td>135.0</td>\n",
              "    </tr>\n",
              "    <tr>\n",
              "      <th>396</th>\n",
              "      <td>4</td>\n",
              "      <td>120.0</td>\n",
              "    </tr>\n",
              "    <tr>\n",
              "      <th>397</th>\n",
              "      <td>4</td>\n",
              "      <td>119.0</td>\n",
              "    </tr>\n",
              "  </tbody>\n",
              "</table>\n",
              "<p>398 rows × 2 columns</p>\n",
              "</div>\n",
              "      <button class=\"colab-df-convert\" onclick=\"convertToInteractive('df-256eb798-0adb-48eb-983c-86b9336017d4')\"\n",
              "              title=\"Convert this dataframe to an interactive table.\"\n",
              "              style=\"display:none;\">\n",
              "        \n",
              "  <svg xmlns=\"http://www.w3.org/2000/svg\" height=\"24px\"viewBox=\"0 0 24 24\"\n",
              "       width=\"24px\">\n",
              "    <path d=\"M0 0h24v24H0V0z\" fill=\"none\"/>\n",
              "    <path d=\"M18.56 5.44l.94 2.06.94-2.06 2.06-.94-2.06-.94-.94-2.06-.94 2.06-2.06.94zm-11 1L8.5 8.5l.94-2.06 2.06-.94-2.06-.94L8.5 2.5l-.94 2.06-2.06.94zm10 10l.94 2.06.94-2.06 2.06-.94-2.06-.94-.94-2.06-.94 2.06-2.06.94z\"/><path d=\"M17.41 7.96l-1.37-1.37c-.4-.4-.92-.59-1.43-.59-.52 0-1.04.2-1.43.59L10.3 9.45l-7.72 7.72c-.78.78-.78 2.05 0 2.83L4 21.41c.39.39.9.59 1.41.59.51 0 1.02-.2 1.41-.59l7.78-7.78 2.81-2.81c.8-.78.8-2.07 0-2.86zM5.41 20L4 18.59l7.72-7.72 1.47 1.35L5.41 20z\"/>\n",
              "  </svg>\n",
              "      </button>\n",
              "      \n",
              "  <style>\n",
              "    .colab-df-container {\n",
              "      display:flex;\n",
              "      flex-wrap:wrap;\n",
              "      gap: 12px;\n",
              "    }\n",
              "\n",
              "    .colab-df-convert {\n",
              "      background-color: #E8F0FE;\n",
              "      border: none;\n",
              "      border-radius: 50%;\n",
              "      cursor: pointer;\n",
              "      display: none;\n",
              "      fill: #1967D2;\n",
              "      height: 32px;\n",
              "      padding: 0 0 0 0;\n",
              "      width: 32px;\n",
              "    }\n",
              "\n",
              "    .colab-df-convert:hover {\n",
              "      background-color: #E2EBFA;\n",
              "      box-shadow: 0px 1px 2px rgba(60, 64, 67, 0.3), 0px 1px 3px 1px rgba(60, 64, 67, 0.15);\n",
              "      fill: #174EA6;\n",
              "    }\n",
              "\n",
              "    [theme=dark] .colab-df-convert {\n",
              "      background-color: #3B4455;\n",
              "      fill: #D2E3FC;\n",
              "    }\n",
              "\n",
              "    [theme=dark] .colab-df-convert:hover {\n",
              "      background-color: #434B5C;\n",
              "      box-shadow: 0px 1px 3px 1px rgba(0, 0, 0, 0.15);\n",
              "      filter: drop-shadow(0px 1px 2px rgba(0, 0, 0, 0.3));\n",
              "      fill: #FFFFFF;\n",
              "    }\n",
              "  </style>\n",
              "\n",
              "      <script>\n",
              "        const buttonEl =\n",
              "          document.querySelector('#df-256eb798-0adb-48eb-983c-86b9336017d4 button.colab-df-convert');\n",
              "        buttonEl.style.display =\n",
              "          google.colab.kernel.accessAllowed ? 'block' : 'none';\n",
              "\n",
              "        async function convertToInteractive(key) {\n",
              "          const element = document.querySelector('#df-256eb798-0adb-48eb-983c-86b9336017d4');\n",
              "          const dataTable =\n",
              "            await google.colab.kernel.invokeFunction('convertToInteractive',\n",
              "                                                     [key], {});\n",
              "          if (!dataTable) return;\n",
              "\n",
              "          const docLinkHtml = 'Like what you see? Visit the ' +\n",
              "            '<a target=\"_blank\" href=https://colab.research.google.com/notebooks/data_table.ipynb>data table notebook</a>'\n",
              "            + ' to learn more about interactive tables.';\n",
              "          element.innerHTML = '';\n",
              "          dataTable['output_type'] = 'display_data';\n",
              "          await google.colab.output.renderOutput(dataTable, element);\n",
              "          const docLink = document.createElement('div');\n",
              "          docLink.innerHTML = docLinkHtml;\n",
              "          element.appendChild(docLink);\n",
              "        }\n",
              "      </script>\n",
              "    </div>\n",
              "  </div>\n",
              "  "
            ]
          },
          "metadata": {},
          "execution_count": 39
        }
      ],
      "source": [
        "cyl_and_disp = df[[\"cyl\",\"disp\"]]\n",
        "cyl_and_disp"
      ]
    },
    {
      "cell_type": "markdown",
      "id": "8eb0c72e",
      "metadata": {
        "id": "8eb0c72e"
      },
      "source": [
        "## Exercise 7 - Pandas \n",
        "\n",
        "Select the row with index=7, the 8th row, of the DataFrame \n",
        "\n"
      ]
    },
    {
      "cell_type": "markdown",
      "id": "53418113",
      "metadata": {
        "id": "53418113"
      },
      "source": [
        "_Type your answer here, replacing this text._"
      ]
    },
    {
      "cell_type": "code",
      "execution_count": null,
      "id": "d7338fcd",
      "metadata": {
        "id": "d7338fcd",
        "tags": [],
        "colab": {
          "base_uri": "https://localhost:8080/"
        },
        "outputId": "01cd0d98-722f-4c36-b534-677c54f79f86"
      },
      "outputs": [
        {
          "output_type": "execute_result",
          "data": {
            "text/plain": [
              "mpg                    14.0\n",
              "cyl                       8\n",
              "disp                  440.0\n",
              "hp                    215.0\n",
              "wgt                  4312.0\n",
              "acc                     8.5\n",
              "year                     70\n",
              "origin                    1\n",
              "name      plymouth fury iii\n",
              "Name: 7, dtype: object"
            ]
          },
          "metadata": {},
          "execution_count": 41
        }
      ],
      "source": [
        "index_7 = df.iloc[7]\n",
        "index_7"
      ]
    },
    {
      "cell_type": "code",
      "execution_count": null,
      "id": "d38315af",
      "metadata": {
        "id": "d38315af",
        "tags": [],
        "colab": {
          "base_uri": "https://localhost:8080/",
          "height": 112
        },
        "outputId": "448ded0c-9991-44d0-8698-bb224b720e63"
      },
      "outputs": [
        {
          "output_type": "execute_result",
          "data": {
            "text/plain": [
              "    mpg  cyl   disp     hp     wgt   acc  year  origin              name\n",
              "4  17.0    8  302.0  140.0  3449.0  10.5    70       1       ford torino\n",
              "5  15.0    8  429.0  198.0  4341.0  10.0    70       1  ford galaxie 500"
            ],
            "text/html": [
              "\n",
              "  <div id=\"df-2ab0d320-9a17-4270-8d32-c5cf4171cb74\">\n",
              "    <div class=\"colab-df-container\">\n",
              "      <div>\n",
              "<style scoped>\n",
              "    .dataframe tbody tr th:only-of-type {\n",
              "        vertical-align: middle;\n",
              "    }\n",
              "\n",
              "    .dataframe tbody tr th {\n",
              "        vertical-align: top;\n",
              "    }\n",
              "\n",
              "    .dataframe thead th {\n",
              "        text-align: right;\n",
              "    }\n",
              "</style>\n",
              "<table border=\"1\" class=\"dataframe\">\n",
              "  <thead>\n",
              "    <tr style=\"text-align: right;\">\n",
              "      <th></th>\n",
              "      <th>mpg</th>\n",
              "      <th>cyl</th>\n",
              "      <th>disp</th>\n",
              "      <th>hp</th>\n",
              "      <th>wgt</th>\n",
              "      <th>acc</th>\n",
              "      <th>year</th>\n",
              "      <th>origin</th>\n",
              "      <th>name</th>\n",
              "    </tr>\n",
              "  </thead>\n",
              "  <tbody>\n",
              "    <tr>\n",
              "      <th>4</th>\n",
              "      <td>17.0</td>\n",
              "      <td>8</td>\n",
              "      <td>302.0</td>\n",
              "      <td>140.0</td>\n",
              "      <td>3449.0</td>\n",
              "      <td>10.5</td>\n",
              "      <td>70</td>\n",
              "      <td>1</td>\n",
              "      <td>ford torino</td>\n",
              "    </tr>\n",
              "    <tr>\n",
              "      <th>5</th>\n",
              "      <td>15.0</td>\n",
              "      <td>8</td>\n",
              "      <td>429.0</td>\n",
              "      <td>198.0</td>\n",
              "      <td>4341.0</td>\n",
              "      <td>10.0</td>\n",
              "      <td>70</td>\n",
              "      <td>1</td>\n",
              "      <td>ford galaxie 500</td>\n",
              "    </tr>\n",
              "  </tbody>\n",
              "</table>\n",
              "</div>\n",
              "      <button class=\"colab-df-convert\" onclick=\"convertToInteractive('df-2ab0d320-9a17-4270-8d32-c5cf4171cb74')\"\n",
              "              title=\"Convert this dataframe to an interactive table.\"\n",
              "              style=\"display:none;\">\n",
              "        \n",
              "  <svg xmlns=\"http://www.w3.org/2000/svg\" height=\"24px\"viewBox=\"0 0 24 24\"\n",
              "       width=\"24px\">\n",
              "    <path d=\"M0 0h24v24H0V0z\" fill=\"none\"/>\n",
              "    <path d=\"M18.56 5.44l.94 2.06.94-2.06 2.06-.94-2.06-.94-.94-2.06-.94 2.06-2.06.94zm-11 1L8.5 8.5l.94-2.06 2.06-.94-2.06-.94L8.5 2.5l-.94 2.06-2.06.94zm10 10l.94 2.06.94-2.06 2.06-.94-2.06-.94-.94-2.06-.94 2.06-2.06.94z\"/><path d=\"M17.41 7.96l-1.37-1.37c-.4-.4-.92-.59-1.43-.59-.52 0-1.04.2-1.43.59L10.3 9.45l-7.72 7.72c-.78.78-.78 2.05 0 2.83L4 21.41c.39.39.9.59 1.41.59.51 0 1.02-.2 1.41-.59l7.78-7.78 2.81-2.81c.8-.78.8-2.07 0-2.86zM5.41 20L4 18.59l7.72-7.72 1.47 1.35L5.41 20z\"/>\n",
              "  </svg>\n",
              "      </button>\n",
              "      \n",
              "  <style>\n",
              "    .colab-df-container {\n",
              "      display:flex;\n",
              "      flex-wrap:wrap;\n",
              "      gap: 12px;\n",
              "    }\n",
              "\n",
              "    .colab-df-convert {\n",
              "      background-color: #E8F0FE;\n",
              "      border: none;\n",
              "      border-radius: 50%;\n",
              "      cursor: pointer;\n",
              "      display: none;\n",
              "      fill: #1967D2;\n",
              "      height: 32px;\n",
              "      padding: 0 0 0 0;\n",
              "      width: 32px;\n",
              "    }\n",
              "\n",
              "    .colab-df-convert:hover {\n",
              "      background-color: #E2EBFA;\n",
              "      box-shadow: 0px 1px 2px rgba(60, 64, 67, 0.3), 0px 1px 3px 1px rgba(60, 64, 67, 0.15);\n",
              "      fill: #174EA6;\n",
              "    }\n",
              "\n",
              "    [theme=dark] .colab-df-convert {\n",
              "      background-color: #3B4455;\n",
              "      fill: #D2E3FC;\n",
              "    }\n",
              "\n",
              "    [theme=dark] .colab-df-convert:hover {\n",
              "      background-color: #434B5C;\n",
              "      box-shadow: 0px 1px 3px 1px rgba(0, 0, 0, 0.15);\n",
              "      filter: drop-shadow(0px 1px 2px rgba(0, 0, 0, 0.3));\n",
              "      fill: #FFFFFF;\n",
              "    }\n",
              "  </style>\n",
              "\n",
              "      <script>\n",
              "        const buttonEl =\n",
              "          document.querySelector('#df-2ab0d320-9a17-4270-8d32-c5cf4171cb74 button.colab-df-convert');\n",
              "        buttonEl.style.display =\n",
              "          google.colab.kernel.accessAllowed ? 'block' : 'none';\n",
              "\n",
              "        async function convertToInteractive(key) {\n",
              "          const element = document.querySelector('#df-2ab0d320-9a17-4270-8d32-c5cf4171cb74');\n",
              "          const dataTable =\n",
              "            await google.colab.kernel.invokeFunction('convertToInteractive',\n",
              "                                                     [key], {});\n",
              "          if (!dataTable) return;\n",
              "\n",
              "          const docLinkHtml = 'Like what you see? Visit the ' +\n",
              "            '<a target=\"_blank\" href=https://colab.research.google.com/notebooks/data_table.ipynb>data table notebook</a>'\n",
              "            + ' to learn more about interactive tables.';\n",
              "          element.innerHTML = '';\n",
              "          dataTable['output_type'] = 'display_data';\n",
              "          await google.colab.output.renderOutput(dataTable, element);\n",
              "          const docLink = document.createElement('div');\n",
              "          docLink.innerHTML = docLinkHtml;\n",
              "          element.appendChild(docLink);\n",
              "        }\n",
              "      </script>\n",
              "    </div>\n",
              "  </div>\n",
              "  "
            ]
          },
          "metadata": {},
          "execution_count": 50
        }
      ],
      "source": [
        "row_4_5 = df.iloc[4:6]\n",
        "row_4_5"
      ]
    },
    {
      "cell_type": "code",
      "execution_count": null,
      "id": "a8246945",
      "metadata": {
        "tags": [],
        "id": "a8246945",
        "colab": {
          "base_uri": "https://localhost:8080/",
          "height": 423
        },
        "outputId": "5f6c9563-d66d-40fc-a51f-dab92a182272"
      },
      "outputs": [
        {
          "output_type": "execute_result",
          "data": {
            "text/plain": [
              "      mpg  cyl   disp     hp     wgt   acc  year  origin  \\\n",
              "3    16.0    8  304.0  150.0  3433.0  12.0    70       1   \n",
              "7    14.0    8  440.0  215.0  4312.0   8.5    70       1   \n",
              "11   14.0    8  340.0  160.0  3609.0   8.0    70       1   \n",
              "15   22.0    6  198.0  95.00  2833.0  15.5    70       1   \n",
              "19   26.0    4   97.0  46.00  1835.0  20.5    70       2   \n",
              "..    ...  ...    ...    ...     ...   ...   ...     ...   \n",
              "379  36.0    4   98.0  70.00  2125.0  17.3    82       1   \n",
              "383  38.0    4   91.0  67.00  1965.0  15.0    82       3   \n",
              "387  38.0    6  262.0  85.00  3015.0  17.0    82       1   \n",
              "391  36.0    4  135.0  84.00  2370.0  13.0    82       1   \n",
              "395  32.0    4  135.0  84.00  2295.0  11.6    82       1   \n",
              "\n",
              "                                  name  \n",
              "3                        amc rebel sst  \n",
              "7                    plymouth fury iii  \n",
              "11                  plymouth 'cuda 340  \n",
              "15                     plymouth duster  \n",
              "19        volkswagen 1131 deluxe sedan  \n",
              "..                                 ...  \n",
              "379                     mercury lynx l  \n",
              "383                        honda civic  \n",
              "387  oldsmobile cutlass ciera (diesel)  \n",
              "391                  dodge charger 2.2  \n",
              "395                      dodge rampage  \n",
              "\n",
              "[99 rows x 9 columns]"
            ],
            "text/html": [
              "\n",
              "  <div id=\"df-838f3a95-2e42-4c23-a11a-4cdc97eb2fe3\">\n",
              "    <div class=\"colab-df-container\">\n",
              "      <div>\n",
              "<style scoped>\n",
              "    .dataframe tbody tr th:only-of-type {\n",
              "        vertical-align: middle;\n",
              "    }\n",
              "\n",
              "    .dataframe tbody tr th {\n",
              "        vertical-align: top;\n",
              "    }\n",
              "\n",
              "    .dataframe thead th {\n",
              "        text-align: right;\n",
              "    }\n",
              "</style>\n",
              "<table border=\"1\" class=\"dataframe\">\n",
              "  <thead>\n",
              "    <tr style=\"text-align: right;\">\n",
              "      <th></th>\n",
              "      <th>mpg</th>\n",
              "      <th>cyl</th>\n",
              "      <th>disp</th>\n",
              "      <th>hp</th>\n",
              "      <th>wgt</th>\n",
              "      <th>acc</th>\n",
              "      <th>year</th>\n",
              "      <th>origin</th>\n",
              "      <th>name</th>\n",
              "    </tr>\n",
              "  </thead>\n",
              "  <tbody>\n",
              "    <tr>\n",
              "      <th>3</th>\n",
              "      <td>16.0</td>\n",
              "      <td>8</td>\n",
              "      <td>304.0</td>\n",
              "      <td>150.0</td>\n",
              "      <td>3433.0</td>\n",
              "      <td>12.0</td>\n",
              "      <td>70</td>\n",
              "      <td>1</td>\n",
              "      <td>amc rebel sst</td>\n",
              "    </tr>\n",
              "    <tr>\n",
              "      <th>7</th>\n",
              "      <td>14.0</td>\n",
              "      <td>8</td>\n",
              "      <td>440.0</td>\n",
              "      <td>215.0</td>\n",
              "      <td>4312.0</td>\n",
              "      <td>8.5</td>\n",
              "      <td>70</td>\n",
              "      <td>1</td>\n",
              "      <td>plymouth fury iii</td>\n",
              "    </tr>\n",
              "    <tr>\n",
              "      <th>11</th>\n",
              "      <td>14.0</td>\n",
              "      <td>8</td>\n",
              "      <td>340.0</td>\n",
              "      <td>160.0</td>\n",
              "      <td>3609.0</td>\n",
              "      <td>8.0</td>\n",
              "      <td>70</td>\n",
              "      <td>1</td>\n",
              "      <td>plymouth 'cuda 340</td>\n",
              "    </tr>\n",
              "    <tr>\n",
              "      <th>15</th>\n",
              "      <td>22.0</td>\n",
              "      <td>6</td>\n",
              "      <td>198.0</td>\n",
              "      <td>95.00</td>\n",
              "      <td>2833.0</td>\n",
              "      <td>15.5</td>\n",
              "      <td>70</td>\n",
              "      <td>1</td>\n",
              "      <td>plymouth duster</td>\n",
              "    </tr>\n",
              "    <tr>\n",
              "      <th>19</th>\n",
              "      <td>26.0</td>\n",
              "      <td>4</td>\n",
              "      <td>97.0</td>\n",
              "      <td>46.00</td>\n",
              "      <td>1835.0</td>\n",
              "      <td>20.5</td>\n",
              "      <td>70</td>\n",
              "      <td>2</td>\n",
              "      <td>volkswagen 1131 deluxe sedan</td>\n",
              "    </tr>\n",
              "    <tr>\n",
              "      <th>...</th>\n",
              "      <td>...</td>\n",
              "      <td>...</td>\n",
              "      <td>...</td>\n",
              "      <td>...</td>\n",
              "      <td>...</td>\n",
              "      <td>...</td>\n",
              "      <td>...</td>\n",
              "      <td>...</td>\n",
              "      <td>...</td>\n",
              "    </tr>\n",
              "    <tr>\n",
              "      <th>379</th>\n",
              "      <td>36.0</td>\n",
              "      <td>4</td>\n",
              "      <td>98.0</td>\n",
              "      <td>70.00</td>\n",
              "      <td>2125.0</td>\n",
              "      <td>17.3</td>\n",
              "      <td>82</td>\n",
              "      <td>1</td>\n",
              "      <td>mercury lynx l</td>\n",
              "    </tr>\n",
              "    <tr>\n",
              "      <th>383</th>\n",
              "      <td>38.0</td>\n",
              "      <td>4</td>\n",
              "      <td>91.0</td>\n",
              "      <td>67.00</td>\n",
              "      <td>1965.0</td>\n",
              "      <td>15.0</td>\n",
              "      <td>82</td>\n",
              "      <td>3</td>\n",
              "      <td>honda civic</td>\n",
              "    </tr>\n",
              "    <tr>\n",
              "      <th>387</th>\n",
              "      <td>38.0</td>\n",
              "      <td>6</td>\n",
              "      <td>262.0</td>\n",
              "      <td>85.00</td>\n",
              "      <td>3015.0</td>\n",
              "      <td>17.0</td>\n",
              "      <td>82</td>\n",
              "      <td>1</td>\n",
              "      <td>oldsmobile cutlass ciera (diesel)</td>\n",
              "    </tr>\n",
              "    <tr>\n",
              "      <th>391</th>\n",
              "      <td>36.0</td>\n",
              "      <td>4</td>\n",
              "      <td>135.0</td>\n",
              "      <td>84.00</td>\n",
              "      <td>2370.0</td>\n",
              "      <td>13.0</td>\n",
              "      <td>82</td>\n",
              "      <td>1</td>\n",
              "      <td>dodge charger 2.2</td>\n",
              "    </tr>\n",
              "    <tr>\n",
              "      <th>395</th>\n",
              "      <td>32.0</td>\n",
              "      <td>4</td>\n",
              "      <td>135.0</td>\n",
              "      <td>84.00</td>\n",
              "      <td>2295.0</td>\n",
              "      <td>11.6</td>\n",
              "      <td>82</td>\n",
              "      <td>1</td>\n",
              "      <td>dodge rampage</td>\n",
              "    </tr>\n",
              "  </tbody>\n",
              "</table>\n",
              "<p>99 rows × 9 columns</p>\n",
              "</div>\n",
              "      <button class=\"colab-df-convert\" onclick=\"convertToInteractive('df-838f3a95-2e42-4c23-a11a-4cdc97eb2fe3')\"\n",
              "              title=\"Convert this dataframe to an interactive table.\"\n",
              "              style=\"display:none;\">\n",
              "        \n",
              "  <svg xmlns=\"http://www.w3.org/2000/svg\" height=\"24px\"viewBox=\"0 0 24 24\"\n",
              "       width=\"24px\">\n",
              "    <path d=\"M0 0h24v24H0V0z\" fill=\"none\"/>\n",
              "    <path d=\"M18.56 5.44l.94 2.06.94-2.06 2.06-.94-2.06-.94-.94-2.06-.94 2.06-2.06.94zm-11 1L8.5 8.5l.94-2.06 2.06-.94-2.06-.94L8.5 2.5l-.94 2.06-2.06.94zm10 10l.94 2.06.94-2.06 2.06-.94-2.06-.94-.94-2.06-.94 2.06-2.06.94z\"/><path d=\"M17.41 7.96l-1.37-1.37c-.4-.4-.92-.59-1.43-.59-.52 0-1.04.2-1.43.59L10.3 9.45l-7.72 7.72c-.78.78-.78 2.05 0 2.83L4 21.41c.39.39.9.59 1.41.59.51 0 1.02-.2 1.41-.59l7.78-7.78 2.81-2.81c.8-.78.8-2.07 0-2.86zM5.41 20L4 18.59l7.72-7.72 1.47 1.35L5.41 20z\"/>\n",
              "  </svg>\n",
              "      </button>\n",
              "      \n",
              "  <style>\n",
              "    .colab-df-container {\n",
              "      display:flex;\n",
              "      flex-wrap:wrap;\n",
              "      gap: 12px;\n",
              "    }\n",
              "\n",
              "    .colab-df-convert {\n",
              "      background-color: #E8F0FE;\n",
              "      border: none;\n",
              "      border-radius: 50%;\n",
              "      cursor: pointer;\n",
              "      display: none;\n",
              "      fill: #1967D2;\n",
              "      height: 32px;\n",
              "      padding: 0 0 0 0;\n",
              "      width: 32px;\n",
              "    }\n",
              "\n",
              "    .colab-df-convert:hover {\n",
              "      background-color: #E2EBFA;\n",
              "      box-shadow: 0px 1px 2px rgba(60, 64, 67, 0.3), 0px 1px 3px 1px rgba(60, 64, 67, 0.15);\n",
              "      fill: #174EA6;\n",
              "    }\n",
              "\n",
              "    [theme=dark] .colab-df-convert {\n",
              "      background-color: #3B4455;\n",
              "      fill: #D2E3FC;\n",
              "    }\n",
              "\n",
              "    [theme=dark] .colab-df-convert:hover {\n",
              "      background-color: #434B5C;\n",
              "      box-shadow: 0px 1px 3px 1px rgba(0, 0, 0, 0.15);\n",
              "      filter: drop-shadow(0px 1px 2px rgba(0, 0, 0, 0.3));\n",
              "      fill: #FFFFFF;\n",
              "    }\n",
              "  </style>\n",
              "\n",
              "      <script>\n",
              "        const buttonEl =\n",
              "          document.querySelector('#df-838f3a95-2e42-4c23-a11a-4cdc97eb2fe3 button.colab-df-convert');\n",
              "        buttonEl.style.display =\n",
              "          google.colab.kernel.accessAllowed ? 'block' : 'none';\n",
              "\n",
              "        async function convertToInteractive(key) {\n",
              "          const element = document.querySelector('#df-838f3a95-2e42-4c23-a11a-4cdc97eb2fe3');\n",
              "          const dataTable =\n",
              "            await google.colab.kernel.invokeFunction('convertToInteractive',\n",
              "                                                     [key], {});\n",
              "          if (!dataTable) return;\n",
              "\n",
              "          const docLinkHtml = 'Like what you see? Visit the ' +\n",
              "            '<a target=\"_blank\" href=https://colab.research.google.com/notebooks/data_table.ipynb>data table notebook</a>'\n",
              "            + ' to learn more about interactive tables.';\n",
              "          element.innerHTML = '';\n",
              "          dataTable['output_type'] = 'display_data';\n",
              "          await google.colab.output.renderOutput(dataTable, element);\n",
              "          const docLink = document.createElement('div');\n",
              "          docLink.innerHTML = docLinkHtml;\n",
              "          element.appendChild(docLink);\n",
              "        }\n",
              "      </script>\n",
              "    </div>\n",
              "  </div>\n",
              "  "
            ]
          },
          "metadata": {},
          "execution_count": 53
        }
      ],
      "source": [
        "every_other = df.iloc[3::4]\n",
        "every_other"
      ]
    },
    {
      "cell_type": "markdown",
      "id": "b71778a5",
      "metadata": {
        "id": "b71778a5"
      },
      "source": [
        "## Exercise 8 - Data Selection and Statistics \n",
        "\n",
        "Perform `mean()`, and `min()`  for first 10 data points. \n",
        "\n",
        "*Hint: remember df.head(10) returns the first 10 rows of the DataFrame*"
      ]
    },
    {
      "cell_type": "code",
      "execution_count": null,
      "id": "a2c8a11d",
      "metadata": {
        "id": "a2c8a11d",
        "tags": [],
        "colab": {
          "base_uri": "https://localhost:8080/"
        },
        "outputId": "519bbd80-dccf-40fa-d2f0-6f0e6879ce9d"
      },
      "outputs": [
        {
          "output_type": "stream",
          "name": "stderr",
          "text": [
            "/usr/local/lib/python3.7/dist-packages/ipykernel_launcher.py:1: FutureWarning: Dropping of nuisance columns in DataFrame reductions (with 'numeric_only=None') is deprecated; in a future version this will raise TypeError.  Select only valid columns before calling the reduction.\n",
            "  \"\"\"Entry point for launching an IPython kernel.\n"
          ]
        },
        {
          "output_type": "execute_result",
          "data": {
            "text/plain": [
              "mpg         15.6\n",
              "cyl          8.0\n",
              "disp       374.9\n",
              "wgt       3879.7\n",
              "acc         10.3\n",
              "year        70.0\n",
              "origin       1.0\n",
              "dtype: float64"
            ]
          },
          "metadata": {},
          "execution_count": 55
        }
      ],
      "source": [
        "meanVals =  df[0:10].mean()\n",
        "meanVals"
      ]
    },
    {
      "cell_type": "code",
      "execution_count": null,
      "id": "8e06d0a8",
      "metadata": {
        "id": "8e06d0a8",
        "tags": [],
        "colab": {
          "base_uri": "https://localhost:8080/"
        },
        "outputId": "4736521f-59cd-4f4e-ee5e-78f44db89a41"
      },
      "outputs": [
        {
          "output_type": "execute_result",
          "data": {
            "text/plain": [
              "mpg                     14.0\n",
              "cyl                        8\n",
              "disp                   302.0\n",
              "hp                     130.0\n",
              "wgt                   3433.0\n",
              "acc                      8.5\n",
              "year                      70\n",
              "origin                     1\n",
              "name      amc ambassador dpl\n",
              "dtype: object"
            ]
          },
          "metadata": {},
          "execution_count": 56
        }
      ],
      "source": [
        "minVals = df[0:10].min()\n",
        "minVals"
      ]
    },
    {
      "cell_type": "markdown",
      "id": "83aaa529",
      "metadata": {
        "id": "83aaa529"
      },
      "source": [
        "## Exercise 9 - Data Selection and Statistics \n",
        "\n",
        "Group by column \"origin\" and find the median for the other variables. "
      ]
    },
    {
      "cell_type": "code",
      "execution_count": null,
      "id": "3ed4f78e",
      "metadata": {
        "id": "3ed4f78e",
        "tags": [],
        "colab": {
          "base_uri": "https://localhost:8080/",
          "height": 175
        },
        "outputId": "37873837-31ae-4ec3-8499-32cd2a60f888"
      },
      "outputs": [
        {
          "output_type": "execute_result",
          "data": {
            "text/plain": [
              "         mpg  cyl   disp     wgt   acc  year\n",
              "origin                                      \n",
              "1       18.5  6.0  250.0  3365.0  15.0  76.0\n",
              "2       26.5  4.0  104.5  2240.0  15.7  76.0\n",
              "3       31.6  4.0   97.0  2155.0  16.4  78.0"
            ],
            "text/html": [
              "\n",
              "  <div id=\"df-8bcf178f-c7ac-4773-aea5-f923e66422a8\">\n",
              "    <div class=\"colab-df-container\">\n",
              "      <div>\n",
              "<style scoped>\n",
              "    .dataframe tbody tr th:only-of-type {\n",
              "        vertical-align: middle;\n",
              "    }\n",
              "\n",
              "    .dataframe tbody tr th {\n",
              "        vertical-align: top;\n",
              "    }\n",
              "\n",
              "    .dataframe thead th {\n",
              "        text-align: right;\n",
              "    }\n",
              "</style>\n",
              "<table border=\"1\" class=\"dataframe\">\n",
              "  <thead>\n",
              "    <tr style=\"text-align: right;\">\n",
              "      <th></th>\n",
              "      <th>mpg</th>\n",
              "      <th>cyl</th>\n",
              "      <th>disp</th>\n",
              "      <th>wgt</th>\n",
              "      <th>acc</th>\n",
              "      <th>year</th>\n",
              "    </tr>\n",
              "    <tr>\n",
              "      <th>origin</th>\n",
              "      <th></th>\n",
              "      <th></th>\n",
              "      <th></th>\n",
              "      <th></th>\n",
              "      <th></th>\n",
              "      <th></th>\n",
              "    </tr>\n",
              "  </thead>\n",
              "  <tbody>\n",
              "    <tr>\n",
              "      <th>1</th>\n",
              "      <td>18.5</td>\n",
              "      <td>6.0</td>\n",
              "      <td>250.0</td>\n",
              "      <td>3365.0</td>\n",
              "      <td>15.0</td>\n",
              "      <td>76.0</td>\n",
              "    </tr>\n",
              "    <tr>\n",
              "      <th>2</th>\n",
              "      <td>26.5</td>\n",
              "      <td>4.0</td>\n",
              "      <td>104.5</td>\n",
              "      <td>2240.0</td>\n",
              "      <td>15.7</td>\n",
              "      <td>76.0</td>\n",
              "    </tr>\n",
              "    <tr>\n",
              "      <th>3</th>\n",
              "      <td>31.6</td>\n",
              "      <td>4.0</td>\n",
              "      <td>97.0</td>\n",
              "      <td>2155.0</td>\n",
              "      <td>16.4</td>\n",
              "      <td>78.0</td>\n",
              "    </tr>\n",
              "  </tbody>\n",
              "</table>\n",
              "</div>\n",
              "      <button class=\"colab-df-convert\" onclick=\"convertToInteractive('df-8bcf178f-c7ac-4773-aea5-f923e66422a8')\"\n",
              "              title=\"Convert this dataframe to an interactive table.\"\n",
              "              style=\"display:none;\">\n",
              "        \n",
              "  <svg xmlns=\"http://www.w3.org/2000/svg\" height=\"24px\"viewBox=\"0 0 24 24\"\n",
              "       width=\"24px\">\n",
              "    <path d=\"M0 0h24v24H0V0z\" fill=\"none\"/>\n",
              "    <path d=\"M18.56 5.44l.94 2.06.94-2.06 2.06-.94-2.06-.94-.94-2.06-.94 2.06-2.06.94zm-11 1L8.5 8.5l.94-2.06 2.06-.94-2.06-.94L8.5 2.5l-.94 2.06-2.06.94zm10 10l.94 2.06.94-2.06 2.06-.94-2.06-.94-.94-2.06-.94 2.06-2.06.94z\"/><path d=\"M17.41 7.96l-1.37-1.37c-.4-.4-.92-.59-1.43-.59-.52 0-1.04.2-1.43.59L10.3 9.45l-7.72 7.72c-.78.78-.78 2.05 0 2.83L4 21.41c.39.39.9.59 1.41.59.51 0 1.02-.2 1.41-.59l7.78-7.78 2.81-2.81c.8-.78.8-2.07 0-2.86zM5.41 20L4 18.59l7.72-7.72 1.47 1.35L5.41 20z\"/>\n",
              "  </svg>\n",
              "      </button>\n",
              "      \n",
              "  <style>\n",
              "    .colab-df-container {\n",
              "      display:flex;\n",
              "      flex-wrap:wrap;\n",
              "      gap: 12px;\n",
              "    }\n",
              "\n",
              "    .colab-df-convert {\n",
              "      background-color: #E8F0FE;\n",
              "      border: none;\n",
              "      border-radius: 50%;\n",
              "      cursor: pointer;\n",
              "      display: none;\n",
              "      fill: #1967D2;\n",
              "      height: 32px;\n",
              "      padding: 0 0 0 0;\n",
              "      width: 32px;\n",
              "    }\n",
              "\n",
              "    .colab-df-convert:hover {\n",
              "      background-color: #E2EBFA;\n",
              "      box-shadow: 0px 1px 2px rgba(60, 64, 67, 0.3), 0px 1px 3px 1px rgba(60, 64, 67, 0.15);\n",
              "      fill: #174EA6;\n",
              "    }\n",
              "\n",
              "    [theme=dark] .colab-df-convert {\n",
              "      background-color: #3B4455;\n",
              "      fill: #D2E3FC;\n",
              "    }\n",
              "\n",
              "    [theme=dark] .colab-df-convert:hover {\n",
              "      background-color: #434B5C;\n",
              "      box-shadow: 0px 1px 3px 1px rgba(0, 0, 0, 0.15);\n",
              "      filter: drop-shadow(0px 1px 2px rgba(0, 0, 0, 0.3));\n",
              "      fill: #FFFFFF;\n",
              "    }\n",
              "  </style>\n",
              "\n",
              "      <script>\n",
              "        const buttonEl =\n",
              "          document.querySelector('#df-8bcf178f-c7ac-4773-aea5-f923e66422a8 button.colab-df-convert');\n",
              "        buttonEl.style.display =\n",
              "          google.colab.kernel.accessAllowed ? 'block' : 'none';\n",
              "\n",
              "        async function convertToInteractive(key) {\n",
              "          const element = document.querySelector('#df-8bcf178f-c7ac-4773-aea5-f923e66422a8');\n",
              "          const dataTable =\n",
              "            await google.colab.kernel.invokeFunction('convertToInteractive',\n",
              "                                                     [key], {});\n",
              "          if (!dataTable) return;\n",
              "\n",
              "          const docLinkHtml = 'Like what you see? Visit the ' +\n",
              "            '<a target=\"_blank\" href=https://colab.research.google.com/notebooks/data_table.ipynb>data table notebook</a>'\n",
              "            + ' to learn more about interactive tables.';\n",
              "          element.innerHTML = '';\n",
              "          dataTable['output_type'] = 'display_data';\n",
              "          await google.colab.output.renderOutput(dataTable, element);\n",
              "          const docLink = document.createElement('div');\n",
              "          docLink.innerHTML = docLinkHtml;\n",
              "          element.appendChild(docLink);\n",
              "        }\n",
              "      </script>\n",
              "    </div>\n",
              "  </div>\n",
              "  "
            ]
          },
          "metadata": {},
          "execution_count": 59
        }
      ],
      "source": [
        "group =  df.groupby( \"origin\" ).median()\n",
        "group"
      ]
    },
    {
      "cell_type": "markdown",
      "id": "a60c0c19",
      "metadata": {
        "id": "a60c0c19",
        "tags": []
      },
      "source": [
        "## Exercise 10 - Data Selection and Statistics \n",
        "\n",
        "Find the mean performance (across all variables) of vehicles after 1975. "
      ]
    },
    {
      "cell_type": "code",
      "execution_count": null,
      "id": "151b337d",
      "metadata": {
        "id": "151b337d",
        "tags": [],
        "colab": {
          "base_uri": "https://localhost:8080/"
        },
        "outputId": "f5a7b6c0-bafe-4534-867b-dcdcf7d00faf"
      },
      "outputs": [
        {
          "output_type": "stream",
          "name": "stderr",
          "text": [
            "/usr/local/lib/python3.7/dist-packages/ipykernel_launcher.py:1: FutureWarning: Dropping of nuisance columns in DataFrame reductions (with 'numeric_only=None') is deprecated; in a future version this will raise TypeError.  Select only valid columns before calling the reduction.\n",
            "  \"\"\"Entry point for launching an IPython kernel.\n"
          ]
        },
        {
          "output_type": "execute_result",
          "data": {
            "text/plain": [
              "mpg         26.952778\n",
              "cyl          5.050926\n",
              "disp       165.541667\n",
              "wgt       2778.337963\n",
              "acc         16.118519\n",
              "year        78.935185\n",
              "origin       1.671296\n",
              "dtype: float64"
            ]
          },
          "metadata": {},
          "execution_count": 63
        }
      ],
      "source": [
        "mean_performance = df[df[\"year\"]>75].mean()\n",
        "mean_performance"
      ]
    },
    {
      "cell_type": "markdown",
      "id": "9e243a49",
      "metadata": {
        "id": "9e243a49"
      },
      "source": [
        "# Lab - Week 2\n",
        "\n",
        "\n",
        "In this lab, you will explore using the statistical functions, exploratory data visualization, and basic data cleaning. "
      ]
    },
    {
      "cell_type": "markdown",
      "id": "d304597c",
      "metadata": {
        "id": "d304597c"
      },
      "source": [
        "### Data \n",
        "\n",
        "You will again be using the Auto-MPG data set available on the UCI repository. \n",
        "\n",
        "https://archive.ics.uci.edu/ml/datasets/Auto+MPG\n",
        "\n"
      ]
    },
    {
      "cell_type": "markdown",
      "id": "1c113de4",
      "metadata": {
        "id": "1c113de4",
        "tags": []
      },
      "source": [
        "## Exercise 1 - Import Data \n",
        "You will want to create a function to import the data \n",
        "\n",
        "* Function should be named \"ImportData\" and take a url to the data as its input\n",
        "* Column names should be: 'mpg', 'cylinders', 'displacement', 'horsepower', 'weight', 'acceleration', 'model year', 'origin', 'car name'\n",
        "* Set the DataFrame index (the row labels) to 'car name'\n",
        "\n",
        "Helpful links: \n",
        "\n",
        "* https://pandas.pydata.org/pandas-docs/stable/generated/pandas.read_csv.html#pandas.read_csv\n",
        "* https://pandas.pydata.org/pandas-docs/stable/generated/pandas.read_table.html#pandas.read_table"
      ]
    },
    {
      "cell_type": "code",
      "execution_count": null,
      "id": "a574856e",
      "metadata": {
        "id": "a574856e",
        "tags": [],
        "colab": {
          "base_uri": "https://localhost:8080/",
          "height": 206
        },
        "outputId": "be0c2f85-a514-44e5-8870-4be4ba61ce63"
      },
      "outputs": [
        {
          "output_type": "execute_result",
          "data": {
            "text/plain": [
              "    mpg  cylinders  displacement horsepower  weight  acceleration  model year  \\\n",
              "0  18.0          8         307.0      130.0  3504.0          12.0          70   \n",
              "1  15.0          8         350.0      165.0  3693.0          11.5          70   \n",
              "2  18.0          8         318.0      150.0  3436.0          11.0          70   \n",
              "3  16.0          8         304.0      150.0  3433.0          12.0          70   \n",
              "4  17.0          8         302.0      140.0  3449.0          10.5          70   \n",
              "\n",
              "   origin                   car name  \n",
              "0       1  chevrolet chevelle malibu  \n",
              "1       1          buick skylark 320  \n",
              "2       1         plymouth satellite  \n",
              "3       1              amc rebel sst  \n",
              "4       1                ford torino  "
            ],
            "text/html": [
              "\n",
              "  <div id=\"df-70978903-33c3-4276-9222-b23cc5d5473d\">\n",
              "    <div class=\"colab-df-container\">\n",
              "      <div>\n",
              "<style scoped>\n",
              "    .dataframe tbody tr th:only-of-type {\n",
              "        vertical-align: middle;\n",
              "    }\n",
              "\n",
              "    .dataframe tbody tr th {\n",
              "        vertical-align: top;\n",
              "    }\n",
              "\n",
              "    .dataframe thead th {\n",
              "        text-align: right;\n",
              "    }\n",
              "</style>\n",
              "<table border=\"1\" class=\"dataframe\">\n",
              "  <thead>\n",
              "    <tr style=\"text-align: right;\">\n",
              "      <th></th>\n",
              "      <th>mpg</th>\n",
              "      <th>cylinders</th>\n",
              "      <th>displacement</th>\n",
              "      <th>horsepower</th>\n",
              "      <th>weight</th>\n",
              "      <th>acceleration</th>\n",
              "      <th>model year</th>\n",
              "      <th>origin</th>\n",
              "      <th>car name</th>\n",
              "    </tr>\n",
              "  </thead>\n",
              "  <tbody>\n",
              "    <tr>\n",
              "      <th>0</th>\n",
              "      <td>18.0</td>\n",
              "      <td>8</td>\n",
              "      <td>307.0</td>\n",
              "      <td>130.0</td>\n",
              "      <td>3504.0</td>\n",
              "      <td>12.0</td>\n",
              "      <td>70</td>\n",
              "      <td>1</td>\n",
              "      <td>chevrolet chevelle malibu</td>\n",
              "    </tr>\n",
              "    <tr>\n",
              "      <th>1</th>\n",
              "      <td>15.0</td>\n",
              "      <td>8</td>\n",
              "      <td>350.0</td>\n",
              "      <td>165.0</td>\n",
              "      <td>3693.0</td>\n",
              "      <td>11.5</td>\n",
              "      <td>70</td>\n",
              "      <td>1</td>\n",
              "      <td>buick skylark 320</td>\n",
              "    </tr>\n",
              "    <tr>\n",
              "      <th>2</th>\n",
              "      <td>18.0</td>\n",
              "      <td>8</td>\n",
              "      <td>318.0</td>\n",
              "      <td>150.0</td>\n",
              "      <td>3436.0</td>\n",
              "      <td>11.0</td>\n",
              "      <td>70</td>\n",
              "      <td>1</td>\n",
              "      <td>plymouth satellite</td>\n",
              "    </tr>\n",
              "    <tr>\n",
              "      <th>3</th>\n",
              "      <td>16.0</td>\n",
              "      <td>8</td>\n",
              "      <td>304.0</td>\n",
              "      <td>150.0</td>\n",
              "      <td>3433.0</td>\n",
              "      <td>12.0</td>\n",
              "      <td>70</td>\n",
              "      <td>1</td>\n",
              "      <td>amc rebel sst</td>\n",
              "    </tr>\n",
              "    <tr>\n",
              "      <th>4</th>\n",
              "      <td>17.0</td>\n",
              "      <td>8</td>\n",
              "      <td>302.0</td>\n",
              "      <td>140.0</td>\n",
              "      <td>3449.0</td>\n",
              "      <td>10.5</td>\n",
              "      <td>70</td>\n",
              "      <td>1</td>\n",
              "      <td>ford torino</td>\n",
              "    </tr>\n",
              "  </tbody>\n",
              "</table>\n",
              "</div>\n",
              "      <button class=\"colab-df-convert\" onclick=\"convertToInteractive('df-70978903-33c3-4276-9222-b23cc5d5473d')\"\n",
              "              title=\"Convert this dataframe to an interactive table.\"\n",
              "              style=\"display:none;\">\n",
              "        \n",
              "  <svg xmlns=\"http://www.w3.org/2000/svg\" height=\"24px\"viewBox=\"0 0 24 24\"\n",
              "       width=\"24px\">\n",
              "    <path d=\"M0 0h24v24H0V0z\" fill=\"none\"/>\n",
              "    <path d=\"M18.56 5.44l.94 2.06.94-2.06 2.06-.94-2.06-.94-.94-2.06-.94 2.06-2.06.94zm-11 1L8.5 8.5l.94-2.06 2.06-.94-2.06-.94L8.5 2.5l-.94 2.06-2.06.94zm10 10l.94 2.06.94-2.06 2.06-.94-2.06-.94-.94-2.06-.94 2.06-2.06.94z\"/><path d=\"M17.41 7.96l-1.37-1.37c-.4-.4-.92-.59-1.43-.59-.52 0-1.04.2-1.43.59L10.3 9.45l-7.72 7.72c-.78.78-.78 2.05 0 2.83L4 21.41c.39.39.9.59 1.41.59.51 0 1.02-.2 1.41-.59l7.78-7.78 2.81-2.81c.8-.78.8-2.07 0-2.86zM5.41 20L4 18.59l7.72-7.72 1.47 1.35L5.41 20z\"/>\n",
              "  </svg>\n",
              "      </button>\n",
              "      \n",
              "  <style>\n",
              "    .colab-df-container {\n",
              "      display:flex;\n",
              "      flex-wrap:wrap;\n",
              "      gap: 12px;\n",
              "    }\n",
              "\n",
              "    .colab-df-convert {\n",
              "      background-color: #E8F0FE;\n",
              "      border: none;\n",
              "      border-radius: 50%;\n",
              "      cursor: pointer;\n",
              "      display: none;\n",
              "      fill: #1967D2;\n",
              "      height: 32px;\n",
              "      padding: 0 0 0 0;\n",
              "      width: 32px;\n",
              "    }\n",
              "\n",
              "    .colab-df-convert:hover {\n",
              "      background-color: #E2EBFA;\n",
              "      box-shadow: 0px 1px 2px rgba(60, 64, 67, 0.3), 0px 1px 3px 1px rgba(60, 64, 67, 0.15);\n",
              "      fill: #174EA6;\n",
              "    }\n",
              "\n",
              "    [theme=dark] .colab-df-convert {\n",
              "      background-color: #3B4455;\n",
              "      fill: #D2E3FC;\n",
              "    }\n",
              "\n",
              "    [theme=dark] .colab-df-convert:hover {\n",
              "      background-color: #434B5C;\n",
              "      box-shadow: 0px 1px 3px 1px rgba(0, 0, 0, 0.15);\n",
              "      filter: drop-shadow(0px 1px 2px rgba(0, 0, 0, 0.3));\n",
              "      fill: #FFFFFF;\n",
              "    }\n",
              "  </style>\n",
              "\n",
              "      <script>\n",
              "        const buttonEl =\n",
              "          document.querySelector('#df-70978903-33c3-4276-9222-b23cc5d5473d button.colab-df-convert');\n",
              "        buttonEl.style.display =\n",
              "          google.colab.kernel.accessAllowed ? 'block' : 'none';\n",
              "\n",
              "        async function convertToInteractive(key) {\n",
              "          const element = document.querySelector('#df-70978903-33c3-4276-9222-b23cc5d5473d');\n",
              "          const dataTable =\n",
              "            await google.colab.kernel.invokeFunction('convertToInteractive',\n",
              "                                                     [key], {});\n",
              "          if (!dataTable) return;\n",
              "\n",
              "          const docLinkHtml = 'Like what you see? Visit the ' +\n",
              "            '<a target=\"_blank\" href=https://colab.research.google.com/notebooks/data_table.ipynb>data table notebook</a>'\n",
              "            + ' to learn more about interactive tables.';\n",
              "          element.innerHTML = '';\n",
              "          dataTable['output_type'] = 'display_data';\n",
              "          await google.colab.output.renderOutput(dataTable, element);\n",
              "          const docLink = document.createElement('div');\n",
              "          docLink.innerHTML = docLinkHtml;\n",
              "          element.appendChild(docLink);\n",
              "        }\n",
              "      </script>\n",
              "    </div>\n",
              "  </div>\n",
              "  "
            ]
          },
          "metadata": {},
          "execution_count": 65
        }
      ],
      "source": [
        "# Create the function ImportData here and return the data \n",
        "\n",
        "def ImportData(url):\n",
        "    # return the created DataFrame, df \n",
        "    df = pd.read_table(url,names=['mpg', 'cylinders', 'displacement', 'horsepower', 'weight', 'acceleration', 'model year', 'origin', 'car name'], sep = '\\s+') \n",
        "    return df\n",
        "\n",
        "url = 'https://archive.ics.uci.edu/ml/machine-learning-databases/auto-mpg/auto-mpg.data'  \n",
        "data = ImportData(url)\n",
        "data.head()"
      ]
    },
    {
      "cell_type": "code",
      "execution_count": null,
      "id": "943d0108",
      "metadata": {
        "id": "943d0108",
        "tags": [],
        "colab": {
          "base_uri": "https://localhost:8080/"
        },
        "outputId": "6fb79754-1e67-481e-a4bb-a67b8d7cdb03"
      },
      "outputs": [
        {
          "output_type": "execute_result",
          "data": {
            "text/plain": [
              "(398, 9)"
            ]
          },
          "metadata": {},
          "execution_count": 66
        }
      ],
      "source": [
        "data.shape"
      ]
    },
    {
      "cell_type": "markdown",
      "id": "19ee63c7",
      "metadata": {
        "id": "19ee63c7"
      },
      "source": [
        "## Exercise 2: Data Cleaning \n",
        "\n",
        "The data cleaning part will have multiple goals: to handle any missing data and to process the string data to remove spaces and replace with an underscore. \n",
        "\n",
        "You will create a function, named ColDataClean(data) that:\n",
        "\n",
        "* Identify any Null/NA/NaN entries in the DataFrame, print out what entries will be removed, and remove them \n",
        "* Change the column labels (headers) from all lower case to sentence case and then replace \"space\" with underscore, \"_\". Print the column headers before and after.\n",
        "* Change the DataFrame index (row labels) also be sentence case and replace all spaces with underscore"
      ]
    },
    {
      "cell_type": "code",
      "execution_count": null,
      "id": "829c28f6",
      "metadata": {
        "id": "829c28f6",
        "tags": [],
        "colab": {
          "base_uri": "https://localhost:8080/",
          "height": 1000
        },
        "outputId": "ac1709de-9a30-4849-865f-5619ebccd765"
      },
      "outputs": [
        {
          "output_type": "stream",
          "name": "stdout",
          "text": [
            "*** Removing null entries ***\n",
            "\n",
            "*** String Operations on Column Headers ***\n",
            "  Before:  Index(['mpg', 'cylinders', 'displacement', 'horsepower', 'weight',\n",
            "       'acceleration', 'model year', 'origin', 'car name'],\n",
            "      dtype='object')\n",
            "  Aftedata[data['hp'].isnull()].index.tolist()r:  Index(['Mpg', 'Cylinders', 'Displacement', 'Horsepower', 'Weight',\n",
            "       'Acceleration', 'Model_Year', 'Origin', 'Car_Name'],\n",
            "      dtype='object')\n",
            "*** String Operations on index strings *** \n"
          ]
        },
        {
          "output_type": "stream",
          "name": "stderr",
          "text": [
            "/usr/local/lib/python3.7/dist-packages/ipykernel_launcher.py:15: FutureWarning: The default value of regex will change from True to False in a future version.\n",
            "  from ipykernel import kernelapp as app\n",
            "/usr/local/lib/python3.7/dist-packages/ipykernel_launcher.py:19: FutureWarning: The default value of regex will change from True to False in a future version.\n"
          ]
        },
        {
          "output_type": "execute_result",
          "data": {
            "text/plain": [
              "                                    Mpg  Cylinders  Displacement Horsepower  \\\n",
              "Car_Name                                                                      \n",
              "Chevrolet_Cavalier_Wagon           27.0          4         112.0      88.00   \n",
              "Chevrolet_Cavalier_2-Door          34.0          4         112.0      88.00   \n",
              "Pontiac_J2000_Se_Hatchback         31.0          4         112.0      85.00   \n",
              "Dodge_Aries_Se                     29.0          4         135.0      84.00   \n",
              "Pontiac_Phoenix                    27.0          4         151.0      90.00   \n",
              "Ford_Fairmont_Futura               24.0          4         140.0      92.00   \n",
              "Amc_Concord_Dl                     23.0          4         151.0          ?   \n",
              "Volkswagen_Rabbit_L                36.0          4         105.0      74.00   \n",
              "Mazda_Glc_Custom_L                 37.0          4          91.0      68.00   \n",
              "Mazda_Glc_Custom                   31.0          4          91.0      68.00   \n",
              "Plymouth_Horizon_Miser             38.0          4         105.0      63.00   \n",
              "Mercury_Lynx_L                     36.0          4          98.0      70.00   \n",
              "Nissan_Stanza_Xe                   36.0          4         120.0      88.00   \n",
              "Honda_Accord                       36.0          4         107.0      75.00   \n",
              "Toyota_Corolla                     34.0          4         108.0      70.00   \n",
              "Honda_Civic                        38.0          4          91.0      67.00   \n",
              "Honda_Civic_(Auto)                 32.0          4          91.0      67.00   \n",
              "Datsun_310_Gx                      38.0          4          91.0      67.00   \n",
              "Buick_Century_Limited              25.0          6         181.0      110.0   \n",
              "Oldsmobile_Cutlass_Ciera_(Diesel)  38.0          6         262.0      85.00   \n",
              "Chrysler_Lebaron_Medallion         26.0          4         156.0      92.00   \n",
              "Ford_Granada_L                     22.0          6         232.0      112.0   \n",
              "Toyota_Celica_Gt                   32.0          4         144.0      96.00   \n",
              "Dodge_Charger_2.2                  36.0          4         135.0      84.00   \n",
              "Chevrolet_Camaro                   27.0          4         151.0      90.00   \n",
              "Ford_Mustang_Gl                    27.0          4         140.0      86.00   \n",
              "Vw_Pickup                          44.0          4          97.0      52.00   \n",
              "Dodge_Rampage                      32.0          4         135.0      84.00   \n",
              "Ford_Ranger                        28.0          4         120.0      79.00   \n",
              "Chevy_S-10                         31.0          4         119.0      82.00   \n",
              "\n",
              "                                   Weight  Acceleration  Model_Year  Origin  \\\n",
              "Car_Name                                                                      \n",
              "Chevrolet_Cavalier_Wagon           2640.0          18.6          82       1   \n",
              "Chevrolet_Cavalier_2-Door          2395.0          18.0          82       1   \n",
              "Pontiac_J2000_Se_Hatchback         2575.0          16.2          82       1   \n",
              "Dodge_Aries_Se                     2525.0          16.0          82       1   \n",
              "Pontiac_Phoenix                    2735.0          18.0          82       1   \n",
              "Ford_Fairmont_Futura               2865.0          16.4          82       1   \n",
              "Amc_Concord_Dl                     3035.0          20.5          82       1   \n",
              "Volkswagen_Rabbit_L                1980.0          15.3          82       2   \n",
              "Mazda_Glc_Custom_L                 2025.0          18.2          82       3   \n",
              "Mazda_Glc_Custom                   1970.0          17.6          82       3   \n",
              "Plymouth_Horizon_Miser             2125.0          14.7          82       1   \n",
              "Mercury_Lynx_L                     2125.0          17.3          82       1   \n",
              "Nissan_Stanza_Xe                   2160.0          14.5          82       3   \n",
              "Honda_Accord                       2205.0          14.5          82       3   \n",
              "Toyota_Corolla                     2245.0          16.9          82       3   \n",
              "Honda_Civic                        1965.0          15.0          82       3   \n",
              "Honda_Civic_(Auto)                 1965.0          15.7          82       3   \n",
              "Datsun_310_Gx                      1995.0          16.2          82       3   \n",
              "Buick_Century_Limited              2945.0          16.4          82       1   \n",
              "Oldsmobile_Cutlass_Ciera_(Diesel)  3015.0          17.0          82       1   \n",
              "Chrysler_Lebaron_Medallion         2585.0          14.5          82       1   \n",
              "Ford_Granada_L                     2835.0          14.7          82       1   \n",
              "Toyota_Celica_Gt                   2665.0          13.9          82       3   \n",
              "Dodge_Charger_2.2                  2370.0          13.0          82       1   \n",
              "Chevrolet_Camaro                   2950.0          17.3          82       1   \n",
              "Ford_Mustang_Gl                    2790.0          15.6          82       1   \n",
              "Vw_Pickup                          2130.0          24.6          82       2   \n",
              "Dodge_Rampage                      2295.0          11.6          82       1   \n",
              "Ford_Ranger                        2625.0          18.6          82       1   \n",
              "Chevy_S-10                         2720.0          19.4          82       1   \n",
              "\n",
              "                                                            Car_Name  \n",
              "Car_Name                                                              \n",
              "Chevrolet_Cavalier_Wagon                    Chevrolet_Cavalier_Wagon  \n",
              "Chevrolet_Cavalier_2-Door                  Chevrolet_Cavalier_2-Door  \n",
              "Pontiac_J2000_Se_Hatchback                Pontiac_J2000_Se_Hatchback  \n",
              "Dodge_Aries_Se                                        Dodge_Aries_Se  \n",
              "Pontiac_Phoenix                                      Pontiac_Phoenix  \n",
              "Ford_Fairmont_Futura                            Ford_Fairmont_Futura  \n",
              "Amc_Concord_Dl                                        Amc_Concord_Dl  \n",
              "Volkswagen_Rabbit_L                              Volkswagen_Rabbit_L  \n",
              "Mazda_Glc_Custom_L                                Mazda_Glc_Custom_L  \n",
              "Mazda_Glc_Custom                                    Mazda_Glc_Custom  \n",
              "Plymouth_Horizon_Miser                        Plymouth_Horizon_Miser  \n",
              "Mercury_Lynx_L                                        Mercury_Lynx_L  \n",
              "Nissan_Stanza_Xe                                    Nissan_Stanza_Xe  \n",
              "Honda_Accord                                            Honda_Accord  \n",
              "Toyota_Corolla                                        Toyota_Corolla  \n",
              "Honda_Civic                                              Honda_Civic  \n",
              "Honda_Civic_(Auto)                                Honda_Civic_(Auto)  \n",
              "Datsun_310_Gx                                          Datsun_310_Gx  \n",
              "Buick_Century_Limited                          Buick_Century_Limited  \n",
              "Oldsmobile_Cutlass_Ciera_(Diesel)  Oldsmobile_Cutlass_Ciera_(Diesel)  \n",
              "Chrysler_Lebaron_Medallion                Chrysler_Lebaron_Medallion  \n",
              "Ford_Granada_L                                        Ford_Granada_L  \n",
              "Toyota_Celica_Gt                                    Toyota_Celica_Gt  \n",
              "Dodge_Charger_2.2                                  Dodge_Charger_2.2  \n",
              "Chevrolet_Camaro                                    Chevrolet_Camaro  \n",
              "Ford_Mustang_Gl                                      Ford_Mustang_Gl  \n",
              "Vw_Pickup                                                  Vw_Pickup  \n",
              "Dodge_Rampage                                          Dodge_Rampage  \n",
              "Ford_Ranger                                              Ford_Ranger  \n",
              "Chevy_S-10                                                Chevy_S-10  "
            ],
            "text/html": [
              "\n",
              "  <div id=\"df-41e2ace2-3aca-436f-80e3-7c8887f5d5c6\">\n",
              "    <div class=\"colab-df-container\">\n",
              "      <div>\n",
              "<style scoped>\n",
              "    .dataframe tbody tr th:only-of-type {\n",
              "        vertical-align: middle;\n",
              "    }\n",
              "\n",
              "    .dataframe tbody tr th {\n",
              "        vertical-align: top;\n",
              "    }\n",
              "\n",
              "    .dataframe thead th {\n",
              "        text-align: right;\n",
              "    }\n",
              "</style>\n",
              "<table border=\"1\" class=\"dataframe\">\n",
              "  <thead>\n",
              "    <tr style=\"text-align: right;\">\n",
              "      <th></th>\n",
              "      <th>Mpg</th>\n",
              "      <th>Cylinders</th>\n",
              "      <th>Displacement</th>\n",
              "      <th>Horsepower</th>\n",
              "      <th>Weight</th>\n",
              "      <th>Acceleration</th>\n",
              "      <th>Model_Year</th>\n",
              "      <th>Origin</th>\n",
              "      <th>Car_Name</th>\n",
              "    </tr>\n",
              "    <tr>\n",
              "      <th>Car_Name</th>\n",
              "      <th></th>\n",
              "      <th></th>\n",
              "      <th></th>\n",
              "      <th></th>\n",
              "      <th></th>\n",
              "      <th></th>\n",
              "      <th></th>\n",
              "      <th></th>\n",
              "      <th></th>\n",
              "    </tr>\n",
              "  </thead>\n",
              "  <tbody>\n",
              "    <tr>\n",
              "      <th>Chevrolet_Cavalier_Wagon</th>\n",
              "      <td>27.0</td>\n",
              "      <td>4</td>\n",
              "      <td>112.0</td>\n",
              "      <td>88.00</td>\n",
              "      <td>2640.0</td>\n",
              "      <td>18.6</td>\n",
              "      <td>82</td>\n",
              "      <td>1</td>\n",
              "      <td>Chevrolet_Cavalier_Wagon</td>\n",
              "    </tr>\n",
              "    <tr>\n",
              "      <th>Chevrolet_Cavalier_2-Door</th>\n",
              "      <td>34.0</td>\n",
              "      <td>4</td>\n",
              "      <td>112.0</td>\n",
              "      <td>88.00</td>\n",
              "      <td>2395.0</td>\n",
              "      <td>18.0</td>\n",
              "      <td>82</td>\n",
              "      <td>1</td>\n",
              "      <td>Chevrolet_Cavalier_2-Door</td>\n",
              "    </tr>\n",
              "    <tr>\n",
              "      <th>Pontiac_J2000_Se_Hatchback</th>\n",
              "      <td>31.0</td>\n",
              "      <td>4</td>\n",
              "      <td>112.0</td>\n",
              "      <td>85.00</td>\n",
              "      <td>2575.0</td>\n",
              "      <td>16.2</td>\n",
              "      <td>82</td>\n",
              "      <td>1</td>\n",
              "      <td>Pontiac_J2000_Se_Hatchback</td>\n",
              "    </tr>\n",
              "    <tr>\n",
              "      <th>Dodge_Aries_Se</th>\n",
              "      <td>29.0</td>\n",
              "      <td>4</td>\n",
              "      <td>135.0</td>\n",
              "      <td>84.00</td>\n",
              "      <td>2525.0</td>\n",
              "      <td>16.0</td>\n",
              "      <td>82</td>\n",
              "      <td>1</td>\n",
              "      <td>Dodge_Aries_Se</td>\n",
              "    </tr>\n",
              "    <tr>\n",
              "      <th>Pontiac_Phoenix</th>\n",
              "      <td>27.0</td>\n",
              "      <td>4</td>\n",
              "      <td>151.0</td>\n",
              "      <td>90.00</td>\n",
              "      <td>2735.0</td>\n",
              "      <td>18.0</td>\n",
              "      <td>82</td>\n",
              "      <td>1</td>\n",
              "      <td>Pontiac_Phoenix</td>\n",
              "    </tr>\n",
              "    <tr>\n",
              "      <th>Ford_Fairmont_Futura</th>\n",
              "      <td>24.0</td>\n",
              "      <td>4</td>\n",
              "      <td>140.0</td>\n",
              "      <td>92.00</td>\n",
              "      <td>2865.0</td>\n",
              "      <td>16.4</td>\n",
              "      <td>82</td>\n",
              "      <td>1</td>\n",
              "      <td>Ford_Fairmont_Futura</td>\n",
              "    </tr>\n",
              "    <tr>\n",
              "      <th>Amc_Concord_Dl</th>\n",
              "      <td>23.0</td>\n",
              "      <td>4</td>\n",
              "      <td>151.0</td>\n",
              "      <td>?</td>\n",
              "      <td>3035.0</td>\n",
              "      <td>20.5</td>\n",
              "      <td>82</td>\n",
              "      <td>1</td>\n",
              "      <td>Amc_Concord_Dl</td>\n",
              "    </tr>\n",
              "    <tr>\n",
              "      <th>Volkswagen_Rabbit_L</th>\n",
              "      <td>36.0</td>\n",
              "      <td>4</td>\n",
              "      <td>105.0</td>\n",
              "      <td>74.00</td>\n",
              "      <td>1980.0</td>\n",
              "      <td>15.3</td>\n",
              "      <td>82</td>\n",
              "      <td>2</td>\n",
              "      <td>Volkswagen_Rabbit_L</td>\n",
              "    </tr>\n",
              "    <tr>\n",
              "      <th>Mazda_Glc_Custom_L</th>\n",
              "      <td>37.0</td>\n",
              "      <td>4</td>\n",
              "      <td>91.0</td>\n",
              "      <td>68.00</td>\n",
              "      <td>2025.0</td>\n",
              "      <td>18.2</td>\n",
              "      <td>82</td>\n",
              "      <td>3</td>\n",
              "      <td>Mazda_Glc_Custom_L</td>\n",
              "    </tr>\n",
              "    <tr>\n",
              "      <th>Mazda_Glc_Custom</th>\n",
              "      <td>31.0</td>\n",
              "      <td>4</td>\n",
              "      <td>91.0</td>\n",
              "      <td>68.00</td>\n",
              "      <td>1970.0</td>\n",
              "      <td>17.6</td>\n",
              "      <td>82</td>\n",
              "      <td>3</td>\n",
              "      <td>Mazda_Glc_Custom</td>\n",
              "    </tr>\n",
              "    <tr>\n",
              "      <th>Plymouth_Horizon_Miser</th>\n",
              "      <td>38.0</td>\n",
              "      <td>4</td>\n",
              "      <td>105.0</td>\n",
              "      <td>63.00</td>\n",
              "      <td>2125.0</td>\n",
              "      <td>14.7</td>\n",
              "      <td>82</td>\n",
              "      <td>1</td>\n",
              "      <td>Plymouth_Horizon_Miser</td>\n",
              "    </tr>\n",
              "    <tr>\n",
              "      <th>Mercury_Lynx_L</th>\n",
              "      <td>36.0</td>\n",
              "      <td>4</td>\n",
              "      <td>98.0</td>\n",
              "      <td>70.00</td>\n",
              "      <td>2125.0</td>\n",
              "      <td>17.3</td>\n",
              "      <td>82</td>\n",
              "      <td>1</td>\n",
              "      <td>Mercury_Lynx_L</td>\n",
              "    </tr>\n",
              "    <tr>\n",
              "      <th>Nissan_Stanza_Xe</th>\n",
              "      <td>36.0</td>\n",
              "      <td>4</td>\n",
              "      <td>120.0</td>\n",
              "      <td>88.00</td>\n",
              "      <td>2160.0</td>\n",
              "      <td>14.5</td>\n",
              "      <td>82</td>\n",
              "      <td>3</td>\n",
              "      <td>Nissan_Stanza_Xe</td>\n",
              "    </tr>\n",
              "    <tr>\n",
              "      <th>Honda_Accord</th>\n",
              "      <td>36.0</td>\n",
              "      <td>4</td>\n",
              "      <td>107.0</td>\n",
              "      <td>75.00</td>\n",
              "      <td>2205.0</td>\n",
              "      <td>14.5</td>\n",
              "      <td>82</td>\n",
              "      <td>3</td>\n",
              "      <td>Honda_Accord</td>\n",
              "    </tr>\n",
              "    <tr>\n",
              "      <th>Toyota_Corolla</th>\n",
              "      <td>34.0</td>\n",
              "      <td>4</td>\n",
              "      <td>108.0</td>\n",
              "      <td>70.00</td>\n",
              "      <td>2245.0</td>\n",
              "      <td>16.9</td>\n",
              "      <td>82</td>\n",
              "      <td>3</td>\n",
              "      <td>Toyota_Corolla</td>\n",
              "    </tr>\n",
              "    <tr>\n",
              "      <th>Honda_Civic</th>\n",
              "      <td>38.0</td>\n",
              "      <td>4</td>\n",
              "      <td>91.0</td>\n",
              "      <td>67.00</td>\n",
              "      <td>1965.0</td>\n",
              "      <td>15.0</td>\n",
              "      <td>82</td>\n",
              "      <td>3</td>\n",
              "      <td>Honda_Civic</td>\n",
              "    </tr>\n",
              "    <tr>\n",
              "      <th>Honda_Civic_(Auto)</th>\n",
              "      <td>32.0</td>\n",
              "      <td>4</td>\n",
              "      <td>91.0</td>\n",
              "      <td>67.00</td>\n",
              "      <td>1965.0</td>\n",
              "      <td>15.7</td>\n",
              "      <td>82</td>\n",
              "      <td>3</td>\n",
              "      <td>Honda_Civic_(Auto)</td>\n",
              "    </tr>\n",
              "    <tr>\n",
              "      <th>Datsun_310_Gx</th>\n",
              "      <td>38.0</td>\n",
              "      <td>4</td>\n",
              "      <td>91.0</td>\n",
              "      <td>67.00</td>\n",
              "      <td>1995.0</td>\n",
              "      <td>16.2</td>\n",
              "      <td>82</td>\n",
              "      <td>3</td>\n",
              "      <td>Datsun_310_Gx</td>\n",
              "    </tr>\n",
              "    <tr>\n",
              "      <th>Buick_Century_Limited</th>\n",
              "      <td>25.0</td>\n",
              "      <td>6</td>\n",
              "      <td>181.0</td>\n",
              "      <td>110.0</td>\n",
              "      <td>2945.0</td>\n",
              "      <td>16.4</td>\n",
              "      <td>82</td>\n",
              "      <td>1</td>\n",
              "      <td>Buick_Century_Limited</td>\n",
              "    </tr>\n",
              "    <tr>\n",
              "      <th>Oldsmobile_Cutlass_Ciera_(Diesel)</th>\n",
              "      <td>38.0</td>\n",
              "      <td>6</td>\n",
              "      <td>262.0</td>\n",
              "      <td>85.00</td>\n",
              "      <td>3015.0</td>\n",
              "      <td>17.0</td>\n",
              "      <td>82</td>\n",
              "      <td>1</td>\n",
              "      <td>Oldsmobile_Cutlass_Ciera_(Diesel)</td>\n",
              "    </tr>\n",
              "    <tr>\n",
              "      <th>Chrysler_Lebaron_Medallion</th>\n",
              "      <td>26.0</td>\n",
              "      <td>4</td>\n",
              "      <td>156.0</td>\n",
              "      <td>92.00</td>\n",
              "      <td>2585.0</td>\n",
              "      <td>14.5</td>\n",
              "      <td>82</td>\n",
              "      <td>1</td>\n",
              "      <td>Chrysler_Lebaron_Medallion</td>\n",
              "    </tr>\n",
              "    <tr>\n",
              "      <th>Ford_Granada_L</th>\n",
              "      <td>22.0</td>\n",
              "      <td>6</td>\n",
              "      <td>232.0</td>\n",
              "      <td>112.0</td>\n",
              "      <td>2835.0</td>\n",
              "      <td>14.7</td>\n",
              "      <td>82</td>\n",
              "      <td>1</td>\n",
              "      <td>Ford_Granada_L</td>\n",
              "    </tr>\n",
              "    <tr>\n",
              "      <th>Toyota_Celica_Gt</th>\n",
              "      <td>32.0</td>\n",
              "      <td>4</td>\n",
              "      <td>144.0</td>\n",
              "      <td>96.00</td>\n",
              "      <td>2665.0</td>\n",
              "      <td>13.9</td>\n",
              "      <td>82</td>\n",
              "      <td>3</td>\n",
              "      <td>Toyota_Celica_Gt</td>\n",
              "    </tr>\n",
              "    <tr>\n",
              "      <th>Dodge_Charger_2.2</th>\n",
              "      <td>36.0</td>\n",
              "      <td>4</td>\n",
              "      <td>135.0</td>\n",
              "      <td>84.00</td>\n",
              "      <td>2370.0</td>\n",
              "      <td>13.0</td>\n",
              "      <td>82</td>\n",
              "      <td>1</td>\n",
              "      <td>Dodge_Charger_2.2</td>\n",
              "    </tr>\n",
              "    <tr>\n",
              "      <th>Chevrolet_Camaro</th>\n",
              "      <td>27.0</td>\n",
              "      <td>4</td>\n",
              "      <td>151.0</td>\n",
              "      <td>90.00</td>\n",
              "      <td>2950.0</td>\n",
              "      <td>17.3</td>\n",
              "      <td>82</td>\n",
              "      <td>1</td>\n",
              "      <td>Chevrolet_Camaro</td>\n",
              "    </tr>\n",
              "    <tr>\n",
              "      <th>Ford_Mustang_Gl</th>\n",
              "      <td>27.0</td>\n",
              "      <td>4</td>\n",
              "      <td>140.0</td>\n",
              "      <td>86.00</td>\n",
              "      <td>2790.0</td>\n",
              "      <td>15.6</td>\n",
              "      <td>82</td>\n",
              "      <td>1</td>\n",
              "      <td>Ford_Mustang_Gl</td>\n",
              "    </tr>\n",
              "    <tr>\n",
              "      <th>Vw_Pickup</th>\n",
              "      <td>44.0</td>\n",
              "      <td>4</td>\n",
              "      <td>97.0</td>\n",
              "      <td>52.00</td>\n",
              "      <td>2130.0</td>\n",
              "      <td>24.6</td>\n",
              "      <td>82</td>\n",
              "      <td>2</td>\n",
              "      <td>Vw_Pickup</td>\n",
              "    </tr>\n",
              "    <tr>\n",
              "      <th>Dodge_Rampage</th>\n",
              "      <td>32.0</td>\n",
              "      <td>4</td>\n",
              "      <td>135.0</td>\n",
              "      <td>84.00</td>\n",
              "      <td>2295.0</td>\n",
              "      <td>11.6</td>\n",
              "      <td>82</td>\n",
              "      <td>1</td>\n",
              "      <td>Dodge_Rampage</td>\n",
              "    </tr>\n",
              "    <tr>\n",
              "      <th>Ford_Ranger</th>\n",
              "      <td>28.0</td>\n",
              "      <td>4</td>\n",
              "      <td>120.0</td>\n",
              "      <td>79.00</td>\n",
              "      <td>2625.0</td>\n",
              "      <td>18.6</td>\n",
              "      <td>82</td>\n",
              "      <td>1</td>\n",
              "      <td>Ford_Ranger</td>\n",
              "    </tr>\n",
              "    <tr>\n",
              "      <th>Chevy_S-10</th>\n",
              "      <td>31.0</td>\n",
              "      <td>4</td>\n",
              "      <td>119.0</td>\n",
              "      <td>82.00</td>\n",
              "      <td>2720.0</td>\n",
              "      <td>19.4</td>\n",
              "      <td>82</td>\n",
              "      <td>1</td>\n",
              "      <td>Chevy_S-10</td>\n",
              "    </tr>\n",
              "  </tbody>\n",
              "</table>\n",
              "</div>\n",
              "      <button class=\"colab-df-convert\" onclick=\"convertToInteractive('df-41e2ace2-3aca-436f-80e3-7c8887f5d5c6')\"\n",
              "              title=\"Convert this dataframe to an interactive table.\"\n",
              "              style=\"display:none;\">\n",
              "        \n",
              "  <svg xmlns=\"http://www.w3.org/2000/svg\" height=\"24px\"viewBox=\"0 0 24 24\"\n",
              "       width=\"24px\">\n",
              "    <path d=\"M0 0h24v24H0V0z\" fill=\"none\"/>\n",
              "    <path d=\"M18.56 5.44l.94 2.06.94-2.06 2.06-.94-2.06-.94-.94-2.06-.94 2.06-2.06.94zm-11 1L8.5 8.5l.94-2.06 2.06-.94-2.06-.94L8.5 2.5l-.94 2.06-2.06.94zm10 10l.94 2.06.94-2.06 2.06-.94-2.06-.94-.94-2.06-.94 2.06-2.06.94z\"/><path d=\"M17.41 7.96l-1.37-1.37c-.4-.4-.92-.59-1.43-.59-.52 0-1.04.2-1.43.59L10.3 9.45l-7.72 7.72c-.78.78-.78 2.05 0 2.83L4 21.41c.39.39.9.59 1.41.59.51 0 1.02-.2 1.41-.59l7.78-7.78 2.81-2.81c.8-.78.8-2.07 0-2.86zM5.41 20L4 18.59l7.72-7.72 1.47 1.35L5.41 20z\"/>\n",
              "  </svg>\n",
              "      </button>\n",
              "      \n",
              "  <style>\n",
              "    .colab-df-container {\n",
              "      display:flex;\n",
              "      flex-wrap:wrap;\n",
              "      gap: 12px;\n",
              "    }\n",
              "\n",
              "    .colab-df-convert {\n",
              "      background-color: #E8F0FE;\n",
              "      border: none;\n",
              "      border-radius: 50%;\n",
              "      cursor: pointer;\n",
              "      display: none;\n",
              "      fill: #1967D2;\n",
              "      height: 32px;\n",
              "      padding: 0 0 0 0;\n",
              "      width: 32px;\n",
              "    }\n",
              "\n",
              "    .colab-df-convert:hover {\n",
              "      background-color: #E2EBFA;\n",
              "      box-shadow: 0px 1px 2px rgba(60, 64, 67, 0.3), 0px 1px 3px 1px rgba(60, 64, 67, 0.15);\n",
              "      fill: #174EA6;\n",
              "    }\n",
              "\n",
              "    [theme=dark] .colab-df-convert {\n",
              "      background-color: #3B4455;\n",
              "      fill: #D2E3FC;\n",
              "    }\n",
              "\n",
              "    [theme=dark] .colab-df-convert:hover {\n",
              "      background-color: #434B5C;\n",
              "      box-shadow: 0px 1px 3px 1px rgba(0, 0, 0, 0.15);\n",
              "      filter: drop-shadow(0px 1px 2px rgba(0, 0, 0, 0.3));\n",
              "      fill: #FFFFFF;\n",
              "    }\n",
              "  </style>\n",
              "\n",
              "      <script>\n",
              "        const buttonEl =\n",
              "          document.querySelector('#df-41e2ace2-3aca-436f-80e3-7c8887f5d5c6 button.colab-df-convert');\n",
              "        buttonEl.style.display =\n",
              "          google.colab.kernel.accessAllowed ? 'block' : 'none';\n",
              "\n",
              "        async function convertToInteractive(key) {\n",
              "          const element = document.querySelector('#df-41e2ace2-3aca-436f-80e3-7c8887f5d5c6');\n",
              "          const dataTable =\n",
              "            await google.colab.kernel.invokeFunction('convertToInteractive',\n",
              "                                                     [key], {});\n",
              "          if (!dataTable) return;\n",
              "\n",
              "          const docLinkHtml = 'Like what you see? Visit the ' +\n",
              "            '<a target=\"_blank\" href=https://colab.research.google.com/notebooks/data_table.ipynb>data table notebook</a>'\n",
              "            + ' to learn more about interactive tables.';\n",
              "          element.innerHTML = '';\n",
              "          dataTable['output_type'] = 'display_data';\n",
              "          await google.colab.output.renderOutput(dataTable, element);\n",
              "          const docLink = document.createElement('div');\n",
              "          docLink.innerHTML = docLinkHtml;\n",
              "          element.appendChild(docLink);\n",
              "        }\n",
              "      </script>\n",
              "    </div>\n",
              "  </div>\n",
              "  "
            ]
          },
          "metadata": {},
          "execution_count": 72
        }
      ],
      "source": [
        "data.columns = ['mpg', 'cylinders', 'displacement', 'horsepower', 'weight', 'acceleration', 'model year', 'origin', 'car name']\n",
        "def ColDataClean(data):\n",
        "    # Identify, print, and remove any entries with Null / NA / NaN\n",
        "    #data.replace('?', np.NaN, inplace= True)\n",
        "    data[data['horsepower'].isnull()].index.tolist()\n",
        "    data.dropna(inplace=True)\n",
        "    print(\"*** Removing null entries ***\")\n",
        "    \n",
        "    print()\n",
        "    \n",
        "    \n",
        "    print(\"*** String Operations on Column Headers ***\")\n",
        "    print(\"  Before: \", data.columns)\n",
        "    data.reset_index(drop=True)\n",
        "    data.columns = data.columns.str.replace('\\s+','_')\n",
        "    data.columns = data.columns.str.title()\n",
        "    print(\"  Aftedata[data['hp'].isnull()].index.tolist()r: \", data.columns)\n",
        "    \n",
        "    data['Car_Name']= data['Car_Name'].str.replace('\\s+','_')\n",
        "    data['Car_Name'] = data['Car_Name'].str.title()\n",
        "    print(\"*** String Operations on index strings *** \")\n",
        "    return data\n",
        "ColDataClean(data)\n",
        "data = data.set_index('Car_Name')\n",
        "data['Car_Name'] = data.index\n",
        "data.tail(30)"
      ]
    },
    {
      "cell_type": "markdown",
      "id": "c1b640cf",
      "metadata": {
        "id": "c1b640cf"
      },
      "source": [
        "## Exercise 3: Data Cleaning and Manipulation \n",
        "\n",
        "Look at the types for each column of the DataFrame. "
      ]
    },
    {
      "cell_type": "code",
      "execution_count": null,
      "id": "18fb6030",
      "metadata": {
        "id": "18fb6030",
        "colab": {
          "base_uri": "https://localhost:8080/"
        },
        "outputId": "38ac6f5a-03a6-4217-ec71-f26b902b81ea"
      },
      "outputs": [
        {
          "output_type": "execute_result",
          "data": {
            "text/plain": [
              "Mpg             float64\n",
              "Cylinders         int64\n",
              "Displacement    float64\n",
              "Horsepower       object\n",
              "Weight          float64\n",
              "Acceleration    float64\n",
              "Model_Year        int64\n",
              "Origin            int64\n",
              "Car_Name         object\n",
              "dtype: object"
            ]
          },
          "metadata": {},
          "execution_count": 74
        }
      ],
      "source": [
        "data.dtypes"
      ]
    },
    {
      "cell_type": "markdown",
      "id": "070285a6",
      "metadata": {
        "id": "070285a6"
      },
      "source": [
        "Horsepower is considered an object.  But, really this should be a float.  Why is this a float?"
      ]
    },
    {
      "cell_type": "code",
      "execution_count": null,
      "id": "1a11078a",
      "metadata": {
        "id": "1a11078a",
        "colab": {
          "base_uri": "https://localhost:8080/",
          "height": 269
        },
        "outputId": "38398e36-df11-4b9e-9571-2044f6412edf"
      },
      "outputs": [
        {
          "output_type": "execute_result",
          "data": {
            "text/plain": [
              "                       Mpg  Cylinders  Displacement Horsepower  Weight  \\\n",
              "Car_Name                                                                 \n",
              "Ford_Pinto            25.0          4          98.0          ?  2046.0   \n",
              "Ford_Maverick         21.0          6         200.0          ?  2875.0   \n",
              "Renault_Lecar_Deluxe  40.9          4          85.0          ?  1835.0   \n",
              "Ford_Mustang_Cobra    23.6          4         140.0          ?  2905.0   \n",
              "Renault_18I           34.5          4         100.0          ?  2320.0   \n",
              "Amc_Concord_Dl        23.0          4         151.0          ?  3035.0   \n",
              "\n",
              "                      Acceleration  Model_Year  Origin              Car_Name  \n",
              "Car_Name                                                                      \n",
              "Ford_Pinto                    19.0          71       1            Ford_Pinto  \n",
              "Ford_Maverick                 17.0          74       1         Ford_Maverick  \n",
              "Renault_Lecar_Deluxe          17.3          80       2  Renault_Lecar_Deluxe  \n",
              "Ford_Mustang_Cobra            14.3          80       1    Ford_Mustang_Cobra  \n",
              "Renault_18I                   15.8          81       2           Renault_18I  \n",
              "Amc_Concord_Dl                20.5          82       1        Amc_Concord_Dl  "
            ],
            "text/html": [
              "\n",
              "  <div id=\"df-9583cd56-9e80-47d4-b6ff-afc033df6628\">\n",
              "    <div class=\"colab-df-container\">\n",
              "      <div>\n",
              "<style scoped>\n",
              "    .dataframe tbody tr th:only-of-type {\n",
              "        vertical-align: middle;\n",
              "    }\n",
              "\n",
              "    .dataframe tbody tr th {\n",
              "        vertical-align: top;\n",
              "    }\n",
              "\n",
              "    .dataframe thead th {\n",
              "        text-align: right;\n",
              "    }\n",
              "</style>\n",
              "<table border=\"1\" class=\"dataframe\">\n",
              "  <thead>\n",
              "    <tr style=\"text-align: right;\">\n",
              "      <th></th>\n",
              "      <th>Mpg</th>\n",
              "      <th>Cylinders</th>\n",
              "      <th>Displacement</th>\n",
              "      <th>Horsepower</th>\n",
              "      <th>Weight</th>\n",
              "      <th>Acceleration</th>\n",
              "      <th>Model_Year</th>\n",
              "      <th>Origin</th>\n",
              "      <th>Car_Name</th>\n",
              "    </tr>\n",
              "    <tr>\n",
              "      <th>Car_Name</th>\n",
              "      <th></th>\n",
              "      <th></th>\n",
              "      <th></th>\n",
              "      <th></th>\n",
              "      <th></th>\n",
              "      <th></th>\n",
              "      <th></th>\n",
              "      <th></th>\n",
              "      <th></th>\n",
              "    </tr>\n",
              "  </thead>\n",
              "  <tbody>\n",
              "    <tr>\n",
              "      <th>Ford_Pinto</th>\n",
              "      <td>25.0</td>\n",
              "      <td>4</td>\n",
              "      <td>98.0</td>\n",
              "      <td>?</td>\n",
              "      <td>2046.0</td>\n",
              "      <td>19.0</td>\n",
              "      <td>71</td>\n",
              "      <td>1</td>\n",
              "      <td>Ford_Pinto</td>\n",
              "    </tr>\n",
              "    <tr>\n",
              "      <th>Ford_Maverick</th>\n",
              "      <td>21.0</td>\n",
              "      <td>6</td>\n",
              "      <td>200.0</td>\n",
              "      <td>?</td>\n",
              "      <td>2875.0</td>\n",
              "      <td>17.0</td>\n",
              "      <td>74</td>\n",
              "      <td>1</td>\n",
              "      <td>Ford_Maverick</td>\n",
              "    </tr>\n",
              "    <tr>\n",
              "      <th>Renault_Lecar_Deluxe</th>\n",
              "      <td>40.9</td>\n",
              "      <td>4</td>\n",
              "      <td>85.0</td>\n",
              "      <td>?</td>\n",
              "      <td>1835.0</td>\n",
              "      <td>17.3</td>\n",
              "      <td>80</td>\n",
              "      <td>2</td>\n",
              "      <td>Renault_Lecar_Deluxe</td>\n",
              "    </tr>\n",
              "    <tr>\n",
              "      <th>Ford_Mustang_Cobra</th>\n",
              "      <td>23.6</td>\n",
              "      <td>4</td>\n",
              "      <td>140.0</td>\n",
              "      <td>?</td>\n",
              "      <td>2905.0</td>\n",
              "      <td>14.3</td>\n",
              "      <td>80</td>\n",
              "      <td>1</td>\n",
              "      <td>Ford_Mustang_Cobra</td>\n",
              "    </tr>\n",
              "    <tr>\n",
              "      <th>Renault_18I</th>\n",
              "      <td>34.5</td>\n",
              "      <td>4</td>\n",
              "      <td>100.0</td>\n",
              "      <td>?</td>\n",
              "      <td>2320.0</td>\n",
              "      <td>15.8</td>\n",
              "      <td>81</td>\n",
              "      <td>2</td>\n",
              "      <td>Renault_18I</td>\n",
              "    </tr>\n",
              "    <tr>\n",
              "      <th>Amc_Concord_Dl</th>\n",
              "      <td>23.0</td>\n",
              "      <td>4</td>\n",
              "      <td>151.0</td>\n",
              "      <td>?</td>\n",
              "      <td>3035.0</td>\n",
              "      <td>20.5</td>\n",
              "      <td>82</td>\n",
              "      <td>1</td>\n",
              "      <td>Amc_Concord_Dl</td>\n",
              "    </tr>\n",
              "  </tbody>\n",
              "</table>\n",
              "</div>\n",
              "      <button class=\"colab-df-convert\" onclick=\"convertToInteractive('df-9583cd56-9e80-47d4-b6ff-afc033df6628')\"\n",
              "              title=\"Convert this dataframe to an interactive table.\"\n",
              "              style=\"display:none;\">\n",
              "        \n",
              "  <svg xmlns=\"http://www.w3.org/2000/svg\" height=\"24px\"viewBox=\"0 0 24 24\"\n",
              "       width=\"24px\">\n",
              "    <path d=\"M0 0h24v24H0V0z\" fill=\"none\"/>\n",
              "    <path d=\"M18.56 5.44l.94 2.06.94-2.06 2.06-.94-2.06-.94-.94-2.06-.94 2.06-2.06.94zm-11 1L8.5 8.5l.94-2.06 2.06-.94-2.06-.94L8.5 2.5l-.94 2.06-2.06.94zm10 10l.94 2.06.94-2.06 2.06-.94-2.06-.94-.94-2.06-.94 2.06-2.06.94z\"/><path d=\"M17.41 7.96l-1.37-1.37c-.4-.4-.92-.59-1.43-.59-.52 0-1.04.2-1.43.59L10.3 9.45l-7.72 7.72c-.78.78-.78 2.05 0 2.83L4 21.41c.39.39.9.59 1.41.59.51 0 1.02-.2 1.41-.59l7.78-7.78 2.81-2.81c.8-.78.8-2.07 0-2.86zM5.41 20L4 18.59l7.72-7.72 1.47 1.35L5.41 20z\"/>\n",
              "  </svg>\n",
              "      </button>\n",
              "      \n",
              "  <style>\n",
              "    .colab-df-container {\n",
              "      display:flex;\n",
              "      flex-wrap:wrap;\n",
              "      gap: 12px;\n",
              "    }\n",
              "\n",
              "    .colab-df-convert {\n",
              "      background-color: #E8F0FE;\n",
              "      border: none;\n",
              "      border-radius: 50%;\n",
              "      cursor: pointer;\n",
              "      display: none;\n",
              "      fill: #1967D2;\n",
              "      height: 32px;\n",
              "      padding: 0 0 0 0;\n",
              "      width: 32px;\n",
              "    }\n",
              "\n",
              "    .colab-df-convert:hover {\n",
              "      background-color: #E2EBFA;\n",
              "      box-shadow: 0px 1px 2px rgba(60, 64, 67, 0.3), 0px 1px 3px 1px rgba(60, 64, 67, 0.15);\n",
              "      fill: #174EA6;\n",
              "    }\n",
              "\n",
              "    [theme=dark] .colab-df-convert {\n",
              "      background-color: #3B4455;\n",
              "      fill: #D2E3FC;\n",
              "    }\n",
              "\n",
              "    [theme=dark] .colab-df-convert:hover {\n",
              "      background-color: #434B5C;\n",
              "      box-shadow: 0px 1px 3px 1px rgba(0, 0, 0, 0.15);\n",
              "      filter: drop-shadow(0px 1px 2px rgba(0, 0, 0, 0.3));\n",
              "      fill: #FFFFFF;\n",
              "    }\n",
              "  </style>\n",
              "\n",
              "      <script>\n",
              "        const buttonEl =\n",
              "          document.querySelector('#df-9583cd56-9e80-47d4-b6ff-afc033df6628 button.colab-df-convert');\n",
              "        buttonEl.style.display =\n",
              "          google.colab.kernel.accessAllowed ? 'block' : 'none';\n",
              "\n",
              "        async function convertToInteractive(key) {\n",
              "          const element = document.querySelector('#df-9583cd56-9e80-47d4-b6ff-afc033df6628');\n",
              "          const dataTable =\n",
              "            await google.colab.kernel.invokeFunction('convertToInteractive',\n",
              "                                                     [key], {});\n",
              "          if (!dataTable) return;\n",
              "\n",
              "          const docLinkHtml = 'Like what you see? Visit the ' +\n",
              "            '<a target=\"_blank\" href=https://colab.research.google.com/notebooks/data_table.ipynb>data table notebook</a>'\n",
              "            + ' to learn more about interactive tables.';\n",
              "          element.innerHTML = '';\n",
              "          dataTable['output_type'] = 'display_data';\n",
              "          await google.colab.output.renderOutput(dataTable, element);\n",
              "          const docLink = document.createElement('div');\n",
              "          docLink.innerHTML = docLinkHtml;\n",
              "          element.appendChild(docLink);\n",
              "        }\n",
              "      </script>\n",
              "    </div>\n",
              "  </div>\n",
              "  "
            ]
          },
          "metadata": {},
          "execution_count": 75
        }
      ],
      "source": [
        "data[data[\"Horsepower\"] == '?']"
      ]
    },
    {
      "cell_type": "markdown",
      "id": "9991f157",
      "metadata": {
        "id": "9991f157"
      },
      "source": [
        "There are some missing values in this column that need to be handled.\n",
        "\n",
        "Create a function HandleHP(data, col), that changes all the \"?\" values to a replacement value 99 and converts the column to be a float.\n",
        "\n"
      ]
    },
    {
      "cell_type": "code",
      "execution_count": null,
      "id": "61ad6aae",
      "metadata": {
        "id": "61ad6aae",
        "tags": [],
        "colab": {
          "base_uri": "https://localhost:8080/"
        },
        "outputId": "8095b8d4-8b7c-4322-8261-0b31fe32786c"
      },
      "outputs": [
        {
          "output_type": "stream",
          "name": "stdout",
          "text": [
            "  Current data type is :  object\n",
            "  Changed data type is :  float64\n",
            "Mpg             float64\n",
            "Cylinders         int64\n",
            "Displacement    float64\n",
            "Horsepower      float64\n",
            "Weight          float64\n",
            "Acceleration    float64\n",
            "Model_Year        int64\n",
            "Origin            int64\n",
            "Car_Name         object\n",
            "dtype: object\n"
          ]
        },
        {
          "output_type": "stream",
          "name": "stderr",
          "text": [
            "/usr/local/lib/python3.7/dist-packages/ipykernel_launcher.py:5: FutureWarning: The default value of regex will change from True to False in a future version. In addition, single character regular expressions will *not* be treated as literal strings when regex=True.\n",
            "  \"\"\"\n"
          ]
        }
      ],
      "source": [
        "def HandleHp(data, col):\n",
        "    # Guarding \n",
        "    if (data[col].dtypes == 'object'):\n",
        "        print (\"  Current data type is : \", data[col].dtypes)\n",
        "        data['Horsepower'] = data['Horsepower'].str.replace('?','99')\n",
        "        data['Horsepower'] = pd.to_numeric(data['Horsepower'])\n",
        "        print (\"  Changed data type is : \", data[col].dtypes)\n",
        "        \n",
        "    return data \n",
        "\n",
        "HandleHp(data, 'Horsepower')\n",
        "print(data.dtypes)"
      ]
    },
    {
      "cell_type": "markdown",
      "id": "e18c7edf",
      "metadata": {
        "id": "e18c7edf",
        "tags": []
      },
      "source": [
        "## Exercise 4: Data Aggregation and Grouping \n",
        "\n",
        "Add two new columns for Kmpl (km per liter) and Kmpg (km per gallon). \n",
        "\n",
        "Note, the conversions are 1 mpg = 0.425144 kmpl  and 1 mpg = 1.609 kmpg."
      ]
    },
    {
      "cell_type": "markdown",
      "id": "dd94041b",
      "metadata": {
        "id": "dd94041b"
      },
      "source": [
        "_Type your answer here, replacing this text._"
      ]
    },
    {
      "cell_type": "code",
      "execution_count": null,
      "id": "f5dd53e5",
      "metadata": {
        "id": "f5dd53e5",
        "tags": [],
        "colab": {
          "base_uri": "https://localhost:8080/"
        },
        "outputId": "ecb3da3e-fdb7-4419-a1ca-a12d922b8eab"
      },
      "outputs": [
        {
          "output_type": "stream",
          "name": "stdout",
          "text": [
            "                            Mpg  Cylinders  Displacement  Horsepower  Weight  \\\n",
            "Car_Name                                                                       \n",
            "Chevrolet_Chevelle_Malibu  18.0          8         307.0       130.0  3504.0   \n",
            "Buick_Skylark_320          15.0          8         350.0       165.0  3693.0   \n",
            "Plymouth_Satellite         18.0          8         318.0       150.0  3436.0   \n",
            "Amc_Rebel_Sst              16.0          8         304.0       150.0  3433.0   \n",
            "Ford_Torino                17.0          8         302.0       140.0  3449.0   \n",
            "\n",
            "                           Acceleration  Model_Year  Origin  \\\n",
            "Car_Name                                                      \n",
            "Chevrolet_Chevelle_Malibu          12.0          70       1   \n",
            "Buick_Skylark_320                  11.5          70       1   \n",
            "Plymouth_Satellite                 11.0          70       1   \n",
            "Amc_Rebel_Sst                      12.0          70       1   \n",
            "Ford_Torino                        10.5          70       1   \n",
            "\n",
            "                                            Car_Name      Kmpl    Kmpg  \n",
            "Car_Name                                                                \n",
            "Chevrolet_Chevelle_Malibu  Chevrolet_Chevelle_Malibu  7.652592  28.962  \n",
            "Buick_Skylark_320                  Buick_Skylark_320  6.377160  24.135  \n",
            "Plymouth_Satellite                Plymouth_Satellite  7.652592  28.962  \n",
            "Amc_Rebel_Sst                          Amc_Rebel_Sst  6.802304  25.744  \n",
            "Ford_Torino                              Ford_Torino  7.227448  27.353  \n"
          ]
        }
      ],
      "source": [
        "#  Add two new columns\n",
        "data['Kmpl'] = data['Mpg']* 0.425144\n",
        "data['Kmpg'] = data['Mpg']*1.609\n",
        "print (data.head())"
      ]
    },
    {
      "cell_type": "code",
      "execution_count": null,
      "id": "3db6382e",
      "metadata": {
        "id": "3db6382e",
        "tags": [],
        "colab": {
          "base_uri": "https://localhost:8080/",
          "height": 772
        },
        "outputId": "700ab33c-dcf3-4342-e7f7-d575223aa2eb"
      },
      "outputs": [
        {
          "output_type": "execute_result",
          "data": {
            "text/plain": [
              "                               Mpg  Cylinders  Displacement  Horsepower  \\\n",
              "Car_Name                                                                  \n",
              "Chevrolet_Chevelle_Malibu     18.0          8         307.0       130.0   \n",
              "Buick_Skylark_320             15.0          8         350.0       165.0   \n",
              "Plymouth_Satellite            18.0          8         318.0       150.0   \n",
              "Amc_Rebel_Sst                 16.0          8         304.0       150.0   \n",
              "Ford_Torino                   17.0          8         302.0       140.0   \n",
              "Ford_Galaxie_500              15.0          8         429.0       198.0   \n",
              "Chevrolet_Impala              14.0          8         454.0       220.0   \n",
              "Plymouth_Fury_Iii             14.0          8         440.0       215.0   \n",
              "Pontiac_Catalina              14.0          8         455.0       225.0   \n",
              "Amc_Ambassador_Dpl            15.0          8         390.0       190.0   \n",
              "Dodge_Challenger_Se           15.0          8         383.0       170.0   \n",
              "Plymouth_'Cuda_340            14.0          8         340.0       160.0   \n",
              "Chevrolet_Monte_Carlo         15.0          8         400.0       150.0   \n",
              "Buick_Estate_Wagon_(Sw)       14.0          8         455.0       225.0   \n",
              "Toyota_Corona_Mark_Ii         24.0          4         113.0        95.0   \n",
              "Plymouth_Duster               22.0          6         198.0        95.0   \n",
              "Amc_Hornet                    18.0          6         199.0        97.0   \n",
              "Ford_Maverick                 21.0          6         200.0        85.0   \n",
              "Datsun_Pl510                  27.0          4          97.0        88.0   \n",
              "Volkswagen_1131_Deluxe_Sedan  26.0          4          97.0        46.0   \n",
              "\n",
              "                              Weight  Acceleration  Model_Year  Origin  \\\n",
              "Car_Name                                                                 \n",
              "Chevrolet_Chevelle_Malibu     3504.0          12.0          70       1   \n",
              "Buick_Skylark_320             3693.0          11.5          70       1   \n",
              "Plymouth_Satellite            3436.0          11.0          70       1   \n",
              "Amc_Rebel_Sst                 3433.0          12.0          70       1   \n",
              "Ford_Torino                   3449.0          10.5          70       1   \n",
              "Ford_Galaxie_500              4341.0          10.0          70       1   \n",
              "Chevrolet_Impala              4354.0           9.0          70       1   \n",
              "Plymouth_Fury_Iii             4312.0           8.5          70       1   \n",
              "Pontiac_Catalina              4425.0          10.0          70       1   \n",
              "Amc_Ambassador_Dpl            3850.0           8.5          70       1   \n",
              "Dodge_Challenger_Se           3563.0          10.0          70       1   \n",
              "Plymouth_'Cuda_340            3609.0           8.0          70       1   \n",
              "Chevrolet_Monte_Carlo         3761.0           9.5          70       1   \n",
              "Buick_Estate_Wagon_(Sw)       3086.0          10.0          70       1   \n",
              "Toyota_Corona_Mark_Ii         2372.0          15.0          70       3   \n",
              "Plymouth_Duster               2833.0          15.5          70       1   \n",
              "Amc_Hornet                    2774.0          15.5          70       1   \n",
              "Ford_Maverick                 2587.0          16.0          70       1   \n",
              "Datsun_Pl510                  2130.0          14.5          70       3   \n",
              "Volkswagen_1131_Deluxe_Sedan  1835.0          20.5          70       2   \n",
              "\n",
              "                                                  Car_Name       Kmpl    Kmpg  \\\n",
              "Car_Name                                                                        \n",
              "Chevrolet_Chevelle_Malibu        Chevrolet_Chevelle_Malibu   7.652592  28.962   \n",
              "Buick_Skylark_320                        Buick_Skylark_320   6.377160  24.135   \n",
              "Plymouth_Satellite                      Plymouth_Satellite   7.652592  28.962   \n",
              "Amc_Rebel_Sst                                Amc_Rebel_Sst   6.802304  25.744   \n",
              "Ford_Torino                                    Ford_Torino   7.227448  27.353   \n",
              "Ford_Galaxie_500                          Ford_Galaxie_500   6.377160  24.135   \n",
              "Chevrolet_Impala                          Chevrolet_Impala   5.952016  22.526   \n",
              "Plymouth_Fury_Iii                        Plymouth_Fury_Iii   5.952016  22.526   \n",
              "Pontiac_Catalina                          Pontiac_Catalina   5.952016  22.526   \n",
              "Amc_Ambassador_Dpl                      Amc_Ambassador_Dpl   6.377160  24.135   \n",
              "Dodge_Challenger_Se                    Dodge_Challenger_Se   6.377160  24.135   \n",
              "Plymouth_'Cuda_340                      Plymouth_'Cuda_340   5.952016  22.526   \n",
              "Chevrolet_Monte_Carlo                Chevrolet_Monte_Carlo   6.377160  24.135   \n",
              "Buick_Estate_Wagon_(Sw)            Buick_Estate_Wagon_(Sw)   5.952016  22.526   \n",
              "Toyota_Corona_Mark_Ii                Toyota_Corona_Mark_Ii  10.203456  38.616   \n",
              "Plymouth_Duster                            Plymouth_Duster   9.353168  35.398   \n",
              "Amc_Hornet                                      Amc_Hornet   7.652592  28.962   \n",
              "Ford_Maverick                                Ford_Maverick   8.928024  33.789   \n",
              "Datsun_Pl510                                  Datsun_Pl510  11.478888  43.443   \n",
              "Volkswagen_1131_Deluxe_Sedan  Volkswagen_1131_Deluxe_Sedan  11.053744  41.834   \n",
              "\n",
              "                             Region_Origin  \n",
              "Car_Name                                    \n",
              "Chevrolet_Chevelle_Malibu              USA  \n",
              "Buick_Skylark_320                      USA  \n",
              "Plymouth_Satellite                     USA  \n",
              "Amc_Rebel_Sst                          USA  \n",
              "Ford_Torino                            USA  \n",
              "Ford_Galaxie_500                       USA  \n",
              "Chevrolet_Impala                       USA  \n",
              "Plymouth_Fury_Iii                      USA  \n",
              "Pontiac_Catalina                       USA  \n",
              "Amc_Ambassador_Dpl                     USA  \n",
              "Dodge_Challenger_Se                    USA  \n",
              "Plymouth_'Cuda_340                     USA  \n",
              "Chevrolet_Monte_Carlo                  USA  \n",
              "Buick_Estate_Wagon_(Sw)                USA  \n",
              "Toyota_Corona_Mark_Ii                 Asia  \n",
              "Plymouth_Duster                        USA  \n",
              "Amc_Hornet                             USA  \n",
              "Ford_Maverick                          USA  \n",
              "Datsun_Pl510                          Asia  \n",
              "Volkswagen_1131_Deluxe_Sedan        Europe  "
            ],
            "text/html": [
              "\n",
              "  <div id=\"df-6fced126-151c-4301-abdc-46428b457ec3\">\n",
              "    <div class=\"colab-df-container\">\n",
              "      <div>\n",
              "<style scoped>\n",
              "    .dataframe tbody tr th:only-of-type {\n",
              "        vertical-align: middle;\n",
              "    }\n",
              "\n",
              "    .dataframe tbody tr th {\n",
              "        vertical-align: top;\n",
              "    }\n",
              "\n",
              "    .dataframe thead th {\n",
              "        text-align: right;\n",
              "    }\n",
              "</style>\n",
              "<table border=\"1\" class=\"dataframe\">\n",
              "  <thead>\n",
              "    <tr style=\"text-align: right;\">\n",
              "      <th></th>\n",
              "      <th>Mpg</th>\n",
              "      <th>Cylinders</th>\n",
              "      <th>Displacement</th>\n",
              "      <th>Horsepower</th>\n",
              "      <th>Weight</th>\n",
              "      <th>Acceleration</th>\n",
              "      <th>Model_Year</th>\n",
              "      <th>Origin</th>\n",
              "      <th>Car_Name</th>\n",
              "      <th>Kmpl</th>\n",
              "      <th>Kmpg</th>\n",
              "      <th>Region_Origin</th>\n",
              "    </tr>\n",
              "    <tr>\n",
              "      <th>Car_Name</th>\n",
              "      <th></th>\n",
              "      <th></th>\n",
              "      <th></th>\n",
              "      <th></th>\n",
              "      <th></th>\n",
              "      <th></th>\n",
              "      <th></th>\n",
              "      <th></th>\n",
              "      <th></th>\n",
              "      <th></th>\n",
              "      <th></th>\n",
              "      <th></th>\n",
              "    </tr>\n",
              "  </thead>\n",
              "  <tbody>\n",
              "    <tr>\n",
              "      <th>Chevrolet_Chevelle_Malibu</th>\n",
              "      <td>18.0</td>\n",
              "      <td>8</td>\n",
              "      <td>307.0</td>\n",
              "      <td>130.0</td>\n",
              "      <td>3504.0</td>\n",
              "      <td>12.0</td>\n",
              "      <td>70</td>\n",
              "      <td>1</td>\n",
              "      <td>Chevrolet_Chevelle_Malibu</td>\n",
              "      <td>7.652592</td>\n",
              "      <td>28.962</td>\n",
              "      <td>USA</td>\n",
              "    </tr>\n",
              "    <tr>\n",
              "      <th>Buick_Skylark_320</th>\n",
              "      <td>15.0</td>\n",
              "      <td>8</td>\n",
              "      <td>350.0</td>\n",
              "      <td>165.0</td>\n",
              "      <td>3693.0</td>\n",
              "      <td>11.5</td>\n",
              "      <td>70</td>\n",
              "      <td>1</td>\n",
              "      <td>Buick_Skylark_320</td>\n",
              "      <td>6.377160</td>\n",
              "      <td>24.135</td>\n",
              "      <td>USA</td>\n",
              "    </tr>\n",
              "    <tr>\n",
              "      <th>Plymouth_Satellite</th>\n",
              "      <td>18.0</td>\n",
              "      <td>8</td>\n",
              "      <td>318.0</td>\n",
              "      <td>150.0</td>\n",
              "      <td>3436.0</td>\n",
              "      <td>11.0</td>\n",
              "      <td>70</td>\n",
              "      <td>1</td>\n",
              "      <td>Plymouth_Satellite</td>\n",
              "      <td>7.652592</td>\n",
              "      <td>28.962</td>\n",
              "      <td>USA</td>\n",
              "    </tr>\n",
              "    <tr>\n",
              "      <th>Amc_Rebel_Sst</th>\n",
              "      <td>16.0</td>\n",
              "      <td>8</td>\n",
              "      <td>304.0</td>\n",
              "      <td>150.0</td>\n",
              "      <td>3433.0</td>\n",
              "      <td>12.0</td>\n",
              "      <td>70</td>\n",
              "      <td>1</td>\n",
              "      <td>Amc_Rebel_Sst</td>\n",
              "      <td>6.802304</td>\n",
              "      <td>25.744</td>\n",
              "      <td>USA</td>\n",
              "    </tr>\n",
              "    <tr>\n",
              "      <th>Ford_Torino</th>\n",
              "      <td>17.0</td>\n",
              "      <td>8</td>\n",
              "      <td>302.0</td>\n",
              "      <td>140.0</td>\n",
              "      <td>3449.0</td>\n",
              "      <td>10.5</td>\n",
              "      <td>70</td>\n",
              "      <td>1</td>\n",
              "      <td>Ford_Torino</td>\n",
              "      <td>7.227448</td>\n",
              "      <td>27.353</td>\n",
              "      <td>USA</td>\n",
              "    </tr>\n",
              "    <tr>\n",
              "      <th>Ford_Galaxie_500</th>\n",
              "      <td>15.0</td>\n",
              "      <td>8</td>\n",
              "      <td>429.0</td>\n",
              "      <td>198.0</td>\n",
              "      <td>4341.0</td>\n",
              "      <td>10.0</td>\n",
              "      <td>70</td>\n",
              "      <td>1</td>\n",
              "      <td>Ford_Galaxie_500</td>\n",
              "      <td>6.377160</td>\n",
              "      <td>24.135</td>\n",
              "      <td>USA</td>\n",
              "    </tr>\n",
              "    <tr>\n",
              "      <th>Chevrolet_Impala</th>\n",
              "      <td>14.0</td>\n",
              "      <td>8</td>\n",
              "      <td>454.0</td>\n",
              "      <td>220.0</td>\n",
              "      <td>4354.0</td>\n",
              "      <td>9.0</td>\n",
              "      <td>70</td>\n",
              "      <td>1</td>\n",
              "      <td>Chevrolet_Impala</td>\n",
              "      <td>5.952016</td>\n",
              "      <td>22.526</td>\n",
              "      <td>USA</td>\n",
              "    </tr>\n",
              "    <tr>\n",
              "      <th>Plymouth_Fury_Iii</th>\n",
              "      <td>14.0</td>\n",
              "      <td>8</td>\n",
              "      <td>440.0</td>\n",
              "      <td>215.0</td>\n",
              "      <td>4312.0</td>\n",
              "      <td>8.5</td>\n",
              "      <td>70</td>\n",
              "      <td>1</td>\n",
              "      <td>Plymouth_Fury_Iii</td>\n",
              "      <td>5.952016</td>\n",
              "      <td>22.526</td>\n",
              "      <td>USA</td>\n",
              "    </tr>\n",
              "    <tr>\n",
              "      <th>Pontiac_Catalina</th>\n",
              "      <td>14.0</td>\n",
              "      <td>8</td>\n",
              "      <td>455.0</td>\n",
              "      <td>225.0</td>\n",
              "      <td>4425.0</td>\n",
              "      <td>10.0</td>\n",
              "      <td>70</td>\n",
              "      <td>1</td>\n",
              "      <td>Pontiac_Catalina</td>\n",
              "      <td>5.952016</td>\n",
              "      <td>22.526</td>\n",
              "      <td>USA</td>\n",
              "    </tr>\n",
              "    <tr>\n",
              "      <th>Amc_Ambassador_Dpl</th>\n",
              "      <td>15.0</td>\n",
              "      <td>8</td>\n",
              "      <td>390.0</td>\n",
              "      <td>190.0</td>\n",
              "      <td>3850.0</td>\n",
              "      <td>8.5</td>\n",
              "      <td>70</td>\n",
              "      <td>1</td>\n",
              "      <td>Amc_Ambassador_Dpl</td>\n",
              "      <td>6.377160</td>\n",
              "      <td>24.135</td>\n",
              "      <td>USA</td>\n",
              "    </tr>\n",
              "    <tr>\n",
              "      <th>Dodge_Challenger_Se</th>\n",
              "      <td>15.0</td>\n",
              "      <td>8</td>\n",
              "      <td>383.0</td>\n",
              "      <td>170.0</td>\n",
              "      <td>3563.0</td>\n",
              "      <td>10.0</td>\n",
              "      <td>70</td>\n",
              "      <td>1</td>\n",
              "      <td>Dodge_Challenger_Se</td>\n",
              "      <td>6.377160</td>\n",
              "      <td>24.135</td>\n",
              "      <td>USA</td>\n",
              "    </tr>\n",
              "    <tr>\n",
              "      <th>Plymouth_'Cuda_340</th>\n",
              "      <td>14.0</td>\n",
              "      <td>8</td>\n",
              "      <td>340.0</td>\n",
              "      <td>160.0</td>\n",
              "      <td>3609.0</td>\n",
              "      <td>8.0</td>\n",
              "      <td>70</td>\n",
              "      <td>1</td>\n",
              "      <td>Plymouth_'Cuda_340</td>\n",
              "      <td>5.952016</td>\n",
              "      <td>22.526</td>\n",
              "      <td>USA</td>\n",
              "    </tr>\n",
              "    <tr>\n",
              "      <th>Chevrolet_Monte_Carlo</th>\n",
              "      <td>15.0</td>\n",
              "      <td>8</td>\n",
              "      <td>400.0</td>\n",
              "      <td>150.0</td>\n",
              "      <td>3761.0</td>\n",
              "      <td>9.5</td>\n",
              "      <td>70</td>\n",
              "      <td>1</td>\n",
              "      <td>Chevrolet_Monte_Carlo</td>\n",
              "      <td>6.377160</td>\n",
              "      <td>24.135</td>\n",
              "      <td>USA</td>\n",
              "    </tr>\n",
              "    <tr>\n",
              "      <th>Buick_Estate_Wagon_(Sw)</th>\n",
              "      <td>14.0</td>\n",
              "      <td>8</td>\n",
              "      <td>455.0</td>\n",
              "      <td>225.0</td>\n",
              "      <td>3086.0</td>\n",
              "      <td>10.0</td>\n",
              "      <td>70</td>\n",
              "      <td>1</td>\n",
              "      <td>Buick_Estate_Wagon_(Sw)</td>\n",
              "      <td>5.952016</td>\n",
              "      <td>22.526</td>\n",
              "      <td>USA</td>\n",
              "    </tr>\n",
              "    <tr>\n",
              "      <th>Toyota_Corona_Mark_Ii</th>\n",
              "      <td>24.0</td>\n",
              "      <td>4</td>\n",
              "      <td>113.0</td>\n",
              "      <td>95.0</td>\n",
              "      <td>2372.0</td>\n",
              "      <td>15.0</td>\n",
              "      <td>70</td>\n",
              "      <td>3</td>\n",
              "      <td>Toyota_Corona_Mark_Ii</td>\n",
              "      <td>10.203456</td>\n",
              "      <td>38.616</td>\n",
              "      <td>Asia</td>\n",
              "    </tr>\n",
              "    <tr>\n",
              "      <th>Plymouth_Duster</th>\n",
              "      <td>22.0</td>\n",
              "      <td>6</td>\n",
              "      <td>198.0</td>\n",
              "      <td>95.0</td>\n",
              "      <td>2833.0</td>\n",
              "      <td>15.5</td>\n",
              "      <td>70</td>\n",
              "      <td>1</td>\n",
              "      <td>Plymouth_Duster</td>\n",
              "      <td>9.353168</td>\n",
              "      <td>35.398</td>\n",
              "      <td>USA</td>\n",
              "    </tr>\n",
              "    <tr>\n",
              "      <th>Amc_Hornet</th>\n",
              "      <td>18.0</td>\n",
              "      <td>6</td>\n",
              "      <td>199.0</td>\n",
              "      <td>97.0</td>\n",
              "      <td>2774.0</td>\n",
              "      <td>15.5</td>\n",
              "      <td>70</td>\n",
              "      <td>1</td>\n",
              "      <td>Amc_Hornet</td>\n",
              "      <td>7.652592</td>\n",
              "      <td>28.962</td>\n",
              "      <td>USA</td>\n",
              "    </tr>\n",
              "    <tr>\n",
              "      <th>Ford_Maverick</th>\n",
              "      <td>21.0</td>\n",
              "      <td>6</td>\n",
              "      <td>200.0</td>\n",
              "      <td>85.0</td>\n",
              "      <td>2587.0</td>\n",
              "      <td>16.0</td>\n",
              "      <td>70</td>\n",
              "      <td>1</td>\n",
              "      <td>Ford_Maverick</td>\n",
              "      <td>8.928024</td>\n",
              "      <td>33.789</td>\n",
              "      <td>USA</td>\n",
              "    </tr>\n",
              "    <tr>\n",
              "      <th>Datsun_Pl510</th>\n",
              "      <td>27.0</td>\n",
              "      <td>4</td>\n",
              "      <td>97.0</td>\n",
              "      <td>88.0</td>\n",
              "      <td>2130.0</td>\n",
              "      <td>14.5</td>\n",
              "      <td>70</td>\n",
              "      <td>3</td>\n",
              "      <td>Datsun_Pl510</td>\n",
              "      <td>11.478888</td>\n",
              "      <td>43.443</td>\n",
              "      <td>Asia</td>\n",
              "    </tr>\n",
              "    <tr>\n",
              "      <th>Volkswagen_1131_Deluxe_Sedan</th>\n",
              "      <td>26.0</td>\n",
              "      <td>4</td>\n",
              "      <td>97.0</td>\n",
              "      <td>46.0</td>\n",
              "      <td>1835.0</td>\n",
              "      <td>20.5</td>\n",
              "      <td>70</td>\n",
              "      <td>2</td>\n",
              "      <td>Volkswagen_1131_Deluxe_Sedan</td>\n",
              "      <td>11.053744</td>\n",
              "      <td>41.834</td>\n",
              "      <td>Europe</td>\n",
              "    </tr>\n",
              "  </tbody>\n",
              "</table>\n",
              "</div>\n",
              "      <button class=\"colab-df-convert\" onclick=\"convertToInteractive('df-6fced126-151c-4301-abdc-46428b457ec3')\"\n",
              "              title=\"Convert this dataframe to an interactive table.\"\n",
              "              style=\"display:none;\">\n",
              "        \n",
              "  <svg xmlns=\"http://www.w3.org/2000/svg\" height=\"24px\"viewBox=\"0 0 24 24\"\n",
              "       width=\"24px\">\n",
              "    <path d=\"M0 0h24v24H0V0z\" fill=\"none\"/>\n",
              "    <path d=\"M18.56 5.44l.94 2.06.94-2.06 2.06-.94-2.06-.94-.94-2.06-.94 2.06-2.06.94zm-11 1L8.5 8.5l.94-2.06 2.06-.94-2.06-.94L8.5 2.5l-.94 2.06-2.06.94zm10 10l.94 2.06.94-2.06 2.06-.94-2.06-.94-.94-2.06-.94 2.06-2.06.94z\"/><path d=\"M17.41 7.96l-1.37-1.37c-.4-.4-.92-.59-1.43-.59-.52 0-1.04.2-1.43.59L10.3 9.45l-7.72 7.72c-.78.78-.78 2.05 0 2.83L4 21.41c.39.39.9.59 1.41.59.51 0 1.02-.2 1.41-.59l7.78-7.78 2.81-2.81c.8-.78.8-2.07 0-2.86zM5.41 20L4 18.59l7.72-7.72 1.47 1.35L5.41 20z\"/>\n",
              "  </svg>\n",
              "      </button>\n",
              "      \n",
              "  <style>\n",
              "    .colab-df-container {\n",
              "      display:flex;\n",
              "      flex-wrap:wrap;\n",
              "      gap: 12px;\n",
              "    }\n",
              "\n",
              "    .colab-df-convert {\n",
              "      background-color: #E8F0FE;\n",
              "      border: none;\n",
              "      border-radius: 50%;\n",
              "      cursor: pointer;\n",
              "      display: none;\n",
              "      fill: #1967D2;\n",
              "      height: 32px;\n",
              "      padding: 0 0 0 0;\n",
              "      width: 32px;\n",
              "    }\n",
              "\n",
              "    .colab-df-convert:hover {\n",
              "      background-color: #E2EBFA;\n",
              "      box-shadow: 0px 1px 2px rgba(60, 64, 67, 0.3), 0px 1px 3px 1px rgba(60, 64, 67, 0.15);\n",
              "      fill: #174EA6;\n",
              "    }\n",
              "\n",
              "    [theme=dark] .colab-df-convert {\n",
              "      background-color: #3B4455;\n",
              "      fill: #D2E3FC;\n",
              "    }\n",
              "\n",
              "    [theme=dark] .colab-df-convert:hover {\n",
              "      background-color: #434B5C;\n",
              "      box-shadow: 0px 1px 3px 1px rgba(0, 0, 0, 0.15);\n",
              "      filter: drop-shadow(0px 1px 2px rgba(0, 0, 0, 0.3));\n",
              "      fill: #FFFFFF;\n",
              "    }\n",
              "  </style>\n",
              "\n",
              "      <script>\n",
              "        const buttonEl =\n",
              "          document.querySelector('#df-6fced126-151c-4301-abdc-46428b457ec3 button.colab-df-convert');\n",
              "        buttonEl.style.display =\n",
              "          google.colab.kernel.accessAllowed ? 'block' : 'none';\n",
              "\n",
              "        async function convertToInteractive(key) {\n",
              "          const element = document.querySelector('#df-6fced126-151c-4301-abdc-46428b457ec3');\n",
              "          const dataTable =\n",
              "            await google.colab.kernel.invokeFunction('convertToInteractive',\n",
              "                                                     [key], {});\n",
              "          if (!dataTable) return;\n",
              "\n",
              "          const docLinkHtml = 'Like what you see? Visit the ' +\n",
              "            '<a target=\"_blank\" href=https://colab.research.google.com/notebooks/data_table.ipynb>data table notebook</a>'\n",
              "            + ' to learn more about interactive tables.';\n",
              "          element.innerHTML = '';\n",
              "          dataTable['output_type'] = 'display_data';\n",
              "          await google.colab.output.renderOutput(dataTable, element);\n",
              "          const docLink = document.createElement('div');\n",
              "          docLink.innerHTML = docLinkHtml;\n",
              "          element.appendChild(docLink);\n",
              "        }\n",
              "      </script>\n",
              "    </div>\n",
              "  </div>\n",
              "  "
            ]
          },
          "metadata": {},
          "execution_count": 83
        }
      ],
      "source": [
        "# Add Region_Origin column \n",
        "data.loc[data[\"Origin\"] == 1, \"Region_Origin\"] = 'USA'\n",
        "data.loc[data[\"Origin\"] == 2, \"Region_Origin\"] = 'Europe'\n",
        "data.loc[data[\"Origin\"] == 3, \"Region_Origin\"] = 'Asia'\n",
        "data.head(20)"
      ]
    },
    {
      "cell_type": "markdown",
      "id": "e741555b",
      "metadata": {
        "id": "e741555b",
        "tags": []
      },
      "source": [
        "## Exercise 5: Grouping \n",
        "\n",
        "Let's create a number of different groups for the data set. \n",
        "\n",
        "* Group 1 - group by 'region origin' \n",
        "* Group 2 - group by 'model year' \n",
        "* Group 3 - group by 'model year' and 'region origin' \n",
        "\n",
        "Let's look at these groups iterating with for loops"
      ]
    },
    {
      "cell_type": "code",
      "execution_count": null,
      "id": "fa2a2824",
      "metadata": {
        "id": "fa2a2824",
        "tags": [],
        "colab": {
          "base_uri": "https://localhost:8080/"
        },
        "outputId": "cc086ef3-37e3-4f0b-93e8-d193830445cd"
      },
      "outputs": [
        {
          "output_type": "stream",
          "name": "stdout",
          "text": [
            "Asia\n",
            "*** Start \n",
            "                        Mpg  Cylinders  Displacement  Horsepower  Weight  \\\n",
            "Car_Name                                                                   \n",
            "Toyota_Corona_Mark_Ii  24.0          4         113.0        95.0  2372.0   \n",
            "Datsun_Pl510           27.0          4          97.0        88.0  2130.0   \n",
            "Datsun_Pl510           27.0          4          97.0        88.0  2130.0   \n",
            "Toyota_Corona          25.0          4         113.0        95.0  2228.0   \n",
            "\n",
            "                       Acceleration  Model_Year  Origin  \\\n",
            "Car_Name                                                  \n",
            "Toyota_Corona_Mark_Ii          15.0          70       3   \n",
            "Datsun_Pl510                   14.5          70       3   \n",
            "Datsun_Pl510                   14.5          71       3   \n",
            "Toyota_Corona                  14.0          71       3   \n",
            "\n",
            "                                    Car_Name       Kmpl    Kmpg Region_Origin  \n",
            "Car_Name                                                                       \n",
            "Toyota_Corona_Mark_Ii  Toyota_Corona_Mark_Ii  10.203456  38.616          Asia  \n",
            "Datsun_Pl510                    Datsun_Pl510  11.478888  43.443          Asia  \n",
            "Datsun_Pl510                    Datsun_Pl510  11.478888  43.443          Asia  \n",
            "Toyota_Corona                  Toyota_Corona  10.628600  40.225          Asia  \n",
            "*** End \n",
            "Europe\n",
            "*** Start \n",
            "                               Mpg  Cylinders  Displacement  Horsepower  \\\n",
            "Car_Name                                                                  \n",
            "Volkswagen_1131_Deluxe_Sedan  26.0          4          97.0        46.0   \n",
            "Peugeot_504                   25.0          4         110.0        87.0   \n",
            "Audi_100_Ls                   24.0          4         107.0        90.0   \n",
            "Saab_99E                      25.0          4         104.0        95.0   \n",
            "\n",
            "                              Weight  Acceleration  Model_Year  Origin  \\\n",
            "Car_Name                                                                 \n",
            "Volkswagen_1131_Deluxe_Sedan  1835.0          20.5          70       2   \n",
            "Peugeot_504                   2672.0          17.5          70       2   \n",
            "Audi_100_Ls                   2430.0          14.5          70       2   \n",
            "Saab_99E                      2375.0          17.5          70       2   \n",
            "\n",
            "                                                  Car_Name       Kmpl    Kmpg  \\\n",
            "Car_Name                                                                        \n",
            "Volkswagen_1131_Deluxe_Sedan  Volkswagen_1131_Deluxe_Sedan  11.053744  41.834   \n",
            "Peugeot_504                                    Peugeot_504  10.628600  40.225   \n",
            "Audi_100_Ls                                    Audi_100_Ls  10.203456  38.616   \n",
            "Saab_99E                                          Saab_99E  10.628600  40.225   \n",
            "\n",
            "                             Region_Origin  \n",
            "Car_Name                                    \n",
            "Volkswagen_1131_Deluxe_Sedan        Europe  \n",
            "Peugeot_504                         Europe  \n",
            "Audi_100_Ls                         Europe  \n",
            "Saab_99E                            Europe  \n",
            "*** End \n",
            "USA\n",
            "*** Start \n",
            "                            Mpg  Cylinders  Displacement  Horsepower  Weight  \\\n",
            "Car_Name                                                                       \n",
            "Chevrolet_Chevelle_Malibu  18.0          8         307.0       130.0  3504.0   \n",
            "Buick_Skylark_320          15.0          8         350.0       165.0  3693.0   \n",
            "Plymouth_Satellite         18.0          8         318.0       150.0  3436.0   \n",
            "Amc_Rebel_Sst              16.0          8         304.0       150.0  3433.0   \n",
            "\n",
            "                           Acceleration  Model_Year  Origin  \\\n",
            "Car_Name                                                      \n",
            "Chevrolet_Chevelle_Malibu          12.0          70       1   \n",
            "Buick_Skylark_320                  11.5          70       1   \n",
            "Plymouth_Satellite                 11.0          70       1   \n",
            "Amc_Rebel_Sst                      12.0          70       1   \n",
            "\n",
            "                                            Car_Name      Kmpl    Kmpg  \\\n",
            "Car_Name                                                                 \n",
            "Chevrolet_Chevelle_Malibu  Chevrolet_Chevelle_Malibu  7.652592  28.962   \n",
            "Buick_Skylark_320                  Buick_Skylark_320  6.377160  24.135   \n",
            "Plymouth_Satellite                Plymouth_Satellite  7.652592  28.962   \n",
            "Amc_Rebel_Sst                          Amc_Rebel_Sst  6.802304  25.744   \n",
            "\n",
            "                          Region_Origin  \n",
            "Car_Name                                 \n",
            "Chevrolet_Chevelle_Malibu           USA  \n",
            "Buick_Skylark_320                   USA  \n",
            "Plymouth_Satellite                  USA  \n",
            "Amc_Rebel_Sst                       USA  \n",
            "*** End \n"
          ]
        }
      ],
      "source": [
        "# Create groups \n",
        "\n",
        "group1 = data.groupby('Region_Origin')\n",
        "group2 = data.groupby('Model_Year')\n",
        "group3 = data.groupby(['Model_Year','Region_Origin'])\n",
        "\n",
        "\n",
        "# Print the data from Group 2 with a for loop \n",
        "#  restrict ourselves to only printing 4 cars in each group. \n",
        "\n",
        "for x, group in group1:\n",
        "    print (x)\n",
        "    print (\"*** Start \")\n",
        "    print (group.head(4))\n",
        "    print (\"*** End \")\n"
      ]
    },
    {
      "cell_type": "markdown",
      "id": "ccca6e73",
      "metadata": {
        "id": "ccca6e73"
      },
      "source": [
        "<!-- BEGIN QUESTION -->\n",
        "\n",
        "## Exercise 6: Data Exploration and Analysis \n",
        "\n",
        "Create a function `plot_mpg()` that reports the mpg over a grouping.  Consider using line, bar, scatter plots.  \n",
        "\n",
        "The function should: \n",
        "\n",
        "* take as input a DataFrame group \n",
        "* report mpg over the group \n",
        "* make sure the plot looks good and has labels "
      ]
    },
    {
      "cell_type": "code",
      "execution_count": null,
      "id": "6c0ec71d",
      "metadata": {
        "id": "6c0ec71d",
        "tags": [],
        "colab": {
          "base_uri": "https://localhost:8080/",
          "height": 1000
        },
        "outputId": "b0c81158-d567-4d23-fc94-427131c4538f"
      },
      "outputs": [
        {
          "output_type": "display_data",
          "data": {
            "text/plain": [
              "<Figure size 1800x720 with 1 Axes>"
            ],
            "image/png": "[encoded data removed]"
          },
          "metadata": {
            "needs_background": "light"
          }
        },
        {
          "output_type": "display_data",
          "data": {
            "text/plain": [
              "<Figure size 1800x720 with 1 Axes>"
            ],
            "image/png": "[encoded data removed]"
          },
          "metadata": {
            "needs_background": "light"
          }
        },
        {
          "output_type": "display_data",
          "data": {
            "text/plain": [
              "<Figure size 1800x720 with 1 Axes>"
            ],
            "image/png": "[encoded data removed]"
          },
          "metadata": {
            "needs_background": "light"
          }
        }
      ],
      "source": [
        "def plot_mpg(my_group):\n",
        "    \n",
        "    my_group.plot(legend =True, title='group1',figsize=(25,10));\n",
        "    \n",
        "    return \n",
        "\n",
        "\n",
        "plot_mpg(group1)"
      ]
    }
  ],
  "metadata": {
    "kernelspec": {
      "display_name": "un5550f22",
      "language": "python",
      "name": "un5550f22"
    },
    "language_info": {
      "codemirror_mode": {
        "name": "ipython",
        "version": 3
      },
      "file_extension": ".py",
      "mimetype": "text/x-python",
      "name": "python",
      "nbconvert_exporter": "python",
      "pygments_lexer": "ipython3",
      "version": "3.7.11"
    },
    "otter": {
      "OK_FORMAT": true,
      "tests": {
        "q1": {
          "name": "q1",
          "points": null,
          "suites": [
            {
              "cases": [
                {
                  "code": ">>> assert class_length == 34\n",
                  "hidden": false,
                  "locked": false
                },
                {
                  "code": ">>> assert class_split == ['Introduction', 'to', 'Data', 'Science']\n",
                  "hidden": false,
                  "locked": false
                },
                {
                  "code": ">>> assert className2 == 'Introduction  to   Data Science'\n",
                  "hidden": false,
                  "locked": false
                }
              ],
              "scored": true,
              "setup": "",
              "teardown": "",
              "type": "doctest"
            }
          ]
        },
        "q10": {
          "name": "q10",
          "points": null,
          "suites": [
            {
              "cases": [
                {
                  "code": ">>> np.isclose(mean_performance[0],26.952778) and np.isclose(mean_performance[1],5.050926) and \\\n... np.isclose(mean_performance[2],165.541667) and np.isclose(mean_performance[3],2778.337963) and \\\n... np.isclose(mean_performance[4],16.118519) and np.isclose(mean_performance[5],78.935185) and \\\n... np.isclose(mean_performance[6],1.671296)\nTrue",
                  "hidden": false,
                  "locked": false
                }
              ],
              "scored": true,
              "setup": "",
              "teardown": "",
              "type": "doctest"
            }
          ]
        },
        "q11": {
          "name": "q11",
          "points": [
            0.5,
            0.5,
            1
          ],
          "suites": [
            {
              "cases": [
                {
                  "code": ">>> data.iloc[0,0] == 18.0 and data.iloc[0,8] == 'chevrolet chevelle malibu'\nTrue",
                  "hidden": false,
                  "locked": false
                },
                {
                  "code": ">>> data.iloc[4,0] == 17.0 and data.iloc[4,8] == 'ford torino'\nTrue",
                  "hidden": false,
                  "locked": false
                },
                {
                  "code": ">>> data.shape[0]==398 and data.shape[1]==9\nTrue",
                  "hidden": false,
                  "locked": false
                }
              ],
              "scored": true,
              "setup": "",
              "teardown": "",
              "type": "doctest"
            }
          ]
        },
        "q12": {
          "name": "q12",
          "points": [
            1,
            1,
            1
          ],
          "suites": [
            {
              "cases": [
                {
                  "code": ">>> data.isnull().values.any() == False\nTrue",
                  "hidden": false,
                  "locked": false
                },
                {
                  "code": ">>> data.columns[6] =='Model_Year' and data.columns[8] =='Car_Name'\nTrue",
                  "hidden": false,
                  "locked": false
                },
                {
                  "code": ">>> data.index[0] =='Chevrolet_Chevelle_Malibu' and data.index[4] =='Ford_Torino'\nTrue",
                  "hidden": false,
                  "locked": false
                }
              ],
              "scored": true,
              "setup": "",
              "teardown": "",
              "type": "doctest"
            }
          ]
        },
        "q13": {
          "name": "q13",
          "points": [
            1,
            1
          ],
          "suites": [
            {
              "cases": [
                {
                  "code": ">>> data[\"Horsepower\"].values.any() != '?'\nTrue",
                  "hidden": false,
                  "locked": false
                },
                {
                  "code": ">>> data['Horsepower'].dtypes=='float64'\nTrue",
                  "hidden": false,
                  "locked": false
                }
              ],
              "scored": true,
              "setup": "",
              "teardown": "",
              "type": "doctest"
            }
          ]
        },
        "q14": {
          "name": "q14",
          "points": [
            1,
            1,
            1
          ],
          "suites": [
            {
              "cases": [
                {
                  "code": ">>> data.iloc[0,9] == 7.652592 and data.iloc[0,10] == 28.962\nTrue",
                  "hidden": false,
                  "locked": false
                },
                {
                  "code": ">>> data.iloc[1,9] == 6.377160 and np.isclose(data.iloc[1,10], 24.135)\nTrue",
                  "hidden": false,
                  "locked": false
                },
                {
                  "code": ">>> data['Region_Origin'].values.any() not in [1,2,3] and \\\n... data['Region_Origin'].values.any() in ['USA', 'Europe', 'Asia']\nTrue",
                  "hidden": false,
                  "locked": false
                }
              ],
              "scored": true,
              "setup": "",
              "teardown": "",
              "type": "doctest"
            }
          ]
        },
        "q15": {
          "name": "q15",
          "points": [
            2
          ],
          "suites": [
            {
              "cases": [
                {
                  "code": ">>> total_gp = [x for x, group in group2]\n>>> total_gp == [70, 71, 72, 73, 74, 75, 76, 77, 78, 79, 80, 81, 82]\nTrue",
                  "hidden": false,
                  "locked": false
                }
              ],
              "scored": true,
              "setup": "",
              "teardown": "",
              "type": "doctest"
            }
          ]
        },
        "q3": {
          "name": "q3",
          "points": null,
          "suites": [
            {
              "cases": [
                {
                  "code": ">>> df.shape[0]==398\nTrue",
                  "hidden": false,
                  "locked": false
                },
                {
                  "code": ">>> df.shape[1]==9 \nTrue",
                  "hidden": false,
                  "locked": false
                }
              ],
              "scored": true,
              "setup": "",
              "teardown": "",
              "type": "doctest"
            }
          ]
        },
        "q4": {
          "name": "q4",
          "points": null,
          "suites": [
            {
              "cases": [
                {
                  "code": ">>> rows==398 \nTrue",
                  "hidden": false,
                  "locked": false
                },
                {
                  "code": ">>> columns==9\nTrue",
                  "hidden": false,
                  "locked": false
                },
                {
                  "code": ">>> dfColumnsNames[0] == 'mpg'\nTrue",
                  "hidden": false,
                  "locked": false
                },
                {
                  "code": ">>> dfColumnsNames[-1] == 'name'\nTrue",
                  "hidden": false,
                  "locked": false
                }
              ],
              "scored": true,
              "setup": "",
              "teardown": "",
              "type": "doctest"
            }
          ]
        },
        "q5": {
          "name": "q5",
          "points": null,
          "suites": [
            {
              "cases": [
                {
                  "code": ">>> first_3_rows.iloc[0,0] == 18.0 and first_3_rows.iloc[2,0] == 18.0\nTrue",
                  "hidden": false,
                  "locked": false
                },
                {
                  "code": ">>> first_3_rows.iloc[0,-1] == 'chevrolet chevelle malibu' and \\\n... first_3_rows.iloc[2,-1] == 'plymouth satellite'\nTrue",
                  "hidden": false,
                  "locked": false
                },
                {
                  "code": ">>> last_8_rows.iloc[0,-1] == 'toyota celica gt' and last_8_rows.iloc[7,-1] == 'chevy s-10'\nTrue",
                  "hidden": false,
                  "locked": false
                },
                {
                  "code": ">>> last_8_rows.iloc[0,0] == 32.0 and last_8_rows.iloc[7,0] == 31.0\nTrue",
                  "hidden": false,
                  "locked": false
                }
              ],
              "scored": true,
              "setup": "",
              "teardown": "",
              "type": "doctest"
            }
          ]
        },
        "q6": {
          "name": "q6",
          "points": null,
          "suites": [
            {
              "cases": [
                {
                  "code": ">>> hp[0] == '130.0' and hp[1] == '165.0' and hp[393] == '86.00' and hp[397] == '82.00'\nTrue",
                  "hidden": false,
                  "locked": false
                },
                {
                  "code": ">>> cyl_and_disp.iloc[0,0] == 8 and cyl_and_disp.iloc[0,1] == 307.0 and \\\n... cyl_and_disp.iloc[4,0] == 8 and cyl_and_disp.iloc[4,1] == 302.0\nTrue",
                  "hidden": false,
                  "locked": false
                }
              ],
              "scored": true,
              "setup": "",
              "teardown": "",
              "type": "doctest"
            }
          ]
        },
        "q7": {
          "name": "q7",
          "points": null,
          "suites": [
            {
              "cases": [
                {
                  "code": ">>> index_7[0] == 14.0 and index_7[7] == 1 \nTrue",
                  "hidden": false,
                  "locked": false
                },
                {
                  "code": ">>> row_4_5.iloc[0,0] == 16.0 and row_4_5.iloc[1,0] == 17.0 and \\\n... row_4_5.iloc[0,-1] == 'amc rebel sst' and row_4_5.iloc[1,-1] == 'ford torino'\nTrue",
                  "hidden": false,
                  "locked": false
                },
                {
                  "code": ">>> every_other.iloc[0,0] == '150.0' and every_other.iloc[0,1] == 11.0 and \\\n... every_other.iloc[197 ,0] == '79.00' and every_other.iloc[197 ,1] == 18.6\nTrue",
                  "hidden": false,
                  "locked": false
                }
              ],
              "scored": true,
              "setup": "",
              "teardown": "",
              "type": "doctest"
            }
          ]
        },
        "q8": {
          "name": "q8",
          "points": null,
          "suites": [
            {
              "cases": [
                {
                  "code": ">>> meanVals[0]==15.6 and meanVals[1]==8.0 and meanVals[2]==374.9 and meanVals[3]==3879.7 and \\\n... meanVals[4]==10.3 and meanVals[5]==70.0 and meanVals[6]==1.0\nTrue",
                  "hidden": false,
                  "locked": false
                },
                {
                  "code": ">>> minVals[0]==14.0 and minVals[1]==8 and minVals[2]==302.0 and minVals[3]=='130.0' and \\\n... minVals[4]==3433.0 and minVals[5]==8.5 and minVals[6]==70\nTrue",
                  "hidden": false,
                  "locked": false
                }
              ],
              "scored": true,
              "setup": "",
              "teardown": "",
              "type": "doctest"
            }
          ]
        },
        "q9": {
          "name": "q9",
          "points": null,
          "suites": [
            {
              "cases": [
                {
                  "code": ">>> group.iloc[0,0] == 18.5 and group.iloc[0,1] == 6 and group.iloc[2 ,0] == 31.6 and \\\n... group.iloc[2 ,1] == 4\nTrue",
                  "hidden": false,
                  "locked": false
                }
              ],
              "scored": true,
              "setup": "",
              "teardown": "",
              "type": "doctest"
            }
          ]
        }
      }
    },
    "colab": {
      "provenance": []
    }
  },
  "nbformat": 4,
  "nbformat_minor": 5
}