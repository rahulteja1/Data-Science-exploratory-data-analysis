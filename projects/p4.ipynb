{
 "cells": [
  {
   "cell_type": "markdown",
   "metadata": {
    "id": "q_WP2spMzkrh"
   },
   "source": [
    "# P4\n",
    "\n",
    "This projects gives you experience with getting data from APIs. \n",
    "\n"
   ]
  },
  {
   "cell_type": "markdown",
   "metadata": {
    "id": "DOzJ7ADx0x72"
   },
   "source": [
    "## Twitter Data\n",
    "\n",
    "Since we'll be looking at Twitter data, we need to download the data from Twitter!\n",
    "\n",
    "Twitter provides an [API](https://developer.twitter.com/en/docs/twitter-api) for downloading tweet data, look up users, and more. The [`tweepy` package](https://docs.tweepy.org/en/stable/index.html) makes it fairly easy to use."
   ]
  },
  {
   "cell_type": "markdown",
   "metadata": {
    "id": "25zX-1QbvmEy"
   },
   "source": [
    "## Autograder Setup\n",
    "\n",
    "Code establishing a condition so that you don't have to worry about commenting out lines of code before submitting."
   ]
  },
  {
   "cell_type": "markdown",
   "metadata": {
    "id": "YUvXiAAa033a"
   },
   "source": [
    "### `Tweepy`\n",
    "\n",
    "Import `tweepy` (you will want to specify the latest version).  Instructions on using tweepy are available [here](https://docs.tweepy.org/en/stable/index.html), but you will also get some example code.\n",
    "\n",
    "Twitter requires you to have authentication keys to access their API. To get your keys, you'll have to sign up as a Twitter developer.\n"
   ]
  },
  {
   "cell_type": "code",
   "execution_count": 4,
   "metadata": {
    "id": "4WQR8nMM0wBH"
   },
   "outputs": [],
   "source": [
    "import tweepy\n",
    "if tweepy.__version__ != '4.11.0': \n",
    "    !pip install tweepy==4.11.0"
   ]
  },
  {
   "cell_type": "code",
   "execution_count": null,
   "metadata": {
    "id": "6l_k9BsKvmEz"
   },
   "outputs": [],
   "source": [
    "try:\n",
    "  import google.colab\n",
    "  IN_COLAB = True\n",
    "except:\n",
    "  IN_COLAB = False"
   ]
  },
  {
   "cell_type": "code",
   "execution_count": null,
   "metadata": {
    "colab": {
     "base_uri": "https://localhost:8080/"
    },
    "id": "iy6uI5cvvmE0",
    "outputId": "6fc7ebae-425d-466f-8d4d-f4c98fc73a56"
   },
   "outputs": [
    {
     "data": {
      "text/plain": [
       "False"
      ]
     },
     "execution_count": 3,
     "metadata": {},
     "output_type": "execute_result"
    }
   ],
   "source": [
    "import re\n",
    "import os\n",
    "if re.search(r'amzn', os.uname().release): \n",
    "    GS = True\n",
    "else: \n",
    "    GS = False\n",
    "GS"
   ]
  },
  {
   "cell_type": "code",
   "execution_count": null,
   "metadata": {
    "colab": {
     "base_uri": "https://localhost:8080/"
    },
    "id": "k5cmhWMBvmE0",
    "outputId": "68089601-44cf-4c4c-eed5-1928eead80e0"
   },
   "outputs": [
    {
     "name": "stdout",
     "output_type": "stream",
     "text": [
      "Installing otter:\n",
      "Looking in indexes: https://pypi.org/simple, https://us-python.pkg.dev/colab-wheels/public/simple/\n",
      "Collecting otter-grader\n",
      "  Downloading otter_grader-4.2.0-py3-none-any.whl (204 kB)\n",
      "\u001b[K     |████████████████████████████████| 204 kB 7.2 MB/s \n",
      "\u001b[?25hCollecting python-on-whales\n",
      "  Downloading python_on_whales-0.53.0-py3-none-any.whl (98 kB)\n",
      "\u001b[K     |████████████████████████████████| 98 kB 8.8 MB/s \n",
      "\u001b[?25hRequirement already satisfied: pandas in /usr/local/lib/python3.7/dist-packages (from otter-grader) (1.3.5)\n",
      "Requirement already satisfied: google-api-python-client in /usr/local/lib/python3.7/dist-packages (from otter-grader) (1.12.11)\n",
      "Collecting jupytext\n",
      "  Downloading jupytext-1.14.1-py3-none-any.whl (297 kB)\n",
      "\u001b[K     |████████████████████████████████| 297 kB 51.0 MB/s \n",
      "\u001b[?25hRequirement already satisfied: requests in /usr/local/lib/python3.7/dist-packages (from otter-grader) (2.28.1)\n",
      "Requirement already satisfied: google-auth-oauthlib in /usr/local/lib/python3.7/dist-packages (from otter-grader) (0.4.6)\n",
      "Requirement already satisfied: gspread in /usr/local/lib/python3.7/dist-packages (from otter-grader) (3.4.2)\n",
      "Collecting fica>=0.2.0\n",
      "  Downloading fica-0.2.2-py3-none-any.whl (11 kB)\n",
      "Requirement already satisfied: jinja2 in /usr/local/lib/python3.7/dist-packages (from otter-grader) (2.11.3)\n",
      "Requirement already satisfied: ipython in /usr/local/lib/python3.7/dist-packages (from otter-grader) (7.9.0)\n",
      "Requirement already satisfied: PyYAML in /usr/local/lib/python3.7/dist-packages (from otter-grader) (6.0)\n",
      "Requirement already satisfied: nbformat in /usr/local/lib/python3.7/dist-packages (from otter-grader) (5.7.0)\n",
      "Requirement already satisfied: click in /usr/local/lib/python3.7/dist-packages (from otter-grader) (7.1.2)\n",
      "Requirement already satisfied: six in /usr/local/lib/python3.7/dist-packages (from otter-grader) (1.15.0)\n",
      "Requirement already satisfied: wrapt in /usr/local/lib/python3.7/dist-packages (from otter-grader) (1.14.1)\n",
      "Requirement already satisfied: dill in /usr/local/lib/python3.7/dist-packages (from otter-grader) (0.3.6)\n",
      "Requirement already satisfied: docutils in /usr/local/lib/python3.7/dist-packages (from fica>=0.2.0->otter-grader) (0.17.1)\n",
      "Requirement already satisfied: sphinx in /usr/local/lib/python3.7/dist-packages (from fica>=0.2.0->otter-grader) (1.8.6)\n",
      "Requirement already satisfied: google-api-core<3dev,>=1.21.0 in /usr/local/lib/python3.7/dist-packages (from google-api-python-client->otter-grader) (2.8.2)\n",
      "Requirement already satisfied: httplib2<1dev,>=0.15.0 in /usr/local/lib/python3.7/dist-packages (from google-api-python-client->otter-grader) (0.17.4)\n",
      "Requirement already satisfied: uritemplate<4dev,>=3.0.0 in /usr/local/lib/python3.7/dist-packages (from google-api-python-client->otter-grader) (3.0.1)\n",
      "Requirement already satisfied: google-auth-httplib2>=0.0.3 in /usr/local/lib/python3.7/dist-packages (from google-api-python-client->otter-grader) (0.0.4)\n",
      "Requirement already satisfied: google-auth<3dev,>=1.16.0 in /usr/local/lib/python3.7/dist-packages (from google-api-python-client->otter-grader) (2.14.1)\n",
      "Requirement already satisfied: protobuf<5.0.0dev,>=3.15.0 in /usr/local/lib/python3.7/dist-packages (from google-api-core<3dev,>=1.21.0->google-api-python-client->otter-grader) (3.19.6)\n",
      "Requirement already satisfied: googleapis-common-protos<2.0dev,>=1.56.2 in /usr/local/lib/python3.7/dist-packages (from google-api-core<3dev,>=1.21.0->google-api-python-client->otter-grader) (1.56.4)\n",
      "Requirement already satisfied: pyasn1-modules>=0.2.1 in /usr/local/lib/python3.7/dist-packages (from google-auth<3dev,>=1.16.0->google-api-python-client->otter-grader) (0.2.8)\n",
      "Requirement already satisfied: cachetools<6.0,>=2.0.0 in /usr/local/lib/python3.7/dist-packages (from google-auth<3dev,>=1.16.0->google-api-python-client->otter-grader) (5.2.0)\n",
      "Requirement already satisfied: rsa<5,>=3.1.4 in /usr/local/lib/python3.7/dist-packages (from google-auth<3dev,>=1.16.0->google-api-python-client->otter-grader) (4.9)\n",
      "Requirement already satisfied: pyasn1<0.5.0,>=0.4.6 in /usr/local/lib/python3.7/dist-packages (from pyasn1-modules>=0.2.1->google-auth<3dev,>=1.16.0->google-api-python-client->otter-grader) (0.4.8)\n",
      "Requirement already satisfied: idna<4,>=2.5 in /usr/local/lib/python3.7/dist-packages (from requests->otter-grader) (2.10)\n",
      "Requirement already satisfied: urllib3<1.27,>=1.21.1 in /usr/local/lib/python3.7/dist-packages (from requests->otter-grader) (1.24.3)\n",
      "Requirement already satisfied: charset-normalizer<3,>=2 in /usr/local/lib/python3.7/dist-packages (from requests->otter-grader) (2.1.1)\n",
      "Requirement already satisfied: certifi>=2017.4.17 in /usr/local/lib/python3.7/dist-packages (from requests->otter-grader) (2022.9.24)\n",
      "Requirement already satisfied: requests-oauthlib>=0.7.0 in /usr/local/lib/python3.7/dist-packages (from google-auth-oauthlib->otter-grader) (1.3.1)\n",
      "Requirement already satisfied: oauthlib>=3.0.0 in /usr/local/lib/python3.7/dist-packages (from requests-oauthlib>=0.7.0->google-auth-oauthlib->otter-grader) (3.2.2)\n",
      "Requirement already satisfied: setuptools>=18.5 in /usr/local/lib/python3.7/dist-packages (from ipython->otter-grader) (57.4.0)\n",
      "Requirement already satisfied: pygments in /usr/local/lib/python3.7/dist-packages (from ipython->otter-grader) (2.6.1)\n",
      "Collecting jedi>=0.10\n",
      "  Downloading jedi-0.18.1-py2.py3-none-any.whl (1.6 MB)\n",
      "\u001b[K     |████████████████████████████████| 1.6 MB 43.4 MB/s \n",
      "\u001b[?25hRequirement already satisfied: backcall in /usr/local/lib/python3.7/dist-packages (from ipython->otter-grader) (0.2.0)\n",
      "Requirement already satisfied: traitlets>=4.2 in /usr/local/lib/python3.7/dist-packages (from ipython->otter-grader) (5.1.1)\n",
      "Requirement already satisfied: decorator in /usr/local/lib/python3.7/dist-packages (from ipython->otter-grader) (4.4.2)\n",
      "Requirement already satisfied: pexpect in /usr/local/lib/python3.7/dist-packages (from ipython->otter-grader) (4.8.0)\n",
      "Requirement already satisfied: prompt-toolkit<2.1.0,>=2.0.0 in /usr/local/lib/python3.7/dist-packages (from ipython->otter-grader) (2.0.10)\n",
      "Requirement already satisfied: pickleshare in /usr/local/lib/python3.7/dist-packages (from ipython->otter-grader) (0.7.5)\n",
      "Requirement already satisfied: parso<0.9.0,>=0.8.0 in /usr/local/lib/python3.7/dist-packages (from jedi>=0.10->ipython->otter-grader) (0.8.3)\n",
      "Requirement already satisfied: wcwidth in /usr/local/lib/python3.7/dist-packages (from prompt-toolkit<2.1.0,>=2.0.0->ipython->otter-grader) (0.2.5)\n",
      "Requirement already satisfied: MarkupSafe>=0.23 in /usr/local/lib/python3.7/dist-packages (from jinja2->otter-grader) (2.0.1)\n",
      "Collecting markdown-it-py<3.0.0,>=1.0.0\n",
      "  Downloading markdown_it_py-2.1.0-py3-none-any.whl (84 kB)\n",
      "\u001b[K     |████████████████████████████████| 84 kB 3.4 MB/s \n",
      "\u001b[?25hCollecting mdit-py-plugins\n",
      "  Downloading mdit_py_plugins-0.3.1-py3-none-any.whl (46 kB)\n",
      "\u001b[K     |████████████████████████████████| 46 kB 4.0 MB/s \n",
      "\u001b[?25hRequirement already satisfied: toml in /usr/local/lib/python3.7/dist-packages (from jupytext->otter-grader) (0.10.2)\n",
      "Collecting mdurl~=0.1\n",
      "  Downloading mdurl-0.1.2-py3-none-any.whl (10.0 kB)\n",
      "Requirement already satisfied: typing_extensions>=3.7.4 in /usr/local/lib/python3.7/dist-packages (from markdown-it-py<3.0.0,>=1.0.0->jupytext->otter-grader) (4.1.1)\n",
      "Requirement already satisfied: jupyter-core in /usr/local/lib/python3.7/dist-packages (from nbformat->otter-grader) (4.11.2)\n",
      "Requirement already satisfied: jsonschema>=2.6 in /usr/local/lib/python3.7/dist-packages (from nbformat->otter-grader) (4.3.3)\n",
      "Requirement already satisfied: importlib-metadata>=3.6 in /usr/local/lib/python3.7/dist-packages (from nbformat->otter-grader) (4.13.0)\n",
      "Requirement already satisfied: fastjsonschema in /usr/local/lib/python3.7/dist-packages (from nbformat->otter-grader) (2.16.2)\n",
      "Requirement already satisfied: zipp>=0.5 in /usr/local/lib/python3.7/dist-packages (from importlib-metadata>=3.6->nbformat->otter-grader) (3.10.0)\n",
      "Requirement already satisfied: pyrsistent!=0.17.0,!=0.17.1,!=0.17.2,>=0.14.0 in /usr/local/lib/python3.7/dist-packages (from jsonschema>=2.6->nbformat->otter-grader) (0.19.2)\n",
      "Requirement already satisfied: importlib-resources>=1.4.0 in /usr/local/lib/python3.7/dist-packages (from jsonschema>=2.6->nbformat->otter-grader) (5.10.0)\n",
      "Requirement already satisfied: attrs>=17.4.0 in /usr/local/lib/python3.7/dist-packages (from jsonschema>=2.6->nbformat->otter-grader) (22.1.0)\n",
      "Requirement already satisfied: pytz>=2017.3 in /usr/local/lib/python3.7/dist-packages (from pandas->otter-grader) (2022.6)\n",
      "Requirement already satisfied: python-dateutil>=2.7.3 in /usr/local/lib/python3.7/dist-packages (from pandas->otter-grader) (2.8.2)\n",
      "Requirement already satisfied: numpy>=1.17.3 in /usr/local/lib/python3.7/dist-packages (from pandas->otter-grader) (1.21.6)\n",
      "Requirement already satisfied: ptyprocess>=0.5 in /usr/local/lib/python3.7/dist-packages (from pexpect->ipython->otter-grader) (0.7.0)\n",
      "Requirement already satisfied: typer>=0.4.1 in /usr/local/lib/python3.7/dist-packages (from python-on-whales->otter-grader) (0.4.2)\n",
      "Requirement already satisfied: pydantic in /usr/local/lib/python3.7/dist-packages (from python-on-whales->otter-grader) (1.10.2)\n",
      "Requirement already satisfied: tqdm in /usr/local/lib/python3.7/dist-packages (from python-on-whales->otter-grader) (4.64.1)\n",
      "Requirement already satisfied: packaging in /usr/local/lib/python3.7/dist-packages (from sphinx->fica>=0.2.0->otter-grader) (21.3)\n",
      "Requirement already satisfied: alabaster<0.8,>=0.7 in /usr/local/lib/python3.7/dist-packages (from sphinx->fica>=0.2.0->otter-grader) (0.7.12)\n",
      "Requirement already satisfied: sphinxcontrib-websupport in /usr/local/lib/python3.7/dist-packages (from sphinx->fica>=0.2.0->otter-grader) (1.2.4)\n",
      "Requirement already satisfied: snowballstemmer>=1.1 in /usr/local/lib/python3.7/dist-packages (from sphinx->fica>=0.2.0->otter-grader) (2.2.0)\n",
      "Requirement already satisfied: imagesize in /usr/local/lib/python3.7/dist-packages (from sphinx->fica>=0.2.0->otter-grader) (1.4.1)\n",
      "Requirement already satisfied: babel!=2.0,>=1.3 in /usr/local/lib/python3.7/dist-packages (from sphinx->fica>=0.2.0->otter-grader) (2.11.0)\n",
      "Requirement already satisfied: pyparsing!=3.0.5,>=2.0.2 in /usr/local/lib/python3.7/dist-packages (from packaging->sphinx->fica>=0.2.0->otter-grader) (3.0.9)\n",
      "Requirement already satisfied: sphinxcontrib-serializinghtml in /usr/local/lib/python3.7/dist-packages (from sphinxcontrib-websupport->sphinx->fica>=0.2.0->otter-grader) (1.1.5)\n",
      "Installing collected packages: mdurl, markdown-it-py, mdit-py-plugins, jedi, python-on-whales, jupytext, fica, otter-grader\n",
      "Successfully installed fica-0.2.2 jedi-0.18.1 jupytext-1.14.1 markdown-it-py-2.1.0 mdit-py-plugins-0.3.1 mdurl-0.1.2 otter-grader-4.2.0 python-on-whales-0.53.0\n"
     ]
    }
   ],
   "source": [
    "if IN_COLAB == True: \n",
    "    print(\"Installing otter:\")\n",
    "    !pip install otter-grader "
   ]
  },
  {
   "cell_type": "code",
   "execution_count": null,
   "metadata": {
    "colab": {
     "base_uri": "https://localhost:8080/"
    },
    "id": "xQO1GaDKvmE0",
    "outputId": "5374c656-dd5c-4300-d9c3-0f1bfb353284"
   },
   "outputs": [
    {
     "name": "stdout",
     "output_type": "stream",
     "text": [
      "--2022-11-14 00:30:02--  https://pages.mtu.edu/~lebrown/un5550-f22/projects/p4/p4.files.zip\n",
      "Resolving pages.mtu.edu (pages.mtu.edu)... 141.219.70.232\n",
      "Connecting to pages.mtu.edu (pages.mtu.edu)|141.219.70.232|:443... connected.\n",
      "HTTP request sent, awaiting response... 200 OK\n",
      "Length: 84248 (82K) [application/zip]\n",
      "Saving to: ‘p4.files.zip’\n",
      "\n",
      "p4.files.zip        100%[===================>]  82.27K  --.-KB/s    in 0.06s   \n",
      "\n",
      "2022-11-14 00:30:02 (1.30 MB/s) - ‘p4.files.zip’ saved [84248/84248]\n",
      "\n",
      "Archive:  p4.files.zip\n",
      "  inflating: game1Tweets.pkl         \n",
      "  inflating: p4.otter                \n",
      "   creating: tests/\n",
      "  inflating: tests/q1.py             \n",
      "  inflating: tests/q4.py             \n",
      "  inflating: tests/q7.py             \n",
      "  inflating: tests/q6.py             \n",
      "  inflating: tests/q2.py             \n"
     ]
    }
   ],
   "source": [
    "if GS==False:\n",
    "    !wget https://pages.mtu.edu/~lebrown/un5550-f22/projects/p4/p4.files.zip\n",
    "    !unzip p4.files.zip"
   ]
  },
  {
   "cell_type": "markdown",
   "metadata": {
    "id": "4s2bg-BrvmE1"
   },
   "source": [
    "Let's get the rest of the imports set up:"
   ]
  },
  {
   "cell_type": "code",
   "execution_count": 1,
   "metadata": {
    "id": "tgU0zjrgzgaH"
   },
   "outputs": [],
   "source": [
    "import pandas as pd \n",
    "import requests \n",
    "import numpy as np\n",
    "import matplotlib\n",
    "%matplotlib inline\n",
    "import matplotlib.pyplot as plt\n",
    "import json\n",
    "import pickle \n",
    "from pathlib import Path\n",
    "import datetime\n",
    "import re\n",
    "import itertools \n",
    "import collections\n",
    "import nltk\n",
    "\n",
    "import otter\n",
    "grader = otter.Notebook()"
   ]
  },
  {
   "cell_type": "markdown",
   "metadata": {
    "id": "6kAsEGDj1TIx"
   },
   "source": [
    "### Twitter API Access \n",
    "\n",
    "In P4a assignment, you were asked to get your authentication keys (bearer token, consumer key and secret, access token and secret). \n",
    "\n",
    "**IMPORTANT NOTE.  DO NOT SKIP ME.**\n",
    "\n",
    "If someone has your authentication keys, they can access your Twitter account and post as you!  So don't give them to anyone, and **do not write them down in this notebook**.  The usual way to store sensitive information like this is to put it in a separate file and read it programmatically.  That way, you can share the rest of your code without sharing your keys.  That's why we're asking you to put your keys in `keys.json` for this assignment.\n",
    "\n",
    "**SECOND IMPORTANT NOTE**\n",
    "\n",
    "Twitter limits developers to a certain rate of requests for data.  If you make too many requests in a short period of time, you'll have to wait awhile (around 15 minutes) before you can make more.  So carefully follow the code examples you see and don't rerun cells without thinking.  Instead, always save the data you've collected to a file.  You are provided templates to help you do that."
   ]
  },
  {
   "cell_type": "markdown",
   "metadata": {
    "id": "-IgFF6BFdlU7"
   },
   "source": [
    "### Load Key Information \n",
    "\n"
   ]
  },
  {
   "cell_type": "markdown",
   "metadata": {
    "id": "084Jhdwn1WKp"
   },
   "source": [
    "\n",
    "Copy and paste the key information (never upload your key information to the Drive). \n"
   ]
  },
  {
   "cell_type": "code",
   "execution_count": 2,
   "metadata": {
    "colab": {
     "base_uri": "https://localhost:8080/"
    },
    "id": "5-gcUOtY07Ea",
    "outputId": "5f3e7378-82df-4f33-9f24-188a0e458b82"
   },
   "outputs": [
    {
     "name": "stdout",
     "output_type": "stream",
     "text": [
      "Enter Twitter Bearer Token:    ········\n",
      "Enter Twitter Consumer Key:    ········\n",
      "Enter Twitter Consumer Secret: ········\n",
      "Enter Twitter Access Token:    ········\n",
      "Enter Twitter Access Token Secret: ········\n"
     ]
    }
   ],
   "source": [
    "GS=False\n",
    "if GS==False: \n",
    "    # Get Key Info \n",
    "    from getpass import getpass\n",
    "    keys = {}\n",
    "    keys[\"bearer_token\"] = getpass(\"Enter Twitter Bearer Token:    \")\n",
    "    keys[\"consumer_key\"] = getpass(\"Enter Twitter Consumer Key:    \")\n",
    "    keys[\"consumer_secret\"] = getpass(\"Enter Twitter Consumer Secret: \")\n",
    "    keys[\"access_token\"] = getpass(\"Enter Twitter Access Token:    \")\n",
    "    keys[\"access_token_secret\"] = getpass(\"Enter Twitter Access Token Secret: \")"
   ]
  },
  {
   "cell_type": "markdown",
   "metadata": {
    "id": "_zP4N7gbvmE4"
   },
   "source": [
    "### Example - Get some Tweets\n",
    "\n",
    "In the example below, load some tweets by `@packers`.  Run it, inspect the output, and read the code.   \n",
    "\n",
    " "
   ]
  },
  {
   "cell_type": "code",
   "execution_count": 5,
   "metadata": {
    "id": "G0qpNiH6vmE4"
   },
   "outputs": [],
   "source": [
    "# Authenticating: \n",
    "client = tweepy.Client(bearer_token=keys[\"bearer_token\"], \n",
    "                       consumer_key=keys[\"consumer_key\"], \n",
    "                       consumer_secret=keys[\"consumer_secret\"], \n",
    "                       access_token=keys[\"access_token\"], \n",
    "                       access_token_secret=keys[\"access_token_secret\"], \n",
    "                       return_type = requests.Response,\n",
    "                       wait_on_rate_limit=True)\n",
    "    "
   ]
  },
  {
   "cell_type": "code",
   "execution_count": 13,
   "metadata": {
    "colab": {
     "base_uri": "https://localhost:8080/"
    },
    "id": "dAHFz2wEvmE4",
    "outputId": "7faa5c19-249f-4785-c799-a63fdedea899"
   },
   "outputs": [
    {
     "name": "stdout",
     "output_type": "stream",
     "text": [
      "<Response [200]>\n",
      "{\"data\":{\"id\":\"35865630\",\"name\":\"Green Bay Packers\",\"username\":\"packers\"}}\n",
      "35865630\n"
     ]
    }
   ],
   "source": [
    "# Look up user_id for 'packers' username \n",
    "packerInfoResp = client.get_user(username = 'packers')\n",
    "\n",
    "# Explore a bit in what is returned:\n",
    "print(packerInfoResp)  # this is a response \n",
    "print(packerInfoResp.text)\n",
    "\n",
    "packerInfo = json.loads(packerInfoResp.text)\n",
    "\n",
    "print(packerInfo['data']['id'])  # Get the user_id "
   ]
  },
  {
   "cell_type": "code",
   "execution_count": 14,
   "metadata": {
    "id": "vUIwrt-svmE4"
   },
   "outputs": [],
   "source": [
    "ds_tweets_save_path = \"Packers_recent_tweets.pkl\"\n",
    "\n",
    "# Guarding against attempts to download the data multiple times: \n",
    "if not Path(ds_tweets_save_path).is_file():\n",
    "    # use keys loaded above\n",
    "\n",
    "   # Getting as recent tweets by @packers \n",
    "    temp = client.get_users_tweets(id=packerInfo['data']['id'])\n",
    "    example_tweets = json.loads(temp.text)\n",
    "\n",
    "    # Saving the tweets to a file as \"pickled\" objects: \n",
    "    with open(ds_tweets_save_path, \"wb\") as f:\n",
    "        import pickle \n",
    "        pickle.dump(example_tweets, f)\n",
    "\n",
    "# Re-loading the results\n",
    "with open(ds_tweets_save_path, \"rb\") as f:\n",
    "    import pickle \n",
    "    example_tweets = pickle.load(f)\n"
   ]
  },
  {
   "cell_type": "code",
   "execution_count": null,
   "metadata": {
    "colab": {
     "base_uri": "https://localhost:8080/"
    },
    "id": "ffPui7kwvmE5",
    "outputId": "9e5f3e52-1ee7-4067-d555-e7032484b620"
   },
   "outputs": [
    {
     "data": {
      "text/plain": [
       "{'data': [{'edit_history_tweet_ids': ['1591950666477752320'],\n",
       "   'id': '1591950666477752320',\n",
       "   'text': 'Count ‘em! 3️⃣\\n\\n@ChristianW2017 | #GoPackGo https://t.co/phRx9vDxMa'},\n",
       "  {'edit_history_tweet_ids': ['1591950140188811267'],\n",
       "   'id': '1591950140188811267',\n",
       "   'text': 'https://t.co/l4slr0hq9L'},\n",
       "  {'edit_history_tweet_ids': ['1591949742392549376'],\n",
       "   'id': '1591949742392549376',\n",
       "   'text': 'HAVE A GAME, @ChristianW2017!\\n\\n3️⃣ TDs FOR THE ROOKIE.\\n\\n#DALvsGB | #GoPackGo \\n\\n📺 FOX https://t.co/IavGOnJMfB'},\n",
       "  {'edit_history_tweet_ids': ['1591949361768173569'],\n",
       "   'id': '1591949361768173569',\n",
       "   'text': 'TOUCHDOWN!!!\\n\\nTHIRD of the game for @ChristianW2017!\\n\\n#DALvsGB | #GoPackGo https://t.co/qRPg3xJCBk'},\n",
       "  {'edit_history_tweet_ids': ['1591948953242980354'],\n",
       "   'id': '1591948953242980354',\n",
       "   'text': 'AARON 🔁 JONES 🔁\\n\\n@Showtyme_33 💪\\n\\n#DALvsGB | #GoPackGo \\n\\n📺 FOX https://t.co/pPT5d1lQjX'},\n",
       "  {'edit_history_tweet_ids': ['1591948421950234624'],\n",
       "   'id': '1591948421950234624',\n",
       "   'text': 'Christian Watson:\\n\\n- 3 catches \\n- 100 yards\\n- 2 TDs \\n\\n#DALvsGB | #GoPackGo https://t.co/mx5jMwA94E'},\n",
       "  {'edit_history_tweet_ids': ['1591945543508692993'],\n",
       "   'id': '1591945543508692993',\n",
       "   'text': 'https://t.co/bllNoG8bYB'},\n",
       "  {'edit_history_tweet_ids': ['1591944402594762752'],\n",
       "   'id': '1591944402594762752',\n",
       "   'text': 'A second TD for the rookie!\\n\\n@ChristianW2017 🙌  \\n\\n#DALvsGB | #GoPackGo \\n\\n📺 FOX https://t.co/pqLUltB61H'},\n",
       "  {'edit_history_tweet_ids': ['1591944250660265984'],\n",
       "   'id': '1591944250660265984',\n",
       "   'text': 'Another TD for @ChristianW2017! \\n\\n#DALvsGB | #GoPackGo https://t.co/jFgC8tRj32'},\n",
       "  {'edit_history_tweet_ids': ['1591943966467186688'],\n",
       "   'id': '1591943966467186688',\n",
       "   'text': \"Today's @LambeauField attendance for #DALvsGB \\n\\n@Ariens | #GoPackGo https://t.co/vzQWIq6GmD\"}],\n",
       " 'meta': {'next_token': '7140dibdnow9c7btw424c04y6v67daystyo20k30n983c',\n",
       "  'result_count': 10,\n",
       "  'newest_id': '1591950666477752320',\n",
       "  'oldest_id': '1591943966467186688'}}"
      ]
     },
     "execution_count": 11,
     "metadata": {},
     "output_type": "execute_result"
    }
   ],
   "source": [
    "# Play around with finding information in the example_tweets object \n",
    "example_tweets"
   ]
  },
  {
   "cell_type": "code",
   "execution_count": 15,
   "metadata": {
    "colab": {
     "base_uri": "https://localhost:8080/"
    },
    "id": "imR8ZjRbvmE5",
    "outputId": "108a5070-91d5-4522-a390-b06e9aa0b04e"
   },
   "outputs": [
    {
     "data": {
      "text/plain": [
       "{'edit_history_tweet_ids': ['1592321231990030337'],\n",
       " 'id': '1592321231990030337',\n",
       " 'text': '#Packers welcome the Tennessee Titans to Lambeau Field for Thursday Night Football.\\n\\n#TENvsGB Week 11 preview 📋 https://t.co/Pv2Tgn8lef'}"
      ]
     },
     "execution_count": 15,
     "metadata": {},
     "output_type": "execute_result"
    }
   ],
   "source": [
    "# Look at a single tweet \n",
    "example_tweets['data'][0]"
   ]
  },
  {
   "cell_type": "markdown",
   "metadata": {
    "id": "WfC1kFBIlmYy"
   },
   "source": [
    "## Q1 - (16 pts)\n",
    "\n",
    "You will be exploring additional functionality in gathering tweets. \n",
    "\n",
    "Complete the function `get_tweets_q1`.  This function takes as arguments a `tweepyClient` that has gone through authentication and a valid Twitter `userName`. \n",
    "\n",
    "Twitter gives us a lot of information about each tweet, not just the tweet itself.  You can read the full documentation [here](https://developer.twitter.com/en/docs/twitter-api/data-dictionary/object-model/tweet).  \n",
    "\n",
    "We will be collecting tweets from `@astros` and `@phillies` the two baseball teams playing in the World Series.\n",
    " "
   ]
  },
  {
   "cell_type": "code",
   "execution_count": 6,
   "metadata": {
    "id": "Wre6vv5NxSm5"
   },
   "outputs": [],
   "source": [
    "def get_tweets_q1(tweepyClient, userName): \n",
    "    ''' \n",
    "    This function assumes it is passed a tweepyClient that has\n",
    "    gone through authentication, and a valid Twitter userName. \n",
    "    \n",
    "    The function should: \n",
    "    - find the associated userId for the userName provided \n",
    "        as an input argument\n",
    "    - collect the 25 most recent tweets by the userName, the \n",
    "       tweets must be between Oct. 28th at noon and Oct. 31 \n",
    "       at 11:59pm. The information to be returned should include\n",
    "       the following:\n",
    "         tweet id, \n",
    "         text, \n",
    "         time it was created,   created_at\n",
    "         public metrics,    public_metrics\n",
    "         tweet source,    source\n",
    "       \n",
    "    The function should return the list of tweets collected. \n",
    "    '''\n",
    "\n",
    "    InfoResp = tweepyClient.get_user(username = userName)\n",
    "    info = json.loads(InfoResp.text)\n",
    "    userId = info['data']['id']\n",
    "    start_time = datetime.datetime(2022, 10, 28, 12)\n",
    "    end_time = datetime.datetime(2022, 10, 31, 23, 59)\n",
    "    x = tweepyClient.get_users_tweets(userId, end_time=end_time, start_time=start_time, tweet_fields=['id','text','created_at','public_metrics','source'], max_results= 25)\n",
    "    example_tweets = json.loads(x.text)\n",
    "    return example_tweets ['data'] \n",
    "    "
   ]
  },
  {
   "cell_type": "code",
   "execution_count": 7,
   "metadata": {
    "colab": {
     "base_uri": "https://localhost:8080/"
    },
    "id": "gjuXM1imvmE5",
    "outputId": "c44e0d9f-00ab-4d96-e34d-a09da8b81fe3",
    "tags": []
   },
   "outputs": [
    {
     "name": "stdout",
     "output_type": "stream",
     "text": [
      "{'public_metrics': {'retweet_count': 94, 'reply_count': 96, 'like_count': 1588, 'quote_count': 21}, 'source': 'Twitter for iPhone', 'created_at': '2022-10-31T23:27:09.000Z', 'id': '1587224688098418693', 'edit_history_tweet_ids': ['1587224688098418693'], 'text': 'Since we’ve all got an open night now, what’s the 🐐 Halloween candy? https://t.co/3jjTw9sBz1'}\n",
      "{'id': '1587218471070351363', 'text': 'RT @MLB_PR: Game Three of the 2022 #WorldSeries presented by Capital One has been postponed and rescheduled for Tuesday at 8:03 p.m. (ET).…', 'public_metrics': {'retweet_count': 877, 'reply_count': 0, 'like_count': 0, 'quote_count': 0}, 'created_at': '2022-10-31T23:02:27.000Z', 'source': 'Twitter Web App', 'edit_history_tweet_ids': ['1587218471070351363']}\n"
     ]
    }
   ],
   "source": [
    "astros_tweets = get_tweets_q1(client, 'astros') \n",
    "print(astros_tweets[0])\n",
    "phillies_tweets = get_tweets_q1(client, 'phillies')\n",
    "print(phillies_tweets[0]) "
   ]
  },
  {
   "cell_type": "code",
   "execution_count": 8,
   "metadata": {
    "colab": {
     "base_uri": "https://localhost:8080/",
     "height": 47
    },
    "deletable": false,
    "editable": false,
    "id": "kdyhzoC_vmE6",
    "outputId": "de17ef7b-d2f4-4a3d-89a4-c926fc0ee438"
   },
   "outputs": [
    {
     "data": {
      "text/html": [
       "<p><strong><pre style='display: inline;'>q1</pre></strong> passed! 🎉</p>"
      ],
      "text/plain": [
       "q1 results: All test cases passed!"
      ]
     },
     "execution_count": 8,
     "metadata": {},
     "output_type": "execute_result"
    }
   ],
   "source": [
    "grader.check(\"q1\")"
   ]
  },
  {
   "cell_type": "markdown",
   "metadata": {
    "id": "lvLFK3PYsObh"
   },
   "source": [
    "## Q2 - (14 pts) \n",
    "\n",
    "Which fields contain: \n",
    "\n",
    "1. the actual text of a tweet, \n",
    "2. the time when the tweet was posted, \n",
    "3. the source (device and app) from which the tweet was posted, \n",
    "4. the number of times the tweet was liked, \n",
    "5. the number of times a tweet is retweeted, \n",
    "6. the number of times a tweet is quoted, \n",
    "7. the number of times a tweet is replied to\n",
    "\n",
    "To answer the question, write functions that extract each item from a tweet.  Each function should take a single tweet  as its argument (dict structure). "
   ]
  },
  {
   "cell_type": "code",
   "execution_count": 9,
   "metadata": {
    "id": "2VE17ZkHrnJo",
    "tags": []
   },
   "outputs": [],
   "source": [
    "def extract_text(tweet): \n",
    "    return tweet.get('text')\n",
    "\n",
    "def extract_time(tweet): \n",
    "    return tweet.get('created_at')\n",
    "\n",
    "def extract_source(tweet):\n",
    "    return tweet.get('source')\n",
    "\n",
    "def extract_like_num(tweet):\n",
    "    return tweet.get('public_metrics', {}).get('like_count')\n",
    "\n",
    "def extract_retweet_num(tweet):\n",
    "    return tweet.get('public_metrics', {}).get('retweet_count')\n",
    "    \n",
    "def extract_quote_num(tweet):\n",
    "    return tweet.get('public_metrics', {}).get('quote_count')\n",
    "    \n",
    "def extract_reply_num(tweet):\n",
    "    return tweet.get('public_metrics', {}).get('reply_count')\n"
   ]
  },
  {
   "cell_type": "code",
   "execution_count": 10,
   "metadata": {
    "colab": {
     "base_uri": "https://localhost:8080/"
    },
    "id": "r11fGmTMoU37",
    "outputId": "c657762f-8423-4b57-cc14-f05a92280305",
    "tags": []
   },
   "outputs": [
    {
     "name": "stdout",
     "output_type": "stream",
     "text": [
      "Since we’ve all got an open night now, what’s the 🐐 Halloween candy? https://t.co/3jjTw9sBz1\n",
      "2022-10-31T23:27:09.000Z\n",
      "Twitter for iPhone\n",
      "1588\n",
      "94\n",
      "21\n",
      "96\n"
     ]
    }
   ],
   "source": [
    "print(extract_text(astros_tweets[0]))\n",
    "print(extract_time(astros_tweets[0]))\n",
    "print(extract_source(astros_tweets[0]))\n",
    "print(extract_like_num(astros_tweets[0]))\n",
    "print(extract_retweet_num(astros_tweets[0]))\n",
    "print(extract_quote_num(astros_tweets[0]))\n",
    "print(extract_reply_num(astros_tweets[0]))"
   ]
  },
  {
   "cell_type": "code",
   "execution_count": 11,
   "metadata": {
    "colab": {
     "base_uri": "https://localhost:8080/",
     "height": 614
    },
    "deletable": false,
    "editable": false,
    "id": "hELfuhG3vmE6",
    "outputId": "ff3d6539-e733-415c-90c6-18c2cd3c1783"
   },
   "outputs": [
    {
     "data": {
      "text/html": [
       "<p><strong style='color: red;'><pre style='display: inline;'>q2</pre> results:</strong></p><p><strong><pre style='display: inline;'>q2 - 1</pre> result:</strong></p><pre>    ✅ Test case passed</pre><p><strong><pre style='display: inline;'>q2 - 2</pre> result:</strong></p><pre>    ✅ Test case passed</pre><p><strong><pre style='display: inline;'>q2 - 3</pre> result:</strong></p><pre>    ✅ Test case passed</pre><p><strong><pre style='display: inline;'>q2 - 4</pre> result:</strong></p><pre>    ✅ Test case passed</pre><p><strong><pre style='display: inline;'>q2 - 5</pre> result:</strong></p><pre>    ❌ Test case failed\n",
       "    Trying:\n",
       "        extract_retweet_num(astros_tweets[21])>=869 and \\\n",
       "        extract_retweet_num(astros_tweets[21]) < 900\n",
       "    Expecting:\n",
       "        True\n",
       "    **********************************************************************\n",
       "    Line 1, in q2 4\n",
       "    Failed example:\n",
       "        extract_retweet_num(astros_tweets[21])>=869 and \\\n",
       "        extract_retweet_num(astros_tweets[21]) < 900\n",
       "    Expected:\n",
       "        True\n",
       "    Got:\n",
       "        False\n",
       "</pre><p><strong><pre style='display: inline;'>q2 - 6</pre> result:</strong></p><pre>    ✅ Test case passed</pre><p><strong><pre style='display: inline;'>q2 - 7</pre> result:</strong></p><pre>    ✅ Test case passed</pre>"
      ],
      "text/plain": [
       "q2 results:\n",
       "    q2 - 1 result:\n",
       "        ✅ Test case passed\n",
       "\n",
       "    q2 - 2 result:\n",
       "        ✅ Test case passed\n",
       "\n",
       "    q2 - 3 result:\n",
       "        ✅ Test case passed\n",
       "\n",
       "    q2 - 4 result:\n",
       "        ✅ Test case passed\n",
       "\n",
       "    q2 - 5 result:\n",
       "        ❌ Test case failed\n",
       "        Trying:\n",
       "            extract_retweet_num(astros_tweets[21])>=869 and \\\n",
       "            extract_retweet_num(astros_tweets[21]) < 900\n",
       "        Expecting:\n",
       "            True\n",
       "        **********************************************************************\n",
       "        Line 1, in q2 4\n",
       "        Failed example:\n",
       "            extract_retweet_num(astros_tweets[21])>=869 and \\\n",
       "            extract_retweet_num(astros_tweets[21]) < 900\n",
       "        Expected:\n",
       "            True\n",
       "        Got:\n",
       "            False\n",
       "\n",
       "    q2 - 6 result:\n",
       "        ✅ Test case passed\n",
       "\n",
       "    q2 - 7 result:\n",
       "        ✅ Test case passed"
      ]
     },
     "execution_count": 11,
     "metadata": {},
     "output_type": "execute_result"
    }
   ],
   "source": [
    "grader.check(\"q2\")"
   ]
  },
  {
   "cell_type": "markdown",
   "metadata": {
    "id": "UtTd-IGQvmE7"
   },
   "source": [
    "<!-- BEGIN QUESTION -->\n",
    "\n",
    "## Q3 - (5 pts) \n",
    "\n",
    "Construct a request for the following: \n",
    "- search recent tweets for tweets containing a `#phillies` or `#astros`, \n",
    "- the tweets should be in english, \n",
    "- the tweets should not be retweeted \n",
    "- restricted to return 100 tweets, \n",
    "- the query should return the tweet id, text, time created, source and public metrics. "
   ]
  },
  {
   "cell_type": "code",
   "execution_count": 16,
   "metadata": {
    "colab": {
     "base_uri": "https://localhost:8080/"
    },
    "id": "goIWPaeqvmE7",
    "outputId": "d0858ca0-a240-4b22-cbd9-f602a1d38130",
    "tags": []
   },
   "outputs": [
    {
     "data": {
      "text/plain": [
       "[{'edit_history_tweet_ids': ['1592321231990030337'],\n",
       "  'id': '1592321231990030337',\n",
       "  'text': '#Packers welcome the Tennessee Titans to Lambeau Field for Thursday Night Football.\\n\\n#TENvsGB Week 11 preview 📋 https://t.co/Pv2Tgn8lef'},\n",
       " {'edit_history_tweet_ids': ['1592315407939293186'],\n",
       "  'id': '1592315407939293186',\n",
       "  'text': 'Monday’s #TENvsGB injury report 📝 https://t.co/Qps9hGB8Ie'},\n",
       " {'edit_history_tweet_ids': ['1592314688951312385'],\n",
       "  'id': '1592314688951312385',\n",
       "  'text': '\"You wanna score points? Get explosive plays.\"\\n\\n@ChristianW2017 was a spark for the #Packers offense in Sunday\\'s win over Dallas.\\n\\n#GoPackGo https://t.co/iSZAD08TeV'},\n",
       " {'edit_history_tweet_ids': ['1592310159140786176'],\n",
       "  'id': '1592310159140786176',\n",
       "  'text': 'A special #SaluteToService shout-out from @Showtyme_33!\\n\\n@fleet_farm | #GoPackGo https://t.co/GsW1nxq4Op'},\n",
       " {'edit_history_tweet_ids': ['1592302124964405248'],\n",
       "  'id': '1592302124964405248',\n",
       "  'text': 'Conquered the Cowboys!\\n\\n#GoPackGo https://t.co/cZMN1vJm9S'},\n",
       " {'edit_history_tweet_ids': ['1592292626123792384'],\n",
       "  'id': '1592292626123792384',\n",
       "  'text': 'The rookie with a hat trick 🎩🤯 \\n\\n@ChristianW2017 | #GoPackGo \\n\\nUp next: #TENvsGB | Thursday at 7:15 p.m. CT | Prime Video https://t.co/MVnLCwhRSJ'},\n",
       " {'edit_history_tweet_ids': ['1592287479545167872'],\n",
       "  'id': '1592287479545167872',\n",
       "  'text': 'Fast &amp; physical 💪 \\n\\nRudy Ford was all over the field in his 2-INT performance on Sunday. \\n\\n#GoPackGo https://t.co/QjlLBibWKP'},\n",
       " {'edit_history_tweet_ids': ['1592279424875245569'],\n",
       "  'id': '1592279424875245569',\n",
       "  'text': 'A resilient #Packers squad found a way to get it done at home. 🏠\\n\\nPackers Daily ⤵️ https://t.co/nib09Qh2Va'},\n",
       " {'edit_history_tweet_ids': ['1592268936048959491'],\n",
       "  'id': '1592268936048959491',\n",
       "  'text': 'About last night 😎\\n\\n#GoPackGo https://t.co/HYnKNzLs18'},\n",
       " {'edit_history_tweet_ids': ['1592252554636709888'],\n",
       "  'id': '1592252554636709888',\n",
       "  'text': 'LIVE: #Packers offensive coordinator Adam Stenavich meets with the media ahead of #TENvsGB in Week 11 🎙️ https://t.co/rebfMiHBtb'}]"
      ]
     },
     "execution_count": 16,
     "metadata": {},
     "output_type": "execute_result"
    }
   ],
   "source": [
    "query = '(#phillies OR #astros) lang:en is:retweet'\n",
    "twts = client.search_recent_tweets(query=query,tweet_fields=['id','text','created_at','source','public_metrics'], max_results=100)\n",
    "example_tweets[\"data\"]"
   ]
  },
  {
   "cell_type": "markdown",
   "metadata": {
    "id": "wg5J5YMeta31"
   },
   "source": [
    "<!-- END QUESTION -->\n",
    "\n",
    "## Q4 - (10 pts)\n",
    "\n",
    "Using a similar query from Q3 above, tweets were collected during game 1 of the World Series using the `#phillies` and `#astros` as the query.  100 tweets were collected each 30 minutes between 8pm - 2am.  \n",
    "\n",
    "The tweets are stored in a pickle file and loaded below.  \n",
    "\n",
    "\n",
    "\n",
    "Write a function called `make_dataframe`.  It should take as its argument a list of tweets and return a `pandas` DataFrame.  The DataFrame should contain columns for all the fields in Q2.  The column names should be `text`, `time`, `source`, `likeNum`, `retweetNum`, `quoteNum` and `replyNum`. "
   ]
  },
  {
   "cell_type": "code",
   "execution_count": 17,
   "metadata": {
    "id": "MayH_4QjvmE8",
    "tags": []
   },
   "outputs": [],
   "source": [
    "with open(\"game1Tweets.pkl\", \"rb\") as f: \n",
    "    game1Tweets = pickle.load(f)"
   ]
  },
  {
   "cell_type": "code",
   "execution_count": 18,
   "metadata": {
    "colab": {
     "base_uri": "https://localhost:8080/",
     "height": 206
    },
    "id": "u7KmcQpstacj",
    "outputId": "aa8303b0-e86f-48fb-ac2d-cdd87ff6cff7",
    "tags": []
   },
   "outputs": [
    {
     "data": {
      "text/html": [
       "<div>\n",
       "<style scoped>\n",
       "    .dataframe tbody tr th:only-of-type {\n",
       "        vertical-align: middle;\n",
       "    }\n",
       "\n",
       "    .dataframe tbody tr th {\n",
       "        vertical-align: top;\n",
       "    }\n",
       "\n",
       "    .dataframe thead th {\n",
       "        text-align: right;\n",
       "    }\n",
       "</style>\n",
       "<table border=\"1\" class=\"dataframe\">\n",
       "  <thead>\n",
       "    <tr style=\"text-align: right;\">\n",
       "      <th></th>\n",
       "      <th>text</th>\n",
       "      <th>time</th>\n",
       "      <th>source</th>\n",
       "      <th>likeNum</th>\n",
       "      <th>retweetNum</th>\n",
       "      <th>quoteNum</th>\n",
       "      <th>replyNum</th>\n",
       "    </tr>\n",
       "  </thead>\n",
       "  <tbody>\n",
       "    <tr>\n",
       "      <th>0</th>\n",
       "      <td>Let’s go Phils!!! Beat those trash can bangers...</td>\n",
       "      <td>2022-10-28T22:29:20.000Z</td>\n",
       "      <td>Twitter for iPhone</td>\n",
       "      <td>0</td>\n",
       "      <td>0</td>\n",
       "      <td>0</td>\n",
       "      <td>0</td>\n",
       "    </tr>\n",
       "    <tr>\n",
       "      <th>1</th>\n",
       "      <td>Houston Astros vs Philadelphia Phillies World ...</td>\n",
       "      <td>2022-10-28T22:29:10.000Z</td>\n",
       "      <td>Twitter Web App</td>\n",
       "      <td>0</td>\n",
       "      <td>0</td>\n",
       "      <td>0</td>\n",
       "      <td>0</td>\n",
       "    </tr>\n",
       "    <tr>\n",
       "      <th>2</th>\n",
       "      <td>Waiting on the #WorldSeries like \\n#Phillies @...</td>\n",
       "      <td>2022-10-28T22:29:04.000Z</td>\n",
       "      <td>Twitter for iPhone</td>\n",
       "      <td>0</td>\n",
       "      <td>0</td>\n",
       "      <td>0</td>\n",
       "      <td>0</td>\n",
       "    </tr>\n",
       "    <tr>\n",
       "      <th>3</th>\n",
       "      <td>Pheeling Phine on this Phriday for my Phillies...</td>\n",
       "      <td>2022-10-28T22:28:15.000Z</td>\n",
       "      <td>Twitter for iPhone</td>\n",
       "      <td>3</td>\n",
       "      <td>1</td>\n",
       "      <td>0</td>\n",
       "      <td>0</td>\n",
       "    </tr>\n",
       "    <tr>\n",
       "      <th>4</th>\n",
       "      <td>I just watched footage from the first ballgame...</td>\n",
       "      <td>2022-10-28T22:27:58.000Z</td>\n",
       "      <td>Twitter for Android</td>\n",
       "      <td>2</td>\n",
       "      <td>0</td>\n",
       "      <td>0</td>\n",
       "      <td>1</td>\n",
       "    </tr>\n",
       "  </tbody>\n",
       "</table>\n",
       "</div>"
      ],
      "text/plain": [
       "                                                text  \\\n",
       "0  Let’s go Phils!!! Beat those trash can bangers...   \n",
       "1  Houston Astros vs Philadelphia Phillies World ...   \n",
       "2  Waiting on the #WorldSeries like \\n#Phillies @...   \n",
       "3  Pheeling Phine on this Phriday for my Phillies...   \n",
       "4  I just watched footage from the first ballgame...   \n",
       "\n",
       "                       time               source  likeNum  retweetNum  \\\n",
       "0  2022-10-28T22:29:20.000Z   Twitter for iPhone        0           0   \n",
       "1  2022-10-28T22:29:10.000Z      Twitter Web App        0           0   \n",
       "2  2022-10-28T22:29:04.000Z   Twitter for iPhone        0           0   \n",
       "3  2022-10-28T22:28:15.000Z   Twitter for iPhone        3           1   \n",
       "4  2022-10-28T22:27:58.000Z  Twitter for Android        2           0   \n",
       "\n",
       "   quoteNum  replyNum  \n",
       "0         0         0  \n",
       "1         0         0  \n",
       "2         0         0  \n",
       "3         0         0  \n",
       "4         0         1  "
      ]
     },
     "execution_count": 18,
     "metadata": {},
     "output_type": "execute_result"
    }
   ],
   "source": [
    "from IPython.utils.text import list_strings\n",
    "def make_dataframe(tweets): \n",
    "    \"\"\"Make a DataFrame from a list of tweets, with requested fields. \n",
    "    \n",
    "    Input Args: \n",
    "      tweets (list): a list of tweets\n",
    "\n",
    "    Returns: \n",
    "      DataFrame: a pandas DataFrame containing one row for each element \n",
    "        of tweets and one column for each relevant field. \n",
    "    \"\"\"\n",
    "    # query = '(#phillies OR #astros) lang:en is:retweet'\n",
    "    # df = pd.DataFrame('text', 'time', 'source', 'likeNum','retweetNum', 'quoteNum', 'replyNum')\n",
    "    ex1list = []\n",
    "    for i in range(len(tweets)):\n",
    "        text = tweets[i]['text']\n",
    "        time = tweets[i]['created_at']\n",
    "        source = tweets[i]['source']\n",
    "        likeNum = tweets[i]['public_metrics']['like_count']\n",
    "        retweetNum = tweets[i]['public_metrics']['retweet_count']\n",
    "        quoteNum = tweets[i]['public_metrics']['quote_count']\n",
    "        replyNum = tweets[i]['public_metrics']['reply_count']\n",
    "        ex1list.append([text, time, source, likeNum,retweetNum, quoteNum, replyNum])\n",
    "    # df2 = df['text', 'time', 'source', 'likeNum','retweetNum', 'quoteNum', 'replyNum']\n",
    "    df = pd.DataFrame(columns=['text', 'time', 'source', 'likeNum','retweetNum', 'quoteNum', 'replyNum'],data = ex1list)\n",
    "    # print(df['text'])\n",
    "    return df\n",
    "\n",
    "g1df = make_dataframe(game1Tweets)\n",
    "g1df.head()"
   ]
  },
  {
   "cell_type": "code",
   "execution_count": 19,
   "metadata": {
    "colab": {
     "base_uri": "https://localhost:8080/",
     "height": 627
    },
    "deletable": false,
    "editable": false,
    "id": "hz2iLaJsvmE8",
    "outputId": "17eb9795-9dad-4e21-c0e5-7bedd928708a"
   },
   "outputs": [
    {
     "data": {
      "text/html": [
       "<p><strong style='color: red;'><pre style='display: inline;'>q4</pre> results:</strong></p><p><strong><pre style='display: inline;'>q4 - 1</pre> result:</strong></p><pre>    ✅ Test case passed</pre><p><strong><pre style='display: inline;'>q4 - 2</pre> result:</strong></p><pre>    ✅ Test case passed</pre><p><strong><pre style='display: inline;'>q4 - 3</pre> result:</strong></p><pre>    ✅ Test case passed</pre><p><strong><pre style='display: inline;'>q4 - 4</pre> result:</strong></p><pre>    ✅ Test case passed</pre><p><strong><pre style='display: inline;'>q4 - 5</pre> result:</strong></p><pre>    ✅ Test case passed</pre><p><strong><pre style='display: inline;'>q4 - 6</pre> result:</strong></p><pre>    ✅ Test case passed</pre><p><strong><pre style='display: inline;'>q4 - 7</pre> result:</strong></p><pre>    ✅ Test case passed</pre><p><strong><pre style='display: inline;'>q4 - 8</pre> result:</strong></p><pre>    ❌ Test case failed\n",
       "    Trying:\n",
       "        list(g1df['replyNum'][482:486]) == [0, 0, 0, 0]\n",
       "    Expecting:\n",
       "        True\n",
       "    **********************************************************************\n",
       "    Line 1, in q4 7\n",
       "    Failed example:\n",
       "        list(g1df['replyNum'][482:486]) == [0, 0, 0, 0]\n",
       "    Expected:\n",
       "        True\n",
       "    Got:\n",
       "        False\n",
       "</pre>"
      ],
      "text/plain": [
       "q4 results:\n",
       "    q4 - 1 result:\n",
       "        ✅ Test case passed\n",
       "\n",
       "    q4 - 2 result:\n",
       "        ✅ Test case passed\n",
       "\n",
       "    q4 - 3 result:\n",
       "        ✅ Test case passed\n",
       "\n",
       "    q4 - 4 result:\n",
       "        ✅ Test case passed\n",
       "\n",
       "    q4 - 5 result:\n",
       "        ✅ Test case passed\n",
       "\n",
       "    q4 - 6 result:\n",
       "        ✅ Test case passed\n",
       "\n",
       "    q4 - 7 result:\n",
       "        ✅ Test case passed\n",
       "\n",
       "    q4 - 8 result:\n",
       "        ❌ Test case failed\n",
       "        Trying:\n",
       "            list(g1df['replyNum'][482:486]) == [0, 0, 0, 0]\n",
       "        Expecting:\n",
       "            True\n",
       "        **********************************************************************\n",
       "        Line 1, in q4 7\n",
       "        Failed example:\n",
       "            list(g1df['replyNum'][482:486]) == [0, 0, 0, 0]\n",
       "        Expected:\n",
       "            True\n",
       "        Got:\n",
       "            False"
      ]
     },
     "execution_count": 19,
     "metadata": {},
     "output_type": "execute_result"
    }
   ],
   "source": [
    "grader.check(\"q4\")"
   ]
  },
  {
   "cell_type": "markdown",
   "metadata": {
    "id": "UDZx6jEVvAln"
   },
   "source": [
    "<!-- BEGIN QUESTION -->\n",
    "\n",
    "## Q5 - (5 pts) \n",
    "\n",
    "Create a plot showing how many tweets came from each kind of source. \n",
    "\n",
    "I suggest making a horizontal bar plot."
   ]
  },
  {
   "cell_type": "code",
   "execution_count": 20,
   "metadata": {
    "colab": {
     "base_uri": "https://localhost:8080/",
     "height": 336
    },
    "id": "iU6nwx2N_qgD",
    "outputId": "313f2ae3-bcd4-411e-f67f-742f6d8ea370"
   },
   "outputs": [
    {
     "data": {
      "image/png": "[encoded data removed]",
      "text/plain": [
       "<Figure size 720x360 with 1 Axes>"
      ]
     },
     "metadata": {
      "needs_background": "light"
     },
     "output_type": "display_data"
    }
   ],
   "source": [
    "# len(g1df['source'].unique())\n",
    "# g1df['source'].nunique()\n",
    "dfq5 = g1df.groupby('source')['text'].nunique().plot(kind='barh',figsize=(10,5),title='plot showing how many tweets came from each kind of source')\n",
    "dfq5;"
   ]
  },
  {
   "cell_type": "markdown",
   "metadata": {
    "id": "f594G1oev-VU"
   },
   "source": [
    "<!-- END QUESTION -->\n",
    "\n",
    "## Examining Text\n",
    "\n",
    "The following questions are adapted from [https://www.earthdatascience.org/courses/use-data-open-source-python/intro-to-apis/calculate-tweet-word-frequencies-in-python/](https://www.earthdatascience.org/courses/use-data-open-source-python/intro-to-apis/calculate-tweet-word-frequencies-in-python/)"
   ]
  },
  {
   "cell_type": "markdown",
   "metadata": {
    "id": "5bkdk6f1wQWN"
   },
   "source": [
    "Here is a function that removes the URLs (links) and emojis from the tweet text. By running the code that follows this function you should have then \"cleanish\" text.  *Note, it may not eliminate all emojis*"
   ]
  },
  {
   "cell_type": "code",
   "execution_count": 21,
   "metadata": {
    "id": "4PloFKVMvrdO"
   },
   "outputs": [],
   "source": [
    "def remove_url(txt): \n",
    "    \"\"\"Replace URLs found in a text string with nothing \n",
    "    (i.e. it will remove the URL from the string).\n",
    "    Also, replaces the emoji with nothing. \n",
    "\n",
    "    Parameters\n",
    "    ----------\n",
    "    txt : string\n",
    "        A text string that you want to parse and remove urls.\n",
    "\n",
    "    Returns\n",
    "    -------\n",
    "    The same txt string with url's removed.\n",
    "    \"\"\"\n",
    "    txt2 = re.sub('http[s]?://\\S+', '', txt)\n",
    "    emoji_pattern = re.compile(\"[\"\n",
    "                           u\"\\U0001F600-\\U0001F64F\"  # emoticons\n",
    "                           u\"\\U0001F300-\\U0001F5FF\"  # symbols & pictographs\n",
    "                           u\"\\U0001F680-\\U0001F6FF\"  # transport & map symbols\n",
    "                           u\"\\U0001F1E0-\\U0001F1FF\"  # flags (iOS)\n",
    "                           u\"\\U00002702-\\U000027B0\"\n",
    "                           u\"\\U000024C2-\\U0001F251\"\n",
    "                           \"]+\", flags=re.UNICODE)\n",
    "    txt2 = re.sub(emoji_pattern, '', txt2)\n",
    "    return txt2\n"
   ]
  },
  {
   "cell_type": "code",
   "execution_count": 22,
   "metadata": {
    "colab": {
     "base_uri": "https://localhost:8080/"
    },
    "id": "Z_XjAXD1vsrh",
    "outputId": "e612f3ad-e2f3-4600-be46-e05f4cfbf66a"
   },
   "outputs": [
    {
     "data": {
      "text/plain": [
       "['Let’s go Phils!!! Beat those trash can bangers. #Phillies #RedOctober #WorldSeries ',\n",
       " 'Houston Astros vs Philadelphia Phillies World Series Live Stream 2022\\nLive Here\\nPhillies | Astros | World Series Game 1\\n@CitizensBankPark\\n#Houston #Astros #Philadelphia #Phillies\\n#HoustonAstros #PhiladelphiaPhillies ',\n",
       " 'Waiting on the #WorldSeries like \\n#Phillies @Phillies #mlbpostseason #MLB ',\n",
       " 'Pheeling Phine on this Phriday for my Phillies #teacher #Educator #fallfestival #Phillies #Philadelphia ']"
      ]
     },
     "execution_count": 22,
     "metadata": {},
     "output_type": "execute_result"
    }
   ],
   "source": [
    "g1Txt = [extract_text(tweet) for tweet in game1Tweets]\n",
    "g1Txt_no_urls = [remove_url(tweet) for tweet in g1Txt]\n",
    "g1Txt_no_urls[0:4]"
   ]
  },
  {
   "cell_type": "markdown",
   "metadata": {
    "id": "k-rr_UnsyZ-C"
   },
   "source": [
    "## Q6 - (5 pts) \n",
    "\n",
    "Write code that will take your list of tweet text `g1Txt_no_urls` and creates a list of lists containing the lower case words for each tweet. \n",
    "\n",
    "*Hint:* you may want to think about performing the operations on a single tweet text `g1Txt_no_urls[0]` - convert it to all lower case, break it into individual words.  Think about String methods [https://docs.python.org/3.7/library/stdtypes.html#string-methods](https://docs.python.org/3.7/library/stdtypes.html#string-methods)\n",
    "\n",
    "*Hint:* Once you get the list of words from a single tweet text, collect all the tweet's texts in another list. \n",
    "\n",
    "Example: \n",
    "```\n",
    "words_in_tweets = \n",
    "[['test', \n",
    "  'string', \n",
    "  'text'],  # words in first tweet\n",
    " ['hello', \n",
    "  'world'],  # words in 2nd tweet \n",
    " ['#astros, \n",
    "  'world', \n",
    "  'series']]  # words in 3rd tweet\n",
    "```"
   ]
  },
  {
   "cell_type": "code",
   "execution_count": 23,
   "metadata": {
    "colab": {
     "base_uri": "https://localhost:8080/"
    },
    "id": "4tSuEzbfNSO-",
    "outputId": "bd3c3763-6135-4b62-8d5e-3291e0afd07f"
   },
   "outputs": [
    {
     "data": {
      "text/plain": [
       "[['let’s',\n",
       "  'go',\n",
       "  'phils!!!',\n",
       "  'beat',\n",
       "  'those',\n",
       "  'trash',\n",
       "  'can',\n",
       "  'bangers.',\n",
       "  '#phillies',\n",
       "  '#redoctober',\n",
       "  '#worldseries'],\n",
       " ['houston',\n",
       "  'astros',\n",
       "  'vs',\n",
       "  'philadelphia',\n",
       "  'phillies',\n",
       "  'world',\n",
       "  'series',\n",
       "  'live',\n",
       "  'stream',\n",
       "  '2022',\n",
       "  'live',\n",
       "  'here',\n",
       "  'phillies',\n",
       "  '|',\n",
       "  'astros',\n",
       "  '|',\n",
       "  'world',\n",
       "  'series',\n",
       "  'game',\n",
       "  '1',\n",
       "  '@citizensbankpark',\n",
       "  '#houston',\n",
       "  '#astros',\n",
       "  '#philadelphia',\n",
       "  '#phillies',\n",
       "  '#houstonastros',\n",
       "  '#philadelphiaphillies'],\n",
       " ['waiting',\n",
       "  'on',\n",
       "  'the',\n",
       "  '#worldseries',\n",
       "  'like',\n",
       "  '#phillies',\n",
       "  '@phillies',\n",
       "  '#mlbpostseason',\n",
       "  '#mlb']]"
      ]
     },
     "execution_count": 23,
     "metadata": {},
     "output_type": "execute_result"
    }
   ],
   "source": [
    "from numpy.lib.function_base import append\n",
    "words_in_tweets = []\n",
    "for i in range(len(g1Txt_no_urls)):\n",
    "    text = g1Txt_no_urls[i].split()\n",
    "    # print(text)\n",
    "    lst=[]\n",
    "    for word in text:\n",
    "        lst.append(word.lower())\n",
    "    words_in_tweets.append(lst)\n",
    "    \n",
    "\n",
    "words_in_tweets[:3]\n",
    "\n"
   ]
  },
  {
   "cell_type": "code",
   "execution_count": 24,
   "metadata": {
    "colab": {
     "base_uri": "https://localhost:8080/",
     "height": 47
    },
    "deletable": false,
    "editable": false,
    "id": "M4yCg03uvmE-",
    "outputId": "85d6e0cc-8f92-4299-c159-c68c2cf91aa8"
   },
   "outputs": [
    {
     "data": {
      "text/html": [
       "<p><strong><pre style='display: inline;'>q6</pre></strong> passed! 🌈</p>"
      ],
      "text/plain": [
       "q6 results: All test cases passed!"
      ]
     },
     "execution_count": 24,
     "metadata": {},
     "output_type": "execute_result"
    }
   ],
   "source": [
    "grader.check(\"q6\")"
   ]
  },
  {
   "cell_type": "markdown",
   "metadata": {
    "id": "UXnx6IAZzhaT"
   },
   "source": [
    "## Q7 - (5 pts) \n",
    "\n",
    "Write code to take your list of lists of words and count the number of times each word appears.\n",
    "\n",
    "You may want to look at using `itertools` to flatten the list. Also, look at the built-in Python library `collections`, which helps create a special type of a Python dictonary. The `collection.Counter` object has a useful built-in method `most_common` that will return the most commonly used words and the number of times that they are used."
   ]
  },
  {
   "cell_type": "code",
   "execution_count": 25,
   "metadata": {
    "colab": {
     "base_uri": "https://localhost:8080/"
    },
    "id": "zN6WBn0uzWjM",
    "outputId": "9c4b6eca-9794-4700-82e8-26c9e27d42e8",
    "tags": []
   },
   "outputs": [
    {
     "data": {
      "text/plain": [
       "[('the', 568),\n",
       " ('#phillies', 515),\n",
       " ('#worldseries', 363),\n",
       " ('#astros', 350),\n",
       " ('to', 221),\n",
       " ('a', 179),\n",
       " ('in', 171),\n",
       " ('for', 132),\n",
       " ('and', 132),\n",
       " ('is', 123)]"
      ]
     },
     "execution_count": 25,
     "metadata": {},
     "output_type": "execute_result"
    }
   ],
   "source": [
    "# import itertools \n",
    "# import collections \n",
    "\n",
    "# flatten the list of tweets - words_in_tweets\n",
    "all_words = list(itertools.chain(*words_in_tweets))\n",
    "\n",
    "# Create a counter \n",
    "word_counts = collections.Counter(all_words)\n",
    "\n",
    "\n",
    "popular_words = word_counts.most_common(10)\n",
    "popular_words"
   ]
  },
  {
   "cell_type": "code",
   "execution_count": 26,
   "metadata": {
    "colab": {
     "base_uri": "https://localhost:8080/",
     "height": 47
    },
    "deletable": false,
    "editable": false,
    "id": "nm7wdwEWvmE-",
    "outputId": "d6a47d6d-a2af-4535-e537-21a8bb2e7d58"
   },
   "outputs": [
    {
     "data": {
      "text/html": [
       "<p><strong><pre style='display: inline;'>q7</pre></strong> passed! ✨</p>"
      ],
      "text/plain": [
       "q7 results: All test cases passed!"
      ]
     },
     "execution_count": 26,
     "metadata": {},
     "output_type": "execute_result"
    }
   ],
   "source": [
    "grader.check(\"q7\")"
   ]
  },
  {
   "cell_type": "markdown",
   "metadata": {
    "id": "5sq3o53z0E29"
   },
   "source": [
    "<!-- BEGIN QUESTION -->\n",
    "\n",
    "## Q8 - (5 pts) \n",
    "\n",
    "Plot the top 25 most frequently used words with their word counts.  \n",
    "Plot should be a horizontal bar chart. \n",
    "\n",
    "*Hint:* You may want to import the information from above into a Dataframe and use your normal plotting tools"
   ]
  },
  {
   "cell_type": "code",
   "execution_count": 27,
   "metadata": {
    "colab": {
     "base_uri": "https://localhost:8080/",
     "height": 336
    },
    "id": "lNFe-wkXz7Rw",
    "outputId": "1eb0138d-6fd5-4f07-8c2c-5a7aca933a31",
    "tags": []
   },
   "outputs": [
    {
     "data": {
      "image/png": "[encoded data removed]",
      "text/plain": [
       "<Figure size 720x360 with 1 Axes>"
      ]
     },
     "metadata": {
      "needs_background": "light"
     },
     "output_type": "display_data"
    }
   ],
   "source": [
    "# Create Plot \n",
    "popular_words = word_counts.most_common(25)\n",
    "# popular_words\n",
    "x=[]\n",
    "y=[]\n",
    "for i in range(25):\n",
    "    x.append(popular_words[i][0])\n",
    "    y.append(popular_words[i][1])\n",
    "# dfq5 = g1df.groupby('source')['text'].nunique().plot(kind='barh',figsize=(10,5),title='plot showing how many tweets came from each kind of source')\n",
    "# dfq5;\n",
    "\n",
    "plt.figure(figsize=(10,5))\n",
    "plt.barh(x,y)\n",
    "plt.title('Plot of top 25 most frequently words used');\n"
   ]
  },
  {
   "cell_type": "markdown",
   "metadata": {
    "id": "YSQ3jMaX0yyB"
   },
   "source": [
    "<!-- END QUESTION -->\n",
    "\n",
    "<!-- BEGIN QUESTION -->\n",
    "\n",
    "## Bonus - (5 pts) \n",
    "\n",
    "You may see a number of very common words as the most common, e.g., the, in, to, of, etc. You may want to remove those common words, these are typically referred to as \"stop words\" in the text analysis communities.\n",
    "\n",
    "The python package `nltk` is used for text analysis. It provides a list of \"stop words\". \n",
    "\n",
    "Re-analyze the tweet text by removing stop words from consideration, and plot the 20 most popular words with their frequencies."
   ]
  },
  {
   "cell_type": "code",
   "execution_count": 28,
   "metadata": {
    "colab": {
     "base_uri": "https://localhost:8080/"
    },
    "id": "5XybzTs-0363",
    "outputId": "d2298042-9d2b-482f-aa2e-97bce646c5af"
   },
   "outputs": [
    {
     "name": "stderr",
     "output_type": "stream",
     "text": [
      "[nltk_data] Downloading package stopwords to\n",
      "[nltk_data]     C:\\Users\\user\\AppData\\Roaming\\nltk_data...\n",
      "[nltk_data]   Package stopwords is already up-to-date!\n"
     ]
    },
    {
     "data": {
      "text/plain": [
       "True"
      ]
     },
     "execution_count": 28,
     "metadata": {},
     "output_type": "execute_result"
    }
   ],
   "source": [
    "# import nltk\n",
    "nltk.download('stopwords')"
   ]
  },
  {
   "cell_type": "code",
   "execution_count": 29,
   "metadata": {
    "colab": {
     "base_uri": "https://localhost:8080/"
    },
    "id": "m4AwMJzT07R_",
    "outputId": "75164901-0578-41ec-9c21-0b20e520bd1a"
   },
   "outputs": [
    {
     "data": {
      "text/plain": [
       "[\"you'll\",\n",
       " \"you've\",\n",
       " 'again',\n",
       " 'to',\n",
       " 'those',\n",
       " \"shan't\",\n",
       " \"isn't\",\n",
       " 'or',\n",
       " 'whom',\n",
       " 'yours']"
      ]
     },
     "execution_count": 29,
     "metadata": {},
     "output_type": "execute_result"
    }
   ],
   "source": [
    "from nltk.corpus import stopwords\n",
    "stop_words = set(stopwords.words('english'))\n",
    "\n",
    "# View a few words from the set\n",
    "list(stop_words)[0:10]"
   ]
  },
  {
   "cell_type": "code",
   "execution_count": null,
   "metadata": {
    "colab": {
     "base_uri": "https://localhost:8080/",
     "height": 336
    },
    "id": "YdMbD8l2097q",
    "outputId": "343cf9fe-bff2-4bb5-a456-d4b895c2b786",
    "scrolled": true,
    "tags": []
   },
   "outputs": [
    {
     "data": {
      "image/png": "[encoded data removed]",
      "text/plain": [
       "<Figure size 720x360 with 1 Axes>"
      ]
     },
     "metadata": {
      "needs_background": "light"
     },
     "output_type": "display_data"
    }
   ],
   "source": [
    "# flatten the list of tweets - words_in_tweets\n",
    "all_words = list(itertools.chain(*words_in_tweets))\n",
    "res = filter(lambda i: i not in stop_words, all_words)\n",
    "\n",
    "# Create a counter \n",
    "word_counts = collections.Counter(res)\n",
    "\n",
    "popular_words = word_counts.most_common(20)\n",
    "# popular_words\n",
    "x=[]\n",
    "y=[]\n",
    "for i in range(20):\n",
    "    x.append(popular_words[i][0])\n",
    "    y.append(popular_words[i][1])\n",
    "# dfq5 = g1df.groupby('source')['text'].nunique().plot(kind='barh',figsize=(10,5),title='plot showing how many tweets came from each kind of source')\n",
    "# dfq5;\n",
    "\n",
    "plt.figure(figsize=(10,5))\n",
    "plt.barh(x,y)\n",
    "plt.title('Plot of top 25 most frequently words used');\n",
    "\n"
   ]
  },
  {
   "cell_type": "markdown",
   "metadata": {
    "id": "slCA0fRXvmFA"
   },
   "source": [
    "<!-- END QUESTION -->\n",
    "\n"
   ]
  },
  {
   "cell_type": "markdown",
   "metadata": {
    "deletable": false,
    "editable": false,
    "id": "Yu277RH6vmFA"
   },
   "source": [
    "## Submission\n",
    "\n",
    "Make sure you have run all cells in your notebook in order before running the cell below, so that all images/graphs appear in the output. The cell below will generate a zip file for you to submit. **Please save before exporting!**\n",
    "\n",
    "**NOTE** the following cell can not be run in Colab or Deepnote.  You can work in Colab and save the results, but the export function must be run in a Jupyter environment on the campus lab machines or your own computer.  See the instruction in the Canvas assignment."
   ]
  },
  {
   "cell_type": "code",
   "execution_count": null,
   "metadata": {
    "deletable": false,
    "editable": false,
    "id": "E2C_cZ-pvmFA"
   },
   "outputs": [],
   "source": [
    "# Save your notebook first, then run this cell to export your submission.\n",
    "grader.export(pdf=False)"
   ]
  },
  {
   "cell_type": "markdown",
   "metadata": {
    "id": "7EhUJgtJvmFA"
   },
   "source": [
    " "
   ]
  }
 ],
 "metadata": {
  "colab": {
   "collapsed_sections": [],
   "provenance": [],
   "toc_visible": true
  },
  "kernelspec": {
   "display_name": "Python 3",
   "language": "python",
   "name": "python3"
  },
  "language_info": {
   "codemirror_mode": {
    "name": "ipython",
    "version": 3
   },
   "file_extension": ".py",
   "mimetype": "text/x-python",
   "name": "python",
   "nbconvert_exporter": "python",
   "pygments_lexer": "ipython3",
   "version": "3.7.3"
  },
  "otter": {
   "OK_FORMAT": true,
   "tests": {
    "q1": {
     "name": "q1",
     "points": 8,
     "suites": [
      {
       "cases": [
        {
         "code": ">>> astros_tweets[0]['id'] == '1587224688098418693'\nTrue",
         "hidden": false,
         "locked": false
        },
        {
         "code": ">>> astros_tweets[0]['source'] == 'Twitter for iPhone'\nTrue",
         "hidden": false,
         "locked": false
        },
        {
         "code": ">>> astros_tweets[10]['text'][100:110]==' around Di'\nTrue",
         "hidden": false,
         "locked": false
        },
        {
         "code": ">>> astros_tweets[15]['created_at']=='2022-10-30T04:01:09.000Z'\nTrue",
         "hidden": false,
         "locked": false
        },
        {
         "code": ">>> astros_tweets[20]['text'][25:34]=='#Astros 5'\nTrue",
         "hidden": false,
         "locked": false
        },
        {
         "code": ">>> astros_tweets[17]['source']=='Twitter Media Studio'\nTrue",
         "hidden": false,
         "locked": false
        },
        {
         "code": ">>> astros_tweets[23]['text'][10:20]=='://t.co/D6'\nTrue",
         "hidden": false,
         "locked": false
        },
        {
         "code": ">>> astros_tweets[8]['id'] == '1586816184732852225'\nTrue",
         "hidden": false,
         "locked": false
        }
       ],
       "scored": true,
       "setup": "",
       "teardown": "",
       "type": "doctest"
      }
     ]
    },
    "q2": {
     "name": "q2",
     "points": 7,
     "suites": [
      {
       "cases": [
        {
         "code": ">>> extract_time(astros_tweets[0])=='2022-10-31T23:27:09.000Z' and \\\n... extract_time(astros_tweets[8])=='2022-10-30T20:23:54.000Z'\nTrue",
         "hidden": false,
         "locked": false
        },
        {
         "code": ">>> extract_text(astros_tweets[7])[0:16]=='Happy Halloween!' and \\\n... extract_text(astros_tweets[19])[5:17]=='s more like '\nTrue",
         "hidden": false,
         "locked": false
        },
        {
         "code": ">>> extract_source(astros_tweets[5])=='Twitter Web App' and \\\n... extract_source(astros_tweets[12])=='Twitter Web App'\nTrue",
         "hidden": false,
         "locked": false
        },
        {
         "code": ">>> extract_like_num(astros_tweets[13]) >= 989 and \\\n... extract_like_num(astros_tweets[13]) < 1010\nTrue",
         "hidden": false,
         "locked": false
        },
        {
         "code": ">>> extract_retweet_num(astros_tweets[21])>=869 and \\\n... extract_retweet_num(astros_tweets[21]) < 900\nTrue",
         "hidden": false,
         "locked": false
        },
        {
         "code": ">>> extract_quote_num(astros_tweets[20])>=243 and \\\n... extract_quote_num(astros_tweets[20]) < 250\nTrue",
         "hidden": false,
         "locked": false
        },
        {
         "code": ">>> extract_reply_num(astros_tweets[11])>=15 and \\\n... extract_reply_num(astros_tweets[11]) < 20\nTrue",
         "hidden": false,
         "locked": false
        }
       ],
       "scored": true,
       "setup": "",
       "teardown": "",
       "type": "doctest"
      }
     ]
    },
    "q4": {
     "name": "q4",
     "points": 4,
     "suites": [
      {
       "cases": [
        {
         "code": ">>> g1df.shape == (799,7)\nTrue",
         "hidden": false,
         "locked": false
        },
        {
         "code": ">>> g1df.columns[0] == 'text' and g1df.columns[1] == 'time' and \\\n... g1df.columns[2] == 'source' and g1df.columns[3] == 'likeNum' and \\\n... g1df.columns[4] == 'retweetNum' and g1df.columns[5] == 'quoteNum' and \\\n... g1df.columns[6] == 'replyNum'\nTrue",
         "hidden": false,
         "locked": false
        },
        {
         "code": ">>> g1df['source'][10] == 'Twitter for iPhone' and g1df['source'][253] == 'Twitter Web App'\nTrue",
         "hidden": false,
         "locked": false
        },
        {
         "code": ">>> g1df['text'][24][20:30] == 'Tucker chr' and g1df['text'][367][20:30] == 'ros #World'\nTrue",
         "hidden": false,
         "locked": false
        },
        {
         "code": ">>> g1df['text'][562][10:20] == 'e would be' and g1df['text'][692][10:20] == 's CAME THR'\nTrue",
         "hidden": false,
         "locked": false
        },
        {
         "code": ">>> list(g1df['retweetNum'][168:172]) == [0, 0, 0, 0]\nTrue",
         "hidden": false,
         "locked": false
        },
        {
         "code": ">>> list(g1df['likeNum'][341:345]) == [3, 0, 1, 0]\nTrue",
         "hidden": false,
         "locked": false
        },
        {
         "code": ">>> list(g1df['replyNum'][482:486]) == [0, 0, 0, 0]\nTrue",
         "hidden": false,
         "locked": false
        }
       ],
       "scored": true,
       "setup": "",
       "teardown": "",
       "type": "doctest"
      }
     ]
    },
    "q6": {
     "name": "q6",
     "points": 5,
     "suites": [
      {
       "cases": [
        {
         "code": ">>> words_in_tweets[1][3] == 'philadelphia' and words_in_tweets[1][4] == 'phillies'\nTrue",
         "hidden": false,
         "locked": false
        },
        {
         "code": ">>> words_in_tweets[10][5] == 'professional' and words_in_tweets[13][8] == 'to'\nTrue",
         "hidden": false,
         "locked": false
        },
        {
         "code": ">>> words_in_tweets[121][5] == 'at' and words_in_tweets[158][1] == 'made'\nTrue",
         "hidden": false,
         "locked": false
        },
        {
         "code": ">>> words_in_tweets[325][3] == 'if' and words_in_tweets[426][10] == 'all'\nTrue",
         "hidden": false,
         "locked": false
        },
        {
         "code": ">>> words_in_tweets[672][4] == 'back' and words_in_tweets[725][3] == 'to'\nTrue",
         "hidden": false,
         "locked": false
        }
       ],
       "scored": true,
       "setup": "",
       "teardown": "",
       "type": "doctest"
      }
     ]
    },
    "q7": {
     "name": "q7",
     "points": 5,
     "suites": [
      {
       "cases": [
        {
         "code": ">>> type(word_counts) == collections.Counter\nTrue",
         "hidden": false,
         "locked": false
        },
        {
         "code": ">>> s = sorted(word_counts.keys())\n>>> s[0] == '!' and s[25] == '#angels' and s[45] == '#baltimore'\nTrue",
         "hidden": false,
         "locked": false
        },
        {
         "code": ">>> popular_words[2] == ('#worldseries', 363) \nTrue",
         "hidden": false,
         "locked": false
        },
        {
         "code": ">>> popular_words[7] == ('for', 132)\nTrue",
         "hidden": false,
         "locked": false
        },
        {
         "code": ">>> popular_words[1] == ('#phillies', 515)\nTrue",
         "hidden": false,
         "locked": false
        }
       ],
       "scored": true,
       "setup": "",
       "teardown": "",
       "type": "doctest"
      }
     ]
    }
   }
  }
 },
 "nbformat": 4,
 "nbformat_minor": 1
}
