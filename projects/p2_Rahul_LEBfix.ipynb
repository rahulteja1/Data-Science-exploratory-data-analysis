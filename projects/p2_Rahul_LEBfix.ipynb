{
 "cells": [
  {
   "cell_type": "markdown",
   "metadata": {
    "id": "jF6GNkGEqRe3"
   },
   "source": [
    "# P2 - Statistics + Visualization\n",
    "\n",
    "\n",
    "This project is intended to give you experience with statistics and working with a large data set.\n",
    "\n",
    "\n",
    "\n"
   ]
  },
  {
   "cell_type": "markdown",
   "metadata": {
    "id": "eDSZ5xhES4jg"
   },
   "source": [
    "## Autograder Setup\n",
    "\n",
    "The next code cell should be uncommented to run the autograder tests when using Colab/DeepNote. If you are using an environment with `otter-grader` already installed (your own machine, lab machines), then do not uncomment the code."
   ]
  },
  {
   "cell_type": "code",
   "execution_count": 1,
   "metadata": {
    "colab": {
     "base_uri": "https://localhost:8080/"
    },
    "id": "kQxL2KfTS4jh",
    "outputId": "e5726dbe-e564-4f0d-ba39-54e08bce93b3"
   },
   "outputs": [
    {
     "name": "stdout",
     "output_type": "stream",
     "text": [
      "Looking in indexes: https://pypi.org/simple, https://us-python.pkg.dev/colab-wheels/public/simple/\n",
      "Collecting otter-grader\n",
      "  Downloading otter_grader-4.1.0-py3-none-any.whl (168 kB)\n",
      "\u001b[K     |████████████████████████████████| 168 kB 3.7 MB/s \n",
      "\u001b[?25hRequirement already satisfied: PyYAML in /usr/local/lib/python3.7/dist-packages (from otter-grader) (6.0)\n",
      "Requirement already satisfied: click in /usr/local/lib/python3.7/dist-packages (from otter-grader) (7.1.2)\n",
      "Collecting fica>=0.2.0\n",
      "  Downloading fica-0.2.0-py3-none-any.whl (11 kB)\n",
      "Requirement already satisfied: google-auth-oauthlib in /usr/local/lib/python3.7/dist-packages (from otter-grader) (0.4.6)\n",
      "Requirement already satisfied: gspread in /usr/local/lib/python3.7/dist-packages (from otter-grader) (3.4.2)\n",
      "Requirement already satisfied: dill in /usr/local/lib/python3.7/dist-packages (from otter-grader) (0.3.5.1)\n",
      "Requirement already satisfied: google-api-python-client in /usr/local/lib/python3.7/dist-packages (from otter-grader) (1.12.11)\n",
      "Requirement already satisfied: six in /usr/local/lib/python3.7/dist-packages (from otter-grader) (1.15.0)\n",
      "Requirement already satisfied: nbformat in /usr/local/lib/python3.7/dist-packages (from otter-grader) (5.6.1)\n",
      "Collecting python-on-whales\n",
      "  Downloading python_on_whales-0.52.0-py3-none-any.whl (97 kB)\n",
      "\u001b[K     |████████████████████████████████| 97 kB 3.5 MB/s \n",
      "\u001b[?25hCollecting jupytext\n",
      "  Downloading jupytext-1.14.1-py3-none-any.whl (297 kB)\n",
      "\u001b[K     |████████████████████████████████| 297 kB 24.8 MB/s \n",
      "\u001b[?25hRequirement already satisfied: pandas in /usr/local/lib/python3.7/dist-packages (from otter-grader) (1.3.5)\n",
      "Requirement already satisfied: requests in /usr/local/lib/python3.7/dist-packages (from otter-grader) (2.23.0)\n",
      "Requirement already satisfied: wrapt in /usr/local/lib/python3.7/dist-packages (from otter-grader) (1.14.1)\n",
      "Requirement already satisfied: jinja2 in /usr/local/lib/python3.7/dist-packages (from otter-grader) (2.11.3)\n",
      "Requirement already satisfied: sphinx in /usr/local/lib/python3.7/dist-packages (from fica>=0.2.0->otter-grader) (1.8.6)\n",
      "Requirement already satisfied: docutils in /usr/local/lib/python3.7/dist-packages (from fica>=0.2.0->otter-grader) (0.17.1)\n",
      "Requirement already satisfied: google-auth-httplib2>=0.0.3 in /usr/local/lib/python3.7/dist-packages (from google-api-python-client->otter-grader) (0.0.4)\n",
      "Requirement already satisfied: uritemplate<4dev,>=3.0.0 in /usr/local/lib/python3.7/dist-packages (from google-api-python-client->otter-grader) (3.0.1)\n",
      "Requirement already satisfied: httplib2<1dev,>=0.15.0 in /usr/local/lib/python3.7/dist-packages (from google-api-python-client->otter-grader) (0.17.4)\n",
      "Requirement already satisfied: google-api-core<3dev,>=1.21.0 in /usr/local/lib/python3.7/dist-packages (from google-api-python-client->otter-grader) (1.31.6)\n",
      "Requirement already satisfied: google-auth<3dev,>=1.16.0 in /usr/local/lib/python3.7/dist-packages (from google-api-python-client->otter-grader) (1.35.0)\n",
      "Requirement already satisfied: pytz in /usr/local/lib/python3.7/dist-packages (from google-api-core<3dev,>=1.21.0->google-api-python-client->otter-grader) (2022.4)\n",
      "Requirement already satisfied: googleapis-common-protos<2.0dev,>=1.6.0 in /usr/local/lib/python3.7/dist-packages (from google-api-core<3dev,>=1.21.0->google-api-python-client->otter-grader) (1.56.4)\n",
      "Requirement already satisfied: setuptools>=40.3.0 in /usr/local/lib/python3.7/dist-packages (from google-api-core<3dev,>=1.21.0->google-api-python-client->otter-grader) (57.4.0)\n",
      "Requirement already satisfied: protobuf<4.0.0dev,>=3.12.0 in /usr/local/lib/python3.7/dist-packages (from google-api-core<3dev,>=1.21.0->google-api-python-client->otter-grader) (3.17.3)\n",
      "Requirement already satisfied: packaging>=14.3 in /usr/local/lib/python3.7/dist-packages (from google-api-core<3dev,>=1.21.0->google-api-python-client->otter-grader) (21.3)\n",
      "Requirement already satisfied: rsa<5,>=3.1.4 in /usr/local/lib/python3.7/dist-packages (from google-auth<3dev,>=1.16.0->google-api-python-client->otter-grader) (4.9)\n",
      "Requirement already satisfied: pyasn1-modules>=0.2.1 in /usr/local/lib/python3.7/dist-packages (from google-auth<3dev,>=1.16.0->google-api-python-client->otter-grader) (0.2.8)\n",
      "Requirement already satisfied: cachetools<5.0,>=2.0.0 in /usr/local/lib/python3.7/dist-packages (from google-auth<3dev,>=1.16.0->google-api-python-client->otter-grader) (4.2.4)\n",
      "Requirement already satisfied: pyparsing!=3.0.5,>=2.0.2 in /usr/local/lib/python3.7/dist-packages (from packaging>=14.3->google-api-core<3dev,>=1.21.0->google-api-python-client->otter-grader) (3.0.9)\n",
      "Requirement already satisfied: pyasn1<0.5.0,>=0.4.6 in /usr/local/lib/python3.7/dist-packages (from pyasn1-modules>=0.2.1->google-auth<3dev,>=1.16.0->google-api-python-client->otter-grader) (0.4.8)\n",
      "Requirement already satisfied: urllib3!=1.25.0,!=1.25.1,<1.26,>=1.21.1 in /usr/local/lib/python3.7/dist-packages (from requests->otter-grader) (1.24.3)\n",
      "Requirement already satisfied: chardet<4,>=3.0.2 in /usr/local/lib/python3.7/dist-packages (from requests->otter-grader) (3.0.4)\n",
      "Requirement already satisfied: certifi>=2017.4.17 in /usr/local/lib/python3.7/dist-packages (from requests->otter-grader) (2022.9.24)\n",
      "Requirement already satisfied: idna<3,>=2.5 in /usr/local/lib/python3.7/dist-packages (from requests->otter-grader) (2.10)\n",
      "Requirement already satisfied: requests-oauthlib>=0.7.0 in /usr/local/lib/python3.7/dist-packages (from google-auth-oauthlib->otter-grader) (1.3.1)\n",
      "Requirement already satisfied: oauthlib>=3.0.0 in /usr/local/lib/python3.7/dist-packages (from requests-oauthlib>=0.7.0->google-auth-oauthlib->otter-grader) (3.2.1)\n",
      "Requirement already satisfied: MarkupSafe>=0.23 in /usr/local/lib/python3.7/dist-packages (from jinja2->otter-grader) (2.0.1)\n",
      "Requirement already satisfied: toml in /usr/local/lib/python3.7/dist-packages (from jupytext->otter-grader) (0.10.2)\n",
      "Collecting mdit-py-plugins\n",
      "  Downloading mdit_py_plugins-0.3.1-py3-none-any.whl (46 kB)\n",
      "\u001b[K     |████████████████████████████████| 46 kB 1.6 MB/s \n",
      "\u001b[?25hCollecting markdown-it-py<3.0.0,>=1.0.0\n",
      "  Downloading markdown_it_py-2.1.0-py3-none-any.whl (84 kB)\n",
      "\u001b[K     |████████████████████████████████| 84 kB 1.3 MB/s \n",
      "\u001b[?25hCollecting mdurl~=0.1\n",
      "  Downloading mdurl-0.1.2-py3-none-any.whl (10.0 kB)\n",
      "Requirement already satisfied: typing_extensions>=3.7.4 in /usr/local/lib/python3.7/dist-packages (from markdown-it-py<3.0.0,>=1.0.0->jupytext->otter-grader) (4.1.1)\n",
      "Requirement already satisfied: importlib-metadata>=3.6 in /usr/local/lib/python3.7/dist-packages (from nbformat->otter-grader) (5.0.0)\n",
      "Requirement already satisfied: traitlets>=5.1 in /usr/local/lib/python3.7/dist-packages (from nbformat->otter-grader) (5.1.1)\n",
      "Requirement already satisfied: fastjsonschema in /usr/local/lib/python3.7/dist-packages (from nbformat->otter-grader) (2.16.2)\n",
      "Requirement already satisfied: jsonschema>=2.6 in /usr/local/lib/python3.7/dist-packages (from nbformat->otter-grader) (4.3.3)\n",
      "Requirement already satisfied: jupyter-core in /usr/local/lib/python3.7/dist-packages (from nbformat->otter-grader) (4.11.1)\n",
      "Requirement already satisfied: zipp>=0.5 in /usr/local/lib/python3.7/dist-packages (from importlib-metadata>=3.6->nbformat->otter-grader) (3.8.1)\n",
      "Requirement already satisfied: attrs>=17.4.0 in /usr/local/lib/python3.7/dist-packages (from jsonschema>=2.6->nbformat->otter-grader) (22.1.0)\n",
      "Requirement already satisfied: pyrsistent!=0.17.0,!=0.17.1,!=0.17.2,>=0.14.0 in /usr/local/lib/python3.7/dist-packages (from jsonschema>=2.6->nbformat->otter-grader) (0.18.1)\n",
      "Requirement already satisfied: importlib-resources>=1.4.0 in /usr/local/lib/python3.7/dist-packages (from jsonschema>=2.6->nbformat->otter-grader) (5.9.0)\n",
      "Requirement already satisfied: python-dateutil>=2.7.3 in /usr/local/lib/python3.7/dist-packages (from pandas->otter-grader) (2.8.2)\n",
      "Requirement already satisfied: numpy>=1.17.3 in /usr/local/lib/python3.7/dist-packages (from pandas->otter-grader) (1.21.6)\n",
      "Requirement already satisfied: tqdm in /usr/local/lib/python3.7/dist-packages (from python-on-whales->otter-grader) (4.64.1)\n",
      "Requirement already satisfied: typer>=0.4.1 in /usr/local/lib/python3.7/dist-packages (from python-on-whales->otter-grader) (0.4.2)\n",
      "Requirement already satisfied: pydantic in /usr/local/lib/python3.7/dist-packages (from python-on-whales->otter-grader) (1.9.2)\n",
      "Requirement already satisfied: babel!=2.0,>=1.3 in /usr/local/lib/python3.7/dist-packages (from sphinx->fica>=0.2.0->otter-grader) (2.10.3)\n",
      "Requirement already satisfied: Pygments>=2.0 in /usr/local/lib/python3.7/dist-packages (from sphinx->fica>=0.2.0->otter-grader) (2.6.1)\n",
      "Requirement already satisfied: snowballstemmer>=1.1 in /usr/local/lib/python3.7/dist-packages (from sphinx->fica>=0.2.0->otter-grader) (2.2.0)\n",
      "Requirement already satisfied: sphinxcontrib-websupport in /usr/local/lib/python3.7/dist-packages (from sphinx->fica>=0.2.0->otter-grader) (1.2.4)\n",
      "Requirement already satisfied: imagesize in /usr/local/lib/python3.7/dist-packages (from sphinx->fica>=0.2.0->otter-grader) (1.4.1)\n",
      "Requirement already satisfied: alabaster<0.8,>=0.7 in /usr/local/lib/python3.7/dist-packages (from sphinx->fica>=0.2.0->otter-grader) (0.7.12)\n",
      "Requirement already satisfied: sphinxcontrib-serializinghtml in /usr/local/lib/python3.7/dist-packages (from sphinxcontrib-websupport->sphinx->fica>=0.2.0->otter-grader) (1.1.5)\n",
      "Installing collected packages: mdurl, markdown-it-py, mdit-py-plugins, python-on-whales, jupytext, fica, otter-grader\n",
      "Successfully installed fica-0.2.0 jupytext-1.14.1 markdown-it-py-2.1.0 mdit-py-plugins-0.3.1 mdurl-0.1.2 otter-grader-4.1.0 python-on-whales-0.52.0\n"
     ]
    }
   ],
   "source": [
    "# !pip install otter-grader"
   ]
  },
  {
   "cell_type": "markdown",
   "metadata": {
    "id": "hNAj0nGJS4jj"
   },
   "source": [
    "For this project, you will download the data and public autograder tests using a new mechanism (see later sections).  "
   ]
  },
  {
   "cell_type": "markdown",
   "metadata": {
    "id": "9DsmEbwqS4jk"
   },
   "source": [
    "## Project Setup\n",
    "\n",
    "You should use the following modules in this assignment and not need any additional modules. "
   ]
  },
  {
   "cell_type": "code",
   "execution_count": 2,
   "metadata": {
    "id": "WNM1QRdazqgy"
   },
   "outputs": [],
   "source": [
    "import pandas as pd\n",
    "import numpy as np\n",
    "import matplotlib.pyplot as plt\n",
    "%matplotlib inline \n",
    "import seaborn as sns\n",
    "import datetime\n",
    "import os \n",
    "import getpass\n",
    "import requests\n",
    "\n",
    "import otter\n"
   ]
  },
  {
   "cell_type": "markdown",
   "metadata": {
    "id": "btppYjmdqu7s"
   },
   "source": [
    "# Flight Delays\n",
    "\n",
    "Suppose the Houghton County Airport (CMX) is ready to renew its passenger airplance contract.  Airport officials and interested passengers would like to select an airline and connecting city that has reliable service.  *Currently, CMX is being served by United Airlines through Chicago-O'hare (ORD); it has been served by Delta in the past with connections to Minneapolis-St. Paul (MSP).* \n",
    "\n",
    "In order to make an informed decision, you have been tasked to look at flight delay statistics for three potential connector airports: \n",
    "\n",
    "* Chicago - O'hare (ORD) \n",
    "* Detroit (DTW) \n",
    "* Minneapolis - St. Paul (MSP) \n",
    "\n",
    "The data you are provided comes from the US Department of Transportation's [Bureau of Transportation Statistics (BTS)](https://www.bts.gov).  In particular, it comes from the Reporting Carrier On-Time Performance data tables:  \n",
    "https://www.transtats.bts.gov/TableInfo.asp?gnoyr_VQ=FGJ&QO_fu146_anzr=b0-gvzr&V0s1_b0yB=D\n",
    "\n",
    "Information on the variables can be found in the Field Information:  \n",
    "https://www.transtats.bts.gov/Fields.asp?gnoyr_VQ=FGJ\n",
    "\n",
    "\n",
    "The data is structure with the following elements: \n",
    "\n",
    "* \"YEAR\"\n",
    "* \"MONTH\"\n",
    "* \"DAY_OF_MONTH\"\n",
    "* \"OP_UNIQUE_CARRIER\" - Unique Carrier Code\n",
    "* \"TAIL_NUM\" - Tail number \n",
    "* \"OP_CARRIER_FL_NUM\" - Flight number \n",
    "* \"ORIGIN\" - Origin Airport code \n",
    "* \"DEST\" - Destination Airport code \n",
    "* \"CRS_DEP_TIME\" - Computer Reservation System Departure Time (local time: hhmm)\n",
    "* \"DEP_TIME\" - Actual Departure Time (local time: hhmm)\n",
    "* \"DEP_NEXT_DAY\" - the flight departed on the: (scheduled day = 0), (next day = 1), (following day = 2), or (day before  = -1)\n",
    "* \"CRS_ARR_TIME\" - Computer Reservation System Arrival Time (local time: hhmm)\n",
    "* \"ARR_TIME\" - Actual Arrival Time \n",
    "* \"ARR_NEXT_DAY\" - the flight arrived on the: (scheduled day = 0), (next day = 1), (following day = 2), or (day before  = -1)\n",
    "* \"CANCELLED\" - Cancelled Flight Indicator (1 = Yes)\n",
    "* \"DIVERTED\" - Diverted Flight Indicator (1 = Yes)\n",
    "\n",
    "You have access to 5 years of data Jan 2017 - Dec 2021. "
   ]
  },
  {
   "cell_type": "markdown",
   "metadata": {
    "id": "D_tu0O0G4GkA"
   },
   "source": [
    "## Access the Data \n",
    "\n",
    "The data is available as a [Kaggle](http://www.kaggle.com) data set.  \n",
    "\n",
    "\n",
    "Steps to download: \n",
    "\n",
    "1. Create a [Kaggle](https://www.kaggle.com/) account (if you don't have one already). \n",
    "2. After you log in, go to \"My Account\" \n",
    "3. Under API, select \"Create API token\", this will download a `kaggle.json` file that has two pieces of information:  `username` and  `key`.  **Keep the `key` private!**\n",
    "4. Post your username on Ed in response to the question on this.  I am not making the data available publicly, but will share it with you all by your kaggle account.  \n",
    "\n",
    "\n",
    "You will need to use your Kaggle credentials: `username` and API `key` to access the data using one of the methods below. "
   ]
  },
  {
   "cell_type": "markdown",
   "metadata": {
    "id": "-SEdSfuSZRiR"
   },
   "source": [
    "## Q0 - Data Access \n",
    "\n",
    "Complete assignment P2a. \n",
    "\n",
    "Email or Post on Ed your Kaggle `username`.  The post on Ed can be a private response.  **DO NOT SHARE YOUR KEY!**  just share your Kaggle username. \n",
    "\n",
    "Then uncomment one of the methods below to get your username and key available. "
   ]
  },
  {
   "cell_type": "markdown",
   "metadata": {
    "id": "iBZo_WTo4oP_"
   },
   "source": [
    "#### Method 1: (Recomended) \n",
    "\n",
    "Copy and paste the key information (does not upload your key information to the Drive)."
   ]
  },
  {
   "cell_type": "code",
   "execution_count": 3,
   "metadata": {
    "colab": {
     "base_uri": "https://localhost:8080/"
    },
    "id": "VMuIuhxh4q5R",
    "outputId": "0c9dc356-69bf-4f9e-ec0b-5a6a6a047eb6"
   },
   "outputs": [
    {
     "name": "stdout",
     "output_type": "stream",
     "text": [
      "Enter Kaggle Username: ··········\n",
      "Enter Kaggle API Key:  ··········\n"
     ]
    }
   ],
   "source": [
    "# import os \n",
    "# from getpass import getpass\n",
    "\n",
    "# os.environ['KAGGLE_USERNAME'] = getpass(\"Enter Kaggle Username: \")\n",
    "# os.environ['KAGGLE_KEY'] = getpass(\"Enter Kaggle API Key:  \")"
   ]
  },
  {
   "cell_type": "markdown",
   "metadata": {
    "id": "aWTRI0BY4wAd"
   },
   "source": [
    "#### Method 2: \n",
    "\n",
    "Load `kaggle.json` to Colab directory (file is destroyed when sevice is disconnected).  This method relys on Google's security for safely storing and protecting your data."
   ]
  },
  {
   "cell_type": "code",
   "execution_count": null,
   "metadata": {
    "id": "rZ3PkJtV40np"
   },
   "outputs": [],
   "source": [
    "# from google.colab import files\n",
    "# uploaded = files.upload()"
   ]
  },
  {
   "cell_type": "code",
   "execution_count": null,
   "metadata": {
    "id": "O6CNeNfc44U8"
   },
   "outputs": [],
   "source": [
    "# with open(\"kaggle.json\") as f:\n",
    "#     keys = json.load(f)\n",
    "\n",
    "# os.environ['KAGGLE_USERNAME'] = keys[\"username\"] # username from the json file\n",
    "# os.environ['KAGGLE_KEY'] = keys[\"key\"] # key from the json file"
   ]
  },
  {
   "cell_type": "markdown",
   "metadata": {
    "id": "SQA10H9746-v"
   },
   "source": [
    "## Download the Data \n",
    "\n",
    "Uncomment the following to get the data and autograder tests. "
   ]
  },
  {
   "cell_type": "code",
   "execution_count": 4,
   "metadata": {
    "colab": {
     "base_uri": "https://localhost:8080/"
    },
    "id": "H8xpmkYv4_aC",
    "outputId": "ad4bc111-0d3a-4d71-aaa2-64e23f2590a8"
   },
   "outputs": [
    {
     "name": "stdout",
     "output_type": "stream",
     "text": [
      "Downloading un5550-f22-p2.zip to /content\n",
      " 66% 43.0M/65.4M [00:01<00:00, 50.4MB/s]\n",
      "100% 65.4M/65.4M [00:01<00:00, 52.1MB/s]\n"
     ]
    }
   ],
   "source": [
    "# !kaggle datasets download -d lebrown/un5550-f22-p2     # api copied from kaggle"
   ]
  },
  {
   "cell_type": "code",
   "execution_count": 5,
   "metadata": {
    "colab": {
     "base_uri": "https://localhost:8080/"
    },
    "id": "99sQsFGjS4ju",
    "outputId": "1910ef9d-bf04-4a00-977a-3bc698aa29e3"
   },
   "outputs": [
    {
     "name": "stdout",
     "output_type": "stream",
     "text": [
      "Archive:  un5550-f22-p2.zip\n",
      "  inflating: flight-data.csv         \n",
      "  inflating: tests/q1.py             \n",
      "  inflating: tests/q10.py            \n",
      "  inflating: tests/q2.py             \n",
      "  inflating: tests/q3.py             \n",
      "  inflating: tests/q4.py             \n",
      "  inflating: tests/q5.py             \n",
      "  inflating: tests/q6.py             \n",
      "  inflating: tests/q7.py             \n",
      "  inflating: tests/q8.py             \n"
     ]
    }
   ],
   "source": [
    "# !unzip un5550-f22-p2.zip"
   ]
  },
  {
   "cell_type": "markdown",
   "metadata": {
    "id": "7Bbj_TC781vb"
   },
   "source": [
    "As you can see, there is a data file `flight-data`.  Now with the test files available we can set up the grader. "
   ]
  },
  {
   "cell_type": "code",
   "execution_count": 6,
   "metadata": {
    "id": "mTqPJnfgS4jv"
   },
   "outputs": [],
   "source": [
    "# grader = otter.Notebook()"
   ]
  },
  {
   "cell_type": "markdown",
   "metadata": {
    "id": "KlPF45q49Cgz"
   },
   "source": [
    "### Aside: Creating this DataFrame \n",
    "\n",
    "The raw data from the BTS comes in files for each month over the 5 year period.  So a collection of 60 files.  \n",
    "\n",
    "The 60 files can be combined together into a single data frame through multiple methods.   Here we can compare two. \n",
    "\n"
   ]
  },
  {
   "cell_type": "markdown",
   "metadata": {
    "id": "hYMJjM5YS4jv"
   },
   "source": [
    "#### Create DataFrame - version 1 \n",
    "\n",
    "In this version we will use pandas `concat` or concatenate function. "
   ]
  },
  {
   "cell_type": "markdown",
   "metadata": {
    "id": "b-horeLIS4jw"
   },
   "source": [
    "```python\n",
    "import time\n",
    "start = time.time()\n",
    "df = pd.DataFrame() \n",
    "\n",
    "# Iterate over all files \n",
    "for file in os.listdir(path):\n",
    "    if file.endswith(\".csv\"):\n",
    "        df = pd.concat([df, pd.read_csv(file, header=None)], axis=0)\n",
    "\n",
    "# reset the index \n",
    "df.reset_index(drop=True, inplace=True)\n",
    "end = time.time()\n",
    "\n",
    "print(\"Elapsed time:  \", end - start)\n",
    "```\n",
    "\n",
    "This method takes ~35 seconds to run. "
   ]
  },
  {
   "cell_type": "markdown",
   "metadata": {
    "id": "5zK_XQng98RP"
   },
   "source": [
    "**What's the problem with this version?** \n",
    "\n",
    "The concatenate function is called each iteration of the loop and it is slow!\n",
    "\n"
   ]
  },
  {
   "cell_type": "markdown",
   "metadata": {
    "id": "hwwcBYDk98Mt"
   },
   "source": [
    "#### Create DataFrame - version 2 \n",
    "\n",
    "In this version we still use `concat`, but do it on a list of data frames. "
   ]
  },
  {
   "cell_type": "markdown",
   "metadata": {
    "id": "gYzOMm3ZCdb5",
    "outputId": "6c111887-da27-46a8-e6cf-1a99f8c9108a"
   },
   "source": [
    "```python\n",
    "import glob\n",
    "start = time.time()\n",
    "# files = sorted(glob.glob('' + \"*.csv\"))\n",
    "files = sorted(glob.glob(os.path.join(path, \"*.csv\")))\n",
    "\n",
    "dfs = (\n",
    "    pd.read_csv(f, header=None) for f in files\n",
    ")\n",
    "\n",
    "df2 = pd.concat(dfs)\n",
    "\n",
    "# reset the index \n",
    "df2.reset_index(drop=True, inplace=True)\n",
    "end = time.time()\n",
    "\n",
    "print(\"Elapsed time:  \", end - start)\n",
    "```\n",
    "\n",
    "This methods takes ~18 seconds to run.  "
   ]
  },
  {
   "cell_type": "markdown",
   "metadata": {
    "id": "JKdkhPN7hlmt"
   },
   "source": [
    "## Q1 (5 pts) - Load Data \n",
    "\n",
    "Read in the data.    \n",
    "\n",
    "Set the column names to be: `year`, `month`, `day`, `carrier`, `tailNum`, `flNum`, `origin`, `dest`, `crsDepTime`, `actDepTime`, `depNextDay`, `crsArrTime`, `actArrTime`, `arrNextDay`, `cancelled`, `diverted` \n",
    " "
   ]
  },
  {
   "cell_type": "code",
   "execution_count": null,
   "metadata": {
    "id": "5ctrZaX7RI5R"
   },
   "outputs": [],
   "source": [
    "# import time\n",
    "# start = time.time()\n",
    "# df = pd.DataFrame() \n",
    "# path=\"/content\"\n",
    "# # Iterate over all files \n",
    "# for file in os.listdir(path):\n",
    "#     if file.endswith(\".csv\"):\n",
    "#         df = pd.concat([df, pd.read_csv(file, header=None)], axis=0)\n",
    "\n",
    "# # reset the index \n",
    "# df.reset_index(drop=True, inplace=True)\n",
    "# end = time.time()\n",
    "\n",
    "# print(\"Elapsed time:  \", end - start)\n",
    "# # df"
   ]
  },
  {
   "cell_type": "code",
   "execution_count": 7,
   "metadata": {
    "colab": {
     "base_uri": "https://localhost:8080/"
    },
    "id": "Vby4epKPo4cS",
    "outputId": "85720492-4d2a-4a1f-c297-03138601a506"
   },
   "outputs": [
    {
     "name": "stdout",
     "output_type": "stream",
     "text": [
      "Elapsed time:   8.582278728485107\n"
     ]
    }
   ],
   "source": [
    "# import glob\n",
    "# import time\n",
    "# start = time.time()\n",
    "# # files = sorted(glob.glob('' + \"*.csv\"))\n",
    "# files = sorted(glob.glob(os.path.join(\"/content\", \"*.csv\")))\n",
    "\n",
    "# dfs = (\n",
    "#     pd.read_csv(f, header=None) for f in files\n",
    "# )\n",
    "\n",
    "# df = pd.concat(dfs)\n",
    "\n",
    "# # reset the index \n",
    "# df.reset_index(drop=True, inplace=True)\n",
    "# end = time.time()\n",
    "\n",
    "# print(\"Elapsed time:  \", end - start)"
   ]
  },
  {
   "cell_type": "code",
   "execution_count": 8,
   "metadata": {
    "colab": {
     "base_uri": "https://localhost:8080/",
     "height": 423
    },
    "id": "igLRdJzwiRti",
    "outputId": "2ebefed7-3c69-406e-a5dd-9b0ee1d2ef52",
    "tags": []
   },
   "outputs": [
    {
     "data": {
      "text/html": [
       "\n",
       "  <div id=\"df-348ccc88-7734-4aad-8c32-9c8305489e2d\">\n",
       "    <div class=\"colab-df-container\">\n",
       "      <div>\n",
       "<style scoped>\n",
       "    .dataframe tbody tr th:only-of-type {\n",
       "        vertical-align: middle;\n",
       "    }\n",
       "\n",
       "    .dataframe tbody tr th {\n",
       "        vertical-align: top;\n",
       "    }\n",
       "\n",
       "    .dataframe thead th {\n",
       "        text-align: right;\n",
       "    }\n",
       "</style>\n",
       "<table border=\"1\" class=\"dataframe\">\n",
       "  <thead>\n",
       "    <tr style=\"text-align: right;\">\n",
       "      <th></th>\n",
       "      <th>year</th>\n",
       "      <th>month</th>\n",
       "      <th>day</th>\n",
       "      <th>carrier</th>\n",
       "      <th>tailNum</th>\n",
       "      <th>flNum</th>\n",
       "      <th>origin</th>\n",
       "      <th>dest</th>\n",
       "      <th>crsDepTime</th>\n",
       "      <th>actDepTime</th>\n",
       "      <th>depNextDay</th>\n",
       "      <th>crsArrTime</th>\n",
       "      <th>actArrTime</th>\n",
       "      <th>arrNextDay</th>\n",
       "      <th>cancelled</th>\n",
       "      <th>diverted</th>\n",
       "    </tr>\n",
       "  </thead>\n",
       "  <tbody>\n",
       "    <tr>\n",
       "      <th>0</th>\n",
       "      <td>2021</td>\n",
       "      <td>4</td>\n",
       "      <td>11</td>\n",
       "      <td>AS</td>\n",
       "      <td>N309AS</td>\n",
       "      <td>792</td>\n",
       "      <td>SEA</td>\n",
       "      <td>DTW</td>\n",
       "      <td>1010</td>\n",
       "      <td>1013.0</td>\n",
       "      <td>0</td>\n",
       "      <td>1730</td>\n",
       "      <td>1736.0</td>\n",
       "      <td>0</td>\n",
       "      <td>0.0</td>\n",
       "      <td>0.0</td>\n",
       "    </tr>\n",
       "    <tr>\n",
       "      <th>1</th>\n",
       "      <td>2021</td>\n",
       "      <td>4</td>\n",
       "      <td>11</td>\n",
       "      <td>AS</td>\n",
       "      <td>N408AS</td>\n",
       "      <td>1011</td>\n",
       "      <td>ORD</td>\n",
       "      <td>SEA</td>\n",
       "      <td>700</td>\n",
       "      <td>703.0</td>\n",
       "      <td>0</td>\n",
       "      <td>940</td>\n",
       "      <td>916.0</td>\n",
       "      <td>0</td>\n",
       "      <td>0.0</td>\n",
       "      <td>0.0</td>\n",
       "    </tr>\n",
       "    <tr>\n",
       "      <th>2</th>\n",
       "      <td>2021</td>\n",
       "      <td>4</td>\n",
       "      <td>11</td>\n",
       "      <td>AS</td>\n",
       "      <td>N520AS</td>\n",
       "      <td>1012</td>\n",
       "      <td>SEA</td>\n",
       "      <td>MSP</td>\n",
       "      <td>1830</td>\n",
       "      <td>1825.0</td>\n",
       "      <td>0</td>\n",
       "      <td>2345</td>\n",
       "      <td>2337.0</td>\n",
       "      <td>0</td>\n",
       "      <td>0.0</td>\n",
       "      <td>0.0</td>\n",
       "    </tr>\n",
       "    <tr>\n",
       "      <th>3</th>\n",
       "      <td>2021</td>\n",
       "      <td>4</td>\n",
       "      <td>11</td>\n",
       "      <td>AS</td>\n",
       "      <td>N472AS</td>\n",
       "      <td>1013</td>\n",
       "      <td>ORD</td>\n",
       "      <td>SEA</td>\n",
       "      <td>1405</td>\n",
       "      <td>1404.0</td>\n",
       "      <td>0</td>\n",
       "      <td>1645</td>\n",
       "      <td>1627.0</td>\n",
       "      <td>0</td>\n",
       "      <td>0.0</td>\n",
       "      <td>0.0</td>\n",
       "    </tr>\n",
       "    <tr>\n",
       "      <th>4</th>\n",
       "      <td>2021</td>\n",
       "      <td>4</td>\n",
       "      <td>11</td>\n",
       "      <td>AS</td>\n",
       "      <td>N237AK</td>\n",
       "      <td>1014</td>\n",
       "      <td>SEA</td>\n",
       "      <td>ORD</td>\n",
       "      <td>1045</td>\n",
       "      <td>1054.0</td>\n",
       "      <td>0</td>\n",
       "      <td>1650</td>\n",
       "      <td>1652.0</td>\n",
       "      <td>0</td>\n",
       "      <td>0.0</td>\n",
       "      <td>0.0</td>\n",
       "    </tr>\n",
       "    <tr>\n",
       "      <th>...</th>\n",
       "      <td>...</td>\n",
       "      <td>...</td>\n",
       "      <td>...</td>\n",
       "      <td>...</td>\n",
       "      <td>...</td>\n",
       "      <td>...</td>\n",
       "      <td>...</td>\n",
       "      <td>...</td>\n",
       "      <td>...</td>\n",
       "      <td>...</td>\n",
       "      <td>...</td>\n",
       "      <td>...</td>\n",
       "      <td>...</td>\n",
       "      <td>...</td>\n",
       "      <td>...</td>\n",
       "      <td>...</td>\n",
       "    </tr>\n",
       "    <tr>\n",
       "      <th>5068842</th>\n",
       "      <td>2017</td>\n",
       "      <td>12</td>\n",
       "      <td>8</td>\n",
       "      <td>WN</td>\n",
       "      <td>N558WN</td>\n",
       "      <td>153</td>\n",
       "      <td>ATL</td>\n",
       "      <td>DTW</td>\n",
       "      <td>830</td>\n",
       "      <td>827.0</td>\n",
       "      <td>0</td>\n",
       "      <td>1035</td>\n",
       "      <td>1010.0</td>\n",
       "      <td>0</td>\n",
       "      <td>0.0</td>\n",
       "      <td>0.0</td>\n",
       "    </tr>\n",
       "    <tr>\n",
       "      <th>5068843</th>\n",
       "      <td>2017</td>\n",
       "      <td>12</td>\n",
       "      <td>8</td>\n",
       "      <td>WN</td>\n",
       "      <td>N403WN</td>\n",
       "      <td>315</td>\n",
       "      <td>ATL</td>\n",
       "      <td>DTW</td>\n",
       "      <td>2215</td>\n",
       "      <td>NaN</td>\n",
       "      <td>0</td>\n",
       "      <td>10</td>\n",
       "      <td>NaN</td>\n",
       "      <td>0</td>\n",
       "      <td>1.0</td>\n",
       "      <td>0.0</td>\n",
       "    </tr>\n",
       "    <tr>\n",
       "      <th>5068844</th>\n",
       "      <td>2017</td>\n",
       "      <td>12</td>\n",
       "      <td>8</td>\n",
       "      <td>WN</td>\n",
       "      <td>N7711N</td>\n",
       "      <td>1322</td>\n",
       "      <td>ATL</td>\n",
       "      <td>DTW</td>\n",
       "      <td>1525</td>\n",
       "      <td>1554.0</td>\n",
       "      <td>0</td>\n",
       "      <td>1725</td>\n",
       "      <td>1926.0</td>\n",
       "      <td>0</td>\n",
       "      <td>0.0</td>\n",
       "      <td>0.0</td>\n",
       "    </tr>\n",
       "    <tr>\n",
       "      <th>5068845</th>\n",
       "      <td>2017</td>\n",
       "      <td>12</td>\n",
       "      <td>8</td>\n",
       "      <td>WN</td>\n",
       "      <td>N268WN</td>\n",
       "      <td>1588</td>\n",
       "      <td>ATL</td>\n",
       "      <td>MSP</td>\n",
       "      <td>850</td>\n",
       "      <td>1017.0</td>\n",
       "      <td>0</td>\n",
       "      <td>1035</td>\n",
       "      <td>1305.0</td>\n",
       "      <td>0</td>\n",
       "      <td>0.0</td>\n",
       "      <td>0.0</td>\n",
       "    </tr>\n",
       "    <tr>\n",
       "      <th>5068846</th>\n",
       "      <td>2017</td>\n",
       "      <td>12</td>\n",
       "      <td>8</td>\n",
       "      <td>WN</td>\n",
       "      <td>N8626B</td>\n",
       "      <td>6406</td>\n",
       "      <td>ATL</td>\n",
       "      <td>MSP</td>\n",
       "      <td>2215</td>\n",
       "      <td>NaN</td>\n",
       "      <td>0</td>\n",
       "      <td>5</td>\n",
       "      <td>NaN</td>\n",
       "      <td>0</td>\n",
       "      <td>1.0</td>\n",
       "      <td>0.0</td>\n",
       "    </tr>\n",
       "  </tbody>\n",
       "</table>\n",
       "<p>5068847 rows × 16 columns</p>\n",
       "</div>\n",
       "      <button class=\"colab-df-convert\" onclick=\"convertToInteractive('df-348ccc88-7734-4aad-8c32-9c8305489e2d')\"\n",
       "              title=\"Convert this dataframe to an interactive table.\"\n",
       "              style=\"display:none;\">\n",
       "        \n",
       "  <svg xmlns=\"http://www.w3.org/2000/svg\" height=\"24px\"viewBox=\"0 0 24 24\"\n",
       "       width=\"24px\">\n",
       "    <path d=\"M0 0h24v24H0V0z\" fill=\"none\"/>\n",
       "    <path d=\"M18.56 5.44l.94 2.06.94-2.06 2.06-.94-2.06-.94-.94-2.06-.94 2.06-2.06.94zm-11 1L8.5 8.5l.94-2.06 2.06-.94-2.06-.94L8.5 2.5l-.94 2.06-2.06.94zm10 10l.94 2.06.94-2.06 2.06-.94-2.06-.94-.94-2.06-.94 2.06-2.06.94z\"/><path d=\"M17.41 7.96l-1.37-1.37c-.4-.4-.92-.59-1.43-.59-.52 0-1.04.2-1.43.59L10.3 9.45l-7.72 7.72c-.78.78-.78 2.05 0 2.83L4 21.41c.39.39.9.59 1.41.59.51 0 1.02-.2 1.41-.59l7.78-7.78 2.81-2.81c.8-.78.8-2.07 0-2.86zM5.41 20L4 18.59l7.72-7.72 1.47 1.35L5.41 20z\"/>\n",
       "  </svg>\n",
       "      </button>\n",
       "      \n",
       "  <style>\n",
       "    .colab-df-container {\n",
       "      display:flex;\n",
       "      flex-wrap:wrap;\n",
       "      gap: 12px;\n",
       "    }\n",
       "\n",
       "    .colab-df-convert {\n",
       "      background-color: #E8F0FE;\n",
       "      border: none;\n",
       "      border-radius: 50%;\n",
       "      cursor: pointer;\n",
       "      display: none;\n",
       "      fill: #1967D2;\n",
       "      height: 32px;\n",
       "      padding: 0 0 0 0;\n",
       "      width: 32px;\n",
       "    }\n",
       "\n",
       "    .colab-df-convert:hover {\n",
       "      background-color: #E2EBFA;\n",
       "      box-shadow: 0px 1px 2px rgba(60, 64, 67, 0.3), 0px 1px 3px 1px rgba(60, 64, 67, 0.15);\n",
       "      fill: #174EA6;\n",
       "    }\n",
       "\n",
       "    [theme=dark] .colab-df-convert {\n",
       "      background-color: #3B4455;\n",
       "      fill: #D2E3FC;\n",
       "    }\n",
       "\n",
       "    [theme=dark] .colab-df-convert:hover {\n",
       "      background-color: #434B5C;\n",
       "      box-shadow: 0px 1px 3px 1px rgba(0, 0, 0, 0.15);\n",
       "      filter: drop-shadow(0px 1px 2px rgba(0, 0, 0, 0.3));\n",
       "      fill: #FFFFFF;\n",
       "    }\n",
       "  </style>\n",
       "\n",
       "      <script>\n",
       "        const buttonEl =\n",
       "          document.querySelector('#df-348ccc88-7734-4aad-8c32-9c8305489e2d button.colab-df-convert');\n",
       "        buttonEl.style.display =\n",
       "          google.colab.kernel.accessAllowed ? 'block' : 'none';\n",
       "\n",
       "        async function convertToInteractive(key) {\n",
       "          const element = document.querySelector('#df-348ccc88-7734-4aad-8c32-9c8305489e2d');\n",
       "          const dataTable =\n",
       "            await google.colab.kernel.invokeFunction('convertToInteractive',\n",
       "                                                     [key], {});\n",
       "          if (!dataTable) return;\n",
       "\n",
       "          const docLinkHtml = 'Like what you see? Visit the ' +\n",
       "            '<a target=\"_blank\" href=https://colab.research.google.com/notebooks/data_table.ipynb>data table notebook</a>'\n",
       "            + ' to learn more about interactive tables.';\n",
       "          element.innerHTML = '';\n",
       "          dataTable['output_type'] = 'display_data';\n",
       "          await google.colab.output.renderOutput(dataTable, element);\n",
       "          const docLink = document.createElement('div');\n",
       "          docLink.innerHTML = docLinkHtml;\n",
       "          element.appendChild(docLink);\n",
       "        }\n",
       "      </script>\n",
       "    </div>\n",
       "  </div>\n",
       "  "
      ],
      "text/plain": [
       "         year  month  day carrier tailNum  flNum origin dest  crsDepTime  \\\n",
       "0        2021      4   11      AS  N309AS    792    SEA  DTW        1010   \n",
       "1        2021      4   11      AS  N408AS   1011    ORD  SEA         700   \n",
       "2        2021      4   11      AS  N520AS   1012    SEA  MSP        1830   \n",
       "3        2021      4   11      AS  N472AS   1013    ORD  SEA        1405   \n",
       "4        2021      4   11      AS  N237AK   1014    SEA  ORD        1045   \n",
       "...       ...    ...  ...     ...     ...    ...    ...  ...         ...   \n",
       "5068842  2017     12    8      WN  N558WN    153    ATL  DTW         830   \n",
       "5068843  2017     12    8      WN  N403WN    315    ATL  DTW        2215   \n",
       "5068844  2017     12    8      WN  N7711N   1322    ATL  DTW        1525   \n",
       "5068845  2017     12    8      WN  N268WN   1588    ATL  MSP         850   \n",
       "5068846  2017     12    8      WN  N8626B   6406    ATL  MSP        2215   \n",
       "\n",
       "         actDepTime  depNextDay  crsArrTime  actArrTime  arrNextDay  \\\n",
       "0            1013.0           0        1730      1736.0           0   \n",
       "1             703.0           0         940       916.0           0   \n",
       "2            1825.0           0        2345      2337.0           0   \n",
       "3            1404.0           0        1645      1627.0           0   \n",
       "4            1054.0           0        1650      1652.0           0   \n",
       "...             ...         ...         ...         ...         ...   \n",
       "5068842       827.0           0        1035      1010.0           0   \n",
       "5068843         NaN           0          10         NaN           0   \n",
       "5068844      1554.0           0        1725      1926.0           0   \n",
       "5068845      1017.0           0        1035      1305.0           0   \n",
       "5068846         NaN           0           5         NaN           0   \n",
       "\n",
       "         cancelled  diverted  \n",
       "0              0.0       0.0  \n",
       "1              0.0       0.0  \n",
       "2              0.0       0.0  \n",
       "3              0.0       0.0  \n",
       "4              0.0       0.0  \n",
       "...            ...       ...  \n",
       "5068842        0.0       0.0  \n",
       "5068843        1.0       0.0  \n",
       "5068844        0.0       0.0  \n",
       "5068845        0.0       0.0  \n",
       "5068846        1.0       0.0  \n",
       "\n",
       "[5068847 rows x 16 columns]"
      ]
     },
     "execution_count": 8,
     "metadata": {},
     "output_type": "execute_result"
    }
   ],
   "source": [
    "# Read in data, set DataFrame columns to names above \n",
    "# url = 'https://www.transtats.bts.gov/TableInfo.asp?gnoyr_VQ=FGJ&QO_fu146_anzr=b0-gvzr&V0s1_b0yB=D'\n",
    "flights = pd.read_csv('flight-data.csv', header=None)\n",
    "flights.columns = ['year', 'month', 'day', 'carrier', 'tailNum', 'flNum', 'origin', 'dest', 'crsDepTime', 'actDepTime', 'depNextDay', 'crsArrTime', 'actArrTime', 'arrNextDay', 'cancelled', 'diverted']\n",
    "\n",
    "# flights = df\n",
    "flights"
   ]
  },
  {
   "cell_type": "code",
   "execution_count": 9,
   "metadata": {
    "colab": {
     "base_uri": "https://localhost:8080/",
     "height": 46
    },
    "deletable": false,
    "editable": false,
    "id": "TI-jQvoLS4jy",
    "outputId": "620a1470-f5b0-4281-d82c-aa4aa3ebbc97"
   },
   "outputs": [
    {
     "data": {
      "text/html": [
       "<p><strong><pre style='display: inline;'>q1</pre></strong> passed! 🌟</p>"
      ],
      "text/plain": [
       "q1 results: All test cases passed!"
      ]
     },
     "execution_count": 9,
     "metadata": {},
     "output_type": "execute_result"
    }
   ],
   "source": [
    "grader.check(\"q1\")"
   ]
  },
  {
   "cell_type": "markdown",
   "metadata": {
    "id": "wFg9SnjeiXoz"
   },
   "source": [
    "## Q2 (3 pts) - Explore Data\n",
    "\n",
    "Let's start to explore the data.  "
   ]
  },
  {
   "cell_type": "code",
   "execution_count": 10,
   "metadata": {
    "colab": {
     "base_uri": "https://localhost:8080/"
    },
    "id": "XVBUFtQxic78",
    "outputId": "51c1194d-c033-4509-8953-e5522d920047"
   },
   "outputs": [
    {
     "name": "stdout",
     "output_type": "stream",
     "text": [
      "Flight data:  5068847 rows,  16 columns\n"
     ]
    }
   ],
   "source": [
    "print(\"Flight data: %8d rows,  %d columns\" % (flights.shape[0], flights.shape[1]))"
   ]
  },
  {
   "cell_type": "markdown",
   "metadata": {
    "id": "aCw7za_Nm2EZ"
   },
   "source": [
    "Report the number of flights departing and arriving from each of the three airports under study: `DTW`, `MSP`, and `ORD`"
   ]
  },
  {
   "cell_type": "code",
   "execution_count": 11,
   "metadata": {
    "colab": {
     "base_uri": "https://localhost:8080/"
    },
    "id": "OAGwk4C-lRh_",
    "outputId": "8309dd17-206c-4df0-e421-56eab0ec3779",
    "tags": []
   },
   "outputs": [
    {
     "name": "stdout",
     "output_type": "stream",
     "text": [
      "DTW flights:    648915 arrivals,   648900 departures\n"
     ]
    }
   ],
   "source": [
    "numArrDTW = flights['dest'].value_counts()['DTW']\n",
    "numDepDTW = flights['origin'].value_counts()['DTW']\n",
    "print(\"DTW flights:   %7d arrivals,  %7d departures\" % (numArrDTW, numDepDTW))"
   ]
  },
  {
   "cell_type": "code",
   "execution_count": 12,
   "metadata": {
    "colab": {
     "base_uri": "https://localhost:8080/"
    },
    "id": "8F7v-VJBS4j0",
    "outputId": "9c35e846-1784-4a03-d8d8-b103b7be2e8a",
    "tags": []
   },
   "outputs": [
    {
     "name": "stdout",
     "output_type": "stream",
     "text": [
      "MSP flights:    322229 arrivals,   322257 departures\n"
     ]
    }
   ],
   "source": [
    "numArrMSP = flights['dest'].value_counts()['MSP']\n",
    "numDepMSP = flights['origin'].value_counts()['MSP']\n",
    "print(\"MSP flights:   %7d arrivals,  %7d departures\" % (numArrMSP/2, numDepMSP/2))"
   ]
  },
  {
   "cell_type": "code",
   "execution_count": 13,
   "metadata": {
    "colab": {
     "base_uri": "https://localhost:8080/"
    },
    "id": "0zO9RTIKS4j1",
    "outputId": "55f41f8d-1678-44c9-c90c-16496cb45bf9",
    "tags": []
   },
   "outputs": [
    {
     "name": "stdout",
     "output_type": "stream",
     "text": [
      "ORD flights:    655906 arrivals,   656008 departures\n"
     ]
    }
   ],
   "source": [
    "numArrORD = flights['dest'].value_counts()['ORD']\n",
    "numDepORD = flights['origin'].value_counts()['ORD']\n",
    "print(\"ORD flights:   %7d arrivals,  %7d departures\" % (numArrORD/2, numDepORD/2))"
   ]
  },
  {
   "cell_type": "markdown",
   "metadata": {
    "id": "S6ULEd24oA4n"
   },
   "source": [
    "*Note*: The number of flights arriving and departing from the three airports exceeds the total number of flights, because flights between the 3 airports are counted twice. "
   ]
  },
  {
   "cell_type": "code",
   "execution_count": 14,
   "metadata": {
    "colab": {
     "base_uri": "https://localhost:8080/",
     "height": 46
    },
    "deletable": false,
    "editable": false,
    "id": "dZj0CEmRS4j1",
    "outputId": "25eb2261-bac0-48f3-d6c8-0343dd6a35f4"
   },
   "outputs": [
    {
     "data": {
      "text/html": [
       "<p><strong><pre style='display: inline;'>q2</pre></strong> passed! 🚀</p>"
      ],
      "text/plain": [
       "q2 results: All test cases passed!"
      ]
     },
     "execution_count": 14,
     "metadata": {},
     "output_type": "execute_result"
    }
   ],
   "source": [
    "grader.check(\"q2\")"
   ]
  },
  {
   "cell_type": "markdown",
   "metadata": {
    "id": "QX5J46H1S4j1"
   },
   "source": [
    "## Q3 (3 pts) - Cancelled and Diverted Flights\n",
    "\n",
    "We are going to focus on flights that took off and landed, that is, flights that were not cancelled or diverted.  \n",
    "\n",
    "Before, getting rid of those entries, let's look at how many flights for each airport were cancelled and diverted. "
   ]
  },
  {
   "cell_type": "code",
   "execution_count": 15,
   "metadata": {
    "colab": {
     "base_uri": "https://localhost:8080/"
    },
    "id": "q-9wMnesS4j2",
    "outputId": "a5db3940-8d7c-401f-d4f7-2452b5c37c05",
    "tags": []
   },
   "outputs": [
    {
     "name": "stdout",
     "output_type": "stream",
     "text": [
      "DTW cancelled flights:    9325 arrs,    9264 deps\n",
      "\tdiverted flights:     739 arrs,    1459 deps\n"
     ]
    }
   ],
   "source": [
    "numCanArrDTW = len(flights[(flights.cancelled == 1) & (flights.dest == 'DTW')])\n",
    "numCanDepDTW = len(flights[(flights.cancelled == 1) & (flights.origin == 'DTW')])\n",
    "numDivArrDTW = len(flights[(flights.diverted == 1) & (flights.dest == 'DTW')])\n",
    "numDivDepDTW = len(flights[(flights.diverted == 1) & (flights.origin == 'DTW')])\n",
    "print(\"DTW cancelled flights: %7d arrs, %7d deps\\n\\tdiverted flights: %7d arrs, %7d deps\" \n",
    "      % (numCanArrDTW, numCanDepDTW, numDivArrDTW, numDivDepDTW))"
   ]
  },
  {
   "cell_type": "code",
   "execution_count": 16,
   "metadata": {
    "colab": {
     "base_uri": "https://localhost:8080/"
    },
    "id": "CqJAjK2CS4j2",
    "outputId": "2d74aacd-dba1-4269-eed7-80c1bf6ce6f3",
    "tags": []
   },
   "outputs": [
    {
     "name": "stdout",
     "output_type": "stream",
     "text": [
      "MSP cancelled flights:    9337 arrs,    9298 deps\n",
      "\tdiverted flights:    1019 arrs,    1555 deps\n"
     ]
    }
   ],
   "source": [
    "numCanArrMSP = len(flights[(flights.cancelled == 1) & (flights.dest == 'MSP')])\n",
    "numCanDepMSP = len(flights[(flights.cancelled == 1) & (flights.origin == 'MSP')])\n",
    "numDivArrMSP = len(flights[(flights.diverted == 1) & (flights.dest == 'MSP')])\n",
    "numDivDepMSP = len(flights[(flights.diverted == 1) & (flights.origin == 'MSP')])\n",
    "print(\"MSP cancelled flights: %7d arrs, %7d deps\\n\\tdiverted flights: %7d arrs, %7d deps\" \n",
    "      % (numCanArrMSP, numCanDepMSP, numDivArrMSP, numDivDepMSP))"
   ]
  },
  {
   "cell_type": "code",
   "execution_count": 17,
   "metadata": {
    "colab": {
     "base_uri": "https://localhost:8080/"
    },
    "id": "nsaLqIQ4S4j2",
    "outputId": "ad29a79f-71f6-4293-f0d5-9c68adc431f3",
    "tags": []
   },
   "outputs": [
    {
     "name": "stdout",
     "output_type": "stream",
     "text": [
      "ORD cancelled flights:   36875 arrs,   35638 deps\n",
      "\tdiverted flights:    3258 arrs,    3307 deps\n"
     ]
    }
   ],
   "source": [
    "numCanArrORD = len(flights[(flights.cancelled == 1) & (flights.dest == 'ORD')])\n",
    "numCanDepORD = len(flights[(flights.cancelled == 1) & (flights.origin == 'ORD')])\n",
    "numDivArrORD = len(flights[(flights.diverted == 1) & (flights.dest == 'ORD')])\n",
    "numDivDepORD = len(flights[(flights.diverted == 1) & (flights.origin == 'ORD')])\n",
    "print(\"ORD cancelled flights: %7d arrs, %7d deps\\n\\tdiverted flights: %7d arrs, %7d deps\" \n",
    "      % (numCanArrORD, numCanDepORD, numDivArrORD, numDivDepORD))"
   ]
  },
  {
   "cell_type": "code",
   "execution_count": 18,
   "metadata": {
    "colab": {
     "base_uri": "https://localhost:8080/",
     "height": 46
    },
    "deletable": false,
    "editable": false,
    "id": "Jrzr88I0S4j3",
    "outputId": "537242ea-73b1-4f1d-95e2-cde0a3b00dcf"
   },
   "outputs": [
    {
     "data": {
      "text/html": [
       "<p><strong><pre style='display: inline;'>q3</pre></strong> passed! 🎉</p>"
      ],
      "text/plain": [
       "q3 results: All test cases passed!"
      ]
     },
     "execution_count": 18,
     "metadata": {},
     "output_type": "execute_result"
    }
   ],
   "source": [
    "grader.check(\"q3\")"
   ]
  },
  {
   "cell_type": "markdown",
   "metadata": {
    "id": "Zwm-40I6S4j3"
   },
   "source": [
    "The absolute number of cancelled and diverted flights can be somewhat misleading because O'hare has many more flights in total.  \n",
    "\n",
    "So, let's look at these values normalized, that is, the percentage of total arriving or departing flights that are cancelled or diverted."
   ]
  },
  {
   "cell_type": "code",
   "execution_count": 19,
   "metadata": {
    "colab": {
     "base_uri": "https://localhost:8080/",
     "height": 143
    },
    "id": "xmFLVKuJS4j3",
    "outputId": "56b450ac-c4b5-4750-ef8e-725542d38fcb"
   },
   "outputs": [
    {
     "data": {
      "text/html": [
       "\n",
       "  <div id=\"df-fb7bd20e-08e6-48c8-853e-813dc0301824\">\n",
       "    <div class=\"colab-df-container\">\n",
       "      <div>\n",
       "<style scoped>\n",
       "    .dataframe tbody tr th:only-of-type {\n",
       "        vertical-align: middle;\n",
       "    }\n",
       "\n",
       "    .dataframe tbody tr th {\n",
       "        vertical-align: top;\n",
       "    }\n",
       "\n",
       "    .dataframe thead th {\n",
       "        text-align: right;\n",
       "    }\n",
       "</style>\n",
       "<table border=\"1\" class=\"dataframe\">\n",
       "  <thead>\n",
       "    <tr style=\"text-align: right;\">\n",
       "      <th></th>\n",
       "      <th>PercArrCan</th>\n",
       "      <th>PercDepCan</th>\n",
       "      <th>PercArrDiv</th>\n",
       "      <th>PercDepDiv</th>\n",
       "    </tr>\n",
       "  </thead>\n",
       "  <tbody>\n",
       "    <tr>\n",
       "      <th>DTW</th>\n",
       "      <td>1.437014</td>\n",
       "      <td>1.427647</td>\n",
       "      <td>0.113882</td>\n",
       "      <td>0.224842</td>\n",
       "    </tr>\n",
       "    <tr>\n",
       "      <th>MSP</th>\n",
       "      <td>1.448814</td>\n",
       "      <td>1.442637</td>\n",
       "      <td>0.158117</td>\n",
       "      <td>0.241267</td>\n",
       "    </tr>\n",
       "    <tr>\n",
       "      <th>ORD</th>\n",
       "      <td>2.810995</td>\n",
       "      <td>2.716276</td>\n",
       "      <td>0.248359</td>\n",
       "      <td>0.252055</td>\n",
       "    </tr>\n",
       "  </tbody>\n",
       "</table>\n",
       "</div>\n",
       "      <button class=\"colab-df-convert\" onclick=\"convertToInteractive('df-fb7bd20e-08e6-48c8-853e-813dc0301824')\"\n",
       "              title=\"Convert this dataframe to an interactive table.\"\n",
       "              style=\"display:none;\">\n",
       "        \n",
       "  <svg xmlns=\"http://www.w3.org/2000/svg\" height=\"24px\"viewBox=\"0 0 24 24\"\n",
       "       width=\"24px\">\n",
       "    <path d=\"M0 0h24v24H0V0z\" fill=\"none\"/>\n",
       "    <path d=\"M18.56 5.44l.94 2.06.94-2.06 2.06-.94-2.06-.94-.94-2.06-.94 2.06-2.06.94zm-11 1L8.5 8.5l.94-2.06 2.06-.94-2.06-.94L8.5 2.5l-.94 2.06-2.06.94zm10 10l.94 2.06.94-2.06 2.06-.94-2.06-.94-.94-2.06-.94 2.06-2.06.94z\"/><path d=\"M17.41 7.96l-1.37-1.37c-.4-.4-.92-.59-1.43-.59-.52 0-1.04.2-1.43.59L10.3 9.45l-7.72 7.72c-.78.78-.78 2.05 0 2.83L4 21.41c.39.39.9.59 1.41.59.51 0 1.02-.2 1.41-.59l7.78-7.78 2.81-2.81c.8-.78.8-2.07 0-2.86zM5.41 20L4 18.59l7.72-7.72 1.47 1.35L5.41 20z\"/>\n",
       "  </svg>\n",
       "      </button>\n",
       "      \n",
       "  <style>\n",
       "    .colab-df-container {\n",
       "      display:flex;\n",
       "      flex-wrap:wrap;\n",
       "      gap: 12px;\n",
       "    }\n",
       "\n",
       "    .colab-df-convert {\n",
       "      background-color: #E8F0FE;\n",
       "      border: none;\n",
       "      border-radius: 50%;\n",
       "      cursor: pointer;\n",
       "      display: none;\n",
       "      fill: #1967D2;\n",
       "      height: 32px;\n",
       "      padding: 0 0 0 0;\n",
       "      width: 32px;\n",
       "    }\n",
       "\n",
       "    .colab-df-convert:hover {\n",
       "      background-color: #E2EBFA;\n",
       "      box-shadow: 0px 1px 2px rgba(60, 64, 67, 0.3), 0px 1px 3px 1px rgba(60, 64, 67, 0.15);\n",
       "      fill: #174EA6;\n",
       "    }\n",
       "\n",
       "    [theme=dark] .colab-df-convert {\n",
       "      background-color: #3B4455;\n",
       "      fill: #D2E3FC;\n",
       "    }\n",
       "\n",
       "    [theme=dark] .colab-df-convert:hover {\n",
       "      background-color: #434B5C;\n",
       "      box-shadow: 0px 1px 3px 1px rgba(0, 0, 0, 0.15);\n",
       "      filter: drop-shadow(0px 1px 2px rgba(0, 0, 0, 0.3));\n",
       "      fill: #FFFFFF;\n",
       "    }\n",
       "  </style>\n",
       "\n",
       "      <script>\n",
       "        const buttonEl =\n",
       "          document.querySelector('#df-fb7bd20e-08e6-48c8-853e-813dc0301824 button.colab-df-convert');\n",
       "        buttonEl.style.display =\n",
       "          google.colab.kernel.accessAllowed ? 'block' : 'none';\n",
       "\n",
       "        async function convertToInteractive(key) {\n",
       "          const element = document.querySelector('#df-fb7bd20e-08e6-48c8-853e-813dc0301824');\n",
       "          const dataTable =\n",
       "            await google.colab.kernel.invokeFunction('convertToInteractive',\n",
       "                                                     [key], {});\n",
       "          if (!dataTable) return;\n",
       "\n",
       "          const docLinkHtml = 'Like what you see? Visit the ' +\n",
       "            '<a target=\"_blank\" href=https://colab.research.google.com/notebooks/data_table.ipynb>data table notebook</a>'\n",
       "            + ' to learn more about interactive tables.';\n",
       "          element.innerHTML = '';\n",
       "          dataTable['output_type'] = 'display_data';\n",
       "          await google.colab.output.renderOutput(dataTable, element);\n",
       "          const docLink = document.createElement('div');\n",
       "          docLink.innerHTML = docLinkHtml;\n",
       "          element.appendChild(docLink);\n",
       "        }\n",
       "      </script>\n",
       "    </div>\n",
       "  </div>\n",
       "  "
      ],
      "text/plain": [
       "     PercArrCan  PercDepCan  PercArrDiv  PercDepDiv\n",
       "DTW    1.437014    1.427647    0.113882    0.224842\n",
       "MSP    1.448814    1.442637    0.158117    0.241267\n",
       "ORD    2.810995    2.716276    0.248359    0.252055"
      ]
     },
     "execution_count": 19,
     "metadata": {},
     "output_type": "execute_result"
    }
   ],
   "source": [
    "d = np.array([[numCanArrDTW / numArrDTW *100, numCanDepDTW / numDepDTW *100, \n",
    "               numDivArrDTW / numArrDTW *100, numDivDepDTW / numDepDTW *100], \n",
    "              [numCanArrMSP / numArrMSP *100, numCanDepMSP / numDepMSP *100, \n",
    "               numDivArrMSP / numArrMSP *100, numDivDepMSP / numDepMSP *100],\n",
    "              [numCanArrORD / numArrORD *100, numCanDepORD / numDepORD *100, \n",
    "               numDivArrORD / numArrORD *100, numDivDepORD / numDepORD *100]])\n",
    "canDivFls = pd.DataFrame(data=d, \n",
    "                        columns = ['PercArrCan', 'PercDepCan', 'PercArrDiv', \n",
    "                                   'PercDepDiv'], \n",
    "                        index = ['DTW', 'MSP', 'ORD'])\n",
    "canDivFls"
   ]
  },
  {
   "cell_type": "markdown",
   "metadata": {
    "id": "pIddGoXTS4j3"
   },
   "source": [
    "## Q4 (4 pts) - Clean Data \n",
    "\n",
    "Now, let's remove the cancelled and diverted flights from further analysis.  \n",
    "\n",
    "After removing both reset the index on the remaining flights in the DataFrame."
   ]
  },
  {
   "cell_type": "code",
   "execution_count": 20,
   "metadata": {
    "colab": {
     "base_uri": "https://localhost:8080/"
    },
    "id": "MShnLx0Vl7-A",
    "outputId": "fe962bf8-c317-44e1-95e4-49a15fd93c16",
    "tags": []
   },
   "outputs": [
    {
     "name": "stdout",
     "output_type": "stream",
     "text": [
      "Flight data:    4950620 rows\n"
     ]
    }
   ],
   "source": [
    "# Remove the cancelled and diverted flights.  \n",
    "# Then, reset the index of the flights DataFrame\n",
    "\n",
    "\n",
    "CanDiv = flights[(flights.cancelled == 1) | (flights.diverted == 1)]\n",
    " \n",
    "flights = flights.drop(CanDiv.index)\n",
    "flights.reset_index(drop=True, inplace=True)\n",
    "\n",
    "print(\"Flight data:   %8d rows\" % flights.shape[0])\n"
   ]
  },
  {
   "cell_type": "code",
   "execution_count": 21,
   "metadata": {
    "colab": {
     "base_uri": "https://localhost:8080/",
     "height": 46
    },
    "deletable": false,
    "editable": false,
    "id": "dYXNeF3cS4j4",
    "outputId": "7a8f48bb-0b6c-4873-d9c6-862ba766bfcd"
   },
   "outputs": [
    {
     "data": {
      "text/html": [
       "<p><strong><pre style='display: inline;'>q4</pre></strong> passed! 🎉</p>"
      ],
      "text/plain": [
       "q4 results: All test cases passed!"
      ]
     },
     "execution_count": 21,
     "metadata": {},
     "output_type": "execute_result"
    }
   ],
   "source": [
    "grader.check(\"q4\")"
   ]
  },
  {
   "cell_type": "markdown",
   "metadata": {
    "id": "k5mp8HdarBcY"
   },
   "source": [
    "## Q5 (5 pts) - Extract Time Information\n",
    "\n",
    "Both the departure and arrival times were read in as integers or floating-point numbers in local time format: `hhmm`. Write two functions, `extract_hour` and `extract_mins` that converts the local time to hours and minutes, respectively. Hint: You may want to use modular arithmetic and integer division.\n",
    "\n",
    "Notes: \n",
    "\n",
    "* The function should work on a single value passed or a Series passed in as an argument. \n",
    "* The function should not have a `for` loop, if it does you will lose points! "
   ]
  },
  {
   "cell_type": "code",
   "execution_count": 22,
   "metadata": {
    "id": "25hrnFgtyjkh",
    "tags": []
   },
   "outputs": [],
   "source": [
    "def extract_hour(time):\n",
    "    \"\"\"\n",
    "    Extract hour information from the time given in hhmm format.\n",
    "    \n",
    "\n",
    "    Input:\n",
    "        time (float64 or int64): Series of time given in hhmm format.  \n",
    "          Takes on values in 0.0-2400.0 in float64 representation or \n",
    "          values in 0-2400 in int64 representation\n",
    " \n",
    "    Returns:\n",
    "        array (float64 or int64): Series of same dimension as input of hours  \n",
    "          values should be 0-24\n",
    "    \n",
    "    Example: 1303 should return 13\n",
    "    >>> extract_hour(1303.0)\n",
    "    13\n",
    "    \"\"\"\n",
    "    # h1= time/10000\n",
    "    # hours = h1[2:4]\n",
    "\n",
    "    hours = time //100\n",
    "\n",
    "    return hours"
   ]
  },
  {
   "cell_type": "code",
   "execution_count": 23,
   "metadata": {
    "id": "GHKDuErrsJsL",
    "tags": []
   },
   "outputs": [],
   "source": [
    "def extract_min(time):\n",
    "    \"\"\"\n",
    "    Extract minute information from the time given in hhmm time.\n",
    "\n",
    "    Input:\n",
    "        time (float64 or int64): Series of time given in hhmm format.  \n",
    "          Takes on values in 0.0-2400.0 in float64 representation or \n",
    "          values in 0-2400 in int64 representation\n",
    "    \n",
    "    Returns:\n",
    "        array (float64 or int64): Series of same dimension as input of minutes.  \n",
    "          values should be 0-59\n",
    "    \n",
    "    Example: 1303 should return 3\n",
    "    >>> extract_mins(1303.0)\n",
    "    3\n",
    "    \"\"\"\n",
    "    hours = time//100\n",
    "    mins = time - (hours*100)\n",
    "\n",
    "    return mins"
   ]
  },
  {
   "cell_type": "code",
   "execution_count": null,
   "metadata": {
    "id": "m_ZzTPQhWQNw"
   },
   "outputs": [],
   "source": [
    "# extract_min(1450)"
   ]
  },
  {
   "cell_type": "markdown",
   "metadata": {
    "id": "qWDO-JIXS4j5"
   },
   "source": [
    "Here are some examples of usage: \n",
    "\n",
    "```\n",
    ">>> extract_hour(1450)\n",
    ">>> extract_hour(flights['actDepTime'][100:200])\n",
    ">>> extract_hour(flights['crsDepTime'])\n",
    ">>> extract_mins(1450)\n",
    ">>> extract_mins(flights['actDepTime'][100:200])\n",
    ">>> extract_mins(flights['crsDepTime'])\n",
    "```"
   ]
  },
  {
   "cell_type": "code",
   "execution_count": 24,
   "metadata": {
    "colab": {
     "base_uri": "https://localhost:8080/",
     "height": 46
    },
    "deletable": false,
    "editable": false,
    "id": "zOf3Z3VVS4j5",
    "outputId": "f67ebd6d-e9f3-4647-cb9e-d8b55768e177"
   },
   "outputs": [
    {
     "data": {
      "text/html": [
       "<p><strong><pre style='display: inline;'>q5</pre></strong> passed! 🎉</p>"
      ],
      "text/plain": [
       "q5 results: All test cases passed!"
      ]
     },
     "execution_count": 24,
     "metadata": {},
     "output_type": "execute_result"
    }
   ],
   "source": [
    "grader.check(\"q5\")"
   ]
  },
  {
   "cell_type": "markdown",
   "metadata": {
    "id": "YE8_GY1hS4j5"
   },
   "source": [
    "## Q6 (2 pts) - Calculate Time in Minutes\n",
    "\n",
    "You will use the two functions created above to calculate a time formatted `hhmm` into the number of minutes in the day.  These calculation will be done in the `convert_to_minofday` function, you will fill in.   \n",
    "\n",
    "For example, `1005` is 605 minutes and `837` is 517 minutes and `1524` is 924 minutes. \n",
    "\n",
    "Comment: \n",
    "\n",
    "* The function should work on a single value passed or a Series passed in as an argument. \n",
    "* The function should not have a `for` loop, if it does you will lose points! "
   ]
  },
  {
   "cell_type": "code",
   "execution_count": 25,
   "metadata": {
    "id": "x9NTCKbosYgo",
    "tags": []
   },
   "outputs": [],
   "source": [
    "def convert_to_minofday(time):\n",
    "    \"\"\"\n",
    "    Converts time in hhmm format to minute of day.\n",
    "    \n",
    "    Input:\n",
    "       time (float64 or int64): Series of time given in hhmm format.  \n",
    "          Takes on values in 0.0-2400.0 in float64 representation or \n",
    "          values in 0-2400 in int64 representation\n",
    "    \n",
    "    Returns:\n",
    "        array (float64 or int64): Series of same dimension as input with \n",
    "           total mins\n",
    "    \n",
    "     \n",
    "    Example: 1303 is converted to 783\n",
    "    >>> convert_to_minofday(1303.0)\n",
    "    783.0\n",
    "    \"\"\"\n",
    "    # make use of the functions you wrote above: extract_hour, extract_min\n",
    "    hrs = extract_hour(time)\n",
    "    min = extract_min(time)\n",
    "    minOfDay =  (hrs*60)+min\n",
    "    return minOfDay "
   ]
  },
  {
   "cell_type": "code",
   "execution_count": null,
   "metadata": {
    "id": "dR5mAXXu2jO2"
   },
   "outputs": [],
   "source": [
    "# convert_to_minofday(837)\n",
    "# flights['crsDepTime']\n",
    "# convert_to_minofday(flights['crsDepTime'])"
   ]
  },
  {
   "cell_type": "code",
   "execution_count": 26,
   "metadata": {
    "colab": {
     "base_uri": "https://localhost:8080/",
     "height": 46
    },
    "deletable": false,
    "editable": false,
    "id": "gLN939GxS4j6",
    "outputId": "eed00461-f0a6-4f07-cd6d-369587c222df"
   },
   "outputs": [
    {
     "data": {
      "text/html": [
       "<p><strong><pre style='display: inline;'>q6</pre></strong> passed! ✨</p>"
      ],
      "text/plain": [
       "q6 results: All test cases passed!"
      ]
     },
     "execution_count": 26,
     "metadata": {},
     "output_type": "execute_result"
    }
   ],
   "source": [
    "grader.check(\"q6\")"
   ]
  },
  {
   "cell_type": "markdown",
   "metadata": {
    "id": "TlyXh1o5sTRV"
   },
   "source": [
    "## Q7 (6 pts) - Calculate Delayed Flights\n",
    "\n",
    "You will add two new columns to the `flights` DataFrame that will contain the departure delay `depDelay` and arrival delay `arrDelay`.\n",
    "\n",
    "To help answer this question, implement the helper functions, `calc_time_diff`.  Make use of the functions above, e.g., `convert_to_minofday`.\n",
    "\n",
    "\n",
    "*Be careful for handling flights that that did not leave on their scheduled day indicated in the `depNextDay` and `arrNextDay` columns.*  \n",
    "These two variables are encoded as: \n",
    "* 0, left/arrived on scheduled day \n",
    "* -1, left/arrived on the day before scheduled day\n",
    "* 1, left/arrived 1 day after scheduled day \n",
    "* 2, left/arrived 2 days after scheduled day\n",
    "\n",
    "\n",
    "Note, you can have *negative* flight delays for flights that leave / arrive early. \n",
    "\n",
    "Notes: \n",
    "\n",
    "* The function should work on Series passed in as an argument. \n",
    "* The function should not have a `for` loop, if it does you will lose points! "
   ]
  },
  {
   "cell_type": "code",
   "execution_count": 27,
   "metadata": {
    "id": "IdqF5lH4S4j7",
    "tags": []
   },
   "outputs": [],
   "source": [
    "def calc_time_diff(x, y, nextDay):\n",
    "    \"\"\" \n",
    "    Calculate the time difference, y - x, accounting for nextDay changes.\n",
    "\n",
    "    Input:\n",
    "        x,y (float64 or int64): Series of scheduled time given in hhmm format.  \n",
    "          Takes on values in 0.0-2400.0 due to float64 representation or \n",
    "          values in 0-2400 in int64 representation\n",
    "        nextDay (int): Series of next day indicator, takes on values: -1, 0, 1, 2\n",
    "        \n",
    "    Returns:\n",
    "        array (float64): array of input dimension with delay time\n",
    "        \n",
    "        \n",
    "    Example: 1303 is converted to 783\n",
    "             1305 is converted to 785\n",
    "    >>> calc_time_diff(pd.Series([1303]), pd.Series([1305]), pd.Series([0]))\n",
    "    2\n",
    "\n",
    "    Example: 2320.0 is converted to 1400.0\n",
    "               37.0 is converted to    37.0 \n",
    "    >>> calc_time_diff(pd.Series([2320.0]), pd.Series([37.0]), pd.Series([1]))\n",
    "    77.0\n",
    "    \"\"\"\n",
    "    # make use of the convert_to_minofday function \n",
    "    # X[]=convert_to_minofday(x)\n",
    "    # Y[]=convert_to_minofday(y)\n",
    "    diff=convert_to_minofday(y)-convert_to_minofday(x)+(nextDay * 1440)\n",
    "    return diff\n"
   ]
  },
  {
   "cell_type": "code",
   "execution_count": 28,
   "metadata": {
    "id": "4yk2f_MwVzUF",
    "tags": []
   },
   "outputs": [],
   "source": [
    "flights['depDelay'] = calc_time_diff(flights['crsDepTime'],flights['actDepTime'],flights['depNextDay'])\n",
    "flights['arrDelay'] = calc_time_diff(flights['crsArrTime'],flights['actArrTime'],flights['arrNextDay'])\n",
    "# flights.head()"
   ]
  },
  {
   "cell_type": "code",
   "execution_count": 29,
   "metadata": {
    "colab": {
     "base_uri": "https://localhost:8080/",
     "height": 46
    },
    "deletable": false,
    "editable": false,
    "id": "OV2nfHCKS4j8",
    "outputId": "4a1fcc25-dcfd-403f-b0c3-ddbb904f63b7"
   },
   "outputs": [
    {
     "data": {
      "text/html": [
       "<p><strong><pre style='display: inline;'>q7</pre></strong> passed! 🌈</p>"
      ],
      "text/plain": [
       "q7 results: All test cases passed!"
      ]
     },
     "execution_count": 29,
     "metadata": {},
     "output_type": "execute_result"
    }
   ],
   "source": [
    "grader.check(\"q7\")"
   ]
  },
  {
   "cell_type": "markdown",
   "metadata": {
    "id": "hCRJRcJcuVV5"
   },
   "source": [
    "## Q8 (3 pts) - Filter Delayed Flights \n",
    "\n",
    "Filter the `flights` data for flights that departed 75 or more minutes later than scheduled.  Report the number and a percentage of all departing flights for each airport."
   ]
  },
  {
   "cell_type": "code",
   "execution_count": 30,
   "metadata": {
    "colab": {
     "base_uri": "https://localhost:8080/"
    },
    "id": "KaO4LOq2tHs1",
    "outputId": "daa0802b-cb23-4714-c73b-fdf8972a6b6d",
    "tags": []
   },
   "outputs": [
    {
     "name": "stdout",
     "output_type": "stream",
     "text": [
      "DTW delayed flights:    25792, 3.975%\n",
      "MSP delayed flights:    21321, 3.308%\n",
      "ORD delayed flights:    69328, 5.284%\n"
     ]
    }
   ],
   "source": [
    "# Using your the new column flights['depDelay'] to filter the number of \n",
    "#  flights delayed over 75 minutes for each airport.\n",
    "\n",
    "# Report the number and the percentage for each airport. \n",
    "\n",
    "delayedDTW = len(flights[(flights.depDelay >= 75) & (flights.origin == 'DTW')])\n",
    "\n",
    "delayedMSP = len(flights[(flights.depDelay >= 75) & (flights.origin == 'MSP')])\n",
    "\n",
    "delayedORD = len(flights[(flights.depDelay >= 75) & (flights.origin == 'ORD')])\n",
    "\n",
    "\n",
    "print(\"DTW delayed flights:  %7d, %3.3f%%\" % (delayedDTW, delayedDTW/numDepDTW*100))\n",
    "print(\"MSP delayed flights:  %7d, %3.3f%%\" % (delayedMSP, delayedMSP/numDepMSP*100))\n",
    "print(\"ORD delayed flights:  %7d, %3.3f%%\" % (delayedORD, delayedORD/numDepORD*100))"
   ]
  },
  {
   "cell_type": "code",
   "execution_count": 31,
   "metadata": {
    "colab": {
     "base_uri": "https://localhost:8080/",
     "height": 46
    },
    "deletable": false,
    "editable": false,
    "id": "Ra0Dn7JCS4j8",
    "outputId": "e36fe9e2-bbb8-47d7-83a3-0ddc81586766"
   },
   "outputs": [
    {
     "data": {
      "text/html": [
       "<p><strong><pre style='display: inline;'>q8</pre></strong> passed! 🌈</p>"
      ],
      "text/plain": [
       "q8 results: All test cases passed!"
      ]
     },
     "execution_count": 31,
     "metadata": {},
     "output_type": "execute_result"
    }
   ],
   "source": [
    "grader.check(\"q8\")"
   ]
  },
  {
   "cell_type": "markdown",
   "metadata": {
    "id": "Jolz0fckvNSG"
   },
   "source": [
    "<!-- BEGIN QUESTION -->\n",
    "\n",
    "## Q9 (15 pts) - Distribution and Statistics on Flight Delays\n",
    "\n",
    "Plot the distribution of delays for both arriving and departing flights for each airport.  \n",
    "\n",
    "The histograms should be placed side-by-side *hint: consider the `subplot` function*. \n",
    "\n",
    "The departing delays should be in the left plot and the arriving delays should be in the right plot. \n",
    "\n",
    "Use a log-scale y-axis.   \n",
    "https://matplotlib.org/stable/api/_as_gen/matplotlib.pyplot.yscale.html?highlight=yscale#matplotlib.pyplot.yscale\n",
    "\n",
    "\n",
    "Make sure to label and make the plots look nice. "
   ]
  },
  {
   "cell_type": "code",
   "execution_count": 32,
   "metadata": {
    "colab": {
     "base_uri": "https://localhost:8080/",
     "height": 323
    },
    "id": "BscW_4oYvite",
    "outputId": "8dce822a-0dfe-43a9-f8fa-9a06f70c2ef2",
    "tags": []
   },
   "outputs": [
    {
     "data": {
      "image/png": "[encoded data removed]",
      "text/plain": [
       "<Figure size 720x324 with 2 Axes>"
      ]
     },
     "metadata": {
      "needs_background": "light"
     },
     "output_type": "display_data"
    }
   ],
   "source": [
    "# Histograms for DTW \n",
    "\n",
    "plt.figure(figsize=(10,4.5))\n",
    "plt.subplot(1,2,1)\n",
    "plt.hist(flights[flights['origin'] == 'DTW']['depDelay']);\n",
    "plt.yscale('log')\n",
    "plt.title('Plot the distribution of delays for departing flights:');\n",
    "plt.xlabel('flights');\n",
    "plt.ylabel('frequency of time delay');\n",
    "\n",
    "plt.subplot(1,2,2)\n",
    "plt.hist(flights[flights['dest'] == 'DTW']['arrDelay']);\n",
    "plt.yscale('log')\n",
    "plt.title('Plot the distribution of delays for arriving flights:');\n",
    "plt.xlabel('flights');\n",
    "plt.ylabel('frequency of time delay');"
   ]
  },
  {
   "cell_type": "code",
   "execution_count": null,
   "metadata": {
    "id": "vnsUJBEr7rOo"
   },
   "outputs": [],
   "source": [
    "# In te above two histograms we can observe that at zero it has the heighest frequency for the departing delays and arriving delays for prticular flight at DTW. "
   ]
  },
  {
   "cell_type": "code",
   "execution_count": 33,
   "metadata": {
    "colab": {
     "base_uri": "https://localhost:8080/",
     "height": 323
    },
    "id": "sHczUGhFvpYd",
    "outputId": "a71d6cbf-2cbf-493c-98fc-c1f7a32929b7",
    "tags": []
   },
   "outputs": [
    {
     "data": {
      "image/png": "[encoded data removed]",
      "text/plain": [
       "<Figure size 720x324 with 2 Axes>"
      ]
     },
     "metadata": {
      "needs_background": "light"
     },
     "output_type": "display_data"
    }
   ],
   "source": [
    "# Histograms for MSP \n",
    "plt.figure(figsize=(10,4.5))\n",
    "plt.subplot(1,2,1)\n",
    "plt.hist(flights[flights['origin'] == 'MSP']['depDelay']);\n",
    "plt.yscale('log')\n",
    "plt.title('Plot the distribution of delays for departing flights:');\n",
    "plt.xlabel('flights');\n",
    "plt.ylabel('frequency of time delay');\n",
    "\n",
    "plt.subplot(1,2,2)\n",
    "plt.hist(flights[flights['dest'] == 'MSP']['arrDelay']);\n",
    "plt.yscale('log')\n",
    "plt.title('Plot the distribution of delays for arriving flights:');\n",
    "plt.xlabel('flights');\n",
    "plt.ylabel('frequency of time delay');"
   ]
  },
  {
   "cell_type": "code",
   "execution_count": null,
   "metadata": {
    "id": "2lcB3T6Y9ONL"
   },
   "outputs": [],
   "source": [
    "# In te above two histograms we can observe that at zero it has the heighest frequency for the departing delays and arriving delays for prticular flight at MSP."
   ]
  },
  {
   "cell_type": "code",
   "execution_count": 34,
   "metadata": {
    "colab": {
     "base_uri": "https://localhost:8080/",
     "height": 323
    },
    "id": "Ne0l_PrSH7VL",
    "outputId": "b9f80ba3-8006-43da-954f-55f52b5b489d",
    "tags": []
   },
   "outputs": [
    {
     "data": {
      "image/png": "[encoded data removed]",
      "text/plain": [
       "<Figure size 720x324 with 2 Axes>"
      ]
     },
     "metadata": {
      "needs_background": "light"
     },
     "output_type": "display_data"
    }
   ],
   "source": [
    "# Histograms for ORD \n",
    "plt.figure(figsize=(10,4.5))\n",
    "plt.subplot(1,2,1)\n",
    "plt.hist(flights[flights['origin'] == 'ORD']['depDelay']);\n",
    "plt.yscale('log')\n",
    "plt.title('Plot the distribution of delays for departing flights:');\n",
    "plt.xlabel('flights');\n",
    "plt.ylabel('frequency of time delay');\n",
    "\n",
    "plt.subplot(1,2,2)\n",
    "plt.hist(flights[flights['dest'] == 'ORD']['arrDelay']);\n",
    "plt.yscale('log')\n",
    "plt.title('Plot the distribution of delays for arriving flights:');\n",
    "plt.xlabel('flights');\n",
    "plt.ylabel('frequency of time delay');"
   ]
  },
  {
   "cell_type": "code",
   "execution_count": null,
   "metadata": {
    "id": "S908GqKy9T4U"
   },
   "outputs": [],
   "source": [
    "# In te above two histograms we can observe that at zero it has the heighest frequency for the departing delays and arriving delays for prticular flight at ORD."
   ]
  },
  {
   "cell_type": "markdown",
   "metadata": {
    "id": "CS-GhTENS4j9"
   },
   "source": [
    "<!-- END QUESTION -->\n",
    "\n",
    "## Q10 (3 pts) - Delay Statistics"
   ]
  },
  {
   "cell_type": "markdown",
   "metadata": {
    "id": "Fkb7kWvGvlNS"
   },
   "source": [
    "Present the mean and standard deviation for departure and arrival delays for each airport.\n",
    "\n",
    "**NOTE: all the autograded tests are hidden for this problem.** If you run the grader_check function it will pass, locally, but will be checked vs. the hidden test cases on Gradescope. "
   ]
  },
  {
   "cell_type": "code",
   "execution_count": 35,
   "metadata": {
    "colab": {
     "base_uri": "https://localhost:8080/"
    },
    "id": "ZBxDDItYvltP",
    "outputId": "2fe4fd03-f50a-4971-fdc0-ba77e89b83e5",
    "tags": []
   },
   "outputs": [
    {
     "name": "stdout",
     "output_type": "stream",
     "text": [
      "Depature Delay for flights leaving DTW\n",
      " Mean:     7.5927405833482196\n",
      " Std Dev:  43.61499268204409\n",
      "Arrival Delay for flights arriving in DTW\n",
      " Mean:     0.7991628720938059\n",
      " Std Dev:  50.98109916207372\n",
      "\n",
      "Depature Delay for flights leaving MSP\n",
      " Mean:     6.530872925944746\n",
      " Std Dev:  42.74262685752288\n",
      "Arrival Delay for flights arriving in MSP\n",
      " Mean:     -0.7467615620199904\n",
      " Std Dev:  50.62433834186891\n",
      "\n",
      "Depature Delay for flights leaving ORD\n",
      " Mean:     10.842202169241016\n",
      " Std Dev:  46.84435393909345\n",
      "Arrival Delay for flights arriving in ORD\n",
      " Mean:     4.996705932310015\n",
      " Std Dev:  62.04845806635153\n"
     ]
    }
   ],
   "source": [
    "# Calculate the mean and std. Dev. Depature Delay for flights leaving DTW/MSP/ORD\n",
    "# Calculate the mean and std. Dev. Arrival Delay for flights arriving at DTW/MSP/ORD\n",
    "\n",
    "meanArrDTW = flights[(flights['dest'] == 'DTW')]['arrDelay'].mean()\n",
    "stdArrDTW = flights[(flights['dest'] == 'DTW')]['arrDelay'].std()\n",
    "\n",
    "meanArrMSP = flights[(flights['dest'] == 'MSP')]['arrDelay'].mean()\n",
    "stdArrMSP = flights[(flights['dest'] == 'MSP')]['arrDelay'].std()\n",
    "\n",
    "meanArrORD = flights[(flights['dest'] == 'ORD')]['arrDelay'].mean()\n",
    "stdArrORD = flights[(flights['dest'] == 'ORD')]['arrDelay'].std()\n",
    "\n",
    "\n",
    "\n",
    "meanDepDTW = flights[(flights['origin'] == 'DTW')]['depDelay'].mean()\n",
    "stdDepDTW = flights[(flights['origin'] == 'DTW')]['depDelay'].std()\n",
    "\n",
    "meanDepMSP = flights[(flights['origin'] == 'MSP')]['depDelay'].mean()\n",
    "stdDepMSP = flights[(flights['origin'] == 'MSP')]['depDelay'].std()\n",
    "\n",
    "meanDepORD = flights[(flights['origin'] == 'ORD')]['depDelay'].mean()\n",
    "stdDepORD = flights[(flights['origin'] == 'ORD')]['depDelay'].std()\n",
    "\n",
    "\n",
    "\n",
    "print(\"Depature Delay for flights leaving DTW\")\n",
    "print(\" Mean:    \", meanDepDTW)\n",
    "print(\" Std Dev: \", stdDepDTW)\n",
    "\n",
    "print(\"Arrival Delay for flights arriving in DTW\")\n",
    "print(\" Mean:    \", meanArrDTW)\n",
    "print(\" Std Dev: \", stdArrDTW)\n",
    "\n",
    "print(\"\\nDepature Delay for flights leaving MSP\")\n",
    "print(\" Mean:    \", meanDepMSP)\n",
    "print(\" Std Dev: \", stdDepMSP)\n",
    "\n",
    "print(\"Arrival Delay for flights arriving in MSP\")\n",
    "print(\" Mean:    \", meanArrMSP)\n",
    "print(\" Std Dev: \", stdArrMSP)\n",
    "\n",
    "print(\"\\nDepature Delay for flights leaving ORD\")\n",
    "print(\" Mean:    \", meanDepORD)\n",
    "print(\" Std Dev: \", stdDepORD)\n",
    "\n",
    "print(\"Arrival Delay for flights arriving in ORD\")\n",
    "print(\" Mean:    \", meanArrORD)\n",
    "print(\" Std Dev: \", stdArrORD)"
   ]
  },
  {
   "cell_type": "markdown",
   "metadata": {
    "id": "1phrza4TS4j-"
   },
   "source": [
    "## Patterns of Delays \n",
    "\n",
    "Next, you will examine if there are any patterns in the delays.  \n",
    "\n",
    "For this analysis focus on just the data from ORD, in particular the departure delays. "
   ]
  },
  {
   "cell_type": "markdown",
   "metadata": {
    "id": "IUA9MDjCR1fu"
   },
   "source": [
    "<!-- BEGIN QUESTION -->\n",
    "\n",
    "## Q11 (5 pts) - Departure Delays by Day of Week\n",
    "\n",
    "Let's examine if the departure delays differ by which day a flight is scheduled to leave.\n",
    "\n",
    "Create a bar chart showing the mean departure delay for each day of the week.\n",
    "\n",
    "In order to get the day of the week, I suggest create a new column `dateVal` that is a datetime object.  Then, you can make use of functions to convert datetime to day of the week, day of the year, etc. \n"
   ]
  },
  {
   "cell_type": "code",
   "execution_count": 42,
   "metadata": {
    "colab": {
     "base_uri": "https://localhost:8080/",
     "height": 404
    },
    "id": "RvSxASFKSpnQ",
    "outputId": "38b3553a-b081-4984-a3d8-3512e4198a3b",
    "tags": []
   },
   "outputs": [
    {
     "data": {
      "image/png": "[encoded data removed]",
      "text/plain": [
       "<Figure size 720x432 with 1 Axes>"
      ]
     },
     "metadata": {
      "needs_background": "light"
     },
     "output_type": "display_data"
    }
   ],
   "source": [
    "# Look at departure delays for ORD \n",
    "# Create a bar chart of the mean `depDelay` by day of the week: Mon., Tues., ...\n",
    "\n",
    "# Create a new column \"dateVal\" with a datetime object that may be useful\n",
    "#  for this and the following questions. \n",
    "\n",
    "flights['dateVal'] = flights.month.astype(str) + '-' + flights.day.astype(str) + '-' + flights.year.astype(str)\n",
    "flights['dateVal'] = pd.to_datetime(flights['dateVal']) #, format = )\n",
    "flights['dayOfWeek'] = flights['dateVal'].dt.day_name()\n",
    "\n",
    "plt.figure(figsize=(10,6))\n",
    "# mean_ORD = flights.groupby('dayOfWeek')['depDelay'].mean().index\n",
    "x = [ 'Monday','Tuesday','Wednesday', 'Thursday','Friday','Saturday', 'Sunday']\n",
    "plt.bar( x , flights[flights['origin']=='ORD']['depDelay'].groupby(by = flights['dayOfWeek']).mean().reindex(x));\n",
    "\n",
    "plt.xlabel('Days');\n",
    "plt.ylabel('mean of depDelay');\n",
    "plt.title('Bar chart showing the mean departure delay for each day of the week:');"
   ]
  },
  {
   "cell_type": "code",
   "execution_count": null,
   "metadata": {
    "id": "zpye_NVh7mMB"
   },
   "outputs": [],
   "source": [
    "#. We can observe that mean of delay flights is highest on Monday."
   ]
  },
  {
   "cell_type": "markdown",
   "metadata": {
    "id": "_dmrW5fZSo77"
   },
   "source": [
    "<!-- END QUESTION -->\n",
    "\n",
    "<!-- BEGIN QUESTION -->\n",
    "\n",
    "## Q12 (5 pts) - Dept. Delays by Month\n",
    "\n",
    "Next, let's examine if the depature delays differ by month of the year. \n",
    "\n",
    "Create a bar chart showing the mean departure delay for each month of the year. "
   ]
  },
  {
   "cell_type": "code",
   "execution_count": 40,
   "metadata": {
    "colab": {
     "base_uri": "https://localhost:8080/",
     "height": 404
    },
    "id": "w5YrfLmNS828",
    "outputId": "870762b7-6dc7-4c3c-a132-38bd4d1d9068",
    "tags": []
   },
   "outputs": [
    {
     "data": {
      "image/png": "[encoded data removed]",
      "text/plain": [
       "<Figure size 720x432 with 1 Axes>"
      ]
     },
     "metadata": {
      "needs_background": "light"
     },
     "output_type": "display_data"
    }
   ],
   "source": [
    "# Create a bar plot with the mean dep. delay for each month. \n",
    "plt.figure(figsize=(10,6))\n",
    "plt.bar(['Jan','Feb','Mar','Apr','May','Jun','Jul','Aug','Sep','Oct','Nov','Dec'],flights.groupby('month')['depDelay'].mean().values);\n",
    "plt.xlabel('Months');\n",
    "plt.ylabel('mean of depDelay');\n",
    "plt.title('Bar chart showing the mean departure delay for each month of the year:');"
   ]
  },
  {
   "cell_type": "code",
   "execution_count": null,
   "metadata": {
    "id": "dNdvSBcT6gxy"
   },
   "outputs": [],
   "source": [
    "#. we can observe that mean of delay flights is highest in the month of June."
   ]
  },
  {
   "cell_type": "markdown",
   "metadata": {
    "id": "tkEaARqPS9Rq"
   },
   "source": [
    "<!-- END QUESTION -->\n",
    "\n",
    "<!-- BEGIN QUESTION -->\n",
    "\n",
    "## Q13 (6 pts) - Change in Dept. Delays over Time \n",
    "\n",
    "Finally, let's examine how the depature delays have changed over time, e.g., has covid impacted depature delays? \n",
    "\n",
    "Create a line graph plotting the mean depature delay for data's timespan. "
   ]
  },
  {
   "cell_type": "code",
   "execution_count": 41,
   "metadata": {
    "colab": {
     "base_uri": "https://localhost:8080/",
     "height": 404
    },
    "id": "5hZTu3_OTY6n",
    "outputId": "d9aaf188-5440-4da6-c3d4-fa77ebd12356",
    "tags": []
   },
   "outputs": [
    {
     "data": {
      "image/png": "[encoded data removed]",
      "text/plain": [
       "<Figure size 720x432 with 1 Axes>"
      ]
     },
     "metadata": {
      "needs_background": "light"
     },
     "output_type": "display_data"
    }
   ],
   "source": [
    "# Create a line chart plotting the mean dep. delay over time\n",
    "# flights.groupby('year')['depDelay'].mean().values\n",
    "# flights.groupby('year')['depDelay'].mean().index\n",
    "plt.figure(figsize=(10,6))\n",
    "plt.plot(flights.groupby('year')['depDelay'].mean().index , flights.groupby('year')['depDelay'].mean().values);\n",
    "\n",
    "plt.xlabel('Years');\n",
    "plt.ylabel('mean of depDelay');\n",
    "plt.title(' line graph plotting the mean depature delay for data timespan');"
   ]
  },
  {
   "cell_type": "code",
   "execution_count": null,
   "metadata": {
    "id": "1ShrNB2r7Cyn"
   },
   "outputs": [],
   "source": [
    "# by observing the bar grap it says that change in depature delay is highest in 2019 and gradually decreased until 2020 due to covid and again increased in 2021."
   ]
  },
  {
   "cell_type": "markdown",
   "metadata": {
    "id": "Q9JAd3UBtogS"
   },
   "source": [
    "<!-- END QUESTION -->\n",
    "\n",
    "<!-- BEGIN QUESTION -->\n",
    "\n",
    "## Bonus (2 pts) - Top Ten Planes \n",
    "\n",
    "Find the tail number of the top ten planes, with the worst departure delays (average delays).  You may find `drop_duplicates`, `agg`, and `sort_values` helpful. \n",
    "Report out the tail number `tailNum`, number of flights `num`, and the mean delay `mnDelay`. "
   ]
  },
  {
   "cell_type": "code",
   "execution_count": 44,
   "metadata": {
    "colab": {
     "base_uri": "https://localhost:8080/"
    },
    "id": "gaGIENOE_aAX",
    "outputId": "97387cd5-7112-428b-b560-d02cdd29c44b"
   },
   "outputs": [
    {
     "data": {
      "text/plain": [
       "array(['N309AS', 'N408AS', 'N520AS', ..., 'N558WN', 'N7711N', 'N268WN'],\n",
       "      dtype=object)"
      ]
     },
     "execution_count": 44,
     "metadata": {},
     "output_type": "execute_result"
    }
   ],
   "source": [
    "# flights['tailNum'].values"
   ]
  },
  {
   "cell_type": "code",
   "execution_count": null,
   "metadata": {
    "id": "uygjFWy7uBhe",
    "tags": []
   },
   "outputs": [],
   "source": [
    "# Find the tail numbers of the planes with the worst mean dep. delays. \n",
    "# Store the tail number \"tailNum\", number of flights \"num\", and\n",
    "#   mean delay \"mnDelay\" in a DataFrame\n",
    "\n",
    "\n",
    "# flights.groupby('year')['depDelay'].avg().values;\n",
    "\n",
    "# topDelayed = ...\n",
    "# ...\n",
    "\n",
    "# topDelayed.head(10)"
   ]
  },
  {
   "cell_type": "markdown",
   "metadata": {
    "id": "iKJqdidES4kB"
   },
   "source": [
    "<!-- END QUESTION -->\n",
    "\n"
   ]
  }
 ],
 "metadata": {
  "colab": {
   "collapsed_sections": [],
   "provenance": []
  },
  "kernelspec": {
   "display_name": "un5550f22",
   "language": "python",
   "name": "un5550f22"
  },
  "language_info": {
   "codemirror_mode": {
    "name": "ipython",
    "version": 3
   },
   "file_extension": ".py",
   "mimetype": "text/x-python",
   "name": "python",
   "nbconvert_exporter": "python",
   "pygments_lexer": "ipython3",
   "version": "3.7.11"
  },
  "otter": {
   "OK_FORMAT": true,
   "tests": {
    "q1": {
     "name": "q1",
     "points": 5,
     "suites": [
      {
       "cases": [
        {
         "code": ">>> flights.shape[0] == 5068847\nTrue",
         "hidden": false,
         "locked": false
        },
        {
         "code": ">>> flights.shape[1] == 16\nTrue",
         "hidden": false,
         "locked": false
        },
        {
         "code": ">>> flights.columns[5] == 'flNum'\nTrue",
         "hidden": false,
         "locked": false
        },
        {
         "code": ">>> flights.columns[8] == 'crsDepTime'\nTrue",
         "hidden": false,
         "locked": false
        },
        {
         "code": ">>> flights.columns[13] == 'arrNextDay'\nTrue",
         "hidden": false,
         "locked": false
        }
       ],
       "scored": true,
       "setup": "",
       "teardown": "",
       "type": "doctest"
      }
     ]
    },
    "q10": {
     "name": "q10",
     "points": 3,
     "suites": [
      {
       "cases": [],
       "scored": true,
       "setup": "",
       "teardown": "",
       "type": "doctest"
      }
     ]
    },
    "q2": {
     "name": "q2",
     "points": 3,
     "suites": [
      {
       "cases": [
        {
         "code": ">>> numArrDTW == 648915\nTrue",
         "hidden": false,
         "locked": false
        },
        {
         "code": ">>> numDepDTW == 648900\nTrue",
         "hidden": false,
         "locked": false
        }
       ],
       "scored": true,
       "setup": "",
       "teardown": "",
       "type": "doctest"
      }
     ]
    },
    "q3": {
     "name": "q3",
     "points": 3,
     "suites": [
      {
       "cases": [
        {
         "code": ">>> numCanArrDTW == 9325 and numCanDepDTW == 9264 \nTrue",
         "hidden": false,
         "locked": false
        },
        {
         "code": ">>> numDivArrDTW == 739 and numDivDepDTW == 1459\nTrue",
         "hidden": false,
         "locked": false
        }
       ],
       "scored": true,
       "setup": "",
       "teardown": "",
       "type": "doctest"
      }
     ]
    },
    "q4": {
     "name": "q4",
     "points": 4,
     "suites": [
      {
       "cases": [
        {
         "code": ">>> flights.shape[0] == 4950620\nTrue",
         "hidden": false,
         "locked": false
        }
       ],
       "scored": true,
       "setup": "",
       "teardown": "",
       "type": "doctest"
      }
     ]
    },
    "q5": {
     "name": "q5",
     "points": 5,
     "suites": [
      {
       "cases": [
        {
         "code": ">>> hr = extract_hour(flights['actDepTime'][0:5])\n>>> hr[0]==10.0 and hr[1]==7.0 and hr[2]==18.0 and hr[3]==14.0 and hr[4]==10.0\nTrue",
         "hidden": false,
         "locked": false
        },
        {
         "code": ">>> mins = extract_min(flights['actDepTime'][0:5])\n>>> mins[0]==13.0 and mins[1]==3.0 and mins[2]==25.0 and mins[3]==4.0 and mins[4]==54.0\nTrue",
         "hidden": false,
         "locked": false
        }
       ],
       "scored": true,
       "setup": "",
       "teardown": "",
       "type": "doctest"
      }
     ]
    },
    "q6": {
     "name": "q6",
     "points": 2,
     "suites": [
      {
       "cases": [
        {
         "code": ">>> convert_to_minofday(1303.0)==783\nTrue",
         "hidden": false,
         "locked": false
        },
        {
         "code": ">>> convert_to_minofday(1524)==924\nTrue",
         "hidden": false,
         "locked": false
        },
        {
         "code": ">>> mins = convert_to_minofday(flights['actDepTime'][10:14])\n>>> mins[10] == 1155.0 and mins[11]==745.0 and mins[12]==1071.0 and mins[13]==547.0\nTrue",
         "hidden": false,
         "locked": false
        }
       ],
       "scored": true,
       "setup": "",
       "teardown": "",
       "type": "doctest"
      }
     ]
    },
    "q7": {
     "name": "q7",
     "points": 6,
     "suites": [
      {
       "cases": [
        {
         "code": ">>> calc_time_diff(pd.Series([2320.0]), pd.Series([37.0]), pd.Series([1])).iloc[0]==77.0\nTrue",
         "hidden": false,
         "locked": false
        },
        {
         "code": ">>> calc_time_diff(pd.Series([1303]), pd.Series([1305]), pd.Series([0])).iloc[0]==2\nTrue",
         "hidden": false,
         "locked": false
        }
       ],
       "scored": true,
       "setup": "",
       "teardown": "",
       "type": "doctest"
      }
     ]
    },
    "q8": {
     "name": "q8",
     "points": 3,
     "suites": [
      {
       "cases": [
        {
         "code": ">>> delayedDTW==25792\nTrue",
         "hidden": false,
         "locked": false
        }
       ],
       "scored": true,
       "setup": "",
       "teardown": "",
       "type": "doctest"
      }
     ]
    }
   }
  }
 },
 "nbformat": 4,
 "nbformat_minor": 1
}
