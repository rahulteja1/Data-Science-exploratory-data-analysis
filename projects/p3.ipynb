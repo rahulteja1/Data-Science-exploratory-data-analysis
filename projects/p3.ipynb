{
  "cells": [
    {
      "cell_type": "markdown",
      "metadata": {
        "id": "xMC9hGGknkad"
      },
      "source": [
        "# P3 \n",
        "\n",
        "\n",
        "This project gives you experience with getting data from the web. \n",
        "\n"
      ]
    },
    {
      "cell_type": "markdown",
      "metadata": {
        "id": "eLjWmISBCDga"
      },
      "source": [
        "### Autograder Setup\n",
        "\n",
        "The next code cell should be uncommented to run the autograder tests when using Colab/DeepNote. If you are using an environment with `otter-grader` already installed (your own machine, lab machines), then do not uncomment the code."
      ]
    },
    {
      "cell_type": "code",
      "execution_count": null,
      "metadata": {
        "id": "jhZfbsTyCDgb",
        "outputId": "2e861d37-cfd7-4de5-868d-e5593dca7f99",
        "colab": {
          "base_uri": "https://localhost:8080/"
        }
      },
      "outputs": [
        {
          "output_type": "stream",
          "name": "stdout",
          "text": [
            "Looking in indexes: https://pypi.org/simple, https://us-python.pkg.dev/colab-wheels/public/simple/\n",
            "Collecting otter-grader\n",
            "  Downloading otter_grader-4.1.0-py3-none-any.whl (168 kB)\n",
            "\u001b[K     |████████████████████████████████| 168 kB 27.2 MB/s \n",
            "\u001b[?25hRequirement already satisfied: click in /usr/local/lib/python3.7/dist-packages (from otter-grader) (7.1.2)\n",
            "Requirement already satisfied: google-auth-oauthlib in /usr/local/lib/python3.7/dist-packages (from otter-grader) (0.4.6)\n",
            "Requirement already satisfied: jinja2 in /usr/local/lib/python3.7/dist-packages (from otter-grader) (2.11.3)\n",
            "Requirement already satisfied: six in /usr/local/lib/python3.7/dist-packages (from otter-grader) (1.15.0)\n",
            "Requirement already satisfied: PyYAML in /usr/local/lib/python3.7/dist-packages (from otter-grader) (6.0)\n",
            "Collecting python-on-whales\n",
            "  Downloading python_on_whales-0.52.0-py3-none-any.whl (97 kB)\n",
            "\u001b[K     |████████████████████████████████| 97 kB 6.6 MB/s \n",
            "\u001b[?25hRequirement already satisfied: pandas in /usr/local/lib/python3.7/dist-packages (from otter-grader) (1.3.5)\n",
            "Requirement already satisfied: requests in /usr/local/lib/python3.7/dist-packages (from otter-grader) (2.23.0)\n",
            "Requirement already satisfied: wrapt in /usr/local/lib/python3.7/dist-packages (from otter-grader) (1.14.1)\n",
            "Collecting jupytext\n",
            "  Downloading jupytext-1.14.1-py3-none-any.whl (297 kB)\n",
            "\u001b[K     |████████████████████████████████| 297 kB 64.6 MB/s \n",
            "\u001b[?25hRequirement already satisfied: nbformat in /usr/local/lib/python3.7/dist-packages (from otter-grader) (5.7.0)\n",
            "Requirement already satisfied: google-api-python-client in /usr/local/lib/python3.7/dist-packages (from otter-grader) (1.12.11)\n",
            "Requirement already satisfied: dill in /usr/local/lib/python3.7/dist-packages (from otter-grader) (0.3.5.1)\n",
            "Collecting fica>=0.2.0\n",
            "  Downloading fica-0.2.0-py3-none-any.whl (11 kB)\n",
            "Requirement already satisfied: gspread in /usr/local/lib/python3.7/dist-packages (from otter-grader) (3.4.2)\n",
            "Requirement already satisfied: sphinx in /usr/local/lib/python3.7/dist-packages (from fica>=0.2.0->otter-grader) (1.8.6)\n",
            "Requirement already satisfied: docutils in /usr/local/lib/python3.7/dist-packages (from fica>=0.2.0->otter-grader) (0.17.1)\n",
            "Requirement already satisfied: google-api-core<3dev,>=1.21.0 in /usr/local/lib/python3.7/dist-packages (from google-api-python-client->otter-grader) (1.31.6)\n",
            "Requirement already satisfied: google-auth-httplib2>=0.0.3 in /usr/local/lib/python3.7/dist-packages (from google-api-python-client->otter-grader) (0.0.4)\n",
            "Requirement already satisfied: httplib2<1dev,>=0.15.0 in /usr/local/lib/python3.7/dist-packages (from google-api-python-client->otter-grader) (0.17.4)\n",
            "Requirement already satisfied: google-auth<3dev,>=1.16.0 in /usr/local/lib/python3.7/dist-packages (from google-api-python-client->otter-grader) (1.35.0)\n",
            "Requirement already satisfied: uritemplate<4dev,>=3.0.0 in /usr/local/lib/python3.7/dist-packages (from google-api-python-client->otter-grader) (3.0.1)\n",
            "Requirement already satisfied: setuptools>=40.3.0 in /usr/local/lib/python3.7/dist-packages (from google-api-core<3dev,>=1.21.0->google-api-python-client->otter-grader) (57.4.0)\n",
            "Requirement already satisfied: googleapis-common-protos<2.0dev,>=1.6.0 in /usr/local/lib/python3.7/dist-packages (from google-api-core<3dev,>=1.21.0->google-api-python-client->otter-grader) (1.56.4)\n",
            "Requirement already satisfied: packaging>=14.3 in /usr/local/lib/python3.7/dist-packages (from google-api-core<3dev,>=1.21.0->google-api-python-client->otter-grader) (21.3)\n",
            "Requirement already satisfied: protobuf<4.0.0dev,>=3.12.0 in /usr/local/lib/python3.7/dist-packages (from google-api-core<3dev,>=1.21.0->google-api-python-client->otter-grader) (3.17.3)\n",
            "Requirement already satisfied: pytz in /usr/local/lib/python3.7/dist-packages (from google-api-core<3dev,>=1.21.0->google-api-python-client->otter-grader) (2022.4)\n",
            "Requirement already satisfied: rsa<5,>=3.1.4 in /usr/local/lib/python3.7/dist-packages (from google-auth<3dev,>=1.16.0->google-api-python-client->otter-grader) (4.9)\n",
            "Requirement already satisfied: cachetools<5.0,>=2.0.0 in /usr/local/lib/python3.7/dist-packages (from google-auth<3dev,>=1.16.0->google-api-python-client->otter-grader) (4.2.4)\n",
            "Requirement already satisfied: pyasn1-modules>=0.2.1 in /usr/local/lib/python3.7/dist-packages (from google-auth<3dev,>=1.16.0->google-api-python-client->otter-grader) (0.2.8)\n",
            "Requirement already satisfied: pyparsing!=3.0.5,>=2.0.2 in /usr/local/lib/python3.7/dist-packages (from packaging>=14.3->google-api-core<3dev,>=1.21.0->google-api-python-client->otter-grader) (3.0.9)\n",
            "Requirement already satisfied: pyasn1<0.5.0,>=0.4.6 in /usr/local/lib/python3.7/dist-packages (from pyasn1-modules>=0.2.1->google-auth<3dev,>=1.16.0->google-api-python-client->otter-grader) (0.4.8)\n",
            "Requirement already satisfied: urllib3!=1.25.0,!=1.25.1,<1.26,>=1.21.1 in /usr/local/lib/python3.7/dist-packages (from requests->otter-grader) (1.24.3)\n",
            "Requirement already satisfied: chardet<4,>=3.0.2 in /usr/local/lib/python3.7/dist-packages (from requests->otter-grader) (3.0.4)\n",
            "Requirement already satisfied: idna<3,>=2.5 in /usr/local/lib/python3.7/dist-packages (from requests->otter-grader) (2.10)\n",
            "Requirement already satisfied: certifi>=2017.4.17 in /usr/local/lib/python3.7/dist-packages (from requests->otter-grader) (2022.9.24)\n",
            "Requirement already satisfied: requests-oauthlib>=0.7.0 in /usr/local/lib/python3.7/dist-packages (from google-auth-oauthlib->otter-grader) (1.3.1)\n",
            "Requirement already satisfied: oauthlib>=3.0.0 in /usr/local/lib/python3.7/dist-packages (from requests-oauthlib>=0.7.0->google-auth-oauthlib->otter-grader) (3.2.1)\n",
            "Requirement already satisfied: MarkupSafe>=0.23 in /usr/local/lib/python3.7/dist-packages (from jinja2->otter-grader) (2.0.1)\n",
            "Requirement already satisfied: toml in /usr/local/lib/python3.7/dist-packages (from jupytext->otter-grader) (0.10.2)\n",
            "Collecting markdown-it-py<3.0.0,>=1.0.0\n",
            "  Downloading markdown_it_py-2.1.0-py3-none-any.whl (84 kB)\n",
            "\u001b[K     |████████████████████████████████| 84 kB 2.9 MB/s \n",
            "\u001b[?25hCollecting mdit-py-plugins\n",
            "  Downloading mdit_py_plugins-0.3.1-py3-none-any.whl (46 kB)\n",
            "\u001b[K     |████████████████████████████████| 46 kB 3.5 MB/s \n",
            "\u001b[?25hCollecting mdurl~=0.1\n",
            "  Downloading mdurl-0.1.2-py3-none-any.whl (10.0 kB)\n",
            "Requirement already satisfied: typing_extensions>=3.7.4 in /usr/local/lib/python3.7/dist-packages (from markdown-it-py<3.0.0,>=1.0.0->jupytext->otter-grader) (4.1.1)\n",
            "Requirement already satisfied: jsonschema>=2.6 in /usr/local/lib/python3.7/dist-packages (from nbformat->otter-grader) (4.3.3)\n",
            "Requirement already satisfied: traitlets>=5.1 in /usr/local/lib/python3.7/dist-packages (from nbformat->otter-grader) (5.1.1)\n",
            "Requirement already satisfied: importlib-metadata>=3.6 in /usr/local/lib/python3.7/dist-packages (from nbformat->otter-grader) (5.0.0)\n",
            "Requirement already satisfied: fastjsonschema in /usr/local/lib/python3.7/dist-packages (from nbformat->otter-grader) (2.16.2)\n",
            "Requirement already satisfied: jupyter-core in /usr/local/lib/python3.7/dist-packages (from nbformat->otter-grader) (4.11.1)\n",
            "Requirement already satisfied: zipp>=0.5 in /usr/local/lib/python3.7/dist-packages (from importlib-metadata>=3.6->nbformat->otter-grader) (3.9.0)\n",
            "Requirement already satisfied: attrs>=17.4.0 in /usr/local/lib/python3.7/dist-packages (from jsonschema>=2.6->nbformat->otter-grader) (22.1.0)\n",
            "Requirement already satisfied: pyrsistent!=0.17.0,!=0.17.1,!=0.17.2,>=0.14.0 in /usr/local/lib/python3.7/dist-packages (from jsonschema>=2.6->nbformat->otter-grader) (0.18.1)\n",
            "Requirement already satisfied: importlib-resources>=1.4.0 in /usr/local/lib/python3.7/dist-packages (from jsonschema>=2.6->nbformat->otter-grader) (5.10.0)\n",
            "Requirement already satisfied: numpy>=1.17.3 in /usr/local/lib/python3.7/dist-packages (from pandas->otter-grader) (1.21.6)\n",
            "Requirement already satisfied: python-dateutil>=2.7.3 in /usr/local/lib/python3.7/dist-packages (from pandas->otter-grader) (2.8.2)\n",
            "Requirement already satisfied: tqdm in /usr/local/lib/python3.7/dist-packages (from python-on-whales->otter-grader) (4.64.1)\n",
            "Requirement already satisfied: pydantic in /usr/local/lib/python3.7/dist-packages (from python-on-whales->otter-grader) (1.9.2)\n",
            "Requirement already satisfied: typer>=0.4.1 in /usr/local/lib/python3.7/dist-packages (from python-on-whales->otter-grader) (0.4.2)\n",
            "Requirement already satisfied: Pygments>=2.0 in /usr/local/lib/python3.7/dist-packages (from sphinx->fica>=0.2.0->otter-grader) (2.6.1)\n",
            "Requirement already satisfied: imagesize in /usr/local/lib/python3.7/dist-packages (from sphinx->fica>=0.2.0->otter-grader) (1.4.1)\n",
            "Requirement already satisfied: snowballstemmer>=1.1 in /usr/local/lib/python3.7/dist-packages (from sphinx->fica>=0.2.0->otter-grader) (2.2.0)\n",
            "Requirement already satisfied: sphinxcontrib-websupport in /usr/local/lib/python3.7/dist-packages (from sphinx->fica>=0.2.0->otter-grader) (1.2.4)\n",
            "Requirement already satisfied: alabaster<0.8,>=0.7 in /usr/local/lib/python3.7/dist-packages (from sphinx->fica>=0.2.0->otter-grader) (0.7.12)\n",
            "Requirement already satisfied: babel!=2.0,>=1.3 in /usr/local/lib/python3.7/dist-packages (from sphinx->fica>=0.2.0->otter-grader) (2.10.3)\n",
            "Requirement already satisfied: sphinxcontrib-serializinghtml in /usr/local/lib/python3.7/dist-packages (from sphinxcontrib-websupport->sphinx->fica>=0.2.0->otter-grader) (1.1.5)\n",
            "Installing collected packages: mdurl, markdown-it-py, mdit-py-plugins, python-on-whales, jupytext, fica, otter-grader\n",
            "Successfully installed fica-0.2.0 jupytext-1.14.1 markdown-it-py-2.1.0 mdit-py-plugins-0.3.1 mdurl-0.1.2 otter-grader-4.1.0 python-on-whales-0.52.0\n"
          ]
        }
      ],
      "source": [
        "# !pip install otter-grader"
      ]
    },
    {
      "cell_type": "markdown",
      "metadata": {
        "id": "729xQsz1CDgc"
      },
      "source": [
        "You will have access to a few tests for the project. Note, when you submit the autograder will run additional \"hidden\" tests on your solutions.\n",
        "\n",
        "Please comment out this cell before submitting."
      ]
    },
    {
      "cell_type": "code",
      "execution_count": null,
      "metadata": {
        "id": "rSQk5tfBCDgc",
        "colab": {
          "base_uri": "https://localhost:8080/"
        },
        "outputId": "aa36beae-af31-4f08-ba60-f86ec033839a"
      },
      "outputs": [
        {
          "output_type": "stream",
          "name": "stdout",
          "text": [
            "--2022-10-17 02:06:59--  https://pages.mtu.edu/~lebrown/un5550-f22/projects/p3/p3.files.zip\n",
            "Resolving pages.mtu.edu (pages.mtu.edu)... 141.219.70.232\n",
            "Connecting to pages.mtu.edu (pages.mtu.edu)|141.219.70.232|:443... connected.\n",
            "HTTP request sent, awaiting response... 200 OK\n",
            "Length: 1730 (1.7K) [application/zip]\n",
            "Saving to: ‘p3.files.zip’\n",
            "\n",
            "\rp3.files.zip          0%[                    ]       0  --.-KB/s               \rp3.files.zip        100%[===================>]   1.69K  --.-KB/s    in 0s      \n",
            "\n",
            "2022-10-17 02:07:00 (133 MB/s) - ‘p3.files.zip’ saved [1730/1730]\n",
            "\n",
            "Archive:  p3.files.zip\n",
            "   creating: tests/\n",
            "  inflating: tests/q1.py             \n",
            "  inflating: tests/q4.py             \n",
            "  inflating: tests/q3.py             \n",
            "  inflating: tests/q2.py             \n"
          ]
        }
      ],
      "source": [
        "# !wget https://pages.mtu.edu/~lebrown/un5550-f22/projects/p3/p3.files.zip\n",
        "# !unzip p3.files.zip"
      ]
    },
    {
      "cell_type": "code",
      "execution_count": null,
      "metadata": {
        "id": "4i05x2H2uD9z"
      },
      "outputs": [],
      "source": [
        "import pandas as pd \n",
        "import numpy as np\n",
        "from bs4 import BeautifulSoup\n",
        "import requests \n",
        "import re \n",
        "import matplotlib.pyplot as plt\n",
        "%matplotlib inline \n",
        "import seaborn as sns\n",
        "\n",
        "import otter\n",
        "grader = otter.Notebook()"
      ]
    },
    {
      "cell_type": "markdown",
      "metadata": {
        "id": "BCzUxy2HCDgd"
      },
      "source": [
        "**NOTE** A note on grading for this project.  \n",
        "Each question has the totoal points listed which will be split between autograding methods and manual grading review your code to achieve the requested result.   "
      ]
    },
    {
      "cell_type": "markdown",
      "metadata": {
        "id": "3Gnokidqn_H7"
      },
      "source": [
        "## Q1 - (5 pts total)\n",
        "\n",
        "Scrape [https://www.data.gov](https://www.data.gov) to identify and print out the number of data sets available."
      ]
    },
    {
      "cell_type": "code",
      "execution_count": null,
      "metadata": {
        "id": "MLg0cuqsoMU8",
        "tags": []
      },
      "outputs": [],
      "source": [
        "site = requests.get('https://www.data.gov').text\n",
        "q1 = BeautifulSoup(site, 'html5lib') "
      ]
    },
    {
      "cell_type": "code",
      "execution_count": null,
      "metadata": {
        "tags": [],
        "id": "yWjlfcKtCDge",
        "colab": {
          "base_uri": "https://localhost:8080/"
        },
        "outputId": "2566e732-c313-40e0-90b3-6e0d3848e49c"
      },
      "outputs": [
        {
          "output_type": "stream",
          "name": "stdout",
          "text": [
            "The number of datasets is  335221\n"
          ]
        }
      ],
      "source": [
        "a1 = q1.find('div', class_ = \"text-center getstarted\").a.text \n",
        "total_datasets1 = re.sub('[^0-9]',\"\",a1.replace(\",\",\"\"))    # total_datasets should be an integer  \n",
        "total_datasets = int(total_datasets1[-6:]) \n",
        "# total_datasets    \n",
        "print(\"The number of datasets is \", str(total_datasets)) "
      ]
    },
    {
      "cell_type": "code",
      "execution_count": null,
      "metadata": {
        "deletable": false,
        "editable": false,
        "id": "vBXAO3XJCDgf",
        "colab": {
          "base_uri": "https://localhost:8080/",
          "height": 47
        },
        "outputId": "7b3cbafe-018a-4856-8f83-36cfd1b0aa88"
      },
      "outputs": [
        {
          "output_type": "execute_result",
          "data": {
            "text/plain": [
              "q1 results: All test cases passed!"
            ],
            "text/html": [
              "<p><strong><pre style='display: inline;'>q1</pre></strong> passed! 🍀</p>"
            ]
          },
          "metadata": {},
          "execution_count": 6
        }
      ],
      "source": [
        "grader.check(\"q1\") "
      ]
    },
    {
      "cell_type": "markdown",
      "metadata": {
        "id": "S3ktojVzoTbe"
      },
      "source": [
        "## Q2 - (20 pts total) \n",
        "\n",
        "You will be looking at the votes for U.S. Senate in the 117th Congress 1st session (2021).  In particular, we are seeking to identify the items that were rejected by a margin of less than 5 votes.  \n",
        "\n",
        "Report in a DataFrame which items match this criteria.  \n",
        "The DataFrame should have separate columns for the vote number, the tally, questions: description, and issue. \n",
        "\n",
        "Data available at: https://www.senate.gov/legislative/LIS/roll_call_lists/vote_menu_117_1.htm\n",
        "\n",
        "Consider completing one of the following methods: \n",
        "* using pandas read_html \n",
        "* using BeautifulSoup to parse the information. "
      ]
    },
    {
      "cell_type": "code",
      "source": [
        "url = \"https://www.senate.gov/legislative/LIS/roll_call_lists/vote_menu_117_1.htm\" \n",
        "headers = {\"User-agent\": \n",
        "           \"Mozilla/5.0 (X11; Linux x86_64) AppleWebKit/537.36 (KHTML, like Gecko) Chrome/47.0.2526.80 Safari/537.36\"} \n",
        "site = requests.get(url, headers=headers).text \n",
        "q2 = BeautifulSoup(site, 'html5lib') "
      ],
      "metadata": {
        "id": "ys3rJB8SBZac"
      },
      "execution_count": null,
      "outputs": []
    },
    {
      "cell_type": "code",
      "execution_count": null,
      "metadata": {
        "id": "mPSZYUyhpXjE",
        "tags": [],
        "colab": {
          "base_uri": "https://localhost:8080/"
        },
        "outputId": "cd4a8d97-9d42-4477-8477-5864990a10e5"
      },
      "outputs": [
        {
          "output_type": "stream",
          "name": "stdout",
          "text": [
            "Number of rejected votes with margin < 5 : 91\n"
          ]
        }
      ],
      "source": [
        "from pandas.plotting import table\n",
        "import warnings\n",
        "warnings.simplefilter(action='ignore', category=FutureWarning)\n",
        "# Use one of the two methods to get the Senate votes data \n",
        "# Filter/Select only those items that are rejected with a margin \n",
        "#  of less than 5 votes.  \n",
        "# Report in a DataFrame 'tableRejVotes' with columns of: \n",
        "#  vote number 'Vnum', tally 'Tally', question: description 'Desc', \n",
        "#  and issue 'Issue'\n",
        "\n",
        "df = pd.DataFrame(pd.read_html(q2.prettify(), flavor=['bs4'])[0])\n",
        "df[['Vote','Tally']] = df['Vote (Tally)'].str.split(expand=True)   \n",
        "df[['YEAs','NAYs']] = df['Tally'].str.split(\"-\",expand=True)\n",
        "df['YEAs'] = df.YEAs.str.replace('(', '')\n",
        "df['NAYs'] = df.NAYs.str.replace(')', '')\n",
        "\n",
        "df['Tally'] = df['YEAs']+ '-' + df['NAYs']\n",
        "df['diffvotes'] = abs(df['YEAs'].astype(int)-df['NAYs'].astype(int))\n",
        "\n",
        "tableRejVotes = df[(df.diffvotes < 5) & (df.Result == 'Rejected')][['Vote','Tally','Question: Description','Issue']]\n",
        "tableRejVotes.columns=['Vnum','Tally','Desc','Issue']\n",
        "tableRejVotes['Vnum'] = tableRejVotes['Vnum'].astype('int')\n",
        "print (\"Number of rejected votes with margin < 5 : \" + \n",
        "        str(tableRejVotes.shape[0]))\n"
      ]
    },
    {
      "cell_type": "code",
      "execution_count": null,
      "metadata": {
        "deletable": false,
        "editable": false,
        "id": "ruEsc26YCDgh",
        "colab": {
          "base_uri": "https://localhost:8080/",
          "height": 47
        },
        "outputId": "ed8d7fa1-05cb-48c6-ac64-208eb02fa4c9"
      },
      "outputs": [
        {
          "output_type": "execute_result",
          "data": {
            "text/plain": [
              "q2 results: All test cases passed!"
            ],
            "text/html": [
              "<p><strong><pre style='display: inline;'>q2</pre></strong> passed! ✨</p>"
            ]
          },
          "metadata": {},
          "execution_count": 11
        }
      ],
      "source": [
        "grader.check(\"q2\")"
      ]
    },
    {
      "cell_type": "markdown",
      "metadata": {
        "id": "3mJlHZc8pYNK"
      },
      "source": [
        "## Q3 - (20 pts total) \n",
        "\n",
        "From the list of top 200 most popular names for babies born in the US in the 2010s.  We are interested in the names that start with 'W' or contain a letter  'P' or 'p'.  \n",
        "\n",
        "Create a DataFrame with the names that start with 'W' or contain a letter  'P' or 'p' (for both male and female together), their rank, and the number of times the name is used.  DataFrame has four columns: \"Rank\" - int, \"Names\" - str, \"Number\" - int, and \"Gender\" - str - \"Male\"/\"Female\". \n",
        "\n",
        "Examples names from the table are: \n",
        "* 4, William, 159773\n",
        "* 37, Wyatt, 87644\n",
        "* 118, Willow, 26999\n",
        "* 44, Penelope, 47570\n",
        "* 64, Peyton, 39582\n",
        "* ... \n",
        "\n",
        "Display the first 10 rows of the DataFrame, sorted by decreasing number.  Also, print out the sum of the number of the 'W' names and the sum of the number of names with 'P' or 'p'.  \n",
        "\n",
        "Data available at: https://www.ssa.gov/OACT/babynames/decades/names2010s.html"
      ]
    },
    {
      "cell_type": "code",
      "execution_count": null,
      "metadata": {
        "id": "59rffn1hqxj1",
        "tags": []
      },
      "outputs": [],
      "source": [
        "site = requests.get('https://www.ssa.gov/OACT/babynames/decades/names2010s.html').text\n",
        "q3 = BeautifulSoup(site, 'html5lib')"
      ]
    },
    {
      "cell_type": "code",
      "execution_count": null,
      "metadata": {
        "tags": [],
        "id": "8-v0DF3zCDgi"
      },
      "outputs": [],
      "source": [
        "df = pd.DataFrame(pd.read_html(q3.prettify(), flavor=['bs4'])[0])\n",
        "dfmales = df['Males']\n",
        "dfmales = dfmales.drop(labels=200, axis=0)\n",
        "dfmales['Gender'] = 'Male'\n",
        "convert_dict = {'Name': object,'Number':np.int64,'Gender': object}\n",
        "dfmales = dfmales.astype(convert_dict)\n",
        "dfmales['Rank'] = dfmales['Number'].rank(ascending=False)\n",
        "dfmales = dfmales.reindex(columns=['Rank','Name','Number','Gender'])\n",
        "convert_dict = {'Rank': np.int64,'Name': object,'Number':np.int64,'Gender': object}\n",
        "dfmales = dfmales.astype(convert_dict)\n",
        "# dfmales\n",
        "\n",
        "dffemales = df['Females']\n",
        "dffemales = dffemales.drop(labels=200, axis=0)\n",
        "dffemales['Gender'] = 'Female'\n",
        "convert_dict = {'Name': object,'Number':np.int64,'Gender': object}\n",
        "dffemales = dffemales.astype(convert_dict)\n",
        "dffemales['Rank'] = dffemales['Number'].rank(ascending=False)\n",
        "dffemales = dffemales.reindex(columns=['Rank','Name','Number','Gender'])\n",
        "convert_dict = {'Rank': np.int64,'Name': object,'Number':np.int64,'Gender': object}\n",
        "dffemales = dffemales.astype(convert_dict)\n",
        "# dffemales\n",
        "\n",
        "df2 = pd.concat([dfmales,dffemales])\n",
        "# df2\n",
        "# dfW = df2[df2.Name.str.contains('W')]#, regex=False)]\n",
        "# dfP = df2[df2.Name.str.contains('P')]#, regex=False)]\n",
        "# dfp = df2[df2.Name.str.contains('p')]#, regex=False)]\n",
        "dfpatt = df2[(df2.Name.str.contains('W'))|(df2.Name.str.contains('P'))|(df2.Name.str.contains('p'))]\n",
        "dfpatt = dfpatt.rename(columns={'Number': 'Num'})\n",
        "dfpatt = dfpatt.sort_values(by=['Num'], ascending=False)\n",
        "# dfpatt"
      ]
    },
    {
      "cell_type": "code",
      "execution_count": null,
      "metadata": {
        "id": "FQ-XVx5_qxXO",
        "tags": [],
        "colab": {
          "base_uri": "https://localhost:8080/",
          "height": 398
        },
        "outputId": "c48de4e8-2f18-4c73-f5fe-55aab4c44733"
      },
      "outputs": [
        {
          "output_type": "stream",
          "name": "stdout",
          "text": [
            "Total number of names that start with W  : 334332\n",
            "Total number of names that contain P/p   : 895223\n"
          ]
        },
        {
          "output_type": "execute_result",
          "data": {
            "text/plain": [
              "    Rank         Name     Num  Gender\n",
              "2      3       Sophia  180953  Female\n",
              "3      4      William  159773    Male\n",
              "19    20       Joseph  115497    Male\n",
              "26    27  Christopher  101968    Male\n",
              "36    37        Wyatt   87644    Male\n",
              "15    16       Harper   85111  Female\n",
              "82    83       Cooper   49232    Male\n",
              "83    84       Parker   49187    Male\n",
              "43    44     Penelope   47570  Female\n",
              "63    64       Peyton   39582  Female"
            ],
            "text/html": [
              "\n",
              "  <div id=\"df-a5c10268-c91e-48ae-8c5a-f2ffeeb0ce2a\">\n",
              "    <div class=\"colab-df-container\">\n",
              "      <div>\n",
              "<style scoped>\n",
              "    .dataframe tbody tr th:only-of-type {\n",
              "        vertical-align: middle;\n",
              "    }\n",
              "\n",
              "    .dataframe tbody tr th {\n",
              "        vertical-align: top;\n",
              "    }\n",
              "\n",
              "    .dataframe thead th {\n",
              "        text-align: right;\n",
              "    }\n",
              "</style>\n",
              "<table border=\"1\" class=\"dataframe\">\n",
              "  <thead>\n",
              "    <tr style=\"text-align: right;\">\n",
              "      <th></th>\n",
              "      <th>Rank</th>\n",
              "      <th>Name</th>\n",
              "      <th>Num</th>\n",
              "      <th>Gender</th>\n",
              "    </tr>\n",
              "  </thead>\n",
              "  <tbody>\n",
              "    <tr>\n",
              "      <th>2</th>\n",
              "      <td>3</td>\n",
              "      <td>Sophia</td>\n",
              "      <td>180953</td>\n",
              "      <td>Female</td>\n",
              "    </tr>\n",
              "    <tr>\n",
              "      <th>3</th>\n",
              "      <td>4</td>\n",
              "      <td>William</td>\n",
              "      <td>159773</td>\n",
              "      <td>Male</td>\n",
              "    </tr>\n",
              "    <tr>\n",
              "      <th>19</th>\n",
              "      <td>20</td>\n",
              "      <td>Joseph</td>\n",
              "      <td>115497</td>\n",
              "      <td>Male</td>\n",
              "    </tr>\n",
              "    <tr>\n",
              "      <th>26</th>\n",
              "      <td>27</td>\n",
              "      <td>Christopher</td>\n",
              "      <td>101968</td>\n",
              "      <td>Male</td>\n",
              "    </tr>\n",
              "    <tr>\n",
              "      <th>36</th>\n",
              "      <td>37</td>\n",
              "      <td>Wyatt</td>\n",
              "      <td>87644</td>\n",
              "      <td>Male</td>\n",
              "    </tr>\n",
              "    <tr>\n",
              "      <th>15</th>\n",
              "      <td>16</td>\n",
              "      <td>Harper</td>\n",
              "      <td>85111</td>\n",
              "      <td>Female</td>\n",
              "    </tr>\n",
              "    <tr>\n",
              "      <th>82</th>\n",
              "      <td>83</td>\n",
              "      <td>Cooper</td>\n",
              "      <td>49232</td>\n",
              "      <td>Male</td>\n",
              "    </tr>\n",
              "    <tr>\n",
              "      <th>83</th>\n",
              "      <td>84</td>\n",
              "      <td>Parker</td>\n",
              "      <td>49187</td>\n",
              "      <td>Male</td>\n",
              "    </tr>\n",
              "    <tr>\n",
              "      <th>43</th>\n",
              "      <td>44</td>\n",
              "      <td>Penelope</td>\n",
              "      <td>47570</td>\n",
              "      <td>Female</td>\n",
              "    </tr>\n",
              "    <tr>\n",
              "      <th>63</th>\n",
              "      <td>64</td>\n",
              "      <td>Peyton</td>\n",
              "      <td>39582</td>\n",
              "      <td>Female</td>\n",
              "    </tr>\n",
              "  </tbody>\n",
              "</table>\n",
              "</div>\n",
              "      <button class=\"colab-df-convert\" onclick=\"convertToInteractive('df-a5c10268-c91e-48ae-8c5a-f2ffeeb0ce2a')\"\n",
              "              title=\"Convert this dataframe to an interactive table.\"\n",
              "              style=\"display:none;\">\n",
              "        \n",
              "  <svg xmlns=\"http://www.w3.org/2000/svg\" height=\"24px\"viewBox=\"0 0 24 24\"\n",
              "       width=\"24px\">\n",
              "    <path d=\"M0 0h24v24H0V0z\" fill=\"none\"/>\n",
              "    <path d=\"M18.56 5.44l.94 2.06.94-2.06 2.06-.94-2.06-.94-.94-2.06-.94 2.06-2.06.94zm-11 1L8.5 8.5l.94-2.06 2.06-.94-2.06-.94L8.5 2.5l-.94 2.06-2.06.94zm10 10l.94 2.06.94-2.06 2.06-.94-2.06-.94-.94-2.06-.94 2.06-2.06.94z\"/><path d=\"M17.41 7.96l-1.37-1.37c-.4-.4-.92-.59-1.43-.59-.52 0-1.04.2-1.43.59L10.3 9.45l-7.72 7.72c-.78.78-.78 2.05 0 2.83L4 21.41c.39.39.9.59 1.41.59.51 0 1.02-.2 1.41-.59l7.78-7.78 2.81-2.81c.8-.78.8-2.07 0-2.86zM5.41 20L4 18.59l7.72-7.72 1.47 1.35L5.41 20z\"/>\n",
              "  </svg>\n",
              "      </button>\n",
              "      \n",
              "  <style>\n",
              "    .colab-df-container {\n",
              "      display:flex;\n",
              "      flex-wrap:wrap;\n",
              "      gap: 12px;\n",
              "    }\n",
              "\n",
              "    .colab-df-convert {\n",
              "      background-color: #E8F0FE;\n",
              "      border: none;\n",
              "      border-radius: 50%;\n",
              "      cursor: pointer;\n",
              "      display: none;\n",
              "      fill: #1967D2;\n",
              "      height: 32px;\n",
              "      padding: 0 0 0 0;\n",
              "      width: 32px;\n",
              "    }\n",
              "\n",
              "    .colab-df-convert:hover {\n",
              "      background-color: #E2EBFA;\n",
              "      box-shadow: 0px 1px 2px rgba(60, 64, 67, 0.3), 0px 1px 3px 1px rgba(60, 64, 67, 0.15);\n",
              "      fill: #174EA6;\n",
              "    }\n",
              "\n",
              "    [theme=dark] .colab-df-convert {\n",
              "      background-color: #3B4455;\n",
              "      fill: #D2E3FC;\n",
              "    }\n",
              "\n",
              "    [theme=dark] .colab-df-convert:hover {\n",
              "      background-color: #434B5C;\n",
              "      box-shadow: 0px 1px 3px 1px rgba(0, 0, 0, 0.15);\n",
              "      filter: drop-shadow(0px 1px 2px rgba(0, 0, 0, 0.3));\n",
              "      fill: #FFFFFF;\n",
              "    }\n",
              "  </style>\n",
              "\n",
              "      <script>\n",
              "        const buttonEl =\n",
              "          document.querySelector('#df-a5c10268-c91e-48ae-8c5a-f2ffeeb0ce2a button.colab-df-convert');\n",
              "        buttonEl.style.display =\n",
              "          google.colab.kernel.accessAllowed ? 'block' : 'none';\n",
              "\n",
              "        async function convertToInteractive(key) {\n",
              "          const element = document.querySelector('#df-a5c10268-c91e-48ae-8c5a-f2ffeeb0ce2a');\n",
              "          const dataTable =\n",
              "            await google.colab.kernel.invokeFunction('convertToInteractive',\n",
              "                                                     [key], {});\n",
              "          if (!dataTable) return;\n",
              "\n",
              "          const docLinkHtml = 'Like what you see? Visit the ' +\n",
              "            '<a target=\"_blank\" href=https://colab.research.google.com/notebooks/data_table.ipynb>data table notebook</a>'\n",
              "            + ' to learn more about interactive tables.';\n",
              "          element.innerHTML = '';\n",
              "          dataTable['output_type'] = 'display_data';\n",
              "          await google.colab.output.renderOutput(dataTable, element);\n",
              "          const docLink = document.createElement('div');\n",
              "          docLink.innerHTML = docLinkHtml;\n",
              "          element.appendChild(docLink);\n",
              "        }\n",
              "      </script>\n",
              "    </div>\n",
              "  </div>\n",
              "  "
            ]
          },
          "metadata": {},
          "execution_count": 14
        }
      ],
      "source": [
        "from ast import Name\n",
        "# Create a DataFrame 'names' for the names that start with W or have a P/p\n",
        "# The 'names' DataFrame has four colummns: \n",
        "#   'Rank' (int) \n",
        "#   'Name' (str)\n",
        "#   'Num' (int) \n",
        "#   'Gender' (str) 'Female' / 'Male'\n",
        "\n",
        "names = dfpatt\n",
        "\n",
        "numWnames = dfpatt[dfpatt.Name.str.contains('W')]['Num'].sum()   # the sum of the names beginning with W \n",
        "numPnames = dfpatt[dfpatt.Name.str.contains('P') | dfpatt.Name.str.contains('p')]['Num'].sum()   # the sum of the names with a P/p\n",
        "\n",
        "\n",
        "\n",
        "print(\"Total number of names that start with W  : \" + str(numWnames))\n",
        "print(\"Total number of names that contain P/p   : \" + str(numPnames))\n",
        "\n",
        "names.head(10)"
      ]
    },
    {
      "cell_type": "code",
      "execution_count": null,
      "metadata": {
        "deletable": false,
        "editable": false,
        "id": "dE_rzfnlCDgi",
        "colab": {
          "base_uri": "https://localhost:8080/",
          "height": 47
        },
        "outputId": "3a2d23a1-4e13-4375-c181-11400df517e1"
      },
      "outputs": [
        {
          "output_type": "execute_result",
          "data": {
            "text/plain": [
              "q3 results: All test cases passed!"
            ],
            "text/html": [
              "<p><strong><pre style='display: inline;'>q3</pre></strong> passed! 🌟</p>"
            ]
          },
          "metadata": {},
          "execution_count": 15
        }
      ],
      "source": [
        "grader.check(\"q3\")"
      ]
    },
    {
      "cell_type": "markdown",
      "metadata": {
        "id": "JzLFYsEgq1kx"
      },
      "source": [
        "## Q4 - (20 pts total) \n",
        "\n",
        "Use Python to scrape the articles posted to https://techcrunch.com/  front page under \"The Latest\", and report this in a DataFrame.  \n",
        "\n",
        "The columns of the DataFrame `news` should be:\n",
        "\n",
        "* 'Title' - article title, type `object` *string*\n",
        "* 'Date' - publish date, type `datetime64[ns, tz]` _will have to convert to this type_\n",
        "* 'Author' - author, type `object` *string*\n",
        "\n",
        "Note: be respectful to the website (obey robots.txt information) and do not repeatedly access the site.\n"
      ]
    },
    {
      "cell_type": "code",
      "execution_count": null,
      "metadata": {
        "id": "lYL-RJRprIF5",
        "tags": []
      },
      "outputs": [],
      "source": [
        "html = requests.get(\"https://techcrunch.com\").text\n",
        "soup = BeautifulSoup(html, 'html5lib')"
      ]
    },
    {
      "cell_type": "code",
      "source": [
        "a1 = soup.find(class_=\"river river--homepage\")\n",
        "# print(a1.find_all('header'))\n",
        "articles = []\n",
        "\n",
        "for i in a1.find_all('header'):\n",
        "    title = i.find(class_=\"post-block__title__link\").text.strip()\n",
        "    author = i.find(class_=\"river-byline__authors\").text.strip().replace('\\t','')\n",
        "    datetime = i.find('time')['datetime']\n",
        "    article = {\"title\": title, \"datetime\": datetime, \"author\": author}\n",
        "    articles.append(article)\n",
        "# print(articles) \n",
        "q4 = pd.DataFrame.from_dict(articles)\n",
        "# q4['datetime'] = pd.to_datetime(q4.datetime).dt.tz_localize(None)\n",
        "q4['datetime'] = q4['datetime'].apply(pd.to_datetime, utc=True)\n",
        "# q4['datetime'] = pd.Timestamp(q4['datetime'], tz='UTC')\n",
        "# df['datetime'] = pd.to_datetime(q4['date'], format='%b %d, %Y')\n",
        "# q4"
      ],
      "metadata": {
        "id": "wYItj8gGEx3l"
      },
      "execution_count": null,
      "outputs": []
    },
    {
      "cell_type": "code",
      "source": [
        "# Eastern Daylight Time (EDT) is 4 hours behind Coordinated Universal Time (UTC).\n",
        "\n",
        "# news.dtypes"
      ],
      "metadata": {
        "colab": {
          "base_uri": "https://localhost:8080/"
        },
        "id": "PehQbrB-3YJa",
        "outputId": "a774bb75-84a7-4ea2-d6d9-083778bd1516"
      },
      "execution_count": null,
      "outputs": [
        {
          "output_type": "execute_result",
          "data": {
            "text/plain": [
              "title                    object\n",
              "datetime    datetime64[ns, UTC]\n",
              "author                   object\n",
              "dtype: object"
            ]
          },
          "metadata": {},
          "execution_count": 221
        }
      ]
    },
    {
      "cell_type": "code",
      "execution_count": null,
      "metadata": {
        "id": "sNie1tvarIlF",
        "tags": [],
        "colab": {
          "base_uri": "https://localhost:8080/",
          "height": 676
        },
        "outputId": "742c33ab-6723-4189-98b1-5f83dfee662a"
      },
      "outputs": [
        {
          "output_type": "execute_result",
          "data": {
            "text/plain": [
              "                                                title  \\\n",
              "0   Why Cruise is making its own chips, and a lot ...   \n",
              "1   Top climate tech deals net nearly $4B in Q3, o...   \n",
              "2   With a $13B valuation, Celonis defies current ...   \n",
              "3                Even decacorns have their challenges   \n",
              "4   India launches 75 digital banking units across...   \n",
              "5   Meta announces legs, Hulu raises prices, and M...   \n",
              "6                                     Zombie startups   \n",
              "7   This Week in Apps: Play Store revamp, Google a...   \n",
              "8             Pay as you drive, or pay how you drive?   \n",
              "9   Starlink isn’t a charity, but the Ukraine war ...   \n",
              "10  An Apple Store in Oklahoma City votes to unionize   \n",
              "11  Are CFOs OK? (Answer: Yes, but CEOs? That’s co...   \n",
              "12  Daily Crunch: Andreessen Horowitz backs Synony...   \n",
              "13  Former Everyrealm execs sue company for sexual...   \n",
              "14   The Shure MV7 is a nearly perfect USB microphone   \n",
              "15  Tata Power, a top power producer in India, con...   \n",
              "16  The highs and lows of Q3 venture capital data ...   \n",
              "17  Fast Forward Venture Studio to build African s...   \n",
              "18  Is this really the second-best time ever to ra...   \n",
              "19     Clear Capital lays off 27% of its global staff   \n",
              "\n",
              "                    datetime                          author  \n",
              "0  2022-10-16 23:05:56+00:00                 Roberto Baldwin  \n",
              "1  2022-10-16 18:00:47+00:00                    Tim De Chant  \n",
              "2  2022-10-16 17:00:14+00:00                      Ron Miller  \n",
              "3  2022-10-16 14:16:24+00:00                Mary Ann Azevedo  \n",
              "4  2022-10-16 08:32:24+00:00                    Manish Singh  \n",
              "5  2022-10-15 20:15:36+00:00                   Greg Kumparak  \n",
              "6  2022-10-15 18:01:54+00:00             Natasha Mascarenhas  \n",
              "7  2022-10-15 18:00:25+00:00                     Sarah Perez  \n",
              "8  2022-10-15 17:00:32+00:00                       Anna Heim  \n",
              "9  2022-10-15 15:02:59+00:00                  Devin Coldewey  \n",
              "10 2022-10-15 14:21:17+00:00               Amanda Silberling  \n",
              "11 2022-10-15 13:00:21+00:00             Natasha Mascarenhas  \n",
              "12 2022-10-14 22:05:09+00:00  Christine Hall, Haje Jan Kamps  \n",
              "13 2022-10-14 21:40:30+00:00                 Anita Ramaswamy  \n",
              "14 2022-10-14 20:44:59+00:00                    Brian Heater  \n",
              "15 2022-10-14 19:34:39+00:00                   Jagmeet Singh  \n",
              "16 2022-10-14 19:00:59+00:00            Dominic-Madori Davis  \n",
              "17 2022-10-14 18:05:06+00:00                Tage Kene-Okafor  \n",
              "18 2022-10-14 18:00:44+00:00                    Alex Wilhelm  \n",
              "19 2022-10-14 17:56:45+00:00                   Andrew Mendez  "
            ],
            "text/html": [
              "\n",
              "  <div id=\"df-8eec4f35-a61e-4afc-8e85-38545d9606fb\">\n",
              "    <div class=\"colab-df-container\">\n",
              "      <div>\n",
              "<style scoped>\n",
              "    .dataframe tbody tr th:only-of-type {\n",
              "        vertical-align: middle;\n",
              "    }\n",
              "\n",
              "    .dataframe tbody tr th {\n",
              "        vertical-align: top;\n",
              "    }\n",
              "\n",
              "    .dataframe thead th {\n",
              "        text-align: right;\n",
              "    }\n",
              "</style>\n",
              "<table border=\"1\" class=\"dataframe\">\n",
              "  <thead>\n",
              "    <tr style=\"text-align: right;\">\n",
              "      <th></th>\n",
              "      <th>title</th>\n",
              "      <th>datetime</th>\n",
              "      <th>author</th>\n",
              "    </tr>\n",
              "  </thead>\n",
              "  <tbody>\n",
              "    <tr>\n",
              "      <th>0</th>\n",
              "      <td>Why Cruise is making its own chips, and a lot ...</td>\n",
              "      <td>2022-10-16 23:05:56+00:00</td>\n",
              "      <td>Roberto Baldwin</td>\n",
              "    </tr>\n",
              "    <tr>\n",
              "      <th>1</th>\n",
              "      <td>Top climate tech deals net nearly $4B in Q3, o...</td>\n",
              "      <td>2022-10-16 18:00:47+00:00</td>\n",
              "      <td>Tim De Chant</td>\n",
              "    </tr>\n",
              "    <tr>\n",
              "      <th>2</th>\n",
              "      <td>With a $13B valuation, Celonis defies current ...</td>\n",
              "      <td>2022-10-16 17:00:14+00:00</td>\n",
              "      <td>Ron Miller</td>\n",
              "    </tr>\n",
              "    <tr>\n",
              "      <th>3</th>\n",
              "      <td>Even decacorns have their challenges</td>\n",
              "      <td>2022-10-16 14:16:24+00:00</td>\n",
              "      <td>Mary Ann Azevedo</td>\n",
              "    </tr>\n",
              "    <tr>\n",
              "      <th>4</th>\n",
              "      <td>India launches 75 digital banking units across...</td>\n",
              "      <td>2022-10-16 08:32:24+00:00</td>\n",
              "      <td>Manish Singh</td>\n",
              "    </tr>\n",
              "    <tr>\n",
              "      <th>5</th>\n",
              "      <td>Meta announces legs, Hulu raises prices, and M...</td>\n",
              "      <td>2022-10-15 20:15:36+00:00</td>\n",
              "      <td>Greg Kumparak</td>\n",
              "    </tr>\n",
              "    <tr>\n",
              "      <th>6</th>\n",
              "      <td>Zombie startups</td>\n",
              "      <td>2022-10-15 18:01:54+00:00</td>\n",
              "      <td>Natasha Mascarenhas</td>\n",
              "    </tr>\n",
              "    <tr>\n",
              "      <th>7</th>\n",
              "      <td>This Week in Apps: Play Store revamp, Google a...</td>\n",
              "      <td>2022-10-15 18:00:25+00:00</td>\n",
              "      <td>Sarah Perez</td>\n",
              "    </tr>\n",
              "    <tr>\n",
              "      <th>8</th>\n",
              "      <td>Pay as you drive, or pay how you drive?</td>\n",
              "      <td>2022-10-15 17:00:32+00:00</td>\n",
              "      <td>Anna Heim</td>\n",
              "    </tr>\n",
              "    <tr>\n",
              "      <th>9</th>\n",
              "      <td>Starlink isn’t a charity, but the Ukraine war ...</td>\n",
              "      <td>2022-10-15 15:02:59+00:00</td>\n",
              "      <td>Devin Coldewey</td>\n",
              "    </tr>\n",
              "    <tr>\n",
              "      <th>10</th>\n",
              "      <td>An Apple Store in Oklahoma City votes to unionize</td>\n",
              "      <td>2022-10-15 14:21:17+00:00</td>\n",
              "      <td>Amanda Silberling</td>\n",
              "    </tr>\n",
              "    <tr>\n",
              "      <th>11</th>\n",
              "      <td>Are CFOs OK? (Answer: Yes, but CEOs? That’s co...</td>\n",
              "      <td>2022-10-15 13:00:21+00:00</td>\n",
              "      <td>Natasha Mascarenhas</td>\n",
              "    </tr>\n",
              "    <tr>\n",
              "      <th>12</th>\n",
              "      <td>Daily Crunch: Andreessen Horowitz backs Synony...</td>\n",
              "      <td>2022-10-14 22:05:09+00:00</td>\n",
              "      <td>Christine Hall, Haje Jan Kamps</td>\n",
              "    </tr>\n",
              "    <tr>\n",
              "      <th>13</th>\n",
              "      <td>Former Everyrealm execs sue company for sexual...</td>\n",
              "      <td>2022-10-14 21:40:30+00:00</td>\n",
              "      <td>Anita Ramaswamy</td>\n",
              "    </tr>\n",
              "    <tr>\n",
              "      <th>14</th>\n",
              "      <td>The Shure MV7 is a nearly perfect USB microphone</td>\n",
              "      <td>2022-10-14 20:44:59+00:00</td>\n",
              "      <td>Brian Heater</td>\n",
              "    </tr>\n",
              "    <tr>\n",
              "      <th>15</th>\n",
              "      <td>Tata Power, a top power producer in India, con...</td>\n",
              "      <td>2022-10-14 19:34:39+00:00</td>\n",
              "      <td>Jagmeet Singh</td>\n",
              "    </tr>\n",
              "    <tr>\n",
              "      <th>16</th>\n",
              "      <td>The highs and lows of Q3 venture capital data ...</td>\n",
              "      <td>2022-10-14 19:00:59+00:00</td>\n",
              "      <td>Dominic-Madori Davis</td>\n",
              "    </tr>\n",
              "    <tr>\n",
              "      <th>17</th>\n",
              "      <td>Fast Forward Venture Studio to build African s...</td>\n",
              "      <td>2022-10-14 18:05:06+00:00</td>\n",
              "      <td>Tage Kene-Okafor</td>\n",
              "    </tr>\n",
              "    <tr>\n",
              "      <th>18</th>\n",
              "      <td>Is this really the second-best time ever to ra...</td>\n",
              "      <td>2022-10-14 18:00:44+00:00</td>\n",
              "      <td>Alex Wilhelm</td>\n",
              "    </tr>\n",
              "    <tr>\n",
              "      <th>19</th>\n",
              "      <td>Clear Capital lays off 27% of its global staff</td>\n",
              "      <td>2022-10-14 17:56:45+00:00</td>\n",
              "      <td>Andrew Mendez</td>\n",
              "    </tr>\n",
              "  </tbody>\n",
              "</table>\n",
              "</div>\n",
              "      <button class=\"colab-df-convert\" onclick=\"convertToInteractive('df-8eec4f35-a61e-4afc-8e85-38545d9606fb')\"\n",
              "              title=\"Convert this dataframe to an interactive table.\"\n",
              "              style=\"display:none;\">\n",
              "        \n",
              "  <svg xmlns=\"http://www.w3.org/2000/svg\" height=\"24px\"viewBox=\"0 0 24 24\"\n",
              "       width=\"24px\">\n",
              "    <path d=\"M0 0h24v24H0V0z\" fill=\"none\"/>\n",
              "    <path d=\"M18.56 5.44l.94 2.06.94-2.06 2.06-.94-2.06-.94-.94-2.06-.94 2.06-2.06.94zm-11 1L8.5 8.5l.94-2.06 2.06-.94-2.06-.94L8.5 2.5l-.94 2.06-2.06.94zm10 10l.94 2.06.94-2.06 2.06-.94-2.06-.94-.94-2.06-.94 2.06-2.06.94z\"/><path d=\"M17.41 7.96l-1.37-1.37c-.4-.4-.92-.59-1.43-.59-.52 0-1.04.2-1.43.59L10.3 9.45l-7.72 7.72c-.78.78-.78 2.05 0 2.83L4 21.41c.39.39.9.59 1.41.59.51 0 1.02-.2 1.41-.59l7.78-7.78 2.81-2.81c.8-.78.8-2.07 0-2.86zM5.41 20L4 18.59l7.72-7.72 1.47 1.35L5.41 20z\"/>\n",
              "  </svg>\n",
              "      </button>\n",
              "      \n",
              "  <style>\n",
              "    .colab-df-container {\n",
              "      display:flex;\n",
              "      flex-wrap:wrap;\n",
              "      gap: 12px;\n",
              "    }\n",
              "\n",
              "    .colab-df-convert {\n",
              "      background-color: #E8F0FE;\n",
              "      border: none;\n",
              "      border-radius: 50%;\n",
              "      cursor: pointer;\n",
              "      display: none;\n",
              "      fill: #1967D2;\n",
              "      height: 32px;\n",
              "      padding: 0 0 0 0;\n",
              "      width: 32px;\n",
              "    }\n",
              "\n",
              "    .colab-df-convert:hover {\n",
              "      background-color: #E2EBFA;\n",
              "      box-shadow: 0px 1px 2px rgba(60, 64, 67, 0.3), 0px 1px 3px 1px rgba(60, 64, 67, 0.15);\n",
              "      fill: #174EA6;\n",
              "    }\n",
              "\n",
              "    [theme=dark] .colab-df-convert {\n",
              "      background-color: #3B4455;\n",
              "      fill: #D2E3FC;\n",
              "    }\n",
              "\n",
              "    [theme=dark] .colab-df-convert:hover {\n",
              "      background-color: #434B5C;\n",
              "      box-shadow: 0px 1px 3px 1px rgba(0, 0, 0, 0.15);\n",
              "      filter: drop-shadow(0px 1px 2px rgba(0, 0, 0, 0.3));\n",
              "      fill: #FFFFFF;\n",
              "    }\n",
              "  </style>\n",
              "\n",
              "      <script>\n",
              "        const buttonEl =\n",
              "          document.querySelector('#df-8eec4f35-a61e-4afc-8e85-38545d9606fb button.colab-df-convert');\n",
              "        buttonEl.style.display =\n",
              "          google.colab.kernel.accessAllowed ? 'block' : 'none';\n",
              "\n",
              "        async function convertToInteractive(key) {\n",
              "          const element = document.querySelector('#df-8eec4f35-a61e-4afc-8e85-38545d9606fb');\n",
              "          const dataTable =\n",
              "            await google.colab.kernel.invokeFunction('convertToInteractive',\n",
              "                                                     [key], {});\n",
              "          if (!dataTable) return;\n",
              "\n",
              "          const docLinkHtml = 'Like what you see? Visit the ' +\n",
              "            '<a target=\"_blank\" href=https://colab.research.google.com/notebooks/data_table.ipynb>data table notebook</a>'\n",
              "            + ' to learn more about interactive tables.';\n",
              "          element.innerHTML = '';\n",
              "          dataTable['output_type'] = 'display_data';\n",
              "          await google.colab.output.renderOutput(dataTable, element);\n",
              "          const docLink = document.createElement('div');\n",
              "          docLink.innerHTML = docLinkHtml;\n",
              "          element.appendChild(docLink);\n",
              "        }\n",
              "      </script>\n",
              "    </div>\n",
              "  </div>\n",
              "  "
            ]
          },
          "metadata": {},
          "execution_count": 18
        }
      ],
      "source": [
        "# Pull information from website into DataFrame 'news'\n",
        "#  'news' has columns: \n",
        "#     - 'Title', str \n",
        "#     - 'Date', datetime object \n",
        "#     - 'Author', str \n",
        "\n",
        "news = q4\n",
        "\n",
        "news"
      ]
    },
    {
      "cell_type": "code",
      "execution_count": null,
      "metadata": {
        "deletable": false,
        "editable": false,
        "id": "xvK5X19nCDgj",
        "colab": {
          "base_uri": "https://localhost:8080/",
          "height": 47
        },
        "outputId": "23c3b296-54ca-4ca0-c629-6e3ce3be4982"
      },
      "outputs": [
        {
          "output_type": "execute_result",
          "data": {
            "text/plain": [
              "q4 results: All test cases passed!"
            ],
            "text/html": [
              "<p><strong><pre style='display: inline;'>q4</pre></strong> passed! 🙌</p>"
            ]
          },
          "metadata": {},
          "execution_count": 19
        }
      ],
      "source": [
        "grader.check(\"q4\")"
      ]
    },
    {
      "cell_type": "markdown",
      "metadata": {
        "id": "iD5PqG2-CDgj"
      },
      "source": [
        "<!-- BEGIN QUESTION -->\n",
        "\n",
        "## Bonus - (4 points) \n",
        "\n",
        "Going back to the names data from Q3.  Let's look at how the distribution of popular names has changed over time. \n",
        "\n",
        "Create a small multiples plot (meaning each plot is the same type and showing similar information in a grid).  \n",
        "\n",
        "The small multiples plot will show how the distribution of names has changed from the 1960s to 2010s.  \n",
        "\n",
        "1960s data - https://www.ssa.gov/OACT/babynames/decades/names1960s.html  \n",
        "1970s data - https://www.ssa.gov/OACT/babynames/decades/names1970s.html  \n",
        "...  \n",
        "2010s data - https://www.ssa.gov/OACT/babynames/decades/names2010s.html\n",
        "\n",
        "Let's focus on just how the distribution of girls names have changed.  This can be displayed using a line plot on just the top 100 names per decade.\n",
        "\n",
        "When getting the information, you should also scrape the total number of female births in that period to normalize the number of names as a percent in that decade. \n",
        "\n",
        "\n",
        "Your final grid should display: \n",
        "\n",
        "|         | Col 1 | Col 2 | \n",
        "|-------|-----------|-----------|\n",
        "| Row 1 | 1960 plot | 1970 plot | \n",
        "| Row 2 | 1980 plot | 1990 plot | \n",
        "| Row 3 | 2000 plot | 2010 plot | \n",
        "\n"
      ]
    },
    {
      "cell_type": "code",
      "execution_count": null,
      "metadata": {
        "tags": [],
        "id": "XIslJMXkCDgj"
      },
      "outputs": [],
      "source": [
        "# Create small multiples plot. \n",
        "\n",
        "...\n"
      ]
    },
    {
      "cell_type": "markdown",
      "metadata": {
        "id": "g8HpC8xkCDgk"
      },
      "source": [
        "<!-- END QUESTION -->\n",
        "\n"
      ]
    }
  ],
  "metadata": {
    "colab": {
      "collapsed_sections": [],
      "provenance": []
    },
    "kernelspec": {
      "display_name": "un5550f22",
      "language": "python",
      "name": "un5550f22"
    },
    "language_info": {
      "codemirror_mode": {
        "name": "ipython",
        "version": 3
      },
      "file_extension": ".py",
      "mimetype": "text/x-python",
      "name": "python",
      "nbconvert_exporter": "python",
      "pygments_lexer": "ipython3",
      "version": "3.7.11"
    },
    "otter": {
      "OK_FORMAT": true,
      "tests": {
        "q1": {
          "name": "q1",
          "points": 3,
          "suites": [
            {
              "cases": [
                {
                  "code": ">>> type(total_datasets) == int\nTrue",
                  "hidden": false,
                  "locked": false
                }
              ],
              "scored": true,
              "setup": "",
              "teardown": "",
              "type": "doctest"
            }
          ]
        },
        "q2": {
          "name": "q2",
          "points": 10,
          "suites": [
            {
              "cases": [
                {
                  "code": ">>> tableRejVotes.shape[0] == 91 \nTrue",
                  "hidden": false,
                  "locked": false
                },
                {
                  "code": ">>> tableRejVotes.shape[1] == 4\nTrue",
                  "hidden": false,
                  "locked": false
                },
                {
                  "code": ">>> tableRejVotes['Vnum'].min() == 15 \nTrue",
                  "hidden": false,
                  "locked": false
                },
                {
                  "code": ">>> tableRejVotes.sort_values(by=['Vnum']).iloc[3,1] == '52-48'\nTrue",
                  "hidden": false,
                  "locked": false
                },
                {
                  "code": ">>> tableRejVotes.sort_values(by=['Vnum']).iloc[90,3] == 'H.R. 6119'\nTrue",
                  "hidden": false,
                  "locked": false
                }
              ],
              "scored": true,
              "setup": "",
              "teardown": "",
              "type": "doctest"
            }
          ]
        },
        "q3": {
          "name": "q3",
          "points": 10,
          "suites": [
            {
              "cases": [
                {
                  "code": ">>> numWnames == 334332\nTrue",
                  "hidden": false,
                  "locked": false
                },
                {
                  "code": ">>> numPnames == 895223\nTrue",
                  "hidden": false,
                  "locked": false
                },
                {
                  "code": ">>> names.shape[0] == 21 and names.shape[1] == 4\nTrue",
                  "hidden": false,
                  "locked": false
                },
                {
                  "code": ">>> all(names.dtypes == ['int64', 'object', 'int64', 'object'])\nTrue",
                  "hidden": false,
                  "locked": false
                }
              ],
              "scored": true,
              "setup": "",
              "teardown": "",
              "type": "doctest"
            }
          ]
        },
        "q4": {
          "name": "q4",
          "points": null,
          "suites": [
            {
              "cases": [
                {
                  "code": ">>> news.shape[0]==20\nTrue",
                  "hidden": false,
                  "locked": false
                },
                {
                  "code": ">>> news.shape[1]==3\nTrue",
                  "hidden": false,
                  "locked": false
                },
                {
                  "code": ">>> type(news.iloc[1,0]) == str and type(news.iloc[1,2]) == str\nTrue",
                  "hidden": false,
                  "locked": false
                },
                {
                  "code": ">>> type(news.iloc[1,1]) == pd._libs.tslibs.timestamps.Timestamp\nTrue",
                  "hidden": false,
                  "locked": false
                },
                {
                  "code": ">>> type(news.dtypes[1]) == pd.core.dtypes.dtypes.DatetimeTZDtype\nTrue",
                  "hidden": false,
                  "locked": false
                }
              ],
              "scored": true,
              "setup": "",
              "teardown": "",
              "type": "doctest"
            }
          ]
        }
      }
    }
  },
  "nbformat": 4,
  "nbformat_minor": 0
}