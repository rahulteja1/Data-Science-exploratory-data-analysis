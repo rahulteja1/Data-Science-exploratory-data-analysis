{
  "cells": [
    {
      "cell_type": "markdown",
      "metadata": {
        "id": "1B_cuSD6ex3k"
      },
      "source": [
        "# Lab - Week 4\n",
        "\n",
        "\n",
        "In this lab, you will explore using the methods of getting data and regular expressions. "
      ]
    },
    {
      "cell_type": "markdown",
      "metadata": {
        "id": "eyNEcAciWDEk"
      },
      "source": [
        "### Autograder Setup\n",
        "\n",
        "The next code cell should be uncommented to run the autograder tests when using Colab/DeepNote. If you are using an environment with `otter-grader` already installed (your own machine, lab machines), then do not uncomment the code."
      ]
    },
    {
      "cell_type": "code",
      "execution_count": 56,
      "metadata": {
        "id": "pe9ct64fWDEk"
      },
      "outputs": [],
      "source": [
        "#!pip install otter-grader"
      ]
    },
    {
      "cell_type": "markdown",
      "metadata": {
        "id": "dCZnCYvhWDEl"
      },
      "source": [
        "Gather a short text document for use later in the lab. "
      ]
    },
    {
      "cell_type": "code",
      "execution_count": 57,
      "metadata": {
        "id": "f5uV2NUlWDEl"
      },
      "outputs": [],
      "source": [
        "#!wget https://pages.mtu.edu/~lebrown/un5550-f22/labs/lab4/lab4.files.zip\n",
        "#!unzip lab4.files.zip "
      ]
    },
    {
      "cell_type": "markdown",
      "metadata": {
        "id": "MELWJowoWDEl"
      },
      "source": [
        "**COMMENT out these past two cells before submitting**"
      ]
    },
    {
      "cell_type": "markdown",
      "metadata": {
        "id": "wk707VmKWDEl"
      },
      "source": [
        "### Lab Setup"
      ]
    },
    {
      "cell_type": "code",
      "execution_count": 58,
      "metadata": {
        "id": "UhHy3diEeu5v"
      },
      "outputs": [],
      "source": [
        "import re\n",
        "\n",
        "import otter\n",
        "grader = otter.Notebook()"
      ]
    },
    {
      "cell_type": "markdown",
      "metadata": {
        "id": "M7DwRtuQgmEv"
      },
      "source": [
        "# Python Regular Expressions\n",
        "\n",
        "The Python `re` module provides many functions for regular expression support.  Here you will learn more about the different functions and complete exercises to practice their use. "
      ]
    },
    {
      "cell_type": "markdown",
      "metadata": {
        "id": "GuO1Fcv3pJFe"
      },
      "source": [
        "## `re.match` \n",
        "\n",
        "The `match(pattern, string)` function is used to check a pattern against some text.  It only tries to find the pattern in the beginning of the text.  \n",
        "\n",
        "`re.match` Documentation:  https://docs.python.org/3.7/library/re.html#re.match\n",
        "\n",
        "\n",
        "*Reminder* the 'r' at the start of the pattern, indicates that it is a \"raw\" string which passes through backslashes (handy for regular expresssions)."
      ]
    },
    {
      "cell_type": "markdown",
      "metadata": {
        "id": "Xr3ffV3Gs4sp"
      },
      "source": [
        "### Example"
      ]
    },
    {
      "cell_type": "code",
      "execution_count": 59,
      "metadata": {
        "id": "l2qbAH3IsNWC",
        "colab": {
          "base_uri": "https://localhost:8080/"
        },
        "outputId": "f39ff274-a728-4e1b-b1d4-9ba4a3a56098"
      },
      "outputs": [
        {
          "output_type": "stream",
          "name": "stdout",
          "text": [
            "found  Regular\n",
            "did not find\n"
          ]
        }
      ],
      "source": [
        "tmpStr1 = 'Regular expressions are great'\n",
        "tmpStr2 = 'It is fun learning about regular expressions'\n",
        "match = re.match(r'[Rr]egular', tmpStr1)\n",
        "if match: \n",
        "    print('found ', match.group()) \n",
        "else: \n",
        "    print(\"did not find\")\n",
        "\n",
        "match = re.match(r'[Rr]egular', tmpStr2)\n",
        "if match: \n",
        "    print('found ', match.group()) \n",
        "else: \n",
        "    print(\"did not find\")"
      ]
    },
    {
      "cell_type": "markdown",
      "metadata": {
        "id": "YF0GmxwJg8dJ"
      },
      "source": [
        "## `re.search`\n",
        "\n",
        "The `re.search(pat, str)` function takes two main arguments: `pat` a regular expression pattern and a `str` string.  The method searches for that first occurence of the pattern within the string.  If sucessful, `search()` returns a match object; otherwise it returns None. \n",
        "\n",
        "`re.search()` Documentation: https://docs.python.org/3.7/library/re.html#re.search"
      ]
    },
    {
      "cell_type": "markdown",
      "metadata": {
        "id": "6m30_qajs6uY"
      },
      "source": [
        "### Example"
      ]
    },
    {
      "cell_type": "code",
      "execution_count": 60,
      "metadata": {
        "id": "RhzMRUT9sr18",
        "colab": {
          "base_uri": "https://localhost:8080/"
        },
        "outputId": "2ef3e345-5c99-4ed0-a621-bb74cb0d8e1b"
      },
      "outputs": [
        {
          "output_type": "stream",
          "name": "stdout",
          "text": [
            "found  Regular\n",
            "found  regular\n"
          ]
        }
      ],
      "source": [
        "match = re.search(r'[Rr]egular', tmpStr1)\n",
        "if match: \n",
        "    print('found ', match.group()) \n",
        "else: \n",
        "    print(\"did not find\")\n",
        "\n",
        "match = re.search(r'[Rr]egular', tmpStr2)\n",
        "if match: \n",
        "    print('found ', match.group()) \n",
        "else: \n",
        "    print(\"did not find\")"
      ]
    },
    {
      "cell_type": "markdown",
      "metadata": {
        "id": "LaaeBIausv6H"
      },
      "source": [
        "### Example"
      ]
    },
    {
      "cell_type": "code",
      "execution_count": 61,
      "metadata": {
        "id": "uSltHybRfpj4",
        "colab": {
          "base_uri": "https://localhost:8080/"
        },
        "outputId": "7677db9c-e5ac-4f2d-bf32-212e19292cda"
      },
      "outputs": [
        {
          "output_type": "stream",
          "name": "stdout",
          "text": [
            "found  cat, Fido\n"
          ]
        }
      ],
      "source": [
        "tmpStr1 = 'I have a cat, Fido'\n",
        "tmpStr2 = 'I have a cat, Felix'\n",
        "tmpStr3 = 'I have a cat, It'\n",
        "match = re.search(r'cat,\\s\\w\\w\\w\\w', tmpStr1)\n",
        "if match: \n",
        "    print('found ', match.group()) \n",
        "else: \n",
        "    print(\"did not find\")"
      ]
    },
    {
      "cell_type": "markdown",
      "metadata": {
        "id": "Ct9XkyFEiisY"
      },
      "source": [
        "Try running the expression above on the three test strings. \n",
        " "
      ]
    },
    {
      "cell_type": "markdown",
      "metadata": {
        "id": "0uZed0OpjQXk"
      },
      "source": [
        "<!-- BEGIN QUESTION -->\n",
        "\n",
        "## Exercise 1 - Properties of search\n",
        "\n",
        "Examine the following search uses of the search function."
      ]
    },
    {
      "cell_type": "code",
      "execution_count": 62,
      "metadata": {
        "id": "YWwyrNM6iLJT",
        "colab": {
          "base_uri": "https://localhost:8080/"
        },
        "outputId": "65ec858b-10b7-4551-eb9f-9884454232a6"
      },
      "outputs": [
        {
          "output_type": "stream",
          "name": "stdout",
          "text": [
            "found:  baa\n",
            "found:  baa2\n"
          ]
        }
      ],
      "source": [
        "tmpStr1 = 'baa baaa black sheep'\n",
        "match = re.search(r'ba+', tmpStr1)\n",
        "if match: \n",
        "    print('found: ', match.group()) \n",
        "else: \n",
        "    print(\"did not find\")\n",
        "\n",
        "tmpStr2 = 'baa2 baaaa4 baaa3'\n",
        "match = re.search(r'ba+\\d', tmpStr2)\n",
        "if match: \n",
        "    print('found: ', match.group()) \n",
        "else: \n",
        "    print(\"did not find\")"
      ]
    },
    {
      "cell_type": "markdown",
      "metadata": {
        "id": "YfxjMgVdkN-w"
      },
      "source": [
        "**Q** Which of the \"baa\" words is returned in tmpStr2?  Will the function return the leftmost or rightmost occurance in a string? "
      ]
    },
    {
      "cell_type": "markdown",
      "metadata": {
        "id": "s_KSTG1sWDEo"
      },
      "source": [
        "**ANS**   \n",
        "The first word 'baa2'. Leftmost one "
      ]
    },
    {
      "cell_type": "markdown",
      "metadata": {
        "id": "lMMzKxLYkhSg"
      },
      "source": [
        "<!-- END QUESTION -->\n",
        "\n",
        "### Example - Anchors\n",
        "\n",
        "The exception to your answer above is if the pattern specifies anchors to find a match at the beginning `^` or end `$` of a string. "
      ]
    },
    {
      "cell_type": "code",
      "execution_count": 63,
      "metadata": {
        "id": "ADkYpSJ8j8y5",
        "colab": {
          "base_uri": "https://localhost:8080/"
        },
        "outputId": "e1df4436-f59a-44e1-e8d1-177c5b14fd7e"
      },
      "outputs": [
        {
          "output_type": "stream",
          "name": "stdout",
          "text": [
            "found:  foobar1\n",
            "found:  foobar3\n"
          ]
        }
      ],
      "source": [
        "tmpStr1 = 'foobar1 foobar2 foobar3'\n",
        "match = re.search(r'^f\\w+\\d', tmpStr1)\n",
        "if match: \n",
        "    print('found: ', match.group()) \n",
        "else: \n",
        "    print(\"did not find\")\n",
        "\n",
        "match = re.search(r'f\\w+\\d$', tmpStr1)\n",
        "if match: \n",
        "    print('found: ', match.group()) \n",
        "else: \n",
        "    print(\"did not find\")"
      ]
    },
    {
      "cell_type": "markdown",
      "metadata": {
        "id": "UczkZSAGtDC6"
      },
      "source": [
        "## Exercise 2 - Create a pattern \n",
        "\n",
        "Create a regular expression pattern that matches all the positive examples below, but none of the negative examples.  You can not simply list the positives strings \"or\"ed together. \n",
        "\n",
        "| Positive | Negative | \n",
        "|----------|----------|\n",
        "| pit      | pt       | \n",
        "| spot     | Pot      |\n",
        "| spate    | peat     | \n",
        "| slap two | part     | \n",
        "| respite  | SLIP ten |"
      ]
    },
    {
      "cell_type": "code",
      "execution_count": 64,
      "metadata": {
        "id": "CB2BbfJjn1Fk",
        "tags": [],
        "colab": {
          "base_uri": "https://localhost:8080/"
        },
        "outputId": "2e55920f-9974-49bb-9c81-da8e6c26315c"
      },
      "outputs": [
        {
          "output_type": "stream",
          "name": "stdout",
          "text": [
            "Positive Cases: \n",
            "\n",
            "      pit: found\n",
            "     spot: found\n",
            "    spate: found\n",
            " slap two: found\n",
            "  respite: found\n",
            "\n",
            "Negative Cases: \n",
            "\n",
            "       pt: not found\n",
            "      Pot: not found\n",
            "     peat: not found\n",
            "     part: not found\n",
            " SLIP ten: not found\n"
          ]
        }
      ],
      "source": [
        "cases = ['pit', 'spot', 'spate', 'slap two', 'respite', 'pt', 'Pot', 'peat', \n",
        "         'part', 'SLIP ten']\n",
        "positive, negative = [], []\n",
        "pat = r'^[sr]|i'\n",
        "print('Positive Cases: \\n')\n",
        "for ex in cases: \n",
        "    match = re.search(pat, ex)\n",
        "    if ex==\"pt\": \n",
        "        print(\"\\nNegative Cases: \\n\")\n",
        "    if match: \n",
        "        print(\"%9s: found\" % ex)\n",
        "        positive.append(ex)\n",
        "    else: \n",
        "        print(\"%9s: not found\" % ex)\n",
        "        negative.append(ex)"
      ]
    },
    {
      "cell_type": "code",
      "execution_count": 65,
      "metadata": {
        "deletable": false,
        "editable": false,
        "id": "xpW3epU6WDEp",
        "colab": {
          "base_uri": "https://localhost:8080/",
          "height": 46
        },
        "outputId": "38507a93-7711-4067-f5c2-82a1c4de7740"
      },
      "outputs": [
        {
          "output_type": "execute_result",
          "data": {
            "text/plain": [
              "q2 results: All test cases passed!"
            ],
            "text/html": [
              "<p><strong><pre style='display: inline;'>q2</pre></strong> passed!</p>"
            ]
          },
          "metadata": {},
          "execution_count": 65
        }
      ],
      "source": [
        "grader.check(\"q2\")"
      ]
    },
    {
      "cell_type": "markdown",
      "metadata": {
        "id": "BmYgPEluukqj"
      },
      "source": [
        "## Exercise 3 - Create a Pattern \n",
        "\n",
        "Create a regular expression pattern that matches all the positive examples below, but none of the negative examples. You can not simply list the positives strings \"or\"ed together.\n",
        "\n",
        "| Positive | Negative | \n",
        "|----------|----------|\n",
        "| rap them | aleht    | \n",
        "| tapeth   | happy them | \n",
        "| apth     | tarpth | \n",
        "| wrap/try | Apt | \n",
        "| sap tray | peth | \n",
        "| 87ap9th  | tarreth | \n",
        "| apothecary | ddapdg | \n",
        "|      | apples | \n",
        "|      | shape the |"
      ]
    },
    {
      "cell_type": "code",
      "execution_count": 66,
      "metadata": {
        "id": "Gb01BASkuWGA",
        "tags": [],
        "colab": {
          "base_uri": "https://localhost:8080/"
        },
        "outputId": "7c4ad29f-b575-4b25-cedf-bc91468844a5"
      },
      "outputs": [
        {
          "output_type": "stream",
          "name": "stdout",
          "text": [
            "Positive Cases: \n",
            "\n",
            "   rap them: found\n",
            "     tapeth: found\n",
            "       apth: found\n",
            "   wrap/try: found\n",
            "   sap tray: found\n",
            "    87ap9th: found\n",
            " apothecary: found\n",
            "\n",
            "Negative Cases: \n",
            "\n",
            "      aleht: not found\n",
            " happy them: not found\n",
            "     tarpth: not found\n",
            "        Apt: not found\n",
            "       peth: not found\n",
            "    tarreth: not found\n",
            "     ddapdg: not found\n",
            "     apples: not found\n",
            "  shape the: not found\n"
          ]
        }
      ],
      "source": [
        "cases_E3 = ['rap them', 'tapeth', 'apth', 'wrap/try', 'sap tray', '87ap9th', 'apothecary',\n",
        "         'aleht', 'happy them', 'tarpth', 'Apt', 'peth', 'tarreth', 'ddapdg', \n",
        "         'apples', 'shape the']\n",
        "positive_E3, negative_E3 = [], []\n",
        "pattern_E3 = r'ap.t|apt'\n",
        "print('Positive Cases: \\n')\n",
        "for ex in cases_E3: \n",
        "    match = re.search(pattern_E3, ex)\n",
        "    if ex==\"aleht\": \n",
        "        print(\"\\nNegative Cases: \\n\")\n",
        "    if match: \n",
        "        print(\"%11s: found\" % ex)\n",
        "        positive_E3.append(ex)\n",
        "    else: \n",
        "        print(\"%11s: not found\" % ex)\n",
        "        negative_E3.append(ex)"
      ]
    },
    {
      "cell_type": "code",
      "execution_count": 67,
      "metadata": {
        "deletable": false,
        "editable": false,
        "id": "k2IEkf4aWDEp",
        "colab": {
          "base_uri": "https://localhost:8080/",
          "height": 46
        },
        "outputId": "642d8f74-e6f5-46f0-c9bd-97ae92bd4fa7"
      },
      "outputs": [
        {
          "output_type": "execute_result",
          "data": {
            "text/plain": [
              "q3 results: All test cases passed!"
            ],
            "text/html": [
              "<p><strong><pre style='display: inline;'>q3</pre></strong> passed!</p>"
            ]
          },
          "metadata": {},
          "execution_count": 67
        }
      ],
      "source": [
        "grader.check(\"q3\")"
      ]
    },
    {
      "cell_type": "markdown",
      "metadata": {
        "id": "U9QcD1a5xCh0"
      },
      "source": [
        "## Exercise 4 - Create a pattern \n",
        "\n",
        "Create a regular expression pattern that matches all the positive examples below, but none of the negative examples. You can not simply list the positives strings \"or\"ed together.\n",
        "\n",
        "| Positive | Negative | \n",
        "|----------|----------|\n",
        "| affgfking | fgok | \n",
        "| rafgkahe | a fgk | \n",
        "| bafghk | affgm | \n",
        "| baffgkit | afffhk | \n",
        "| affgfking | fgik | \n",
        "| rafgkahe | afg.K | \n",
        "| bafghk | aff gm | \n",
        "| baffg kit | afffhgk | \n",
        "\n",
        "\n",
        "\n",
        "\n",
        "\n",
        "\n",
        "\n"
      ]
    },
    {
      "cell_type": "code",
      "execution_count": 68,
      "metadata": {
        "id": "BFMTgadnvag7",
        "tags": [],
        "colab": {
          "base_uri": "https://localhost:8080/"
        },
        "outputId": "282b2f03-7fd6-41b4-a270-c9083fb54d24"
      },
      "outputs": [
        {
          "output_type": "stream",
          "name": "stdout",
          "text": [
            "Positive Cases: \n",
            "\n",
            " affgfking: found\n",
            "  rafgkahe: found\n",
            "    bafghk: found\n",
            "  baffgkit: found\n",
            " affgfking: found\n",
            "  rafgkahe: found\n",
            "    bafghk: found\n",
            " baffg kit: found\n",
            "\n",
            "Negative Cases: \n",
            "\n",
            "      fgok: not found\n",
            "     a fgk: not found\n",
            "     affgm: not found\n",
            "    afffhk: not found\n",
            "      fgik: not found\n",
            "     afg.K: not found\n",
            "    aff gm: not found\n",
            "   afffhgk: not found\n"
          ]
        }
      ],
      "source": [
        "cases_E4 = ['affgfking', 'rafgkahe', 'bafghk', 'baffgkit', 'affgfking', 'rafgkahe', \n",
        "         'bafghk', 'baffg kit', 'fgok', 'a fgk', 'affgm', 'afffhk', 'fgik', \n",
        "         'afg.K', 'aff gm', 'afffhgk']\n",
        "positive_E4, negative_E4 = [], []   \n",
        "pattern_E4 = r'^[^af]|g$'\n",
        "print('Positive Cases: \\n')\n",
        "for ex in cases_E4: \n",
        "    match = re.search(pattern_E4, ex)\n",
        "    if ex=='fgok':\n",
        "        print(\"\\nNegative Cases: \\n\")\n",
        "    if match: \n",
        "        print(\"%10s: found\" % ex)\n",
        "        positive_E4.append(ex)\n",
        "    else: \n",
        "        print(\"%10s: not found\" % ex)\n",
        "        negative_E4.append(ex)"
      ]
    },
    {
      "cell_type": "code",
      "execution_count": 69,
      "metadata": {
        "deletable": false,
        "editable": false,
        "id": "vfcRRWmpWDEp",
        "colab": {
          "base_uri": "https://localhost:8080/",
          "height": 46
        },
        "outputId": "3e446850-6966-4550-8a95-a0bdd1f636a3"
      },
      "outputs": [
        {
          "output_type": "execute_result",
          "data": {
            "text/plain": [
              "q4 results: All test cases passed!"
            ],
            "text/html": [
              "<p><strong><pre style='display: inline;'>q4</pre></strong> passed!</p>"
            ]
          },
          "metadata": {},
          "execution_count": 69
        }
      ],
      "source": [
        "grader.check(\"q4\")"
      ]
    },
    {
      "cell_type": "markdown",
      "metadata": {
        "id": "AgngjUwo1kTZ"
      },
      "source": [
        "### Example - Group Extraction \n",
        "\n",
        "The \"group\" part of regular expressions allows for part of the matching text to be selected out.  Let's say we want to extract an email from a string, but in addition to finding the email we want to extract the username and host separately, e.g., to pull out a MTU ISO login. \n",
        "\n",
        "The parenthesis in the pattern are used to identify the \"groups\" inside the text.  "
      ]
    },
    {
      "cell_type": "code",
      "execution_count": 70,
      "metadata": {
        "id": "qgkc2Qjy2HDo",
        "colab": {
          "base_uri": "https://localhost:8080/"
        },
        "outputId": "ba95727f-72a4-45b6-f8c3-bd9176cb2833"
      },
      "outputs": [
        {
          "output_type": "stream",
          "name": "stdout",
          "text": [
            "Email:     jdoe@mtu.edu\n",
            "username:  jdoe\n",
            "hostname:  mtu.edu\n"
          ]
        }
      ],
      "source": [
        "tempStr = 'send an email to John, jdoe@mtu.edu, by tomorrow'\n",
        "match = re.search('([\\w]+)@([\\w.]+)', tempStr)\n",
        "if match: \n",
        "    print(\"Email:    \", match.group())\n",
        "    print(\"username: \", match.group(1))\n",
        "    print(\"hostname: \", match.group(2))\n",
        "else: \n",
        "    print(\"no match\")"
      ]
    },
    {
      "cell_type": "markdown",
      "metadata": {
        "id": "q1oQSgEI3VPk"
      },
      "source": [
        "## Exercise 5 - Groups\n",
        "\n",
        "There are discussions on what is the best regular expression pattern to match emails (e.g, used to verify emails in forms).  But, let's think about how to extend the pattern above to handle the following cases: \n",
        "\n",
        "* usernames, can have both characters and numbers and underscores, but will not start with a number, e.g, jdoe15@mtu.edu, sherlock24@gmail.com, tom_brady@gmail.com \n",
        "* an email may have task-specific email address (for example, google allows this), where you can add additional identifiers after your username, e.g., harrypotter+news@gmail.com or jonstark+dragons@gmail.com.  Make sure you can separate out a username from the tasks. \n",
        "    * \"harrypotter+news@gmail.com\" has username \"harrypotter\" and task \"news\"\n",
        "\n"
      ]
    },
    {
      "cell_type": "code",
      "execution_count": 71,
      "metadata": {
        "id": "rDJkeftr5AbE",
        "tags": [],
        "colab": {
          "base_uri": "https://localhost:8080/"
        },
        "outputId": "00447d54-5e97-42b4-b4fd-c4b3650f5d10"
      },
      "outputs": [
        {
          "output_type": "stream",
          "name": "stdout",
          "text": [
            "Email:  jdoe@gmail.com username:  jdoe hostname:  gmail.com\n",
            "Email:  sherlock24@gmail.com username:  sherlock24 hostname:  gmail.com\n",
            "Email:  tom_brady@gmail.com username:  tom_brady hostname:  gmail.com\n",
            "Email:  harrypotter+news@gmail.com username:  harrypotter hostname:  gmail.com\n",
            "Email:  jonstark+dragons@gmail.com username:  jonstark hostname:  gmail.com\n",
            "Email:  juliet_capulet+poison@gmail.com username:  juliet_capulet hostname:  gmail.com\n",
            "Email:  Charles_Dickons@yahoo.com username:  Charles_Dickons hostname:  yahoo.com\n",
            "Email:  AnakinSkywalker@hotmail.com username:  AnakinSkywalker hostname:  hotmail.com\n"
          ]
        }
      ],
      "source": [
        "cases_E5 = ['jdoe@gmail.com', 'sherlock24@gmail.com', 'tom_brady@gmail.com', \n",
        "            'harrypotter+news@gmail.com', 'jonstark+dragons@gmail.com',\n",
        "            'juliet_capulet+poison@gmail.com', 'Charles_Dickons@yahoo.com', \n",
        "            'AnakinSkywalker@hotmail.com']\n",
        "email, username, hostname = [], [], []\n",
        "pattern_E5 = r'([\\w]+)\\+?[\\w]*@([\\w.]+)'     \n",
        "for ex in cases_E5: \n",
        "    match = re.search(pattern_E5, ex)\n",
        "    if match: \n",
        "        print(\"Email: \", match.group(), end='')\n",
        "        print(\" username: \", match.group(1), end='')\n",
        "        print(\" hostname: \", match.group(2))\n",
        "        email.append(match.group()); username.append(match.group(1))\n",
        "        hostname.append(match.group(2))\n",
        "    else: \n",
        "        print(\"no match\")"
      ]
    },
    {
      "cell_type": "code",
      "execution_count": 72,
      "metadata": {
        "deletable": false,
        "editable": false,
        "id": "UQ9Kan1DWDEp",
        "colab": {
          "base_uri": "https://localhost:8080/",
          "height": 46
        },
        "outputId": "84d2031a-7ccc-42d6-ebf0-51542d0b7b9a"
      },
      "outputs": [
        {
          "output_type": "execute_result",
          "data": {
            "text/plain": [
              "q5 results: All test cases passed!"
            ],
            "text/html": [
              "<p><strong><pre style='display: inline;'>q5</pre></strong> passed!</p>"
            ]
          },
          "metadata": {},
          "execution_count": 72
        }
      ],
      "source": [
        "grader.check(\"q5\")"
      ]
    },
    {
      "cell_type": "markdown",
      "metadata": {
        "id": "wUNtVeHx04lH"
      },
      "source": [
        "## `re.findall()` \n",
        "\n",
        "The `re.findall()` function returns all occurences (non-overlapping) of a pattern in a string. \n",
        "\n",
        "`re.findall()` Documentation: https://docs.python.org/3.7/library/re.html#re.findall"
      ]
    },
    {
      "cell_type": "markdown",
      "metadata": {
        "id": "mkHMmIqC6ZEU"
      },
      "source": [
        "### Example - findall with Files \n",
        "\n",
        "In the `nb.week4.part2.ipynb` notebook, we saw examples of looping over the lines of a file and running the regular expression. \n"
      ]
    },
    {
      "cell_type": "code",
      "execution_count": 73,
      "metadata": {
        "id": "h9f5aJdyzi6T"
      },
      "outputs": [],
      "source": [
        "with open('rime-intro.txt', 'r') as f:\n",
        "  rime = f.readlines()\n",
        "f.close()"
      ]
    },
    {
      "cell_type": "code",
      "execution_count": 74,
      "metadata": {
        "id": "eFuGbZ7V64EY",
        "colab": {
          "base_uri": "https://localhost:8080/"
        },
        "outputId": "820a22b5-fcc7-4c16-c286-34593b9fe82a"
      },
      "outputs": [
        {
          "output_type": "stream",
          "name": "stdout",
          "text": [
            "No match\n",
            "No match\n",
            "No match\n",
            "No match\n",
            "Ship\n",
            "No match\n",
            "No match\n",
            "No match\n",
            "No match\n",
            "No match\n",
            "No match\n",
            "No match\n",
            "No match\n",
            "No match\n",
            "No match\n",
            "No match\n"
          ]
        }
      ],
      "source": [
        "#for elem in rime:\n",
        "    #print (elem)\n",
        "for elem in rime:\n",
        "  #print (elem)\n",
        "  m = re.search(r\"Ship\", elem)\n",
        "  if m:\n",
        "        print(m.group())\n",
        "  else:\n",
        "        print(\"No match\")"
      ]
    },
    {
      "cell_type": "markdown",
      "metadata": {
        "id": "egBUjPOS69MZ"
      },
      "source": [
        "Or, we could do this for each line within the file reader block. "
      ]
    },
    {
      "cell_type": "code",
      "execution_count": 75,
      "metadata": {
        "id": "7n28LLJ-68J-",
        "colab": {
          "base_uri": "https://localhost:8080/"
        },
        "outputId": "da0bc1ca-db71-4d7d-f8de-2e08abde17b3"
      },
      "outputs": [
        {
          "output_type": "stream",
          "name": "stdout",
          "text": [
            "No match\n",
            "No match\n",
            "No match\n",
            "No match\n",
            "Ship\n",
            "No match\n",
            "No match\n",
            "No match\n",
            "No match\n",
            "No match\n",
            "No match\n",
            "No match\n",
            "No match\n",
            "No match\n",
            "No match\n",
            "No match\n"
          ]
        }
      ],
      "source": [
        "with open('rime-intro.txt', 'r') as f:\n",
        "    for line in f:\n",
        "        m = re.search(r\"Ship\", line)\n",
        "        if m:\n",
        "            print(m.group())\n",
        "        else:\n",
        "            print(\"No match\")\n",
        "\n",
        "f.close()"
      ]
    },
    {
      "cell_type": "markdown",
      "metadata": {
        "id": "lUczDGQX7keg"
      },
      "source": [
        "Instead, we can let `findall()` do the iteration. "
      ]
    },
    {
      "cell_type": "code",
      "execution_count": 76,
      "metadata": {
        "id": "OG2IltUW7h7i",
        "colab": {
          "base_uri": "https://localhost:8080/"
        },
        "outputId": "5acdf7e5-af2c-4126-aa9f-e2fea4a618f8"
      },
      "outputs": [
        {
          "output_type": "execute_result",
          "data": {
            "text/plain": [
              "['Ship']"
            ]
          },
          "metadata": {},
          "execution_count": 76
        }
      ],
      "source": [
        "f = open(\"rime-intro.txt\", 'r')\n",
        "strs = re.findall(r'Ship', f.read())\n",
        "f.close()\n",
        "strs"
      ]
    },
    {
      "cell_type": "markdown",
      "metadata": {
        "id": "u6iVcJ2j8DqU"
      },
      "source": [
        "## `re.sub()` \n",
        "\n",
        "The function `re.sub(pat, replacement, str)` function takes three arguments: the regular expression pattern, a replacement string, and the string to search on.  The funciton searches for all instaces of the pattern in the passed in string and replaces them.  \n",
        "\n"
      ]
    },
    {
      "cell_type": "code",
      "execution_count": 77,
      "metadata": {
        "id": "mSKm7O7Y7zJS",
        "colab": {
          "base_uri": "https://localhost:8080/"
        },
        "outputId": "bdf9be40-e3ee-4437-a9ca-adfe89115370"
      },
      "outputs": [
        {
          "output_type": "stream",
          "name": "stdout",
          "text": [
            "Show the advantages of doing many examples\n"
          ]
        }
      ],
      "source": [
        "print(re.sub(r'benefits', 'advantages', 'Show the benefits of doing many examples'))"
      ]
    },
    {
      "cell_type": "markdown",
      "metadata": {
        "id": "BX5dIstA9H15"
      },
      "source": [
        "### Example - Substitution\n",
        "\n",
        "Replacement strings can make use of groups using `\\1` and `\\2`, to refer to `group(1)` and `group(2)`. \n",
        "\n",
        "For example, in the following text search for email addresses and replace the host with gmail.com. "
      ]
    },
    {
      "cell_type": "code",
      "execution_count": 78,
      "metadata": {
        "id": "eY0xSuhu86jG",
        "colab": {
          "base_uri": "https://localhost:8080/"
        },
        "outputId": "76581a8e-95a2-4e40-a3ad-5e1dad699cbc"
      },
      "outputs": [
        {
          "output_type": "stream",
          "name": "stdout",
          "text": [
            "testing abc@gmail.com, other words. punctuation doe@gmail.com blah\n"
          ]
        }
      ],
      "source": [
        "tempStr = 'testing abc@mtu.edu, other words. punctuation doe@foobar.org blah'\n",
        "print(re.sub(r'([\\w\\.-]+)@([\\w\\.-]+)', r'\\1@gmail.com', tempStr))"
      ]
    },
    {
      "cell_type": "markdown",
      "metadata": {
        "id": "ZAGHg6n5AP4w"
      },
      "source": [
        "## Exercise 6 - Tweets \n",
        "\n",
        "Later on in the course you will have a project getting data from Twitter and doing some analysis.  \n",
        "\n",
        "Let's think about working on an individual tweet (string). \n",
        "\n",
        "For the tweets, replace mentions (`@`) and hashtags (`#`), with the just the word itself (hashtags and mentions) without any spaces.  \n",
        "\n"
      ]
    },
    {
      "cell_type": "code",
      "execution_count": 79,
      "metadata": {
        "id": "Cz3ZGDWiWDEq"
      },
      "outputs": [],
      "source": [
        "tweet1 = \"\"\"See the #Keweenaw anew through the eyes of the little ones you love! From the \n",
        "@michigantech Parade of Nations today, to cider pressing at Central - there's so \n",
        "much to experience together!\n",
        "#PureMichigan\"\"\"\n",
        "\n",
        "tweet2 = \"\"\"A new three-year $594K NSF project will study geometric data structures \n",
        "    and their connections with other areas of theoretical computer science. Yakov \n",
        "    Nekrich, CS, is the PI. \n",
        "    http://blogs.mtu.edu/computing/2022/08/26/yakov-nekrich-cs-is-pi-of-new-594k-nsf/\n",
        "    @michigantech @NSF #michigantech #computerscience\"\"\""
      ]
    },
    {
      "cell_type": "code",
      "execution_count": 80,
      "metadata": {
        "id": "yvA7QfQH9-Po",
        "tags": [],
        "colab": {
          "base_uri": "https://localhost:8080/"
        },
        "outputId": "67258484-b795-46c2-8e1d-75d028992676"
      },
      "outputs": [
        {
          "output_type": "stream",
          "name": "stdout",
          "text": [
            "See the hashtagsKeweenaw anew through the eyes of the little ones you love! From the \n",
            "mentionsmichigantech Parade of Nations today, to cider pressing at Central - there's so \n",
            "much to experience together!\n",
            "hashtagsPureMichigan\n",
            "A new three-year $594K NSF project will study geometric data structures \n",
            "    and their connections with other areas of theoretical computer science. Yakov \n",
            "    Nekrich, CS, is the PI. \n",
            "    http://blogs.mtu.edu/computing/2022/08/26/yakov-nekrich-cs-is-pi-of-new-594k-nsf/\n",
            "    mentionsmichigantech mentionsNSF hashtagsmichigantech hashtagscomputerscience\n"
          ]
        }
      ],
      "source": [
        "# Print out the tweets removing the # and @ using regular expressions\n",
        "replaced_tweet1 = re.sub(r'#', 'hashtags', tweet1)\n",
        "replaced_tweet1 = re.sub(r'@', 'mentions', replaced_tweet1)\n",
        "print(replaced_tweet1)\n",
        "replaced_tweet2 = re.sub(r'#', 'hashtags', tweet2)\n",
        "replaced_tweet2 = re.sub(r'@', 'mentions', replaced_tweet2)\n",
        "print(replaced_tweet2)"
      ]
    },
    {
      "cell_type": "code",
      "execution_count": 81,
      "metadata": {
        "deletable": false,
        "editable": false,
        "id": "ZIfV4YDLWDEq",
        "colab": {
          "base_uri": "https://localhost:8080/",
          "height": 46
        },
        "outputId": "3200e4d7-b71e-40ad-fc8c-294aded45e4a"
      },
      "outputs": [
        {
          "output_type": "execute_result",
          "data": {
            "text/plain": [
              "q6 results: All test cases passed!"
            ],
            "text/html": [
              "<p><strong><pre style='display: inline;'>q6</pre></strong> passed!</p>"
            ]
          },
          "metadata": {},
          "execution_count": 81
        }
      ],
      "source": [
        "grader.check(\"q6\")"
      ]
    },
    {
      "cell_type": "markdown",
      "metadata": {
        "id": "UsQa_DMaGNML"
      },
      "source": [
        "We will see more examples of regular expressions next week with respect to web scraping. \n"
      ]
    }
  ],
  "metadata": {
    "colab": {
      "collapsed_sections": [],
      "provenance": [],
      "toc_visible": true
    },
    "kernelspec": {
      "display_name": "Python 3",
      "language": "python",
      "name": "python3"
    },
    "language_info": {
      "codemirror_mode": {
        "name": "ipython",
        "version": 3
      },
      "file_extension": ".py",
      "mimetype": "text/x-python",
      "name": "python",
      "nbconvert_exporter": "python",
      "pygments_lexer": "ipython3",
      "version": "3.7.4"
    },
    "otter": {
      "OK_FORMAT": true,
      "tests": {
        "q2": {
          "name": "q2",
          "points": 2,
          "suites": [
            {
              "cases": [
                {
                  "code": ">>> 'pit' in positive\nTrue",
                  "hidden": false,
                  "locked": false
                },
                {
                  "code": ">>> 'spot' in positive\nTrue",
                  "hidden": false,
                  "locked": false
                },
                {
                  "code": ">>> 'spate' in positive\nTrue",
                  "hidden": false,
                  "locked": false
                },
                {
                  "code": ">>> 'slap two' in positive\nTrue",
                  "hidden": false,
                  "locked": false
                },
                {
                  "code": ">>> 'respite' in positive\nTrue",
                  "hidden": false,
                  "locked": false
                },
                {
                  "code": ">>> 'pt' in negative\nTrue",
                  "hidden": false,
                  "locked": false
                },
                {
                  "code": ">>> 'Pot' in negative\nTrue",
                  "hidden": false,
                  "locked": false
                },
                {
                  "code": ">>> 'peat' in negative\nTrue",
                  "hidden": false,
                  "locked": false
                },
                {
                  "code": ">>> 'part' in negative\nTrue",
                  "hidden": false,
                  "locked": false
                },
                {
                  "code": ">>> 'SLIP ten' in negative\nTrue",
                  "hidden": false,
                  "locked": false
                }
              ],
              "scored": true,
              "setup": "",
              "teardown": "",
              "type": "doctest"
            }
          ]
        },
        "q3": {
          "name": "q3",
          "points": 2,
          "suites": [
            {
              "cases": [
                {
                  "code": ">>> 'rap them' in positive_E3\nTrue",
                  "hidden": false,
                  "locked": false
                },
                {
                  "code": ">>> 'tapeth' in positive_E3 and 'apth' in positive_E3\nTrue",
                  "hidden": false,
                  "locked": false
                },
                {
                  "code": ">>> 'wrap/try' in positive_E3 and 'sap tray' in positive_E3\nTrue",
                  "hidden": false,
                  "locked": false
                },
                {
                  "code": ">>> '87ap9th' in positive_E3\nTrue",
                  "hidden": false,
                  "locked": false
                },
                {
                  "code": ">>> 'apothecary' in positive_E3\nTrue",
                  "hidden": false,
                  "locked": false
                },
                {
                  "code": ">>> 'aleht' in negative_E3\nTrue",
                  "hidden": false,
                  "locked": false
                },
                {
                  "code": ">>> 'happy them' in negative_E3 and 'tarpth' in negative_E3\nTrue",
                  "hidden": false,
                  "locked": false
                },
                {
                  "code": ">>> 'Apt'in negative_E3 and 'peth' in negative_E3\nTrue",
                  "hidden": false,
                  "locked": false
                },
                {
                  "code": ">>> 'tarreth' in negative_E3 and 'ddapdg' in negative_E3\nTrue",
                  "hidden": false,
                  "locked": false
                },
                {
                  "code": ">>> 'apples' in negative_E3 and 'shape the' in negative_E3\nTrue",
                  "hidden": false,
                  "locked": false
                }
              ],
              "scored": true,
              "setup": "",
              "teardown": "",
              "type": "doctest"
            }
          ]
        },
        "q4": {
          "name": "q4",
          "points": 2,
          "suites": [
            {
              "cases": [
                {
                  "code": ">>> 'affgfking' in positive_E4 and 'rafgkahe' in positive_E4\nTrue",
                  "hidden": false,
                  "locked": false
                },
                {
                  "code": ">>> 'bafghk' in positive_E4 and 'baffgkit' in positive_E4\nTrue",
                  "hidden": false,
                  "locked": false
                },
                {
                  "code": ">>> 'affgfking' in positive_E4 and 'rafgkahe' in positive_E4\nTrue",
                  "hidden": false,
                  "locked": false
                },
                {
                  "code": ">>> 'bafghk' in positive_E4 and 'baffg kit' in positive_E4\nTrue",
                  "hidden": false,
                  "locked": false
                },
                {
                  "code": ">>> 'fgok'in negative_E4 and 'a fgk'in negative_E4\nTrue",
                  "hidden": false,
                  "locked": false
                },
                {
                  "code": ">>> 'affgm' in negative_E4 and 'afffhk' in negative_E4\nTrue",
                  "hidden": false,
                  "locked": false
                },
                {
                  "code": ">>> 'fgik' in negative_E4 and 'afg.K' in negative_E4\nTrue",
                  "hidden": false,
                  "locked": false
                },
                {
                  "code": ">>> 'aff gm' in negative_E4 and 'afffhgk' in negative_E4\nTrue",
                  "hidden": false,
                  "locked": false
                }
              ],
              "scored": true,
              "setup": "",
              "teardown": "",
              "type": "doctest"
            }
          ]
        },
        "q5": {
          "name": "q5",
          "points": 2,
          "suites": [
            {
              "cases": [
                {
                  "code": ">>> 'jdoe@gmail.com' in email and 'sherlock24@gmail.com' in email\nTrue",
                  "hidden": false,
                  "locked": false
                },
                {
                  "code": ">>> 'tom_brady@gmail.com' in email and 'harrypotter+news@gmail.com' in email\nTrue",
                  "hidden": false,
                  "locked": false
                },
                {
                  "code": ">>> 'jonstark+dragons@gmail.com' in email and 'juliet_capulet+poison@gmail.com' in email\nTrue",
                  "hidden": false,
                  "locked": false
                },
                {
                  "code": ">>> 'jdoe' in username and 'sherlock24' in username\nTrue",
                  "hidden": false,
                  "locked": false
                },
                {
                  "code": ">>> 'tom_brady' in username and 'harrypotter' in username\nTrue",
                  "hidden": false,
                  "locked": false
                },
                {
                  "code": ">>> 'jonstark' in username and 'juliet_capulet'in username\nTrue",
                  "hidden": false,
                  "locked": false
                }
              ],
              "scored": true,
              "setup": "",
              "teardown": "",
              "type": "doctest"
            }
          ]
        },
        "q6": {
          "name": "q6",
          "points": 1,
          "suites": [
            {
              "cases": [
                {
                  "code": ">>> replaced_tweet1 == \"See the hashtagsKeweenaw anew through the eyes of the little ones you love! From the \\nmentionsmichigantech Parade of Nations today, to cider pressing at Central - there's so \\nmuch to experience together!\\nhashtagsPureMichigan\"\nTrue",
                  "hidden": false,
                  "locked": false
                },
                {
                  "code": ">>> replaced_tweet2 == 'A new three-year $594K NSF project will study geometric data structures \\n    and their connections with other areas of theoretical computer science. Yakov \\n    Nekrich, CS, is the PI. \\n    http://blogs.mtu.edu/computing/2022/08/26/yakov-nekrich-cs-is-pi-of-new-594k-nsf/\\n    mentionsmichigantech mentionsNSF hashtagsmichigantech hashtagscomputerscience'\nTrue",
                  "hidden": false,
                  "locked": false
                }
              ],
              "scored": true,
              "setup": "",
              "teardown": "",
              "type": "doctest"
            }
          ]
        }
      }
    }
  },
  "nbformat": 4,
  "nbformat_minor": 0
}